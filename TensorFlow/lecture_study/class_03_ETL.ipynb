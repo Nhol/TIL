{
 "cells": [
  {
   "cell_type": "code",
   "execution_count": 2,
   "metadata": {},
   "outputs": [
    {
     "name": "stderr",
     "output_type": "stream",
     "text": [
      "/Users/beomyongnho/.pyenv/versions/3.6.1/lib/python3.6/importlib/_bootstrap.py:205: RuntimeWarning: compiletime version 3.5 of module 'tensorflow.python.framework.fast_tensor_util' does not match runtime version 3.6\n",
      "  return f(*args, **kwds)\n"
     ]
    }
   ],
   "source": [
    "import tensorflow as tf\n",
    "import os\n",
    "import matplotlib.pyplot as plt"
   ]
  },
  {
   "cell_type": "code",
   "execution_count": 3,
   "metadata": {
    "collapsed": true
   },
   "outputs": [],
   "source": [
    "tf.reset_default_graph()"
   ]
  },
  {
   "cell_type": "code",
   "execution_count": 4,
   "metadata": {},
   "outputs": [],
   "source": [
    "image_dir = './tfrecord_dataset/images_png'\n",
    "label_name = './tfrecord_dataset/label_csv/label.csv'\n",
    "image_names = [os.path.join(image_dir, n) for n in os.listdir(image_dir)]\n",
    "image_names = sorted(image_names)\n",
    "\n",
    "#print(os.listdir(image_dir))\n",
    "\n",
    "img_name_queue = tf.train.string_input_producer(image_names, num_epochs=1, shuffle=False) \n",
    "#shuffle을 하지 않는 이유는 label과의 매칭을 위해... 아니면 label과 seed값을 동일하게 맞춰도 된다. \n",
    "label_name_queue = tf.train.string_input_producer([label_name], num_epochs=1, shuffle=False)\n",
    "\n",
    "img_reader = tf.WholeFileReader()\n",
    "text_reader = tf.TextLineReader()\n",
    "\n",
    "key, value = img_reader.read(img_name_queue) #key는 파일명, value는 image의 binary data\n",
    "txt_key, txt_value = text_reader.read(label_name_queue)\n",
    "\n",
    "img_png = tf.image.decode_png(value)\n",
    "img_png = tf.reduce_mean(img_png, axis=-1) # 3차원 배열을 2차원 배열로 변경\n",
    "img_png = tf.reshape(img_png, [-1]) # img의 2차원 배열을 1차원으로 flatten\n",
    "\n",
    "txt_csv = tf.decode_csv(txt_value, record_defaults=[[0]])\n",
    "\n",
    "###\n",
    "#with tf.Session() as sess:\n",
    "#    print(sess.run(img_png))\n",
    "### 이 상태로는 queue만 만들어지고 thread는 동작하지 않음 => 무한대기 상태"
   ]
  },
  {
   "cell_type": "code",
   "execution_count": 6,
   "metadata": {},
   "outputs": [
    {
     "name": "stdout",
     "output_type": "stream",
     "text": [
      "0 train data written\n",
      "500 train data written\n",
      "1000 train data written\n",
      "1500 train data written\n",
      "2000 train data written\n",
      "2500 train data written\n",
      "3000 train data written\n",
      "3500 train data written\n",
      "4000 train data written\n",
      "4500 train data written\n",
      "5000 train data written\n",
      "5500 train data written\n",
      "6000 test data written\n",
      "6500 test data written\n",
      "7000 test data written\n",
      "7500 test data written\n",
      "end of record\n"
     ]
    }
   ],
   "source": [
    "with tf.Session() as sess:\n",
    "    sess.run(tf.local_variables_initializer())\n",
    "    coord = tf.train.Coordinator() \n",
    "    thread = tf.train.start_queue_runners(sess, coord)\n",
    "    \n",
    "    face_train_dir = './cnn_dataset/face_train.tfrecord'\n",
    "    face_test_dir = './cnn_dataset/face_test.tfrecord'\n",
    "    \n",
    "    train_writer = tf.python_io.TFRecordWriter(face_train_dir)\n",
    "    test_writer = tf.python_io.TFRecordWriter(face_test_dir)\n",
    "    \n",
    "    for i in range(9999999):\n",
    "        try: # 데이터 사이즈를 모를 땐 예외처리\n",
    "            _img, _age = sess.run([img_png, txt_csv])\n",
    "\n",
    "            example = tf.train.Example()\n",
    "            example.features.feature['age'].int64_list.value.append(_age[0])\n",
    "            example.features.feature['img'].int64_list.value.extend(_img.tolist())\n",
    "         \n",
    "            if i < 6000:\n",
    "                train_writer.write(example.SerializeToString())\n",
    "                if i%500 == 0:\n",
    "                    print('{} train data written'.format(i))\n",
    "            else:\n",
    "                test_writer.write(example.SerializeToString())\n",
    "                if i%500 == 0:\n",
    "                    print('{} test data written'.format(i))\n",
    " \n",
    "\n",
    "        except tf.errors.OutOfRangeError:\n",
    "            print('end of record')\n",
    "            break\n",
    "            \n",
    "    train_writer.close()\n",
    "    test_writer.close()\n",
    "    \n",
    "    coord.request_stop()\n",
    "    coord.join(thread)"
   ]
  },
  {
   "cell_type": "code",
   "execution_count": null,
   "metadata": {
    "collapsed": true
   },
   "outputs": [],
   "source": []
  },
  {
   "cell_type": "code",
   "execution_count": null,
   "metadata": {
    "collapsed": true
   },
   "outputs": [],
   "source": []
  },
  {
   "cell_type": "code",
   "execution_count": null,
   "metadata": {
    "collapsed": true
   },
   "outputs": [],
   "source": []
  },
  {
   "cell_type": "code",
   "execution_count": null,
   "metadata": {
    "collapsed": true
   },
   "outputs": [],
   "source": []
  },
  {
   "cell_type": "code",
   "execution_count": null,
   "metadata": {
    "collapsed": true
   },
   "outputs": [],
   "source": [
    "import tensorflow as tf\n",
    "import os\n",
    "\n",
    "image_dir = './cnn_dataset/dataset_img'\n",
    "age_dir = './cnn_dataset/dataset_age/age.csv'\n",
    "imgname_list = [os.path.join(image_dir, n) for n in os.listdir(image_dir)]\n",
    "\n",
    "imgname_queue = tf.train.string_input_producer(imgname_list, num_epochs=1, shuffle=False, )\n",
    "agename_queue= tf.train.string_input_producer([age_dir], shuffle=False)\n",
    "\n",
    "img_reader = tf.WholeFileReader()\n",
    "age_reader = tf.TextLineReader()\n",
    "\n",
    "_, raw_img = img_reader.read(imgname_queue)\n",
    "_, raw_age = age_reader.read(agename_queue)\n",
    "\n",
    "decoded_img = tf.image.decode_png(raw_img)\n",
    "decoded_age = tf.decode_csv(raw_age, [[0]])\n",
    "\n",
    "reshaped_img = tf.reshape(decoded_img, [-1])"
   ]
  },
  {
   "cell_type": "code",
   "execution_count": null,
   "metadata": {
    "collapsed": true
   },
   "outputs": [],
   "source": [
    "with tf.Session() as sess:\n",
    "    coord = tf.train.Coordinator()\n",
    "    thread = tf.train.start_queue_runners(sess, coord)\n",
    "    sess.run(tf.local_variables_initializer())\n",
    "\n",
    "    face_train_dir = './cnn_dataset/face_train.tfrecord'\n",
    "    face_test_dir = './cnn_dataset/face_test.tfrecord'\n",
    "    \n",
    "    train_writer = tf.python_io.TFRecordWriter(face_train_dir)\n",
    "    test_writer = tf.python_io.TFRecordWriter(face_test_dir)\n",
    "    \n",
    "    for i in range(99999999):\n",
    "        try:\n",
    "            _age, _img = sess.run([decoded_age, reshaped_img])\n",
    "\n",
    "            example = tf.train.Example()\n",
    "            example.features.feature['age'].int64_list.value.append(_age[0])\n",
    "            example.features.feature['img'].int64_list.value.extend(_img.tolist())\n",
    "\n",
    "            if i < 6000:\n",
    "                train_writer.write(example.SerializeToString())\n",
    "                if i%500 == 0:\n",
    "                    print('{} train data written'.format(i))\n",
    "            else:\n",
    "                test_writer.write(example.SerializeToString())\n",
    "                if i%500 == 0:\n",
    "                    print('{} test data written'.format(i))\n",
    "\n",
    "        except tf.errors.OutOfRangeError:\n",
    "            print('size of total dataset {}'.format(i))\n",
    "            break\n",
    "            \n",
    "    train_writer.close()\n",
    "    test_writer.close()\n",
    "    \n",
    "    coord.request_stop()\n",
    "    coord.join(thread)"
   ]
  },
  {
   "cell_type": "code",
   "execution_count": null,
   "metadata": {
    "collapsed": true
   },
   "outputs": [],
   "source": []
  },
  {
   "cell_type": "code",
   "execution_count": null,
   "metadata": {
    "collapsed": true
   },
   "outputs": [],
   "source": []
  }
 ],
 "metadata": {
  "kernelspec": {
   "display_name": "Python 3",
   "language": "python",
   "name": "python3"
  },
  "language_info": {
   "codemirror_mode": {
    "name": "ipython",
    "version": 3
   },
   "file_extension": ".py",
   "mimetype": "text/x-python",
   "name": "python",
   "nbconvert_exporter": "python",
   "pygments_lexer": "ipython3",
   "version": "3.6.1"
  }
 },
 "nbformat": 4,
 "nbformat_minor": 2
}
