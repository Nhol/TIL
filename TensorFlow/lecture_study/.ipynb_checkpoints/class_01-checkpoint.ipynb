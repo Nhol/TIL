{
 "cells": [
  {
   "cell_type": "markdown",
   "metadata": {},
   "source": [
    "# TensorFlow 강의 Day 1"
   ]
  },
  {
   "cell_type": "code",
   "execution_count": null,
   "metadata": {},
   "outputs": [],
   "source": [
    "import tensorflow as tf"
   ]
  },
  {
   "cell_type": "code",
   "execution_count": null,
   "metadata": {
    "collapsed": true
   },
   "outputs": [],
   "source": [
    "tf_string = tf.constant('hellow tensorflow')\n",
    "tf_int = tf.constant(10)\n",
    "tf_float = tf.constant(3.14)"
   ]
  },
  {
   "cell_type": "code",
   "execution_count": null,
   "metadata": {},
   "outputs": [],
   "source": [
    "print(tf_string)\n",
    "print(tf_int)\n",
    "print(tf_float)"
   ]
  },
  {
   "cell_type": "code",
   "execution_count": null,
   "metadata": {},
   "outputs": [],
   "source": [
    "# node들은 이 세 가지 정보들은 기본으로 갖고 있음\n",
    "print(tf_string.name)\n",
    "print(tf_string.shape)\n",
    "print(tf_string.dtype)\n",
    "\n",
    "# 그러나 출력해보면 변수에 대입한 값들이 보이지 않음 -> 파이썬과 텐서플로우는 문법이 다르기 때문"
   ]
  },
  {
   "cell_type": "code",
   "execution_count": null,
   "metadata": {},
   "outputs": [],
   "source": [
    "tf_string.op.node_def"
   ]
  },
  {
   "cell_type": "code",
   "execution_count": null,
   "metadata": {},
   "outputs": [],
   "source": [
    "# 다음과 같이 행렬을 만들어서 곱을 해보지만 결과는 보이지 않음\n",
    "\n",
    "one = tf.constant([[1, 1, 1]])\n",
    "two = tf.constant([[2], [2], [2]])\n",
    "\n",
    "matmul = tf.matmul(one, two) # matmul은 matrix multification 즉, 행렬곱\n",
    "print(matmul)\n",
    "\n",
    "a = tf.constant([[1, 2, 3], [4, 5, 6], [7, 8, 9]])\n",
    "b = tf.constant([[2], [2], [2]])\n",
    "\n",
    "matmul = tf.matmul(a, b)\n",
    "print(matmul)"
   ]
  },
  {
   "cell_type": "markdown",
   "metadata": {},
   "source": [
    "### Define and Run"
   ]
  },
  {
   "cell_type": "markdown",
   "metadata": {},
   "source": [
    "텐서플로우는 line by line으로 실행이 가능한 python과 달리 define and run의 단계별로 코드가 실행됨"
   ]
  },
  {
   "cell_type": "code",
   "execution_count": null,
   "metadata": {},
   "outputs": [],
   "source": [
    "# 각 노드들의 값(결과)를 보자(operator는 없으므로 각 노드들의 session run한 결과를 본다)\n",
    "\n",
    "import tensorflow as tf\n",
    "\n",
    "# define\n",
    "tf_string = tf.constant('hello tensorflow')\n",
    "tf_int = tf.constant(10)\n",
    "tf_float = tf.constant(3.14)\n",
    "\n",
    "# run: sess.run에서 리턴되는 값은 파이썬의 numpy array로 출력되는 값들이 된다\n",
    "with tf.Session() as sess:\n",
    "    _tf_string = sess.run(tf_string)\n",
    "    _tf_int = sess.run(tf_int)\n",
    "    _tf_float = sess.run(tf_float)\n",
    "    \n",
    "    print(_tf_string)\n",
    "    print(_tf_int)\n",
    "    print(_tf_float)\n"
   ]
  },
  {
   "cell_type": "code",
   "execution_count": null,
   "metadata": {},
   "outputs": [],
   "source": [
    "# define\n",
    "one = tf.constant([[1, 1, 1]])\n",
    "two = tf.constant([[2], [2], [2]])\n",
    "matmul = tf.matmul(one, two)\n",
    "\n",
    "# run\n",
    "with tf.Session() as sess:\n",
    "    _matmul = sess.run(matmul)\n",
    "    print(_matmul)"
   ]
  },
  {
   "cell_type": "code",
   "execution_count": null,
   "metadata": {},
   "outputs": [],
   "source": [
    "# define\n",
    "a = tf.constant([[1, 2, 3], [4, 5, 6], [7, 8, 9]])\n",
    "b = tf.constant([[2], [2], [2]])\n",
    "matmul = tf.matmul(a, b)\n",
    "\n",
    "# run\n",
    "with tf.Session() as sess:\n",
    "    _matmul = sess.run(matmul)\n",
    "    print(_matmul)"
   ]
  },
  {
   "cell_type": "code",
   "execution_count": null,
   "metadata": {},
   "outputs": [],
   "source": [
    "# define    \n",
    "const = tf.constant(3.14)\n",
    "\n",
    "# run\n",
    "with tf.Session() as sess:\n",
    "    print(sess.run(const))"
   ]
  },
  {
   "cell_type": "markdown",
   "metadata": {},
   "source": [
    "### Constant, Placeholder, Variable"
   ]
  },
  {
   "cell_type": "markdown",
   "metadata": {},
   "source": [
    "#### (1) constant\n",
    "\n",
    "- 파이썬 문법에서 일반적으로 사용하는 대입과 유사하다. (ex: a = 10)\n",
    "\n",
    "- 별다른 기능은 없는 순수 결정체 Tensor"
   ]
  },
  {
   "cell_type": "markdown",
   "metadata": {},
   "source": [
    "#### (2) placeholder\n",
    "\n",
    "- GPU 혹은 device 외부의 데이터를 열려있는 세션에 터널링해서 쏴주는 역할을 하는 것이 placeholder\n",
    "\n",
    "    - fetch: node를 찍어서 session run 시점을 지정해주는 행위. \n",
    "      위 예제의 with로 시작하는 라인에서 pl_data를 fetch \n",
    "      \n",
    "    - feeding: placeholder에 어떤 데이터를 mapping 시키는 행위. \n",
    "      위의 예제에서는 pl_data에 data를 feeding 함\n"
   ]
  },
  {
   "cell_type": "code",
   "execution_count": null,
   "metadata": {},
   "outputs": [],
   "source": [
    "import numpy as np\n",
    "\n",
    "# 먼저 파이썬 리스트 생성\n",
    "data = [1, 2, 3, 4, 5]\n",
    "\n",
    "# placeholder 생성. 하지만 아직 아무 값도 안들어가 있음 \n",
    "pl_data = tf.placeholder(tf.float32)\n",
    "\n",
    "# 파이썬 레벨에서 작성한 리스트나 numpy array를 placeholder에 넣어줄 수 있음. 이 과정을 mapping이라 한다.\n",
    "# mapping은 세션 단계에서 이뤄진다. \n",
    "\n",
    "with tf.Session() as sess:\n",
    "    print(sess.run(pl_data, {pl_data: data}))\n",
    "\n"
   ]
  },
  {
   "cell_type": "markdown",
   "metadata": {},
   "source": [
    "- 그냥 constant 처럼 대입해서 쓰면되지 placeholder에 mapping은 왜 필요한가?\n",
    "    - 대용량의 데이터를 GPU 연산을 이용한 deep learning으로 처리하기 위해서는 mapping을 지원하는 \n",
    "      placeholer 필요\n",
    "    - placeholder 자료형은 sess.run 밖에서 데이터 입력을 조정할 수 있음.\n",
    "      (슬라이싱해서 순차적으로 넣어준다든지...)\n",
    "      반면 constant 자료형은 한번 정해지고 sess.run 되면 끝\n",
    "    "
   ]
  },
  {
   "cell_type": "markdown",
   "metadata": {},
   "source": [
    "#### (3) variable\n",
    "\n",
    "- 머신러닝, 딥러닝에서 연산과정에서 계속 바뀌는(=갱신되는) 값 (대표적인 예 = Weight(가중치))\n",
    "\n",
    "- constant는 machine(컴퓨터)가 변경할 수 없는 자료형\n",
    "\n",
    "- 컴퓨터가 연산과정에서 계속 갱신할 수 있는 자료형이 variable\n",
    "\n",
    "- 이 자료형의 특이한 점은 처음에 한번 initialize 해줘야 한다는 점. 그 seed를 기반으로 연산을 진행함"
   ]
  },
  {
   "cell_type": "code",
   "execution_count": null,
   "metadata": {
    "collapsed": true
   },
   "outputs": [],
   "source": [
    "var = tf.Variable(10)\n",
    "\n",
    "with tf.Session() as sess:\n",
    "    sess.run(tf.global_variables_initializer())\n",
    "    print(sess.run(var))"
   ]
  },
  {
   "cell_type": "markdown",
   "metadata": {},
   "source": [
    "### 실습"
   ]
  },
  {
   "cell_type": "markdown",
   "metadata": {},
   "source": [
    "#### 예제 1: linear regression"
   ]
  },
  {
   "cell_type": "code",
   "execution_count": 5,
   "metadata": {},
   "outputs": [
    {
     "name": "stdout",
     "output_type": "stream",
     "text": [
      "0th result 1083.34\n",
      "100th result 5.63811\n",
      "200th result 2.6605\n",
      "300th result 1.54486\n",
      "400th result 1.12685\n",
      "500th result 0.970236\n",
      "600th result 0.911554\n",
      "700th result 0.889567\n",
      "800th result 0.881329\n",
      "900th result 0.878243\n"
     ]
    },
    {
     "data": {
      "image/png": "[encoded data removed]",
      "text/plain": [
       "<matplotlib.figure.Figure at 0x11b2a0a90>"
      ]
     },
     "metadata": {},
     "output_type": "display_data"
    },
    {
     "data": {
      "image/png": "[encoded data removed]",
      "text/plain": [
       "<matplotlib.figure.Figure at 0x11c1c2c88>"
      ]
     },
     "metadata": {},
     "output_type": "display_data"
    }
   ],
   "source": [
    "import tensorflow as tf\n",
    "import numpy as np\n",
    "import matplotlib.pyplot as plt\n",
    "%matplotlib inline\n",
    "\n",
    "samples = 1000\n",
    "data = np.array([1e-2*float(i) for i in range(samples)])\n",
    "np.random.seed(10)\n",
    "label = 2.2 * data + 2.2 + np.random.randn(samples)\n",
    "target = 2.2 * data + 2.2\n",
    "\n",
    "#plt.scatter(data, label, 1, 'r')\n",
    "#plt.scatter(data, target, 1, 'b')\n",
    "\n",
    "x = tf.placeholder(tf.float32)\n",
    "y_ = tf.placeholder(tf.float32)\n",
    "\n",
    "w = tf.Variable(8.8, dtype=tf.float32) \n",
    "b = tf.Variable(-4.0, dtype=tf.float32)\n",
    "# w, b의 초기값 8.8과 -4.0은 임의의 seed값을 입력한 것\n",
    "\n",
    "\n",
    "#(1) Hypothesis: Linear Regression\n",
    "y = w*x + b\n",
    "\n",
    "#(2) Loss function 정의\n",
    "loss = tf.losses.mean_squared_error(y_, y) # Loss function 정의\n",
    "\n",
    "#(3) Optimizer 정의\n",
    "train_op = tf.train.GradientDescentOptimizer(1e-2).minimize(loss) # Opimizer 정의\n",
    "\n",
    "init = tf.global_variables_initializer()\n",
    "\n",
    "# 1회 연산\n",
    "# with tf.Session() as sess:\n",
    "#     sess.run(init) # variable 자료형들을 initializing함\n",
    "#     sess.run(train_op, {x: data, y_: label})\n",
    "#     _loss = sess.run(loss, {x: data, y_: label})\n",
    "#     print('Loss :', _loss)\n",
    "\n",
    "with tf.Session() as sess:\n",
    "    sess.run(init)\n",
    "    loss_curve = []\n",
    "    \n",
    "    plt.figure(0)\n",
    "    plt.scatter(data, label, 1, 'g')\n",
    "    plt.scatter(data, target, 1, 'b')\n",
    "    plt.xlabel('x')\n",
    "    plt.ylabel('y')\n",
    "\n",
    "    for i in range(1000):\n",
    "        _, _loss, _w, _b = sess.run([train_op, loss, w, b], {x: data, y_: label})\n",
    "        loss_curve.append(_loss)\n",
    "        if i%100 == 0:\n",
    "            _pred = sess.run(y, {x: data})\n",
    "            plt.scatter(data, _pred, 1, 'r')\n",
    "            print('{}th result'.format(i), _loss)\n",
    "    plt.figure(1)\n",
    "    plt.plot(loss_curve[10:])"
   ]
  },
  {
   "cell_type": "code",
   "execution_count": 6,
   "metadata": {},
   "outputs": [
    {
     "name": "stdout",
     "output_type": "stream",
     "text": [
      "step: 0, loss: 2305.340087890625, w: 1.525038719177246, b: -3.1369519233703613\n",
      "step: 100, loss: 3.8646399974823, w: 3.7946343421936035, b: -0.6075537204742432\n",
      "step: 200, loss: 2.065579414367676, w: 3.596831798553467, b: 0.7007749080657959\n",
      "step: 300, loss: 1.3915095329284668, w: 3.475755214691162, b: 1.5016157627105713\n",
      "step: 400, loss: 1.138950228691101, w: 3.4016427993774414, b: 1.9918187856674194\n",
      "step: 500, loss: 1.0443217754364014, w: 3.3562779426574707, b: 2.291876792907715\n",
      "step: 600, loss: 1.0088664293289185, w: 3.328509569168091, b: 2.4755449295043945\n",
      "step: 700, loss: 0.995582103729248, w: 3.3115122318267822, b: 2.587970018386841\n",
      "step: 800, loss: 0.9906043410301208, w: 3.3011081218719482, b: 2.6567864418029785\n",
      "step: 900, loss: 0.9887396097183228, w: 3.2947397232055664, b: 2.6989099979400635\n"
     ]
    },
    {
     "data": {
      "image/png": "[encoded data removed]",
      "text/plain": [
       "<matplotlib.figure.Figure at 0x11c0b8390>"
      ]
     },
     "metadata": {},
     "output_type": "display_data"
    },
    {
     "data": {
      "image/png": "[encoded data removed]",
      "text/plain": [
       "<matplotlib.figure.Figure at 0x11bc7a7b8>"
      ]
     },
     "metadata": {},
     "output_type": "display_data"
    }
   ],
   "source": [
    "import tensorflow as tf\n",
    "import matplotlib.pyplot as plt\n",
    "import numpy as np\n",
    "%matplotlib inline\n",
    "\n",
    "samples = 1000\n",
    "data = np.array([1e-2*float(i) for i in range(samples)])\n",
    "label = 3.3*data + 2.7 + np.random.randn(samples)\n",
    "target = 3.3*data + 2.7\n",
    "\n",
    "plt.scatter(data, label, 1, 'r')\n",
    "plt.scatter(data, target, 1, 'b')\n",
    "\n",
    "x = tf.placeholder(tf.float32)\n",
    "y_ = tf.placeholder(tf.float32)\n",
    "\n",
    "w = tf.Variable(-4, dtype=tf.float32)\n",
    "b = tf.Variable(-4, dtype=tf.float32)\n",
    "\n",
    "y = w*x + b\n",
    "\n",
    "loss = tf.losses.mean_squared_error(y_, y)\n",
    "train_op = tf.train.GradientDescentOptimizer(1e-2).minimize(loss)\n",
    "\n",
    "init = tf.global_variables_initializer()\n",
    "\n",
    "with tf.Session() as sess:\n",
    "    sess.run(init)\n",
    "    loss_curve = []\n",
    "    plt.scatter(data, label, 1, 'g')\n",
    "    for i in range(1000):\n",
    "        _, _loss, _w, _b = sess.run([train_op, loss, w, b], {x: data, y_: label})\n",
    "        loss_curve.append(_loss)\n",
    "        if i%100 == 0:\n",
    "            _pred = sess.run(y, {x: data})\n",
    "            plt.scatter(data, _pred, 1, 'r')\n",
    "            print('step: {}, loss: {}, w: {}, b: {}'.format(\n",
    "                i, _loss, _w, _b))\n",
    "    \n",
    "    plt.figure(0)\n",
    "    plt.plot(loss_curve[10:])\n",
    "    plt.figure(1)\n",
    "    plt.scatter(data, target, 1, 'b')"
   ]
  },
  {
   "cell_type": "markdown",
   "metadata": {},
   "source": [
    "#### 예제 2: logistic regression"
   ]
  },
  {
   "cell_type": "code",
   "execution_count": 19,
   "metadata": {},
   "outputs": [
    {
     "name": "stdout",
     "output_type": "stream",
     "text": [
      "step: 0, loss: 0.6931459307670593\n",
      "step: 100, loss: 0.22694279253482819\n",
      "step: 200, loss: 0.20404052734375\n",
      "step: 300, loss: 0.19074536859989166\n",
      "step: 400, loss: 0.1803389936685562\n",
      "step: 500, loss: 0.17151260375976562\n",
      "step: 600, loss: 0.16381248831748962\n",
      "step: 700, loss: 0.15700772404670715\n",
      "step: 800, loss: 0.1509469896554947\n",
      "step: 900, loss: 0.14551608264446259\n"
     ]
    },
    {
     "data": {
      "image/png": "[encoded data removed]",
      "text/plain": [
       "<matplotlib.figure.Figure at 0x11ebdfe48>"
      ]
     },
     "metadata": {},
     "output_type": "display_data"
    }
   ],
   "source": [
    "import tensorflow as tf\n",
    "import numpy as np\n",
    "import matplotlib.pyplot as plt\n",
    "%matplotlib inline\n",
    "\n",
    "samples = 1000\n",
    "data = [float(i)*1e-2 for i in range(-samples, samples)]\n",
    "label = [1 if i>2.5 else 0 for i in data]\n",
    "\n",
    "plt.scatter(data, label, 1, 'r')\n",
    "\n",
    "#define\n",
    "x = tf.placeholder(tf.float32)\n",
    "y_= tf.placeholder(tf.float32)\n",
    "w = tf.Variable(0.0, dtype=tf.float32)\n",
    "b = tf.Variable(0.0, dtype=tf.float32)\n",
    "y = w*x + b\n",
    "loss = tf.losses.sigmoid_cross_entropy(y_, y)\n",
    "train_op = tf.train.GradientDescentOptimizer(1e-2).minimize(loss)\n",
    "init = tf.global_variables_initializer()\n",
    "\n",
    "#run\n",
    "with tf.Session() as sess:\n",
    "    sess.run(init)\n",
    "    for i in range(1000):\n",
    "        _, _loss, _w, _b = sess.run([train_op, loss, w, b], {x: data, y_: label})\n",
    "        if i%100 == 0:\n",
    "            _pred = sess.run(tf.nn.sigmoid(y), {x:data})\n",
    "            plt.scatter(data, label,1, 'b')\n",
    "            plt.scatter(data, _pred, 1, 'r')\n",
    "            print('step: {}, loss: {}'.format(i, _loss))"
   ]
  },
  {
   "cell_type": "code",
   "execution_count": 18,
   "metadata": {},
   "outputs": [
    {
     "name": "stdout",
     "output_type": "stream",
     "text": [
      "step: 0, loss: 0.6931459307670593\n",
      "step: 100, loss: 0.22694279253482819\n",
      "step: 200, loss: 0.20404052734375\n",
      "step: 300, loss: 0.19074536859989166\n",
      "step: 400, loss: 0.1803389936685562\n",
      "step: 500, loss: 0.17151260375976562\n",
      "step: 600, loss: 0.16381248831748962\n",
      "step: 700, loss: 0.15700772404670715\n",
      "step: 800, loss: 0.1509469896554947\n",
      "step: 900, loss: 0.14551608264446259\n"
     ]
    },
    {
     "data": {
      "image/png": "[encoded data removed]",
      "text/plain": [
       "<matplotlib.figure.Figure at 0x11cf78780>"
      ]
     },
     "metadata": {},
     "output_type": "display_data"
    }
   ],
   "source": [
    "# Logistic Regression\n",
    "\n",
    "import tensorflow as tf\n",
    "import numpy as np\n",
    "import matplotlib.pyplot as plt\n",
    "%matplotlib inline\n",
    "\n",
    "samples = 1000\n",
    "data = [float(i)*0.01 for i in range(-samples, samples)]\n",
    "label = [1 if i>2.5 else 0 for i in data]\n",
    "\n",
    "plt.scatter(data, label, 1, 'r')\n",
    "\n",
    "x = tf.placeholder(tf.float32)\n",
    "y_ = tf.placeholder(tf.float32)\n",
    "\n",
    "w = tf.Variable(0.0, dtype=tf.float32)\n",
    "b = tf.Variable(0.0, dtype=tf.float32)\n",
    "\n",
    "y = w*x + b\n",
    "\n",
    "loss = tf.losses.sigmoid_cross_entropy(y_, y)\n",
    "train_op = tf.train.GradientDescentOptimizer(1e-2).minimize(loss)\n",
    "\n",
    "init = tf.global_variables_initializer()\n",
    "\n",
    "with tf.Session() as sess:\n",
    "    sess.run(init)\n",
    "    for i in range(1000):\n",
    "        _, _loss = sess.run([train_op, loss], {x: data, y_: label})\n",
    "        if i%100 == 0:\n",
    "            _pred = sess.run(tf.nn.sigmoid(y), {x: data}) # prediction 할 때는 y에 sigmoid를 씌워줘야 한다.(loss 함수 내에서는 자동)\n",
    "            plt.scatter(data, label,1, 'b')\n",
    "            plt.scatter(data, _pred, 1, 'r')\n",
    "            print('step: {}, loss: {}'.format(i, _loss))\n",
    "    \n",
    "#     plt.figure(0)\n",
    "#     plt.plot(loss_curve[10:])\n",
    "#     plt.figure(1)\n",
    "#     plt.scatter(data, _pred, 1, 'y')\n",
    "\n",
    "# with tf.Session() as sess:\n",
    "#     sess.run(init)\n",
    "#     for i in range(10000):\n",
    "#         _, _loss = sess.run([train_op, loss], {x: data, y_: label})\n",
    "#         if i%100 == 0:\n",
    "#             _pred = sess.run(tf.nn.sigmoid(y), {x: data})\n",
    "#             plt.scatter(data, label, 1, 'b')\n",
    "#             plt.scatter(data, _pred, 1, 'r')\n",
    "#             print('step: {}, loss: {}'.format(i, _loss))"
   ]
  },
  {
   "cell_type": "code",
   "execution_count": 20,
   "metadata": {},
   "outputs": [
    {
     "name": "stdout",
     "output_type": "stream",
     "text": [
      "step: 0, loss: 0.6931459307670593\n",
      "step: 100, loss: 0.268290251493454\n",
      "step: 200, loss: 0.2443903684616089\n",
      "step: 300, loss: 0.22769086062908173\n",
      "step: 400, loss: 0.2138645350933075\n",
      "step: 500, loss: 0.2020796239376068\n",
      "step: 600, loss: 0.1919209063053131\n",
      "step: 700, loss: 0.1830883026123047\n",
      "step: 800, loss: 0.1753462851047516\n",
      "step: 900, loss: 0.16850808262825012\n"
     ]
    },
    {
     "data": {
      "image/png": "[encoded data removed]",
      "text/plain": [
       "<matplotlib.figure.Figure at 0x11dda3fd0>"
      ]
     },
     "metadata": {},
     "output_type": "display_data"
    }
   ],
   "source": [
    "import tensorflow as tf\n",
    "import matplotlib.pyplot as plt\n",
    "import numpy as np\n",
    "%matplotlib inline\n",
    "\n",
    "samples = 1000\n",
    "data = [1e-2*float(i) for i in range(-samples, samples)]\n",
    "label = [1 if i>3.14 else 0 for i in data]\n",
    "#plt.scatter(data, label, 1, 'r')\n",
    "\n",
    "x = tf.placeholder(tf.float32)\n",
    "y_ = tf.placeholder(tf.float32)\n",
    "\n",
    "w = tf.Variable(0.0, dtype=tf.float32)\n",
    "b = tf.Variable(0.0, dtype=tf.float32)\n",
    "\n",
    "y = w*x + b\n",
    "\n",
    "loss = tf.losses.sigmoid_cross_entropy(y_, y)\n",
    "train_op = tf.train.GradientDescentOptimizer(1e-2).minimize(loss)\n",
    "\n",
    "init = tf.global_variables_initializer()\n",
    "\n",
    "with tf.Session() as sess:\n",
    "    sess.run(init)\n",
    "    for i in range(1000):\n",
    "        _, _loss = sess.run([train_op, loss], {x: data, y_: label})\n",
    "        if i%100 == 0:\n",
    "            _pred = sess.run(tf.nn.sigmoid(y), {x: data})\n",
    "            plt.scatter(data, label, 1, 'b')\n",
    "            plt.scatter(data, _pred, 1, 'r')\n",
    "            print('step: {}, loss: {}'.format(i, _loss))"
   ]
  }
 ],
 "metadata": {
  "kernelspec": {
   "display_name": "Python 3",
   "language": "python",
   "name": "python3"
  },
  "language_info": {
   "codemirror_mode": {
    "name": "ipython",
    "version": 3
   },
   "file_extension": ".py",
   "mimetype": "text/x-python",
   "name": "python",
   "nbconvert_exporter": "python",
   "pygments_lexer": "ipython3",
   "version": "3.6.1"
  }
 },
 "nbformat": 4,
 "nbformat_minor": 2
}
