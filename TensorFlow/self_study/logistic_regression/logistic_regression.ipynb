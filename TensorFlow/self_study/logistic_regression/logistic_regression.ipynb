{
 "cells": [
  {
   "cell_type": "markdown",
   "metadata": {},
   "source": [
    "## 1) ML lec 5 -1, 2"
   ]
  },
  {
   "cell_type": "markdown",
   "metadata": {},
   "source": [
    "### Regression 단계\n",
    "   - Hypothesis: linear 관계를 가정\n",
    "   - Cost: 가정에 의한 예측과 실제값의 차이를 측정\n",
    "   - Gradient decent: 학습을 통해 Cost를 최소화 하는 weight 찾기"
   ]
  },
  {
   "cell_type": "markdown",
   "metadata": {},
   "source": [
    "### Binary classification 은?\n",
    "- Linear regression의 hypothesis인 $y = Wx + b$를 적용했을 때\n",
    "    - 데이터 분포에 따라 분류가 제대로 되지 않을 수 있음. 특히 outlier에 따라 weigth가 심하게 변동하게 되어 예측 결과가 현실과 맞지 않게 된다.\n",
    "\n",
    "\n",
    "- 분류 문제를 풀기 위한 첫번째 방법론으로 logistic regression!\n",
    "    - hypothesis에 따른 결과값이 0과 1사이의 값을 갖기 때문에 binary classification에 유리한 형태\n",
    "    \n",
    "    - Hypothesis,  Cost, Gradient decent에서 Hypothesis를 로지스틱 함수로 변경하고 이에 따라 cost function의 모양이 달라지므로 cost function에 로그를 취한 후 gradient decent 방법으로 학습\n",
    "\n"
   ]
  },
  {
   "cell_type": "code",
   "execution_count": null,
   "metadata": {
    "collapsed": true
   },
   "outputs": [],
   "source": [
    "from IPython.display import Image"
   ]
  },
  {
   "cell_type": "code",
   "execution_count": null,
   "metadata": {
    "collapsed": true
   },
   "outputs": [],
   "source": [
    "# Logistic Regression의 cost function에 로그를 취하는 이유\n",
    "Image('./img/cost_logistic.png')"
   ]
  },
  {
   "cell_type": "markdown",
   "metadata": {},
   "source": [
    "###  Cost funtion idea의 흐름\n",
    "\n",
    "(1)\n",
    "\n",
    "$Cost(W) = \\frac{1}{m}\\sum C\\;(H(x), y)$ \n",
    "\n",
    "Hypothesis에 로지스틱 함수 적용하고 로그를 취하면 (2)로 정리됨\n",
    "\n",
    "\n",
    "(2)\n",
    "\n",
    "$C\\;(H(x), y) = -log(H(x))$ if y = 1\n",
    "\n",
    "$C\\;(H(x), y) = -log(1 - H(x))$ if y = 0\n",
    "\n",
    "이 형태는 if문이 들어가야 하므로 python에서 한줄로 보다 쉽게 적용하기 위해 (3)의 식으로 변형\n",
    "\n",
    "(3)\n",
    "\n",
    "$C\\;(H(x), y) = -ylog(H(x))-(1-y)log(1-H(x))$"
   ]
  },
  {
   "cell_type": "code",
   "execution_count": null,
   "metadata": {
    "collapsed": true
   },
   "outputs": [],
   "source": [
    "import tensorflow as tf"
   ]
  },
  {
   "cell_type": "markdown",
   "metadata": {},
   "source": [
    "## 2) ML lab 5"
   ]
  },
  {
   "cell_type": "code",
   "execution_count": null,
   "metadata": {
    "collapsed": true
   },
   "outputs": [],
   "source": [
    "import tensorflow as tf\n",
    "x_data = [[1, 2], [2, 3], [3, 1], [4, 3], [5, 3], [6, 2]]\n",
    "y_data = [[0], [0], [0], [1], [1], [1]]\n",
    "\n",
    "# 앞으로는 거의 항상 다변수 데이터를 다룰 것이기 때문에 shape정의에 주의!\n",
    "X = tf.placeholder(tf.float32, shape=[None, 2])\n",
    "y = tf.placeholder(tf.float32, shape=[None, 1])\n",
    "W = tf.Variable(tf.random_normal([2, 1]), name='weight') #여기서 shape은 [변수의 갯수, label shape]\n",
    "b = tf.Variable(tf.random_normal([1]), name='bias')\n",
    "yhat = tf.sigmoid(tf.matmul(X, W) + b)\n",
    "\n",
    "cost = -tf.reduce_mean(y * tf.log(yhat) + (1 - y) * tf.log(1 - yhat))\n",
    "optimizer = tf.train.GradientDescentOptimizer(learning_rate=1e-02)\n",
    "train_op = optimizer.minimize(cost)\n",
    "\n",
    "# classification 문제이므로 예측 결과값 yhat을 그대로 사용할 수 없음\n",
    "# yhat < 0.5이면 0, yhat >= 0.5 이면 1로 분류해야 함\n",
    "# 이것을 구현하기 위해 tf.cast를 사용한다\n",
    "\n",
    "pred = tf.cast(yhat > 0.5, dtype=tf.float32)\n",
    "accuracy = tf.reduce_mean(tf.cast(tf.equal(pred, y), dtype=tf.float32))\n"
   ]
  },
  {
   "cell_type": "code",
   "execution_count": null,
   "metadata": {
    "collapsed": true
   },
   "outputs": [],
   "source": [
    "with tf.Session() as sess:\n",
    "    sess.run(tf.global_variables_initializer())\n",
    "    for step in range(10001):\n",
    "        _, _cost = sess.run([train_op, cost], feed_dict={X: x_data, y: y_data})\n",
    "        if step % 1000 == 0:\n",
    "            print(step, _cost)\n",
    "    _yhat, _pred, _accracy = sess.run([yhat, pred, accuracy], \n",
    "                                     feed_dict={X: x_data, y: y_data})\n",
    "    print(\"\\nyhat: \", _yhat, \n",
    "          \"\\npredicted: \", _pred, \n",
    "          \"\\nAccuracy: \", _accuracy) \n",
    "        \n",
    "        "
   ]
  },
  {
   "cell_type": "markdown",
   "metadata": {},
   "source": [
    "### Classifying diabetes"
   ]
  },
  {
   "cell_type": "code",
   "execution_count": 1,
   "metadata": {},
   "outputs": [
    {
     "data": {
      "text/html": [
       "<div>\n",
       "<style>\n",
       "    .dataframe thead tr:only-child th {\n",
       "        text-align: right;\n",
       "    }\n",
       "\n",
       "    .dataframe thead th {\n",
       "        text-align: left;\n",
       "    }\n",
       "\n",
       "    .dataframe tbody tr th {\n",
       "        vertical-align: top;\n",
       "    }\n",
       "</style>\n",
       "<table border=\"1\" class=\"dataframe\">\n",
       "  <thead>\n",
       "    <tr style=\"text-align: right;\">\n",
       "      <th></th>\n",
       "      <th>0</th>\n",
       "      <th>1</th>\n",
       "      <th>2</th>\n",
       "      <th>3</th>\n",
       "      <th>4</th>\n",
       "      <th>5</th>\n",
       "      <th>6</th>\n",
       "      <th>7</th>\n",
       "      <th>8</th>\n",
       "    </tr>\n",
       "  </thead>\n",
       "  <tbody>\n",
       "    <tr>\n",
       "      <th>754</th>\n",
       "      <td>0.176471</td>\n",
       "      <td>0.015075</td>\n",
       "      <td>0.245902</td>\n",
       "      <td>-0.030303</td>\n",
       "      <td>-0.574468</td>\n",
       "      <td>-0.019374</td>\n",
       "      <td>-0.920581</td>\n",
       "      <td>0.400000</td>\n",
       "      <td>1</td>\n",
       "    </tr>\n",
       "    <tr>\n",
       "      <th>755</th>\n",
       "      <td>-0.764706</td>\n",
       "      <td>0.226131</td>\n",
       "      <td>0.147541</td>\n",
       "      <td>-0.454545</td>\n",
       "      <td>0.000000</td>\n",
       "      <td>0.096870</td>\n",
       "      <td>-0.776260</td>\n",
       "      <td>-0.800000</td>\n",
       "      <td>1</td>\n",
       "    </tr>\n",
       "    <tr>\n",
       "      <th>756</th>\n",
       "      <td>-0.411765</td>\n",
       "      <td>0.216080</td>\n",
       "      <td>0.180328</td>\n",
       "      <td>-0.535354</td>\n",
       "      <td>-0.735225</td>\n",
       "      <td>-0.219076</td>\n",
       "      <td>-0.857387</td>\n",
       "      <td>-0.700000</td>\n",
       "      <td>1</td>\n",
       "    </tr>\n",
       "    <tr>\n",
       "      <th>757</th>\n",
       "      <td>-0.882353</td>\n",
       "      <td>0.266332</td>\n",
       "      <td>-0.016393</td>\n",
       "      <td>0.000000</td>\n",
       "      <td>0.000000</td>\n",
       "      <td>-0.102832</td>\n",
       "      <td>-0.768574</td>\n",
       "      <td>-0.133333</td>\n",
       "      <td>0</td>\n",
       "    </tr>\n",
       "    <tr>\n",
       "      <th>758</th>\n",
       "      <td>-0.882353</td>\n",
       "      <td>-0.065327</td>\n",
       "      <td>0.147541</td>\n",
       "      <td>-0.373737</td>\n",
       "      <td>0.000000</td>\n",
       "      <td>-0.093890</td>\n",
       "      <td>-0.797609</td>\n",
       "      <td>-0.933333</td>\n",
       "      <td>1</td>\n",
       "    </tr>\n",
       "  </tbody>\n",
       "</table>\n",
       "</div>"
      ],
      "text/plain": [
       "            0         1         2         3         4         5         6  \\\n",
       "754  0.176471  0.015075  0.245902 -0.030303 -0.574468 -0.019374 -0.920581   \n",
       "755 -0.764706  0.226131  0.147541 -0.454545  0.000000  0.096870 -0.776260   \n",
       "756 -0.411765  0.216080  0.180328 -0.535354 -0.735225 -0.219076 -0.857387   \n",
       "757 -0.882353  0.266332 -0.016393  0.000000  0.000000 -0.102832 -0.768574   \n",
       "758 -0.882353 -0.065327  0.147541 -0.373737  0.000000 -0.093890 -0.797609   \n",
       "\n",
       "            7  8  \n",
       "754  0.400000  1  \n",
       "755 -0.800000  1  \n",
       "756 -0.700000  1  \n",
       "757 -0.133333  0  \n",
       "758 -0.933333  1  "
      ]
     },
     "execution_count": 1,
     "metadata": {},
     "output_type": "execute_result"
    }
   ],
   "source": [
    "import numpy as np\n",
    "import pandas as pd\n",
    "import seaborn as sns\n",
    "import matplotlib.pyplot as plt\n",
    "df = pd.read_csv('./data/data-03-diabetes.csv', header=None)\n",
    "df.tail()"
   ]
  },
  {
   "cell_type": "code",
   "execution_count": null,
   "metadata": {
    "collapsed": true
   },
   "outputs": [],
   "source": [
    "sns.pairplot(df)\n",
    "plt.show()"
   ]
  },
  {
   "cell_type": "code",
   "execution_count": null,
   "metadata": {
    "collapsed": true
   },
   "outputs": [],
   "source": [
    "# sample data의 숫자가 그리 많진 않으므로 queue runner를 사용하진 않음\n",
    "\n",
    "dataset = np.loadtxt('./data/data-03-diabetes.csv', delimiter=',', dtype=np.float32)\n",
    "x_data = dataset[:, 0:-1]\n",
    "y_data = dataset[:, [-1]]\n",
    "print(x_data.shape, y_data.shape)"
   ]
  },
  {
   "cell_type": "code",
   "execution_count": null,
   "metadata": {
    "collapsed": true
   },
   "outputs": [],
   "source": [
    "# define\n",
    "X = tf.placeholder(tf.float32, shape=[None, 8])\n",
    "y = tf.placeholder(tf.float32, shape=[None, 1])\n",
    "W = tf.Variable(tf.random_normal([8, 1]), name='weight')\n",
    "b = tf.Variable(tf.random_normal([1]), name='bias')\n",
    "yhat = tf.sigmoid(tf.matmul(X, W) + b)\n",
    "\n",
    "cost = -tf.reduce_mean(y * tf.log(yhat) + (1 - y) * tf.log(1-yhat))\n",
    "optimizer = tf.train.GradientDescentOptimizer(learning_rate=1e-02)\n",
    "train_op = optimizer.minimize(cost)\n",
    "pred = tf.cast(yhat > 0.5, dtype=tf.float32)\n",
    "acc = tf.reduce_mean(tf.cast(tf.equal(pred, y), dtype=tf.float32))"
   ]
  },
  {
   "cell_type": "code",
   "execution_count": null,
   "metadata": {
    "collapsed": true
   },
   "outputs": [],
   "source": [
    "# run\n",
    "with tf.Session() as sess:\n",
    "    sess.run(tf.global_variables_initializer())\n",
    "    for i in range(20001):\n",
    "        _, _cost, _acc = sess.run([train_op, cost, acc], \n",
    "                                              feed_dict={X: x_data, y: y_data})\n",
    "        if i%1000==0:\n",
    "            print('step: {}, cost: {}, acc: {}'\n",
    "                 .format(i, _cost, _acc))\n",
    "    \n",
    "                    \n",
    "                                          "
   ]
  },
  {
   "cell_type": "code",
   "execution_count": 20,
   "metadata": {},
   "outputs": [
    {
     "name": "stdout",
     "output_type": "stream",
     "text": [
      "(759, 8) (759, 1)\n",
      "[-0.29411799  0.48743701  0.180328   -0.29292899  0.          0.00149028\n",
      " -0.53117001 -0.0333333 ]\n",
      "INFO:tensorflow:Error reported to Coordinator: <class 'tensorflow.python.framework.errors_impl.CancelledError'>, Run call was cancelled\n"
     ]
    }
   ],
   "source": [
    "import tensorflow as tf\n",
    "# filename_queue를 list 형태로 만들기\n",
    "filename_queue = tf.train.string_input_producer(\n",
    "    ['./data/data-03-diabetes.csv'], shuffle=False, name='filename_queue')\n",
    "\n",
    "# reader 정의 \n",
    "reader = tf.TextLineReader()\n",
    "key, value = reader.read(filename_queue)\n",
    "\n",
    "record_defaults = [[0.], [0.], [0.], [0.], [0.], [0.], [0.], [0.], [0.]]\n",
    "xy = tf.decode_csv(value, record_defaults=record_defaults)\n",
    "\n",
    "train_x_batch, train_y_batch = \\\n",
    "    tf.train.batch([xy[0:-1], xy[-1:]], batch_size=759)\n",
    "\n",
    "X = tf.placeholder(tf.float32, shape=[None, 8])\n",
    "y = tf.placeholder(tf.float32, shape=[None, 1])\n",
    "    \n",
    "with tf.Session() as sess:\n",
    "    sess.run(tf.global_variables_initializer())\n",
    "    coord = tf.train.Coordinator()\n",
    "    threads = tf.train.start_queue_runners(sess=sess, coord=coord)\n",
    "\n",
    "    X_batch, y_batch = sess.run([train_x_batch, train_y_batch])\n",
    "    print(X_batch.shape, y_batch.shape)\n",
    "    print(X_batch[0])"
   ]
  },
  {
   "cell_type": "code",
   "execution_count": null,
   "metadata": {
    "collapsed": true
   },
   "outputs": [],
   "source": []
  },
  {
   "cell_type": "code",
   "execution_count": null,
   "metadata": {
    "collapsed": true
   },
   "outputs": [],
   "source": []
  },
  {
   "cell_type": "code",
   "execution_count": null,
   "metadata": {
    "collapsed": true
   },
   "outputs": [],
   "source": []
  },
  {
   "cell_type": "code",
   "execution_count": null,
   "metadata": {
    "collapsed": true
   },
   "outputs": [],
   "source": []
  },
  {
   "cell_type": "code",
   "execution_count": null,
   "metadata": {
    "collapsed": true
   },
   "outputs": [],
   "source": []
  }
 ],
 "metadata": {
  "kernelspec": {
   "display_name": "Python 3",
   "language": "python",
   "name": "python3"
  },
  "language_info": {
   "codemirror_mode": {
    "name": "ipython",
    "version": 3
   },
   "file_extension": ".py",
   "mimetype": "text/x-python",
   "name": "python",
   "nbconvert_exporter": "python",
   "pygments_lexer": "ipython3",
   "version": "3.6.1"
  }
 },
 "nbformat": 4,
 "nbformat_minor": 2
}
