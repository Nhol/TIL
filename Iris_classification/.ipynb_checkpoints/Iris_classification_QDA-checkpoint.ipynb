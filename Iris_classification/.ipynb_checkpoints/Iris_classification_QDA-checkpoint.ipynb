{
 "cells": [
  {
   "cell_type": "markdown",
   "metadata": {},
   "source": [
    "# Iris 분류문제 풀기"
   ]
  },
  {
   "cell_type": "markdown",
   "metadata": {},
   "source": [
    "https://en.wikipedia.org/wiki/Iris_flower_data_set"
   ]
  },
  {
   "cell_type": "code",
   "execution_count": 1,
   "metadata": {
    "collapsed": true
   },
   "outputs": [],
   "source": [
    "import numpy as np\n",
    "import pandas as pd\n",
    "import seaborn as sns\n",
    "import matplotlib.pyplot as plt"
   ]
  },
  {
   "cell_type": "markdown",
   "metadata": {},
   "source": [
    "### 1. Data"
   ]
  },
  {
   "cell_type": "markdown",
   "metadata": {},
   "source": [
    "1. sklearn의 iris dataset에는 150개의 sample data가 있음\n",
    "\n",
    "2. iris품종이 Target class가 되며 이는 다음의 세 종류로 나뉨. sample data에서 각 class 별 갯수는 셋 모두 동일하게 50개씩임\n",
    "    - virginica\n",
    "    - versicolor\n",
    "    - setosa \n",
    "\n",
    "3. feature는 총 4가지로 다음과 같음\n",
    "\n",
    "    - sepal length: 꽃받침의 길이\n",
    "    - sepal width: 꽃받침의 폭\n",
    "    - petal length: 꽃잎의 길이\n",
    "    - petal width: 꽃잎의 폭\n",
    "  \n",
    " \n",
    "  \n"
   ]
  },
  {
   "cell_type": "code",
   "execution_count": 4,
   "metadata": {},
   "outputs": [
    {
     "data": {
      "text/html": [
       "<div>\n",
       "<style>\n",
       "    .dataframe thead tr:only-child th {\n",
       "        text-align: right;\n",
       "    }\n",
       "\n",
       "    .dataframe thead th {\n",
       "        text-align: left;\n",
       "    }\n",
       "\n",
       "    .dataframe tbody tr th {\n",
       "        vertical-align: top;\n",
       "    }\n",
       "</style>\n",
       "<table border=\"1\" class=\"dataframe\">\n",
       "  <thead>\n",
       "    <tr style=\"text-align: right;\">\n",
       "      <th></th>\n",
       "      <th>sepal length (cm)</th>\n",
       "      <th>sepal width (cm)</th>\n",
       "      <th>petal length (cm)</th>\n",
       "      <th>petal width (cm)</th>\n",
       "      <th>species</th>\n",
       "    </tr>\n",
       "  </thead>\n",
       "  <tbody>\n",
       "    <tr>\n",
       "      <th>0</th>\n",
       "      <td>5.8</td>\n",
       "      <td>2.8</td>\n",
       "      <td>5.1</td>\n",
       "      <td>2.4</td>\n",
       "      <td>virginica</td>\n",
       "    </tr>\n",
       "    <tr>\n",
       "      <th>1</th>\n",
       "      <td>6.0</td>\n",
       "      <td>2.2</td>\n",
       "      <td>4.0</td>\n",
       "      <td>1.0</td>\n",
       "      <td>versicolor</td>\n",
       "    </tr>\n",
       "    <tr>\n",
       "      <th>2</th>\n",
       "      <td>5.5</td>\n",
       "      <td>4.2</td>\n",
       "      <td>1.4</td>\n",
       "      <td>0.2</td>\n",
       "      <td>setosa</td>\n",
       "    </tr>\n",
       "    <tr>\n",
       "      <th>3</th>\n",
       "      <td>7.3</td>\n",
       "      <td>2.9</td>\n",
       "      <td>6.3</td>\n",
       "      <td>1.8</td>\n",
       "      <td>virginica</td>\n",
       "    </tr>\n",
       "    <tr>\n",
       "      <th>4</th>\n",
       "      <td>5.0</td>\n",
       "      <td>3.4</td>\n",
       "      <td>1.5</td>\n",
       "      <td>0.2</td>\n",
       "      <td>setosa</td>\n",
       "    </tr>\n",
       "  </tbody>\n",
       "</table>\n",
       "</div>"
      ],
      "text/plain": [
       "   sepal length (cm)  sepal width (cm)  petal length (cm)  petal width (cm)  \\\n",
       "0                5.8               2.8                5.1               2.4   \n",
       "1                6.0               2.2                4.0               1.0   \n",
       "2                5.5               4.2                1.4               0.2   \n",
       "3                7.3               2.9                6.3               1.8   \n",
       "4                5.0               3.4                1.5               0.2   \n",
       "\n",
       "      species  \n",
       "0   virginica  \n",
       "1  versicolor  \n",
       "2      setosa  \n",
       "3   virginica  \n",
       "4      setosa  "
      ]
     },
     "execution_count": 4,
     "metadata": {},
     "output_type": "execute_result"
    }
   ],
   "source": [
    "from sklearn.datasets import load_iris\n",
    "\n",
    "iris = load_iris()\n",
    "df = pd.DataFrame(iris.data, columns=iris.feature_names)\n",
    "sy = pd.Series(iris.target, dtype=\"category\")\n",
    "sy = sy.cat.rename_categories(iris.target_names)\n",
    "df['species'] = sy\n",
    "\n",
    "np.random.seed(0)\n",
    "df.sample(frac=1).reset_index(drop=True).head(5)"
   ]
  },
  {
   "cell_type": "code",
   "execution_count": 31,
   "metadata": {},
   "outputs": [
    {
     "data": {
      "text/plain": [
       "species\n",
       "setosa        50\n",
       "versicolor    50\n",
       "virginica     50\n",
       "dtype: int64"
      ]
     },
     "execution_count": 31,
     "metadata": {},
     "output_type": "execute_result"
    }
   ],
   "source": [
    "species_group = df.groupby('species')\n",
    "species_group.size()"
   ]
  },
  {
   "cell_type": "markdown",
   "metadata": {},
   "source": [
    "### 2. EDA"
   ]
  },
  {
   "cell_type": "code",
   "execution_count": 3,
   "metadata": {},
   "outputs": [
    {
     "data": {
      "image/png": "[encoded data removed]",
      "text/plain": [
       "<matplotlib.figure.Figure at 0x1102e8cc0>"
      ]
     },
     "metadata": {},
     "output_type": "display_data"
    }
   ],
   "source": [
    "sns.pairplot(df, hue=\"species\") \n",
    "plt.show()\n",
    "\n",
    "# hue라는 keyword parameter에는 string (variable name)을 대입. optional 기능임. \n",
    "# Variable in ``data`` to map plot aspects to different colors."
   ]
  },
  {
   "cell_type": "markdown",
   "metadata": {},
   "source": [
    "### 3. QDA(Quadratic Discriminant Analysis)\n",
    "\n",
    "1. QDA는 조건부 확률모형 중에서도 생성모형임. 즉, 베이즈 정리를 사용하여 각 클래스에 속할 확률을 구하고 이에 따라 클래스를  분류하는 방법임\n",
    "    - 주어진 sample data(=training data)마다 각각의 category가 정답일 조건부 확률을 계산\n",
    "       \n",
    "2. 가정\n",
    "    - y의 각 클래스(붓꽃 품종 3가지)에 대한 독립변수들의 조건부 확률분포가 다변수 가우시안 정규분포라는 가정\n",
    "$$\n",
    "p(x \\mid y = k) = \\dfrac{1}{(2\\pi)^{D/2} |\\Sigma_k|^{1/2}} \\exp \\left( -\\dfrac{1}{2} (x-\\mu_k)^T \\Sigma_k^{-1} (x-\\mu_k) \\right)\n",
    "$$\n",
    "        - D는 데이터의 변수 종류 갯수(=차원)\n",
    "        - 샘플데이터를 이용해서 각 클래스 별 샘플평균, 공분산 행렬 구할 수 있음 \n",
    "\n",
    "3. 이 분포들을 알고 있으면 독립 변수 X에 대한 Y 클래스의 조건부 확률 분포는 다음과 같이 베이즈 규칙으로부터 구할 수 있다.\n",
    "$$\n",
    "P(y=k \\mid x) = \\dfrac{p(x \\mid y = k)P(y=k)}{p(x)} = \\dfrac{p(x \\mid y = k)P(y=k)}{\\sum_l p(x \\mid y = l)P(y=l) }\n",
    "$$\n",
    " \n",
    "        - p(x | y = k)는 위의 다변수 가우시안 정규분포식으로 구할 수 있음\n",
    "        - 여기서 prior P(y=k)는 각 class 별 샘플 갯수를 전체 샘플의 갯수로 나누면 구할 수 있음. \n",
    "          P(y=0)=P(y=1)=P(y=2)=50/150 = 1/3\n",
    "        - 분모는 각 class에 대해 구한 분자의 총합이 된다.\n",
    "    \n",
    "    "
   ]
  },
  {
   "cell_type": "code",
   "execution_count": 33,
   "metadata": {
    "collapsed": true
   },
   "outputs": [],
   "source": [
    "from sklearn.discriminant_analysis import QuadraticDiscriminantAnalysis"
   ]
  },
  {
   "cell_type": "code",
   "execution_count": 78,
   "metadata": {},
   "outputs": [
    {
     "name": "stderr",
     "output_type": "stream",
     "text": [
      "/Users/beomyongnho/.pyenv/versions/3.6.1/envs/firstvenv/lib/python3.6/site-packages/sklearn/discriminant_analysis.py:664: DeprecationWarning: 'store_covariances' was renamed to store_covariance in version 0.19 and will be removed in 0.21.\n",
      "  DeprecationWarning)\n"
     ]
    }
   ],
   "source": [
    "# QDA model에 data fitting 후 training data 예측\n",
    "# 공부를 위해 계산과정에서 구하게 되는 각 클래스별 feature들의 sample mean값들과 공분산 행렬도 나타내보도록 하자\n",
    "\n",
    "X = iris.data\n",
    "y = iris.target\n",
    "model_qda = QuadraticDiscriminantAnalysis(store_covariances=True).fit(X, y)\n",
    "yhat1 = model1.predict(X)"
   ]
  },
  {
   "cell_type": "code",
   "execution_count": 208,
   "metadata": {
    "collapsed": true
   },
   "outputs": [],
   "source": [
    "# p(y=k|x)의 계산과정을 좀 더 상세히 살펴보자 "
   ]
  },
  {
   "cell_type": "code",
   "execution_count": 63,
   "metadata": {},
   "outputs": [
    {
     "data": {
      "text/plain": [
       "array([[ 5.006,  3.418,  1.464,  0.244],\n",
       "       [ 5.936,  2.77 ,  4.26 ,  1.326],\n",
       "       [ 6.588,  2.974,  5.552,  2.026]])"
      ]
     },
     "execution_count": 63,
     "metadata": {},
     "output_type": "execute_result"
    }
   ],
   "source": [
    "model_qda.means_"
   ]
  },
  {
   "cell_type": "code",
   "execution_count": 65,
   "metadata": {},
   "outputs": [
    {
     "name": "stderr",
     "output_type": "stream",
     "text": [
      "/Users/beomyongnho/.pyenv/versions/3.6.1/envs/firstvenv/lib/python3.6/site-packages/sklearn/utils/deprecation.py:75: DeprecationWarning: Function covariances_ is deprecated; Attribute covariances_ was deprecated in version 0.19 and will be removed in 0.21. Use covariance_ instead\n",
      "  warnings.warn(msg, category=DeprecationWarning)\n"
     ]
    },
    {
     "data": {
      "text/plain": [
       "array([[ 0.12424898,  0.10029796,  0.01613878,  0.01054694],\n",
       "       [ 0.10029796,  0.14517959,  0.01168163,  0.01143673],\n",
       "       [ 0.01613878,  0.01168163,  0.03010612,  0.00569796],\n",
       "       [ 0.01054694,  0.01143673,  0.00569796,  0.01149388]])"
      ]
     },
     "execution_count": 65,
     "metadata": {},
     "output_type": "execute_result"
    }
   ],
   "source": [
    "model_qda.covariances_[0]"
   ]
  },
  {
   "cell_type": "code",
   "execution_count": 66,
   "metadata": {},
   "outputs": [
    {
     "name": "stderr",
     "output_type": "stream",
     "text": [
      "/Users/beomyongnho/.pyenv/versions/3.6.1/envs/firstvenv/lib/python3.6/site-packages/sklearn/utils/deprecation.py:75: DeprecationWarning: Function covariances_ is deprecated; Attribute covariances_ was deprecated in version 0.19 and will be removed in 0.21. Use covariance_ instead\n",
      "  warnings.warn(msg, category=DeprecationWarning)\n"
     ]
    },
    {
     "data": {
      "text/plain": [
       "array([[ 0.26643265,  0.08518367,  0.18289796,  0.05577959],\n",
       "       [ 0.08518367,  0.09846939,  0.08265306,  0.04120408],\n",
       "       [ 0.18289796,  0.08265306,  0.22081633,  0.07310204],\n",
       "       [ 0.05577959,  0.04120408,  0.07310204,  0.03910612]])"
      ]
     },
     "execution_count": 66,
     "metadata": {},
     "output_type": "execute_result"
    }
   ],
   "source": [
    "model_qda.covariances_[1]"
   ]
  },
  {
   "cell_type": "code",
   "execution_count": 67,
   "metadata": {},
   "outputs": [
    {
     "name": "stderr",
     "output_type": "stream",
     "text": [
      "/Users/beomyongnho/.pyenv/versions/3.6.1/envs/firstvenv/lib/python3.6/site-packages/sklearn/utils/deprecation.py:75: DeprecationWarning: Function covariances_ is deprecated; Attribute covariances_ was deprecated in version 0.19 and will be removed in 0.21. Use covariance_ instead\n",
      "  warnings.warn(msg, category=DeprecationWarning)\n"
     ]
    },
    {
     "data": {
      "text/plain": [
       "array([[ 0.40434286,  0.09376327,  0.3032898 ,  0.04909388],\n",
       "       [ 0.09376327,  0.10400408,  0.07137959,  0.04762857],\n",
       "       [ 0.3032898 ,  0.07137959,  0.30458776,  0.04882449],\n",
       "       [ 0.04909388,  0.04762857,  0.04882449,  0.07543265]])"
      ]
     },
     "execution_count": 67,
     "metadata": {},
     "output_type": "execute_result"
    }
   ],
   "source": [
    "model_qda.covariances_[2]"
   ]
  },
  {
   "cell_type": "code",
   "execution_count": 107,
   "metadata": {},
   "outputs": [
    {
     "name": "stderr",
     "output_type": "stream",
     "text": [
      "/Users/beomyongnho/.pyenv/versions/3.6.1/envs/firstvenv/lib/python3.6/site-packages/sklearn/utils/deprecation.py:75: DeprecationWarning: Function covariances_ is deprecated; Attribute covariances_ was deprecated in version 0.19 and will be removed in 0.21. Use covariance_ instead\n",
      "  warnings.warn(msg, category=DeprecationWarning)\n",
      "/Users/beomyongnho/.pyenv/versions/3.6.1/envs/firstvenv/lib/python3.6/site-packages/sklearn/utils/deprecation.py:75: DeprecationWarning: Function covariances_ is deprecated; Attribute covariances_ was deprecated in version 0.19 and will be removed in 0.21. Use covariance_ instead\n",
      "  warnings.warn(msg, category=DeprecationWarning)\n",
      "/Users/beomyongnho/.pyenv/versions/3.6.1/envs/firstvenv/lib/python3.6/site-packages/sklearn/utils/deprecation.py:75: DeprecationWarning: Function covariances_ is deprecated; Attribute covariances_ was deprecated in version 0.19 and will be removed in 0.21. Use covariance_ instead\n",
      "  warnings.warn(msg, category=DeprecationWarning)\n"
     ]
    }
   ],
   "source": [
    "mu = model_qda.means_\n",
    "comat_0 = model_qda.covariances_[0]\n",
    "comat_1 = model_qda.covariances_[1]\n",
    "comat_2 = model_qda.covariances_[2]"
   ]
  },
  {
   "cell_type": "code",
   "execution_count": 183,
   "metadata": {},
   "outputs": [],
   "source": [
    "c_0 = 1/((2*np.pi)**2*np.sqrt(np.linalg.det(comat_0)))/3\n",
    "c_1 = 1/((2*np.pi)**2*np.sqrt(np.linalg.det(comat_1)))/3\n",
    "c_2 = 1/((2*np.pi)**2*np.sqrt(np.linalg.det(comat_2)))/3"
   ]
  },
  {
   "cell_type": "code",
   "execution_count": 227,
   "metadata": {
    "collapsed": true
   },
   "outputs": [],
   "source": [
    "i = 133"
   ]
  },
  {
   "cell_type": "code",
   "execution_count": 228,
   "metadata": {
    "collapsed": true
   },
   "outputs": [],
   "source": [
    "expen_0 = np.exp(-0.5*(X[i]-mu[0]).T.dot(np.linalg.inv(comat_0)).dot(X[i]-mu[0]))\n",
    "expen_1 = np.exp(-0.5*(X[i]-mu[1]).T.dot(np.linalg.inv(comat_1)).dot(X[i]-mu[1]))\n",
    "expen_2 = np.exp(-0.5*(X[i]-mu[2]).T.dot(np.linalg.inv(comat_2)).dot(X[i]-mu[2]))"
   ]
  },
  {
   "cell_type": "code",
   "execution_count": 229,
   "metadata": {
    "collapsed": true
   },
   "outputs": [],
   "source": [
    "mother = c_0*expen_0 + c_1*expen_1 + c_2*expen_2"
   ]
  },
  {
   "cell_type": "code",
   "execution_count": 230,
   "metadata": {
    "collapsed": true
   },
   "outputs": [],
   "source": [
    "# i번째 샘플이 각 class에 속할 확률을 계산해보면 다음과 같이 나타난다."
   ]
  },
  {
   "cell_type": "code",
   "execution_count": 231,
   "metadata": {},
   "outputs": [
    {
     "name": "stdout",
     "output_type": "stream",
     "text": [
      "2.05310494338e-113\n",
      "0.604961131512\n",
      "0.395038868488\n"
     ]
    }
   ],
   "source": [
    "print(c_0*expen_0/mother)\n",
    "print(c_1*expen_1/mother)\n",
    "print(c_2*expen_2/mother)"
   ]
  },
  {
   "cell_type": "code",
   "execution_count": 232,
   "metadata": {},
   "outputs": [
    {
     "name": "stdout",
     "output_type": "stream",
     "text": [
      "70\n",
      "83\n",
      "133\n"
     ]
    }
   ],
   "source": [
    "# 예측과 실제 class가 다른 index는 다음과 같다\n",
    "for i in range(len(y)):\n",
    "    if y[i] != yhat1[i]:\n",
    "        print(i)"
   ]
  },
  {
   "cell_type": "code",
   "execution_count": 221,
   "metadata": {},
   "outputs": [
    {
     "name": "stdout",
     "output_type": "stream",
     "text": [
      "실제: 1 예측: 2\n",
      "실제: 1 예측: 2\n",
      "실제: 2 예측: 1\n"
     ]
    }
   ],
   "source": [
    "print('실제:', y[70], '예측:', yhat1[70])\n",
    "print('실제:', y[83], '예측:', yhat1[83])\n",
    "print('실제:', y[133], '예측:', yhat1[133])"
   ]
  },
  {
   "cell_type": "markdown",
   "metadata": {},
   "source": [
    "### 4. 분류성능 평가"
   ]
  },
  {
   "cell_type": "markdown",
   "metadata": {},
   "source": [
    "- confusion_matrix: 타겟의 원래 클래스와 모형이 예측한 클래스가 일치하는 갯수를 센 것. (틀리게 예측한 것도 카운트 됨)"
   ]
  },
  {
   "cell_type": "code",
   "execution_count": 37,
   "metadata": {
    "collapsed": true
   },
   "outputs": [],
   "source": [
    "from sklearn.metrics import confusion_matrix, classification_report, roc_curve"
   ]
  },
  {
   "cell_type": "code",
   "execution_count": 81,
   "metadata": {},
   "outputs": [
    {
     "data": {
      "text/plain": [
       "array([[50,  0,  0],\n",
       "       [ 0, 48,  2],\n",
       "       [ 0,  1, 49]])"
      ]
     },
     "execution_count": 81,
     "metadata": {},
     "output_type": "execute_result"
    }
   ],
   "source": [
    "confusion_matrix(y, yhat1)"
   ]
  },
  {
   "cell_type": "markdown",
   "metadata": {},
   "source": [
    "- classification report: \n",
    "    이진 분류 결과표의 값들(TP, FP, TN, FN)을 이용해 precision, recall, f1-score를 나타낸 것 "
   ]
  },
  {
   "cell_type": "code",
   "execution_count": 82,
   "metadata": {},
   "outputs": [
    {
     "name": "stdout",
     "output_type": "stream",
     "text": [
      "             precision    recall  f1-score   support\n",
      "\n",
      "          0       1.00      1.00      1.00        50\n",
      "          1       0.98      0.96      0.97        50\n",
      "          2       0.96      0.98      0.97        50\n",
      "\n",
      "avg / total       0.98      0.98      0.98       150\n",
      "\n"
     ]
    }
   ],
   "source": [
    "print(classification_report(y, yhat1))"
   ]
  },
  {
   "cell_type": "markdown",
   "metadata": {},
   "source": [
    "- ROC(Receiver Operator Characteristic) 커브 \n",
    "    \n",
    "    클래스 판별 기준값의 변화에 따른 Fall-out과 Recall의 변화를 시각화한 것이다.\n",
    "    \n",
    "    Fall-out (위양성율) = FP / (FP + TN) ->  positive라고 잘못 예측한 것들 / 실제로 negative인 것들\n",
    "    \n",
    "    Recall (재현율) = TP / (TP + FN) -> positive라고 맞게 예측한 것들 / 실제로 positive인 것들"
   ]
  },
  {
   "cell_type": "code",
   "execution_count": 84,
   "metadata": {
    "collapsed": true
   },
   "outputs": [],
   "source": [
    "# ROC 커브를 만들기 위해 종속변수 one hot encoding\n",
    "from sklearn.preprocessing import label_binarize\n",
    "y_multi = label_binarize(y, classes=[0, 1, 2])"
   ]
  },
  {
   "cell_type": "code",
   "execution_count": 86,
   "metadata": {
    "collapsed": true
   },
   "outputs": [],
   "source": [
    "# 각각의 샘플에 따른 판별함수값 도출(행렬 형태로)\n",
    "# 3개의 변수를 가지며 각 sample에 대해 class 1,2,3인 경우의 판별함수값을 나타냄(판별함수값이 가장 큰 클래스가 해당 샘플이 속할 확률이 높은 클래스)\n",
    "d1_multi = model_qda.decision_function(X) "
   ]
  },
  {
   "cell_type": "code",
   "execution_count": 92,
   "metadata": {
    "collapsed": true
   },
   "outputs": [],
   "source": [
    "# roc_curve함수의 파라미터로 one hot encoding 된 종속변수와 판별함수값 입력\n",
    "# 각각 클래스 1, 2, 3인 경우 설정\n",
    "fpr10, tpr10, thresholds10 = roc_curve(y_multi[:, 0], d1_multi[:, 0]) # 첫 50개 샘플(실제 카테고리 0)\n",
    "fpr11, tpr11, thresholds11 = roc_curve(y_multi[:, 1], d1_multi[:, 1]) # 다음 50개 샘플 (실제 카테고리 1)\n",
    "fpr12, tpr12, thresholds12 = roc_curve(y_multi[:, 2], d1_multi[:, 2]) # 마지막 50개 샘플 (실제 카테고리 2)"
   ]
  },
  {
   "cell_type": "code",
   "execution_count": 93,
   "metadata": {},
   "outputs": [
    {
     "data": {
      "image/png": "[encoded data removed]",
      "text/plain": [
       "<matplotlib.figure.Figure at 0x111031828>"
      ]
     },
     "metadata": {},
     "output_type": "display_data"
    }
   ],
   "source": [
    "plt.plot(fpr10, tpr10, label=\"class 0\")\n",
    "plt.plot(fpr11, tpr11, label=\"class 1\")\n",
    "plt.plot(fpr12, tpr12, label=\"class 2\")\n",
    "plt.show()"
   ]
  },
  {
   "cell_type": "code",
   "execution_count": 163,
   "metadata": {
    "collapsed": true
   },
   "outputs": [],
   "source": [
    "from sklearn.metrics import auc"
   ]
  },
  {
   "cell_type": "code",
   "execution_count": 164,
   "metadata": {},
   "outputs": [
    {
     "data": {
      "text/plain": [
       "(1.0, 0.99419999999999997, 0.98280000000000012)"
      ]
     },
     "execution_count": 164,
     "metadata": {},
     "output_type": "execute_result"
    }
   ],
   "source": [
    "auc(fpr10, tpr10), auc(fpr11, tpr11), auc(fpr12, tpr12)"
   ]
  }
 ],
 "metadata": {
  "kernelspec": {
   "display_name": "Python 3",
   "language": "python",
   "name": "python3"
  },
  "language_info": {
   "codemirror_mode": {
    "name": "ipython",
    "version": 3
   },
   "file_extension": ".py",
   "mimetype": "text/x-python",
   "name": "python",
   "nbconvert_exporter": "python",
   "pygments_lexer": "ipython3",
   "version": "3.6.1"
  }
 },
 "nbformat": 4,
 "nbformat_minor": 2
}
