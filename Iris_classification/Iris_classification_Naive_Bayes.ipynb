{
 "cells": [
  {
   "cell_type": "markdown",
   "metadata": {},
   "source": [
    "# Iris 분류문제 풀기 : Gaussian Naive Bayesian\n",
    "\n",
    "https://en.wikipedia.org/wiki/Iris_flower_data_set\n",
    "\n",
    "http://datascienceschool.net "
   ]
  },
  {
   "cell_type": "markdown",
   "metadata": {},
   "source": [
    "### Naive Bayesian 모형을 이용한 분류방법 정리"
   ]
  },
  {
   "cell_type": "markdown",
   "metadata": {},
   "source": [
    "### 1. Hypothesis\n",
    "\n",
    "나이브 베이즈 분류 모형(Naive Bayes classification model)은 대표적인 생성 모형.\n",
    "\n",
    "Navie 가정 하에 \n",
    "\n",
    " (1) 타겟 변수 $y$의 각 클래스 $\\{C_1,\\cdots,C_K\\}$ 에 대해 \n",
    "\n",
    " (2) 독립 변수 $x$의 조건부 확률 분포 정보 $p(x \\mid y = C_k)$ 를 구하고\n",
    "\n",
    " (3) 주어진 새로운 독립 변수 값 $x$에 대한 타켓 변수의 각 클래스의 조건부 확률 $p(y = C_k \\mid x)$ 를 추정\n",
    "\n",
    " (4) 각 클래스의 조건부 확률 중 확률이 가장 큰 클래스 $k$를 선택하는 방법이다."
   ]
  },
  {
   "cell_type": "markdown",
   "metadata": {},
   "source": [
    "### Naive 가정\n",
    "\n",
    "독립변수 $x$가 다차원일 경우 즉, $x = [x_1, x_2, x_3, ..., x_N]$ 일 때 \n",
    "\n",
    "원래 베이즈 정리에서 사용하는 likelihood는 모든 변수 $x_i$에 대해 다음과 같이 모든 변수 $x_i$ 에 대해 계산한 결합확률이 된다. \n",
    "\n",
    "$$p(x \\mid y = C_k) = p(x_1, x_2, ... , x_N  \\mid y = C_k)$$\n",
    "\n",
    "그러나 현실세계에서 이런 정보는 실제로 입수하기가 어려움\n",
    "\n",
    "이를 단순화하여 모든 차원의 개별 독립 변수들이 서로 독립이라고 가정하는 것이 Naive 가정이다.\n",
    "\n",
    "이 때, 특정 클래스에 해당하는 독립 변수들의 조건부 결합확률은 각 독립변수의 조건부 확률들의 곱으로 계산한다. \n",
    "\n",
    "즉, 이 가정을 통해 Likelihood는 다음과 같이 계산할 수 있다.\n",
    "\n",
    "$$p(x_1, x_2, ... , x_N  \\mid y = C_k) = \\prod_{i=1}^N p(x_i \\mid y = C_k)$$\n",
    "\n",
    "따라서 posterior는 다음과 같이 계산할 수 있다.\n",
    "\n",
    "$$\n",
    "P(y = C_k \\mid x) \\;\\; \\propto \\;\\; \\prod_{i=1}^n P(x_{i} \\mid y = C_k)\\; P(y = C_k)\n",
    "$$"
   ]
  },
  {
   "cell_type": "markdown",
   "metadata": {},
   "source": [
    "### 2. Loss function, optimizer\n",
    "\n",
    "확률을 직접 계산할 수 있으므로 별도의 loss function, optimizer는 필요하지 않음"
   ]
  },
  {
   "cell_type": "markdown",
   "metadata": {},
   "source": [
    "### 3. Naive Bayesian 분류모형의 종류\n",
    "\n",
    "독립변수(feature)에 따라 "
   ]
  },
  {
   "cell_type": "code",
   "execution_count": null,
   "metadata": {
    "collapsed": true
   },
   "outputs": [],
   "source": []
  },
  {
   "cell_type": "code",
   "execution_count": null,
   "metadata": {
    "collapsed": true
   },
   "outputs": [],
   "source": []
  },
  {
   "cell_type": "code",
   "execution_count": null,
   "metadata": {
    "collapsed": true
   },
   "outputs": [],
   "source": []
  },
  {
   "cell_type": "code",
   "execution_count": 1,
   "metadata": {},
   "outputs": [],
   "source": [
    "from sklearn.datasets import load_iris\n",
    "import pandas as pd\n",
    "import numpy as np\n",
    "import matplotlib.pyplot as plt"
   ]
  },
  {
   "cell_type": "code",
   "execution_count": 2,
   "metadata": {
    "collapsed": true
   },
   "outputs": [],
   "source": [
    "iris = load_iris()\n",
    "X = iris.data\n",
    "y = iris.target"
   ]
  },
  {
   "cell_type": "code",
   "execution_count": 3,
   "metadata": {
    "collapsed": true
   },
   "outputs": [],
   "source": [
    "from sklearn.naive_bayes import GaussianNB\n",
    "from sklearn.metrics import confusion_matrix, classification_report, roc_curve\n",
    "from sklearn.preprocessing import label_binarize"
   ]
  },
  {
   "cell_type": "code",
   "execution_count": 4,
   "metadata": {},
   "outputs": [],
   "source": [
    "model_GNB = GaussianNB().fit(X, y)"
   ]
  },
  {
   "cell_type": "code",
   "execution_count": 5,
   "metadata": {},
   "outputs": [
    {
     "data": {
      "text/plain": [
       "array([0, 1, 2])"
      ]
     },
     "execution_count": 5,
     "metadata": {},
     "output_type": "execute_result"
    }
   ],
   "source": [
    "model_GNB.classes_"
   ]
  },
  {
   "cell_type": "code",
   "execution_count": 6,
   "metadata": {},
   "outputs": [
    {
     "data": {
      "text/plain": [
       "array([ 50.,  50.,  50.])"
      ]
     },
     "execution_count": 6,
     "metadata": {},
     "output_type": "execute_result"
    }
   ],
   "source": [
    "model_GNB.class_count_"
   ]
  },
  {
   "cell_type": "code",
   "execution_count": 7,
   "metadata": {},
   "outputs": [
    {
     "data": {
      "text/plain": [
       "array([ 0.33333333,  0.33333333,  0.33333333])"
      ]
     },
     "execution_count": 7,
     "metadata": {},
     "output_type": "execute_result"
    }
   ],
   "source": [
    "model_GNB.class_prior_"
   ]
  },
  {
   "cell_type": "code",
   "execution_count": 8,
   "metadata": {},
   "outputs": [
    {
     "data": {
      "text/plain": [
       "(array([[ 5.006,  3.418,  1.464,  0.244],\n",
       "        [ 5.936,  2.77 ,  4.26 ,  1.326],\n",
       "        [ 6.588,  2.974,  5.552,  2.026]]),\n",
       " array([[ 0.121764,  0.142276,  0.029504,  0.011264],\n",
       "        [ 0.261104,  0.0965  ,  0.2164  ,  0.038324],\n",
       "        [ 0.396256,  0.101924,  0.298496,  0.073924]]))"
      ]
     },
     "execution_count": 8,
     "metadata": {},
     "output_type": "execute_result"
    }
   ],
   "source": [
    "model_GNB.theta_, model_GNB.sigma_"
   ]
  },
  {
   "cell_type": "code",
   "execution_count": 9,
   "metadata": {
    "collapsed": true
   },
   "outputs": [],
   "source": [
    "yhat = model_GNB.predict(X)"
   ]
  },
  {
   "cell_type": "code",
   "execution_count": 10,
   "metadata": {},
   "outputs": [
    {
     "data": {
      "text/plain": [
       "array([[50,  0,  0],\n",
       "       [ 0, 47,  3],\n",
       "       [ 0,  3, 47]])"
      ]
     },
     "execution_count": 10,
     "metadata": {},
     "output_type": "execute_result"
    }
   ],
   "source": [
    "confusion_matrix(y, yhat)"
   ]
  },
  {
   "cell_type": "code",
   "execution_count": 11,
   "metadata": {},
   "outputs": [
    {
     "name": "stdout",
     "output_type": "stream",
     "text": [
      "             precision    recall  f1-score   support\n",
      "\n",
      "          0       1.00      1.00      1.00        50\n",
      "          1       0.94      0.94      0.94        50\n",
      "          2       0.94      0.94      0.94        50\n",
      "\n",
      "avg / total       0.96      0.96      0.96       150\n",
      "\n"
     ]
    }
   ],
   "source": [
    "print(classification_report(y, yhat))"
   ]
  },
  {
   "cell_type": "code",
   "execution_count": 12,
   "metadata": {},
   "outputs": [],
   "source": [
    "from sklearn.preprocessing import label_binarize\n",
    "y_multi = label_binarize(y, classes=[0, 1, 2])\n",
    "d_multi = model_GNB.predict_proba(X)"
   ]
  },
  {
   "cell_type": "code",
   "execution_count": 13,
   "metadata": {},
   "outputs": [
    {
     "data": {
      "image/png": "[encoded data removed]",
      "text/plain": [
       "<matplotlib.figure.Figure at 0x114444c50>"
      ]
     },
     "metadata": {},
     "output_type": "display_data"
    }
   ],
   "source": [
    "fpr0, tpr0, thresholds0 = roc_curve(y_multi[:, 0], d_multi[:, 0])\n",
    "fpr1, tpr1, thresholds1 = roc_curve(y_multi[:, 1], d_multi[:, 1])\n",
    "fpr2, tpr2, thresholds2 = roc_curve(y_multi[:, 2], d_multi[:, 2])\n",
    "\n",
    "plt.plot(fpr0, tpr0, label=\"class 0\", c='r')\n",
    "plt.plot(fpr1, tpr1, label=\"class 1\", c='b')\n",
    "plt.plot(fpr2, tpr2, label=\"class 2\", c='g')\n",
    "\n",
    "plt.show()"
   ]
  }
 ],
 "metadata": {
  "kernelspec": {
   "display_name": "Python 3",
   "language": "python",
   "name": "python3"
  },
  "language_info": {
   "codemirror_mode": {
    "name": "ipython",
    "version": 3
   },
   "file_extension": ".py",
   "mimetype": "text/x-python",
   "name": "python",
   "nbconvert_exporter": "python",
   "pygments_lexer": "ipython3",
   "version": "3.6.1"
  }
 },
 "nbformat": 4,
 "nbformat_minor": 2
}
