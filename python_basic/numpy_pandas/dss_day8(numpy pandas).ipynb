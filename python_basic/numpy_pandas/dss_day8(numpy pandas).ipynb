{
 "cells": [
  {
   "cell_type": "markdown",
   "metadata": {},
   "source": [
    "## 학습목표\n",
    " 1. 수치해석 라이브러리인 numpy의 이해 및 사용\n",
    " 2. 데이터 분석 라이브러이인 pandas의 이해 및 사용"
   ]
  },
  {
   "cell_type": "markdown",
   "metadata": {},
   "source": [
    "## numpy\n",
    " - 파이썬의 대표적인 수치해석 라이브러리\n",
    " - 벡터, 행렬등의 최적화된 data structure와 다양한 연산 제공\n",
    " - 다른 많은 machine learnig, 혹은 data analysis 패키지들에서 많이 사용 됨"
   ]
  },
  {
   "cell_type": "markdown",
   "metadata": {},
   "source": [
    "* **numpy 모듈**\n",
    "  - 모듈 설치 \n",
    "    - pip install numpy\n",
    "  - 모듈 임포트\n",
    "    - import numpy as np (관례적으로 np 사용)"
   ]
  },
  {
   "cell_type": "code",
   "execution_count": 1,
   "metadata": {},
   "outputs": [
    {
     "name": "stdout",
     "output_type": "stream",
     "text": [
      "1.13.1\n"
     ]
    }
   ],
   "source": [
    "import numpy as np\n",
    "print(np.__version__)"
   ]
  },
  {
   "cell_type": "markdown",
   "metadata": {},
   "source": [
    "* **ndarray**\n",
    " - numpy의 기본 타입\n",
    " - n dimentional array를 의미\n",
    " - vector, matrix를 표현\n",
    " - numpy.array([])로 생성"
   ]
  },
  {
   "cell_type": "code",
   "execution_count": 2,
   "metadata": {},
   "outputs": [
    {
     "name": "stdout",
     "output_type": "stream",
     "text": [
      "[1 3 4 6] <class 'numpy.ndarray'>\n",
      "[[0 1 2]\n",
      " [2 4 6]] <class 'numpy.ndarray'>\n"
     ]
    }
   ],
   "source": [
    "arr1 = np.array([1, 3, 4, 6]) # 1차원 벡터 생성\n",
    "arr2 = np.array([[0, 1, 2], [2, 4, 6]]) # 2차원 행렬 생성\n",
    "\n",
    "print(arr1, type(arr1))\n",
    "print(arr2, type(arr2))"
   ]
  },
  {
   "cell_type": "code",
   "execution_count": 4,
   "metadata": {
    "collapsed": true
   },
   "outputs": [],
   "source": [
    "pure_array = range(10)"
   ]
  },
  {
   "cell_type": "code",
   "execution_count": 11,
   "metadata": {},
   "outputs": [
    {
     "data": {
      "text/plain": [
       "(2, 2)"
      ]
     },
     "execution_count": 11,
     "metadata": {},
     "output_type": "execute_result"
    }
   ],
   "source": [
    "pure_arrary = range(10)\n",
    "np_array = np.array([[1, 2], [3, 4]])\n",
    "np_array\n",
    "np_array.shape"
   ]
  },
  {
   "cell_type": "markdown",
   "metadata": {},
   "source": [
    "* **arange**\n",
    " - 내장 함수 range()와 동일한 기능을 수행함\n",
    " - ndarray 반환"
   ]
  },
  {
   "cell_type": "code",
   "execution_count": 12,
   "metadata": {},
   "outputs": [
    {
     "name": "stdout",
     "output_type": "stream",
     "text": [
      "[ 1  2  3  4  5  6  7  8  9 10] <class 'numpy.ndarray'>\n"
     ]
    },
    {
     "data": {
      "text/plain": [
       "(10,)"
      ]
     },
     "execution_count": 12,
     "metadata": {},
     "output_type": "execute_result"
    }
   ],
   "source": [
    "arr3 = np.arange(1, 11)\n",
    "print(arr3, type(arr3))\n",
    "arr3.shape"
   ]
  },
  {
   "cell_type": "markdown",
   "metadata": {},
   "source": [
    "* **linspace**\n",
    " - start, end를 n-1개의 균일한 간격으로 분할"
   ]
  },
  {
   "cell_type": "code",
   "execution_count": 14,
   "metadata": {},
   "outputs": [
    {
     "name": "stdout",
     "output_type": "stream",
     "text": [
      "[  0.    0.1   0.2   0.3   0.4   0.5   0.6   0.7   0.8   0.9   1.    1.1\n",
      "   1.2   1.3   1.4   1.5   1.6   1.7   1.8   1.9   2.    2.1   2.2   2.3\n",
      "   2.4   2.5   2.6   2.7   2.8   2.9   3.    3.1   3.2   3.3   3.4   3.5\n",
      "   3.6   3.7   3.8   3.9   4.    4.1   4.2   4.3   4.4   4.5   4.6   4.7\n",
      "   4.8   4.9   5.    5.1   5.2   5.3   5.4   5.5   5.6   5.7   5.8   5.9\n",
      "   6.    6.1   6.2   6.3   6.4   6.5   6.6   6.7   6.8   6.9   7.    7.1\n",
      "   7.2   7.3   7.4   7.5   7.6   7.7   7.8   7.9   8.    8.1   8.2   8.3\n",
      "   8.4   8.5   8.6   8.7   8.8   8.9   9.    9.1   9.2   9.3   9.4   9.5\n",
      "   9.6   9.7   9.8   9.9  10. ]\n"
     ]
    }
   ],
   "source": [
    "# 0 - 10의 범위를 n-1 등분 한다는 이야기\n",
    "arr4 = np.linspace(0, 10, 101)\n",
    "print(arr4)"
   ]
  },
  {
   "cell_type": "markdown",
   "metadata": {},
   "source": [
    "* **zeros**\n",
    " - 전달된 tuple 사이즈 행렬 반환\n",
    " - 0으로 채워짐"
   ]
  },
  {
   "cell_type": "code",
   "execution_count": 16,
   "metadata": {},
   "outputs": [
    {
     "name": "stdout",
     "output_type": "stream",
     "text": [
      "[[ 0.  0.  0.  0.]\n",
      " [ 0.  0.  0.  0.]]\n",
      "[ 0.  0.  0.  0.]\n",
      "[[[ 0.  0.]\n",
      "  [ 0.  0.]]\n",
      "\n",
      " [[ 0.  0.]\n",
      "  [ 0.  0.]]]\n"
     ]
    }
   ],
   "source": [
    "print(np.zeros((2, 4)))\n",
    "print(np.zeros(4))\n",
    "\n",
    "print(np.zeros((2, 2, 2)))"
   ]
  },
  {
   "cell_type": "markdown",
   "metadata": {},
   "source": [
    "* **ones**\n",
    " - 전달된 tuple 사이즈 행렬 반환\n",
    " - 1로 채워짐"
   ]
  },
  {
   "cell_type": "code",
   "execution_count": 17,
   "metadata": {},
   "outputs": [
    {
     "name": "stdout",
     "output_type": "stream",
     "text": [
      "[[[[[ 1.  1.  1. ...,  1.  1.  1.]\n",
      "    [ 1.  1.  1. ...,  1.  1.  1.]\n",
      "    [ 1.  1.  1. ...,  1.  1.  1.]\n",
      "    ..., \n",
      "    [ 1.  1.  1. ...,  1.  1.  1.]\n",
      "    [ 1.  1.  1. ...,  1.  1.  1.]\n",
      "    [ 1.  1.  1. ...,  1.  1.  1.]]\n",
      "\n",
      "   [[ 1.  1.  1. ...,  1.  1.  1.]\n",
      "    [ 1.  1.  1. ...,  1.  1.  1.]\n",
      "    [ 1.  1.  1. ...,  1.  1.  1.]\n",
      "    ..., \n",
      "    [ 1.  1.  1. ...,  1.  1.  1.]\n",
      "    [ 1.  1.  1. ...,  1.  1.  1.]\n",
      "    [ 1.  1.  1. ...,  1.  1.  1.]]]\n",
      "\n",
      "\n",
      "  [[[ 1.  1.  1. ...,  1.  1.  1.]\n",
      "    [ 1.  1.  1. ...,  1.  1.  1.]\n",
      "    [ 1.  1.  1. ...,  1.  1.  1.]\n",
      "    ..., \n",
      "    [ 1.  1.  1. ...,  1.  1.  1.]\n",
      "    [ 1.  1.  1. ...,  1.  1.  1.]\n",
      "    [ 1.  1.  1. ...,  1.  1.  1.]]\n",
      "\n",
      "   [[ 1.  1.  1. ...,  1.  1.  1.]\n",
      "    [ 1.  1.  1. ...,  1.  1.  1.]\n",
      "    [ 1.  1.  1. ...,  1.  1.  1.]\n",
      "    ..., \n",
      "    [ 1.  1.  1. ...,  1.  1.  1.]\n",
      "    [ 1.  1.  1. ...,  1.  1.  1.]\n",
      "    [ 1.  1.  1. ...,  1.  1.  1.]]]\n",
      "\n",
      "\n",
      "  [[[ 1.  1.  1. ...,  1.  1.  1.]\n",
      "    [ 1.  1.  1. ...,  1.  1.  1.]\n",
      "    [ 1.  1.  1. ...,  1.  1.  1.]\n",
      "    ..., \n",
      "    [ 1.  1.  1. ...,  1.  1.  1.]\n",
      "    [ 1.  1.  1. ...,  1.  1.  1.]\n",
      "    [ 1.  1.  1. ...,  1.  1.  1.]]\n",
      "\n",
      "   [[ 1.  1.  1. ...,  1.  1.  1.]\n",
      "    [ 1.  1.  1. ...,  1.  1.  1.]\n",
      "    [ 1.  1.  1. ...,  1.  1.  1.]\n",
      "    ..., \n",
      "    [ 1.  1.  1. ...,  1.  1.  1.]\n",
      "    [ 1.  1.  1. ...,  1.  1.  1.]\n",
      "    [ 1.  1.  1. ...,  1.  1.  1.]]]]\n",
      "\n",
      "\n",
      "\n",
      " [[[[ 1.  1.  1. ...,  1.  1.  1.]\n",
      "    [ 1.  1.  1. ...,  1.  1.  1.]\n",
      "    [ 1.  1.  1. ...,  1.  1.  1.]\n",
      "    ..., \n",
      "    [ 1.  1.  1. ...,  1.  1.  1.]\n",
      "    [ 1.  1.  1. ...,  1.  1.  1.]\n",
      "    [ 1.  1.  1. ...,  1.  1.  1.]]\n",
      "\n",
      "   [[ 1.  1.  1. ...,  1.  1.  1.]\n",
      "    [ 1.  1.  1. ...,  1.  1.  1.]\n",
      "    [ 1.  1.  1. ...,  1.  1.  1.]\n",
      "    ..., \n",
      "    [ 1.  1.  1. ...,  1.  1.  1.]\n",
      "    [ 1.  1.  1. ...,  1.  1.  1.]\n",
      "    [ 1.  1.  1. ...,  1.  1.  1.]]]\n",
      "\n",
      "\n",
      "  [[[ 1.  1.  1. ...,  1.  1.  1.]\n",
      "    [ 1.  1.  1. ...,  1.  1.  1.]\n",
      "    [ 1.  1.  1. ...,  1.  1.  1.]\n",
      "    ..., \n",
      "    [ 1.  1.  1. ...,  1.  1.  1.]\n",
      "    [ 1.  1.  1. ...,  1.  1.  1.]\n",
      "    [ 1.  1.  1. ...,  1.  1.  1.]]\n",
      "\n",
      "   [[ 1.  1.  1. ...,  1.  1.  1.]\n",
      "    [ 1.  1.  1. ...,  1.  1.  1.]\n",
      "    [ 1.  1.  1. ...,  1.  1.  1.]\n",
      "    ..., \n",
      "    [ 1.  1.  1. ...,  1.  1.  1.]\n",
      "    [ 1.  1.  1. ...,  1.  1.  1.]\n",
      "    [ 1.  1.  1. ...,  1.  1.  1.]]]\n",
      "\n",
      "\n",
      "  [[[ 1.  1.  1. ...,  1.  1.  1.]\n",
      "    [ 1.  1.  1. ...,  1.  1.  1.]\n",
      "    [ 1.  1.  1. ...,  1.  1.  1.]\n",
      "    ..., \n",
      "    [ 1.  1.  1. ...,  1.  1.  1.]\n",
      "    [ 1.  1.  1. ...,  1.  1.  1.]\n",
      "    [ 1.  1.  1. ...,  1.  1.  1.]]\n",
      "\n",
      "   [[ 1.  1.  1. ...,  1.  1.  1.]\n",
      "    [ 1.  1.  1. ...,  1.  1.  1.]\n",
      "    [ 1.  1.  1. ...,  1.  1.  1.]\n",
      "    ..., \n",
      "    [ 1.  1.  1. ...,  1.  1.  1.]\n",
      "    [ 1.  1.  1. ...,  1.  1.  1.]\n",
      "    [ 1.  1.  1. ...,  1.  1.  1.]]]]\n",
      "\n",
      "\n",
      "\n",
      " [[[[ 1.  1.  1. ...,  1.  1.  1.]\n",
      "    [ 1.  1.  1. ...,  1.  1.  1.]\n",
      "    [ 1.  1.  1. ...,  1.  1.  1.]\n",
      "    ..., \n",
      "    [ 1.  1.  1. ...,  1.  1.  1.]\n",
      "    [ 1.  1.  1. ...,  1.  1.  1.]\n",
      "    [ 1.  1.  1. ...,  1.  1.  1.]]\n",
      "\n",
      "   [[ 1.  1.  1. ...,  1.  1.  1.]\n",
      "    [ 1.  1.  1. ...,  1.  1.  1.]\n",
      "    [ 1.  1.  1. ...,  1.  1.  1.]\n",
      "    ..., \n",
      "    [ 1.  1.  1. ...,  1.  1.  1.]\n",
      "    [ 1.  1.  1. ...,  1.  1.  1.]\n",
      "    [ 1.  1.  1. ...,  1.  1.  1.]]]\n",
      "\n",
      "\n",
      "  [[[ 1.  1.  1. ...,  1.  1.  1.]\n",
      "    [ 1.  1.  1. ...,  1.  1.  1.]\n",
      "    [ 1.  1.  1. ...,  1.  1.  1.]\n",
      "    ..., \n",
      "    [ 1.  1.  1. ...,  1.  1.  1.]\n",
      "    [ 1.  1.  1. ...,  1.  1.  1.]\n",
      "    [ 1.  1.  1. ...,  1.  1.  1.]]\n",
      "\n",
      "   [[ 1.  1.  1. ...,  1.  1.  1.]\n",
      "    [ 1.  1.  1. ...,  1.  1.  1.]\n",
      "    [ 1.  1.  1. ...,  1.  1.  1.]\n",
      "    ..., \n",
      "    [ 1.  1.  1. ...,  1.  1.  1.]\n",
      "    [ 1.  1.  1. ...,  1.  1.  1.]\n",
      "    [ 1.  1.  1. ...,  1.  1.  1.]]]\n",
      "\n",
      "\n",
      "  [[[ 1.  1.  1. ...,  1.  1.  1.]\n",
      "    [ 1.  1.  1. ...,  1.  1.  1.]\n",
      "    [ 1.  1.  1. ...,  1.  1.  1.]\n",
      "    ..., \n",
      "    [ 1.  1.  1. ...,  1.  1.  1.]\n",
      "    [ 1.  1.  1. ...,  1.  1.  1.]\n",
      "    [ 1.  1.  1. ...,  1.  1.  1.]]\n",
      "\n",
      "   [[ 1.  1.  1. ...,  1.  1.  1.]\n",
      "    [ 1.  1.  1. ...,  1.  1.  1.]\n",
      "    [ 1.  1.  1. ...,  1.  1.  1.]\n",
      "    ..., \n",
      "    [ 1.  1.  1. ...,  1.  1.  1.]\n",
      "    [ 1.  1.  1. ...,  1.  1.  1.]\n",
      "    [ 1.  1.  1. ...,  1.  1.  1.]]]]]\n"
     ]
    }
   ],
   "source": [
    "print(np.ones((3, 3, 2, 7, 8)))\n",
    "#print np.ones(3)"
   ]
  },
  {
   "cell_type": "markdown",
   "metadata": {},
   "source": [
    "* **random sub package**\n",
    "  - 다양한 확률 분포를 이용한 랜덤 숫자로 채워진 ndarray 혹은 단일 값을 생성할 때 주로 사용"
   ]
  },
  {
   "cell_type": "code",
   "execution_count": 18,
   "metadata": {},
   "outputs": [
    {
     "name": "stdout",
     "output_type": "stream",
     "text": [
      "[[ 0.73158906  0.04529109]\n",
      " [ 0.75931569  0.68637039]\n",
      " [ 0.40555822  0.09555817]]\n",
      "[-0.83096285  0.7902619  -0.821162  ]\n"
     ]
    }
   ],
   "source": [
    "print(np.random.rand(3, 2)) # uniform 분포 [0, 1) 사이 출력\n",
    "print(np.random.randn(3)) # 정규분포 normal distribution"
   ]
  },
  {
   "cell_type": "code",
   "execution_count": null,
   "metadata": {
    "collapsed": true
   },
   "outputs": [],
   "source": [
    "a = np.random.rand(3, 2, 2)\n",
    "a"
   ]
  },
  {
   "cell_type": "code",
   "execution_count": 23,
   "metadata": {},
   "outputs": [
    {
     "data": {
      "text/plain": [
       "array([57,  1])"
      ]
     },
     "execution_count": 23,
     "metadata": {},
     "output_type": "execute_result"
    }
   ],
   "source": [
    "# [1, 100)범위에서 임의의 정수 한개 생성 \n",
    "np.random.randint(1, 100)"
   ]
  },
  {
   "cell_type": "code",
   "execution_count": 25,
   "metadata": {},
   "outputs": [
    {
     "data": {
      "text/plain": [
       "array([62, 99,  2, 65, 81])"
      ]
     },
     "execution_count": 25,
     "metadata": {},
     "output_type": "execute_result"
    }
   ],
   "source": [
    "# [1, 100)범위에서 임의의 정수 5개 생성 \n",
    "np.random.randint(1, 100, 5)"
   ]
  },
  {
   "cell_type": "code",
   "execution_count": 26,
   "metadata": {},
   "outputs": [
    {
     "data": {
      "text/plain": [
       "array([[16, 81,  2],\n",
       "       [44, 91, 90],\n",
       "       [83, 63, 65],\n",
       "       [70,  1, 44]])"
      ]
     },
     "execution_count": 26,
     "metadata": {},
     "output_type": "execute_result"
    }
   ],
   "source": [
    "# 임의의 정수 tensor 생성 \n",
    "np.random.randint(1, 100, size=(4, 3))"
   ]
  },
  {
   "cell_type": "code",
   "execution_count": 3,
   "metadata": {},
   "outputs": [
    {
     "data": {
      "text/plain": [
       "array([ 1.10474721,  1.80887913,  1.00511534,  1.05310932])"
      ]
     },
     "execution_count": 3,
     "metadata": {},
     "output_type": "execute_result"
    }
   ],
   "source": [
    "# 범위 지정을 원할 경우 uniform 함수 이용\n",
    "np.random.uniform(low=1.0, high=2.0, size=(4))"
   ]
  },
  {
   "cell_type": "code",
   "execution_count": 33,
   "metadata": {},
   "outputs": [
    {
     "data": {
      "text/plain": [
       "10"
      ]
     },
     "execution_count": 33,
     "metadata": {},
     "output_type": "execute_result"
    }
   ],
   "source": [
    "# 각 확률분포에 해당하는 함수가 존재\n",
    "np.random.binomial(10, 0.9)"
   ]
  },
  {
   "cell_type": "code",
   "execution_count": null,
   "metadata": {
    "collapsed": true
   },
   "outputs": [],
   "source": [
    "# choice함수를 이용하여 샘플링 가능\n",
    "np.random.choice(range(10), size=40, replace=True)"
   ]
  },
  {
   "cell_type": "markdown",
   "metadata": {},
   "source": [
    "* **연습문제)**\n",
    " 1. 20 - 30 사이의 임의의 정수 4개를 출력하시오(중복 허용)\n",
    " 2. 20 - 30 사이의 임의의 정수 4개를 출력하시오(중복 x)\n",
    " 3. 20 - 30 사이의 임의의 실수 4개를 출력하시오\n",
    " 4. 0.01 - 1 사이의 임의의 실수 4개를 출력하시오 "
   ]
  },
  {
   "cell_type": "code",
   "execution_count": 37,
   "metadata": {},
   "outputs": [
    {
     "data": {
      "text/plain": [
       "array([24, 22, 26, 24])"
      ]
     },
     "execution_count": 37,
     "metadata": {},
     "output_type": "execute_result"
    }
   ],
   "source": [
    "np.random.randint(20, 31, size=4)"
   ]
  },
  {
   "cell_type": "code",
   "execution_count": null,
   "metadata": {
    "collapsed": true
   },
   "outputs": [],
   "source": [
    "np.random.choice(np.arange(20, 31), size=4, replace=False)"
   ]
  },
  {
   "cell_type": "code",
   "execution_count": 38,
   "metadata": {},
   "outputs": [
    {
     "data": {
      "text/plain": [
       "array([ 25.2532129 ,  21.60046188,  27.03320933,  29.82822524])"
      ]
     },
     "execution_count": 38,
     "metadata": {},
     "output_type": "execute_result"
    }
   ],
   "source": [
    "np.random.uniform(20, 30, size=4)"
   ]
  },
  {
   "cell_type": "code",
   "execution_count": 39,
   "metadata": {},
   "outputs": [
    {
     "data": {
      "text/plain": [
       "array([ 0.32147507,  0.90917492,  0.35735965,  0.85600445])"
      ]
     },
     "execution_count": 39,
     "metadata": {},
     "output_type": "execute_result"
    }
   ],
   "source": [
    "np.random.uniform(0.01, 1, size=4)"
   ]
  },
  {
   "cell_type": "code",
   "execution_count": 40,
   "metadata": {},
   "outputs": [
    {
     "data": {
      "text/plain": [
       "array([ 0.20249784,  0.01190524,  0.10125435,  0.78079528])"
      ]
     },
     "execution_count": 40,
     "metadata": {},
     "output_type": "execute_result"
    }
   ],
   "source": [
    "n = np.random.uniform(0, 2, size=4)\n",
    "10 ** -n"
   ]
  },
  {
   "cell_type": "markdown",
   "metadata": {},
   "source": [
    "* ** seed ** \n",
    " - 실험, 분석 등을 할 때, 랜덤 값 생성 시, 해당 값을 추후에 또 사용해야 할 경우가 필요\n",
    " - 해당 경우에는 seed함수를 미리 호출하여 랜덤한 값을 동일 한 값으로 유지 할 수 있음\n",
    " - seed() 함수 호출 시, 정수를 전달"
   ]
  },
  {
   "cell_type": "code",
   "execution_count": 43,
   "metadata": {},
   "outputs": [
    {
     "name": "stdout",
     "output_type": "stream",
     "text": [
      "[[ 0.54340494  0.27836939  0.42451759]\n",
      " [ 0.84477613  0.00471886  0.12156912]]\n"
     ]
    }
   ],
   "source": [
    "np.random.seed(100)\n",
    "print(np.random.rand(2, 3))"
   ]
  },
  {
   "cell_type": "code",
   "execution_count": 52,
   "metadata": {},
   "outputs": [
    {
     "data": {
      "text/plain": [
       "array([71, 89, 89, 13, 59, 66, 40, 88, 47, 89])"
      ]
     },
     "execution_count": 52,
     "metadata": {},
     "output_type": "execute_result"
    }
   ],
   "source": [
    "np.random.randint(1, 101, 10)"
   ]
  },
  {
   "cell_type": "code",
   "execution_count": 56,
   "metadata": {},
   "outputs": [
    {
     "name": "stdout",
     "output_type": "stream",
     "text": [
      "0.5488135039273248\n",
      "0.43599490214200376\n"
     ]
    }
   ],
   "source": [
    "np.random.seed(0) # 랜덤한 값을 계속 유지하고 싶을 때 사용\n",
    "print(np.random.rand())\n",
    "\n",
    "np.random.seed(2) # 랜덤한 값을 계속 유지하고 싶을 때 사용\n",
    "print(np.random.rand())"
   ]
  },
  {
   "cell_type": "markdown",
   "metadata": {},
   "source": [
    "* **slicing**\n",
    " - 리스트, 문자열 slicing과 동일함\n",
    " - 단, ndarray의 차원이 높을 경우에는, 각 차원별로 slicing, indexing 가능"
   ]
  },
  {
   "cell_type": "code",
   "execution_count": 57,
   "metadata": {
    "collapsed": true
   },
   "outputs": [],
   "source": [
    "arr1 = np.array([1, 3, 4, 6])\n",
    "arr2 = np.array([[0, 1, 3], [2, 4, 6], [3, 7, 8]])"
   ]
  },
  {
   "cell_type": "code",
   "execution_count": 58,
   "metadata": {},
   "outputs": [
    {
     "name": "stdout",
     "output_type": "stream",
     "text": [
      "1\n",
      "[3 4]\n"
     ]
    }
   ],
   "source": [
    "print(arr1[0])\n",
    "print(arr1[1:-1])"
   ]
  },
  {
   "cell_type": "code",
   "execution_count": 59,
   "metadata": {},
   "outputs": [
    {
     "data": {
      "text/plain": [
       "array([[0, 1, 3],\n",
       "       [2, 4, 6],\n",
       "       [3, 7, 8]])"
      ]
     },
     "execution_count": 59,
     "metadata": {},
     "output_type": "execute_result"
    }
   ],
   "source": [
    "arr2"
   ]
  },
  {
   "cell_type": "code",
   "execution_count": 60,
   "metadata": {},
   "outputs": [
    {
     "name": "stdout",
     "output_type": "stream",
     "text": [
      "[2]\n",
      "2\n"
     ]
    }
   ],
   "source": [
    "print(arr2[1, :1])\n",
    "print(arr2[1, 0])"
   ]
  },
  {
   "cell_type": "code",
   "execution_count": 68,
   "metadata": {},
   "outputs": [
    {
     "data": {
      "text/plain": [
       "array([[0, 1, 3],\n",
       "       [2, 4, 6]])"
      ]
     },
     "execution_count": 68,
     "metadata": {},
     "output_type": "execute_result"
    }
   ],
   "source": [
    "arr2"
   ]
  },
  {
   "cell_type": "code",
   "execution_count": 69,
   "metadata": {},
   "outputs": [
    {
     "name": "stdout",
     "output_type": "stream",
     "text": [
      "[0 1 3]\n",
      "1\n",
      "[[2 4]]\n",
      "[3 6]\n",
      "[[1 3]\n",
      " [4 6]]\n"
     ]
    }
   ],
   "source": [
    "arr2 = np.array([[0, 1, 3], [2, 4, 6]])\n",
    "\n",
    "print(arr2[0])\n",
    "print(arr2[0, 1])\n",
    "print(arr2[1:, :2])\n",
    "print(arr2[:, 2])\n",
    "print(arr2[:, 1:])"
   ]
  },
  {
   "cell_type": "markdown",
   "metadata": {},
   "source": [
    "* **Boolean selection**\n",
    "  - bool 리스트로 해당 값이 True인 조건만 필터링"
   ]
  },
  {
   "cell_type": "code",
   "execution_count": 70,
   "metadata": {},
   "outputs": [
    {
     "name": "stdout",
     "output_type": "stream",
     "text": [
      "[False  True  True  True False  True  True False]\n"
     ]
    }
   ],
   "source": [
    "arr = np.array([1, 2, 4, 8, 9, 6, 12, 13])\n",
    "lst = [1, 2, 4, 8, 9, 6, 12, 13]\n",
    "\n",
    "print(arr % 2 == 0)"
   ]
  },
  {
   "cell_type": "code",
   "execution_count": 71,
   "metadata": {},
   "outputs": [
    {
     "name": "stdout",
     "output_type": "stream",
     "text": [
      "[ 2  4  8  6 12]\n",
      "[ 2  4  8  6 12]\n"
     ]
    }
   ],
   "source": [
    "even_mask = (arr % 2 == 0)\n",
    "print(arr[even_mask])\n",
    "\n",
    "print(arr[arr % 2 == 0])"
   ]
  },
  {
   "cell_type": "markdown",
   "metadata": {},
   "source": [
    "* multiple conditions\n",
    " - and, or, not 키워드 사용 불가\n",
    " - & - AND \n",
    " - | - OR "
   ]
  },
  {
   "cell_type": "code",
   "execution_count": 73,
   "metadata": {},
   "outputs": [
    {
     "data": {
      "text/plain": [
       "array([ 1,  2,  4,  8,  9, 12, 13])"
      ]
     },
     "execution_count": 73,
     "metadata": {},
     "output_type": "execute_result"
    }
   ],
   "source": [
    "arr[(arr > 7) | (arr <= 5)]"
   ]
  },
  {
   "cell_type": "code",
   "execution_count": 74,
   "metadata": {},
   "outputs": [
    {
     "data": {
      "text/plain": [
       "array([2, 4, 8, 6])"
      ]
     },
     "execution_count": 74,
     "metadata": {},
     "output_type": "execute_result"
    }
   ],
   "source": [
    "arr[(arr % 2 == 0) & (arr <= 8)]"
   ]
  },
  {
   "cell_type": "markdown",
   "metadata": {},
   "source": [
    "* **ndarray operations**\n",
    "  - scala와의 연산은 전체 원소에 대해 적용\n",
    "  - 다른 ndarray와의 연산은 element-wise로 적용"
   ]
  },
  {
   "cell_type": "code",
   "execution_count": 75,
   "metadata": {},
   "outputs": [
    {
     "name": "stdout",
     "output_type": "stream",
     "text": [
      "[ 5 10 15 20 25 30]\n"
     ]
    }
   ],
   "source": [
    "arr = np.arange(1, 7) * 5\n",
    "print(arr)"
   ]
  },
  {
   "cell_type": "code",
   "execution_count": 77,
   "metadata": {},
   "outputs": [
    {
     "name": "stdout",
     "output_type": "stream",
     "text": [
      "[   625  10000  50625 160000 390625 810000]\n",
      "[  25.  100.  225.  400.  625.  900.]\n"
     ]
    }
   ],
   "source": [
    "arr2 = arr ** 4\n",
    "print(arr2)\n",
    "print(arr2 ** 0.5)"
   ]
  },
  {
   "cell_type": "code",
   "execution_count": 80,
   "metadata": {},
   "outputs": [
    {
     "name": "stdout",
     "output_type": "stream",
     "text": [
      "[ 3  6  9 12 15 18 21 24 27 30] [ 1  2  3  4  5  6  7  8  9 10]\n",
      "[ 2  4  6  8 10 12 14 16 18 20]\n",
      "[  3  12  27  48  75 108 147 192 243 300]\n",
      "[  9  36  81 144 225 324 441 576 729 900]\n",
      "[  9  36  81 144 225 324 441 576 729 900]\n"
     ]
    }
   ],
   "source": [
    "arr1 = np.arange(0, 30, 3) + 3\n",
    "arr2 = np.arange(1, 11)\n",
    "print(arr1, arr2)\n",
    "\n",
    "print(arr1 - arr2)\n",
    "print(arr1 * arr2)\n",
    "print(arr1 * arr1)\n",
    "#print arr1 ^2 \n",
    "print(arr1 ** 2)"
   ]
  },
  {
   "cell_type": "code",
   "execution_count": 81,
   "metadata": {},
   "outputs": [
    {
     "name": "stdout",
     "output_type": "stream",
     "text": [
      "[[2 2]\n",
      " [2 2]]\n",
      "[[4 4]\n",
      " [4 4]]\n"
     ]
    }
   ],
   "source": [
    "arr1 = np.array([[1, 1], [1, 1]])\n",
    "arr2 = np.array([[2, 2], [2, 2]])\n",
    "\n",
    "print(arr1 * arr2)  # 원소끼리의 곱\n",
    "print(arr1.dot(arr2)) # 행렬 곱"
   ]
  },
  {
   "cell_type": "markdown",
   "metadata": {},
   "source": [
    "* **logical operator**\n",
    "  - all()\n",
    "    - 모든 원소가 조건을 만족 시키면 True, 아니면 False\n",
    "  - any()\n",
    "    - 어떤 원소라도 조건을 만족 시키면 True, 아니면 False"
   ]
  },
  {
   "cell_type": "code",
   "execution_count": 82,
   "metadata": {},
   "outputs": [
    {
     "name": "stdout",
     "output_type": "stream",
     "text": [
      "[[9 7 3 9]\n",
      " [8 3 2 6]\n",
      " [5 5 6 8]\n",
      " [4 7 5 4]]\n"
     ]
    }
   ],
   "source": [
    "arr = np.random.randint(1, 10, size = (4,4))\n",
    "print(arr)"
   ]
  },
  {
   "cell_type": "code",
   "execution_count": 83,
   "metadata": {},
   "outputs": [
    {
     "name": "stdout",
     "output_type": "stream",
     "text": [
      "False\n"
     ]
    }
   ],
   "source": [
    "print(np.all(arr < 7))"
   ]
  },
  {
   "cell_type": "code",
   "execution_count": 84,
   "metadata": {},
   "outputs": [
    {
     "name": "stdout",
     "output_type": "stream",
     "text": [
      "True\n"
     ]
    }
   ],
   "source": [
    "print(np.any(arr == 9))"
   ]
  },
  {
   "cell_type": "markdown",
   "metadata": {},
   "source": [
    "* **ravel**\n",
    "  - 다차원배열을 1차원으로 변경"
   ]
  },
  {
   "cell_type": "code",
   "execution_count": 85,
   "metadata": {},
   "outputs": [
    {
     "name": "stdout",
     "output_type": "stream",
     "text": [
      "[[ 1  2  3  4  5]\n",
      " [10 11 12 13 14]]\n"
     ]
    }
   ],
   "source": [
    "arr = np.array([np.arange(1, 6), np.arange(10, 15)])\n",
    "print(arr)"
   ]
  },
  {
   "cell_type": "code",
   "execution_count": 86,
   "metadata": {},
   "outputs": [
    {
     "name": "stdout",
     "output_type": "stream",
     "text": [
      "[ 1  2  3  4  5 10 11 12 13 14]\n"
     ]
    }
   ],
   "source": [
    "print(arr.ravel())"
   ]
  },
  {
   "cell_type": "markdown",
   "metadata": {},
   "source": [
    "* **flatten**\n",
    " - 다차원 배열을 1차원으로 변경\n",
    " - copy를 생성하여 변경함"
   ]
  },
  {
   "cell_type": "code",
   "execution_count": 87,
   "metadata": {},
   "outputs": [
    {
     "name": "stdout",
     "output_type": "stream",
     "text": [
      "[ 1  2  3  4  5 10 11 12 13 14]\n"
     ]
    }
   ],
   "source": [
    "print(arr.flatten())"
   ]
  },
  {
   "cell_type": "code",
   "execution_count": 89,
   "metadata": {},
   "outputs": [
    {
     "name": "stdout",
     "output_type": "stream",
     "text": [
      "[ 1 10  2 11  3 12  4 13  5 14]\n"
     ]
    }
   ],
   "source": [
    "print(arr.flatten('F')) # column을 우선으로 변경"
   ]
  },
  {
   "cell_type": "code",
   "execution_count": 90,
   "metadata": {},
   "outputs": [
    {
     "name": "stdout",
     "output_type": "stream",
     "text": [
      "[ 1  2  3  4  5 10 11 12 13 14]\n",
      "[60  2  3  4  5 10 11 12 13 14]\n",
      "[[60  2  3  4  5]\n",
      " [10 11 12 13 14]]\n"
     ]
    }
   ],
   "source": [
    "# ravel vs flatten\n",
    "f_arr = arr.flatten() # copy를 반환\n",
    "r_arr = arr.ravel() # 원본 ndarray와 메모리 공유\n",
    "\n",
    "r_arr[0] = 60\n",
    "\n",
    "print(f_arr)\n",
    "print(r_arr)\n",
    "print(arr)"
   ]
  },
  {
   "cell_type": "markdown",
   "metadata": {},
   "source": [
    "* **reshaping**\n",
    " - array의 shape을 재정렬\n",
    " - 이때, 서로의 전체 원소 개수가 맞아야 가능\n",
    " - 데이터 정제에 가장 많이 사용\n",
    "   e.g) 이미지의 경우, 2차원 픽셀로 표현되나, 이것을 ml library로 전달하기 위해 reshape하여 사용"
   ]
  },
  {
   "cell_type": "code",
   "execution_count": 107,
   "metadata": {},
   "outputs": [
    {
     "data": {
      "text/plain": [
       "array([[[ 0.,  0.,  0.,  0.],\n",
       "        [ 0.,  0.,  0.,  0.],\n",
       "        [ 0.,  0.,  0.,  0.],\n",
       "        [ 0.,  0.,  0.,  0.],\n",
       "        [ 0.,  0.,  0.,  0.],\n",
       "        [ 0.,  0.,  0.,  0.],\n",
       "        [ 0.,  0.,  0.,  0.],\n",
       "        [ 0.,  0.,  0.,  0.]],\n",
       "\n",
       "       [[ 0.,  0.,  0.,  0.],\n",
       "        [ 0.,  0.,  0.,  0.],\n",
       "        [ 0.,  0.,  0.,  0.],\n",
       "        [ 0.,  0.,  0.,  0.],\n",
       "        [ 0.,  0.,  0.,  0.],\n",
       "        [ 0.,  0.,  0.,  0.],\n",
       "        [ 0.,  0.,  0.,  0.],\n",
       "        [ 0.,  0.,  0.,  0.]]])"
      ]
     },
     "execution_count": 107,
     "metadata": {},
     "output_type": "execute_result"
    }
   ],
   "source": [
    "np.zeros(64).reshape(2, 8, 4, order='F')"
   ]
  },
  {
   "cell_type": "code",
   "execution_count": 101,
   "metadata": {},
   "outputs": [
    {
     "data": {
      "text/plain": [
       "array([[[ 1,  2],\n",
       "        [ 3,  4]],\n",
       "\n",
       "       [[ 5,  6],\n",
       "        [ 7,  8]],\n",
       "\n",
       "       [[ 9, 10],\n",
       "        [11, 12]],\n",
       "\n",
       "       [[13, 14],\n",
       "        [15, 16]]])"
      ]
     },
     "execution_count": 101,
     "metadata": {},
     "output_type": "execute_result"
    }
   ],
   "source": [
    "np.arange(1, 17).reshape(4, 2, 2)"
   ]
  },
  {
   "cell_type": "code",
   "execution_count": 108,
   "metadata": {},
   "outputs": [
    {
     "name": "stdout",
     "output_type": "stream",
     "text": [
      "[[[ 1  2]\n",
      "  [ 3  4]]\n",
      "\n",
      " [[ 5  6]\n",
      "  [ 7  8]]\n",
      "\n",
      " [[ 9 10]\n",
      "  [11 12]]\n",
      "\n",
      " [[13 14]\n",
      "  [15 16]]]\n",
      "[[1 2]\n",
      " [3 4]]\n",
      "Let's see the difference\n",
      "[[[ 1  9]\n",
      "  [ 5 13]]\n",
      "\n",
      " [[ 2 10]\n",
      "  [ 6 14]]\n",
      "\n",
      " [[ 3 11]\n",
      "  [ 7 15]]\n",
      "\n",
      " [[ 4 12]\n",
      "  [ 8 16]]]\n",
      "[[ 1  9]\n",
      " [ 5 13]]\n"
     ]
    }
   ],
   "source": [
    "import numpy as np\n",
    "np.arange(1, 17)\n",
    "a = np.arange(1, 17).reshape(4, 2, 2) \n",
    "# reshape 형태는 3차원, 행, 열 순서대로임. 즉, 4개의 layer, 2x2행렬 형태로 배열됨 \n",
    "# 단, 이 형태의 배열을 채울 때에는 열, 행, 3차원 순으로 채운다.\n",
    "print(a)\n",
    "print(a[0])\n",
    "print(\"Let's see the difference\")\n",
    "\n",
    "# 다음과 같이 order = 'F'라는 keyword parameter가 있을 경우\n",
    "# 4개의 layer, 2x2 행렬이란 형식은 동일하되 채우는 순서가 달라진다. \n",
    "# 순서는 layer, 행, 열 순서가 된다. \n",
    "b = np.arange(1, 17).reshape(4, 2, 2, order='F') \n",
    "print(b)\n",
    "print(b[0])"
   ]
  },
  {
   "cell_type": "code",
   "execution_count": 110,
   "metadata": {},
   "outputs": [
    {
     "name": "stdout",
     "output_type": "stream",
     "text": [
      "[ 1  2  3  4  5  6  7  8  9 10 11 12 13 14 15]\n",
      "[[ 1  2  3  4  5]\n",
      " [ 6  7  8  9 10]\n",
      " [11 12 13 14 15]]\n",
      "[ 1  2  3  4  5  6  7  8  9 10 11 12 13 14 15]\n"
     ]
    }
   ],
   "source": [
    "arr = np.arange(1, 16)\n",
    "print(arr)\n",
    "arr2 = arr.reshape(3, 5)\n",
    "print(arr2)\n",
    "print(arr)"
   ]
  },
  {
   "cell_type": "markdown",
   "metadata": {},
   "source": [
    "* **자주 쓰는 numpy 함수**"
   ]
  },
  {
   "cell_type": "code",
   "execution_count": 21,
   "metadata": {},
   "outputs": [
    {
     "name": "stdout",
     "output_type": "stream",
     "text": [
      "[ 1  2  3  4  5  6  7  8  9 10 11 12 13 14 15]\n",
      "1\n",
      "8.0\n",
      "8.0\n",
      "15\n",
      "[99  2  3  4  5  6  7  8  9 10 20 21 22 23 24]\n",
      "4.32049379894\n",
      "0\n",
      "14\n",
      "120\n",
      "[ 1.          1.41421356  1.73205081  2.          2.23606798  2.44948974\n",
      "  2.64575131  2.82842712  3.          3.16227766  3.31662479  3.46410162\n",
      "  3.60555128  3.74165739  3.87298335]\n"
     ]
    }
   ],
   "source": [
    "print(arr)\n",
    "print(np.min(arr)) #최소값\n",
    "print(np.mean(arr)) #평균\n",
    "print(np.median(arr)) #중앙값\n",
    "print(np.max(arr)) #최대값\n",
    "print(np.maximum(arr, np.array([99, 1, 2, 3, 4, 5, 6, 7, 8, 9, 20, 21, 22, 23, 24]))) \n",
    "# 2개의 배열이 있을 때 두 배열의 같은 인덱스의 크기를 비교, 큰 것을 자기 원소로 취함. 두 배열의 원소 갯수는 동일해야 함 \n",
    "print(np.std(arr)) #표준편차\n",
    "print(np.argmin(arr)) #최소값의 인덱스 반환\n",
    "print(np.argmax(arr)) #최대값의 인덱스 반환\n",
    "print(np.sum(arr)) #합계\n",
    "print(np.sqrt(arr)) #elementwise 계산(행렬의 원소에 모두 sqrt 취해서 행렬로 반환)"
   ]
  },
  {
   "cell_type": "markdown",
   "metadata": {},
   "source": [
    "* **axis**\n",
    " - 몇몇 함수에는 axis keyword 파라미터가 존재\n",
    " - axis값이 없는 경우에는 전체 데이터에 대해 적용\n",
    " - axis값이 있는 경우에는, 해당 axis를 **따라서** 연산 적용"
   ]
  },
  {
   "cell_type": "code",
   "execution_count": 113,
   "metadata": {},
   "outputs": [
    {
     "name": "stdout",
     "output_type": "stream",
     "text": [
      "21\n"
     ]
    }
   ],
   "source": [
    "arr2 = np.array([[1, 2, 3], [4, 5, 6]])\n",
    "print(np.sum(arr2)) #전체 행렬 원소들을 모두 더함. 스칼라 값 반환"
   ]
  },
  {
   "cell_type": "code",
   "execution_count": 116,
   "metadata": {},
   "outputs": [
    {
     "name": "stdout",
     "output_type": "stream",
     "text": [
      "6\n"
     ]
    }
   ],
   "source": [
    "# 1차원 적용\n",
    "arr2 = np.array([1, 2, 3])\n",
    "print(np.sum(arr2, axis=0))"
   ]
  },
  {
   "cell_type": "code",
   "execution_count": 117,
   "metadata": {},
   "outputs": [
    {
     "name": "stdout",
     "output_type": "stream",
     "text": [
      "[[1 2 3]\n",
      " [4 5 6]]\n"
     ]
    }
   ],
   "source": [
    "arr2 = np.array([[1, 2, 3], [4, 5, 6]])\n",
    "print(arr2)"
   ]
  },
  {
   "cell_type": "code",
   "execution_count": 118,
   "metadata": {},
   "outputs": [
    {
     "name": "stdout",
     "output_type": "stream",
     "text": [
      "[5 7 9]\n",
      "[ 6 15]\n"
     ]
    }
   ],
   "source": [
    "# 2차원 적용\n",
    "\n",
    "print(np.sum(arr2, axis=0))\n",
    "print(np.sum(arr2, axis=1))"
   ]
  },
  {
   "cell_type": "code",
   "execution_count": 123,
   "metadata": {},
   "outputs": [
    {
     "data": {
      "text/plain": [
       "array([[[1, 2, 3],\n",
       "        [4, 5, 6]],\n",
       "\n",
       "       [[1, 1, 1],\n",
       "        [2, 2, 2]]])"
      ]
     },
     "execution_count": 123,
     "metadata": {},
     "output_type": "execute_result"
    }
   ],
   "source": [
    "arr2"
   ]
  },
  {
   "cell_type": "code",
   "execution_count": 119,
   "metadata": {},
   "outputs": [
    {
     "name": "stdout",
     "output_type": "stream",
     "text": [
      "[[2 3 4]\n",
      " [6 7 8]]\n",
      "[[5 7 9]\n",
      " [3 3 3]]\n",
      "[[ 6 15]\n",
      " [ 3  6]]\n"
     ]
    }
   ],
   "source": [
    "# 3차원 적용\n",
    "arr2 = np.array([[[1, 2, 3], [4, 5, 6]], \n",
    "                 \n",
    "                 [[1, 1, 1], [2, 2, 2]]] )\n",
    "print(np.sum(arr2, axis=0))\n",
    "print(np.sum(arr2, axis=1))\n",
    "print(np.sum(arr2, axis=2))"
   ]
  },
  {
   "cell_type": "markdown",
   "metadata": {},
   "source": [
    " * **numpy broadcasting**\n",
    "  - 연산시, 차원이 맞지 않은 경우, 적은 차원의 ndarray를 상위 차원으로 broadcast하여 연산 진행"
   ]
  },
  {
   "cell_type": "code",
   "execution_count": 124,
   "metadata": {},
   "outputs": [
    {
     "data": {
      "text/plain": [
       "array([ 2,  4,  6,  8, 10, 12, 14, 16, 18, 20])"
      ]
     },
     "execution_count": 124,
     "metadata": {},
     "output_type": "execute_result"
    }
   ],
   "source": [
    "arr = np.arange(10)\n",
    "arr2 = np.arange(2, 12)\n",
    "arr3 = np.arange(10).reshape(2, 5)\n",
    "\n",
    "arr + arr2 # 기본적으로 element-wise 연산"
   ]
  },
  {
   "cell_type": "code",
   "execution_count": 127,
   "metadata": {},
   "outputs": [
    {
     "data": {
      "text/plain": [
       "array([ 1,  2,  3,  4,  5,  6,  7,  8,  9, 10])"
      ]
     },
     "execution_count": 127,
     "metadata": {},
     "output_type": "execute_result"
    }
   ],
   "source": [
    "arr + 1"
   ]
  },
  {
   "cell_type": "code",
   "execution_count": 128,
   "metadata": {},
   "outputs": [
    {
     "data": {
      "text/plain": [
       "array([  1,   2,   4,   8,  16,  32,  64, 128, 256, 512])"
      ]
     },
     "execution_count": 128,
     "metadata": {},
     "output_type": "execute_result"
    }
   ],
   "source": [
    "2 ** arr "
   ]
  },
  {
   "cell_type": "code",
   "execution_count": 129,
   "metadata": {},
   "outputs": [
    {
     "data": {
      "text/plain": [
       "array([ 0,  1,  4,  9, 16, 25, 36, 49, 64, 81])"
      ]
     },
     "execution_count": 129,
     "metadata": {},
     "output_type": "execute_result"
    }
   ],
   "source": [
    "arr ** 2"
   ]
  },
  {
   "cell_type": "code",
   "execution_count": 130,
   "metadata": {},
   "outputs": [
    {
     "data": {
      "text/plain": [
       "array([[0, 1, 2, 3, 4],\n",
       "       [5, 6, 7, 8, 9]])"
      ]
     },
     "execution_count": 130,
     "metadata": {},
     "output_type": "execute_result"
    }
   ],
   "source": [
    "arr3"
   ]
  },
  {
   "cell_type": "code",
   "execution_count": 131,
   "metadata": {},
   "outputs": [
    {
     "data": {
      "text/plain": [
       "array([1, 2, 3, 4, 5])"
      ]
     },
     "execution_count": 131,
     "metadata": {},
     "output_type": "execute_result"
    }
   ],
   "source": [
    "arr[1:6]"
   ]
  },
  {
   "cell_type": "code",
   "execution_count": 132,
   "metadata": {},
   "outputs": [
    {
     "data": {
      "text/plain": [
       "array([[ 1,  3,  5,  7,  9],\n",
       "       [ 6,  8, 10, 12, 14]])"
      ]
     },
     "execution_count": 132,
     "metadata": {},
     "output_type": "execute_result"
    }
   ],
   "source": [
    "arr3 + arr[1:6] \n",
    "\n",
    "#희한하다....\n",
    "#두 ndarray는 열의 갯수는 동일하나 행의 갯수는 다르다. \n",
    "#하지만 elementwise 연산이 된다.\n",
    "#arr3의 각 행에 arr이 elementwise로 더해진다."
   ]
  },
  {
   "cell_type": "code",
   "execution_count": 133,
   "metadata": {},
   "outputs": [
    {
     "data": {
      "text/plain": [
       "((2, 5), (5,))"
      ]
     },
     "execution_count": 133,
     "metadata": {},
     "output_type": "execute_result"
    }
   ],
   "source": [
    "arr3.shape, arr[1:6].shape"
   ]
  },
  {
   "cell_type": "code",
   "execution_count": 134,
   "metadata": {},
   "outputs": [
    {
     "data": {
      "text/plain": [
       "array([[ 3,  4,  5,  6,  7],\n",
       "       [ 8,  9, 10, 11, 12]])"
      ]
     },
     "execution_count": 134,
     "metadata": {},
     "output_type": "execute_result"
    }
   ],
   "source": [
    "arr3 + 3"
   ]
  },
  {
   "cell_type": "markdown",
   "metadata": {},
   "source": [
    "* **where 함수**\n",
    " - condition에 따라 x, y선별적으로 선택"
   ]
  },
  {
   "cell_type": "code",
   "execution_count": 135,
   "metadata": {},
   "outputs": [
    {
     "data": {
      "text/plain": [
       "(array([ 1,  2,  4,  9, 10]), array([0, 4, 9, 8, 7]))"
      ]
     },
     "execution_count": 135,
     "metadata": {},
     "output_type": "execute_result"
    }
   ],
   "source": [
    "a = np.array([1, 2, 4, 9, 10])\n",
    "b = np.array([0, 4, 9, 8, 7])\n",
    "a, b"
   ]
  },
  {
   "cell_type": "code",
   "execution_count": 138,
   "metadata": {},
   "outputs": [
    {
     "data": {
      "text/plain": [
       "(array([0, 1, 2]),)"
      ]
     },
     "execution_count": 138,
     "metadata": {},
     "output_type": "execute_result"
    }
   ],
   "source": [
    "# a에서 조건문이 참인 원소의 인덱스만 반환한다\n",
    "np.where(a<7)"
   ]
  },
  {
   "cell_type": "code",
   "execution_count": 139,
   "metadata": {},
   "outputs": [
    {
     "data": {
      "text/plain": [
       "array([ 0,  4,  9,  9, 10])"
      ]
     },
     "execution_count": 139,
     "metadata": {},
     "output_type": "execute_result"
    }
   ],
   "source": [
    "# 조건이 참이면 a, 거짓이면 b에서 선택\n",
    "np.where(a > 7, a, b) "
   ]
  },
  {
   "cell_type": "code",
   "execution_count": 140,
   "metadata": {},
   "outputs": [
    {
     "data": {
      "text/plain": [
       "array([ 1,  4,  4,  9, 10])"
      ]
     },
     "execution_count": 140,
     "metadata": {},
     "output_type": "execute_result"
    }
   ],
   "source": [
    "np.where([True, False, True, True, True], a, b)"
   ]
  },
  {
   "cell_type": "code",
   "execution_count": 46,
   "metadata": {},
   "outputs": [
    {
     "data": {
      "text/plain": [
       "array([ 1,  1,  1,  9, 10])"
      ]
     },
     "execution_count": 46,
     "metadata": {},
     "output_type": "execute_result"
    }
   ],
   "source": [
    "# 조건이 참이면 a, 거짓이면 1로 선택\n",
    "np.where(a > 7, a, 1)"
   ]
  },
  {
   "cell_type": "markdown",
   "metadata": {},
   "source": [
    "* **연습문제**\n",
    " 1. np.random.randn(5, 5)로 생성된 행렬에서 음수값을 0으로 변경하세요\n",
    " 2. numpy를 이용하여 Math.pi 값을 다시 구해봅시다.\n",
    " 3. python 기본 리스트 객체로 만든 두 행렬을 곱하는 코드를 작성하시오."
   ]
  },
  {
   "cell_type": "code",
   "execution_count": 141,
   "metadata": {},
   "outputs": [
    {
     "data": {
      "text/plain": [
       "(array([[  4.80084844e-01,   3.86990512e-01,   1.21046817e+00,\n",
       "          -2.01295447e-02,   1.03939477e-02],\n",
       "        [ -8.32837946e-01,  -1.16010577e-01,  -7.01627667e-01,\n",
       "          -1.38939342e+00,   4.90595560e-01],\n",
       "        [ -2.19436380e-01,  -3.08374437e-01,  -4.55714773e-01,\n",
       "          -2.12452767e+00,   5.49798242e-01],\n",
       "        [ -1.16790025e+00,   1.08006357e+00,  -3.49181430e+00,\n",
       "           1.27004848e+00,  -4.89214894e-01],\n",
       "        [ -1.17598956e+00,   2.78601388e-01,   9.99385255e-01,\n",
       "           2.14521176e-05,   8.06308075e-01]]),\n",
       " array([[  4.80084844e-01,   3.86990512e-01,   1.21046817e+00,\n",
       "           0.00000000e+00,   1.03939477e-02],\n",
       "        [  0.00000000e+00,   0.00000000e+00,   0.00000000e+00,\n",
       "           0.00000000e+00,   4.90595560e-01],\n",
       "        [  0.00000000e+00,   0.00000000e+00,   0.00000000e+00,\n",
       "           0.00000000e+00,   5.49798242e-01],\n",
       "        [  0.00000000e+00,   1.08006357e+00,   0.00000000e+00,\n",
       "           1.27004848e+00,   0.00000000e+00],\n",
       "        [  0.00000000e+00,   2.78601388e-01,   9.99385255e-01,\n",
       "           2.14521176e-05,   8.06308075e-01]]))"
      ]
     },
     "execution_count": 141,
     "metadata": {},
     "output_type": "execute_result"
    }
   ],
   "source": [
    "a = np.random.randn(5, 5)\n",
    "a, np.where(a > 0, a, 0)"
   ]
  },
  {
   "cell_type": "code",
   "execution_count": 144,
   "metadata": {
    "collapsed": true
   },
   "outputs": [],
   "source": [
    "# 몬테카를로 방식으로 원주율 구하기"
   ]
  },
  {
   "cell_type": "code",
   "execution_count": 152,
   "metadata": {
    "collapsed": true
   },
   "outputs": [],
   "source": [
    "total = int(1e7) #점찍기 시도 횟수 = 10**7번"
   ]
  },
  {
   "cell_type": "code",
   "execution_count": 156,
   "metadata": {},
   "outputs": [
    {
     "name": "stdout",
     "output_type": "stream",
     "text": [
      "[ 0.50545663  0.14725363  0.08517529 ...,  1.50271272  1.44838449\n",
      "  0.77880874]\n"
     ]
    },
    {
     "data": {
      "text/plain": [
       "3.1410692"
      ]
     },
     "execution_count": 156,
     "metadata": {},
     "output_type": "execute_result"
    }
   ],
   "source": [
    "# [0, 1)범위에서 uniform 분포로 10의7승 개의 포인트 (x, y)를 뽑는다. \n",
    "# elementwise 연산으로 원점에서 각 포인트까지의 거리제곱(x**2, y**2) 구해서 더한다.(x^2 + y^2) axis=1은 열방향 합\n",
    "point_sum = np.sum(np.random.rand(total, 2) ** 2, axis=1) \n",
    "print(point_sum)\n",
    "\n",
    "# 전체 points 중에서 (x^2 + y^2)의 결과가 1이하인 점들의 비율을 구한 결과는 (pi*1^2/4)/1*1이 된다. 분자에 4를 곱해주면 깔끔하게 pi만 남는다. \n",
    "4.0 * np.sum(point_sum <= 1) / total \n",
    "\n",
    "# 'point_sum <= 1'의 boolean 연산에 결과에 따라 point_sum과 같은 shape의 행렬이 True, False로 채워지고 이를 모두 합하면\n",
    "# True를 카운트한 것이 된다. "
   ]
  },
  {
   "cell_type": "code",
   "execution_count": 157,
   "metadata": {},
   "outputs": [
    {
     "data": {
      "text/plain": [
       "[[0, 0, 0, 0], [0, 0, 0, 0], [0, 0, 0, 0]]"
      ]
     },
     "execution_count": 157,
     "metadata": {},
     "output_type": "execute_result"
    }
   ],
   "source": [
    "[0] * 4\n",
    "[[0] * 4 for _ in range(3)]"
   ]
  },
  {
   "cell_type": "code",
   "execution_count": 158,
   "metadata": {},
   "outputs": [
    {
     "data": {
      "text/plain": [
       "[[11, 15], [8, 10]]"
      ]
     },
     "execution_count": 158,
     "metadata": {},
     "output_type": "execute_result"
    }
   ],
   "source": [
    "a = [[2, 3, 2], [1, 2, 2]]\n",
    "b = [[2, 2], [1, 3], [2, 1]]\n",
    "\n",
    "def mat_mult(a, b):\n",
    "    if len(a[0]) != len(b):\n",
    "        raise Exception(\"invalid operation\")\n",
    "    \n",
    "    m, n, l = len(a), len(a[0]), len(b[0])\n",
    "    rs = [[0] * l for _ in range(m)]\n",
    "    \n",
    "    for i in range(m):\n",
    "        for j in range(l):\n",
    "            for k in range(n):\n",
    "                rs[i][j] += a[i][k] * b[k][j]\n",
    "                \n",
    "    return rs\n",
    "\n",
    "mat_mult(a, b)\n",
    "        "
   ]
  },
  {
   "cell_type": "markdown",
   "metadata": {},
   "source": [
    "### **linear regression 실습**"
   ]
  },
  {
   "cell_type": "markdown",
   "metadata": {},
   "source": [
    "* **generate random data**\n",
    " - random package 활용하여 feature와 target 생성"
   ]
  },
  {
   "cell_type": "code",
   "execution_count": 159,
   "metadata": {},
   "outputs": [
    {
     "data": {
      "text/plain": [
       "((100,),\n",
       " array([-1.90200089, -2.04727601, -1.12192813, -0.5483439 ,  0.77965328,\n",
       "         1.14461648, -1.1172667 ,  1.92414397, -0.47597516, -0.62014   ,\n",
       "         1.59406138, -0.28784507, -0.17663756, -0.13112381, -0.01992527,\n",
       "        -0.60624478,  1.17731603, -0.22545277,  0.11474115, -1.63048895,\n",
       "        -0.06166202,  2.05089736,  0.27724287, -0.96505712,  0.63605798,\n",
       "        -1.0857787 ,  0.56847112,  0.71079363, -0.23500706,  0.61185671,\n",
       "         0.15736447, -1.32697422,  0.95575183,  0.28057463,  0.18395229,\n",
       "         1.93376261, -0.02029377,  1.30185884, -1.57834741, -0.10442268,\n",
       "        -0.19544444,  1.42572319, -0.34248646, -0.60875105,  1.9869184 ,\n",
       "         1.49159145, -1.06531719,  1.11607674,  0.21428601, -0.13660809,\n",
       "        -0.08700835,  0.92575215,  0.34320459,  0.28794815,  1.24776072,\n",
       "        -1.03758337,  0.03434955, -1.16060755, -0.13720246,  0.61492306,\n",
       "         1.27997929, -0.74751515, -0.68833924, -0.4200404 ,  1.13212777,\n",
       "         0.0975458 ,  0.14970127,  0.20249291, -0.37758202, -1.15897374,\n",
       "         0.11061717,  0.25966042,  1.3152216 ,  1.20911186, -2.06909576,\n",
       "        -0.57648477,  0.07626644,  0.95054455,  0.32180072, -0.58949137,\n",
       "        -1.3597191 ,  0.44621236, -0.26590204, -0.76417167,  0.91704478,\n",
       "         0.92101524,  1.25429307, -0.33343378,  0.01697598,  0.18390015,\n",
       "        -0.00347901, -0.64967125, -0.68789767, -0.47416368,  0.41419547,\n",
       "         0.69826376, -1.06088043, -1.83846029, -0.53483954, -1.59696013]))"
      ]
     },
     "execution_count": 159,
     "metadata": {},
     "output_type": "execute_result"
    }
   ],
   "source": [
    "x = np.random.randn(100)\n",
    "x.shape, x"
   ]
  },
  {
   "cell_type": "code",
   "execution_count": 160,
   "metadata": {},
   "outputs": [
    {
     "data": {
      "text/plain": [
       "((100,), array([ 24.74900244,  20.66847825,  25.52935494,  28.56269468,\n",
       "         31.48422731,  33.97724245,  25.53866112,  39.06086993,\n",
       "         29.01633875,  27.45576463,  36.1884425 ,  28.78945835,\n",
       "         27.80780966,  29.05270334,  28.46202196,  27.44684537,\n",
       "         33.6713524 ,  28.10462533,  30.14346398,  22.19674855,\n",
       "         31.77933754,  37.86691314,  31.39208696,  27.40501948,\n",
       "         30.74607439,  26.52659042,  32.74815991,  33.04401892,\n",
       "         29.36039874,  31.69062724,  31.34205599,  24.26497913,\n",
       "         34.21189262,  29.62729405,  32.88600784,  38.02154863,\n",
       "         28.74189642,  35.2345399 ,  22.63358547,  29.32522148,\n",
       "         30.63316753,  35.85619455,  29.83942002,  28.03392322,\n",
       "         38.54271061,  35.29599371,  25.82646624,  33.64379315,\n",
       "         30.92718839,  29.48104487,  29.54659341,  32.32164538,\n",
       "         32.86742735,  33.34360284,  35.45904276,  25.30544192,\n",
       "         29.40423791,  24.97730388,  28.71590483,  33.4333828 ,\n",
       "         35.9798382 ,  27.18892891,  26.81331252,  26.30712735,\n",
       "         33.45431877,  30.66401774,  30.67692262,  31.60246194,\n",
       "         29.39201146,  24.16490885,  31.3906569 ,  31.24298173,\n",
       "         32.72102818,  35.17989565,  21.00567617,  26.47371433,\n",
       "         30.93300145,  33.43437629,  33.03109092,  28.51767985,\n",
       "         25.93816365,  32.01770076,  27.05194099,  26.03841465,\n",
       "         33.78991088,  33.14388163,  35.47348495,  28.49350584,\n",
       "         29.75279545,  31.78000425,  30.87936743,  28.01560362,\n",
       "         26.74446471,  28.4241013 ,  31.63921031,  33.8124645 ,\n",
       "         24.13773661,  23.76582807,  28.5006734 ,  22.65028252]))"
      ]
     },
     "execution_count": 160,
     "metadata": {},
     "output_type": "execute_result"
    }
   ],
   "source": [
    "y = 4 * x + 30 + 1.1 * np.random.randn(100)\n",
    "y.shape, y"
   ]
  },
  {
   "cell_type": "markdown",
   "metadata": {},
   "source": [
    "* **plot data**\n",
    "  - matplotlib package \n",
    "  - %matplotlib inline - visualization 결과가 notebook 내에 포함 됨(이 명령이 없으면 별도의 창이 열리면서 새 창에 결과가 표시됨)"
   ]
  },
  {
   "cell_type": "code",
   "execution_count": 161,
   "metadata": {
    "collapsed": true
   },
   "outputs": [],
   "source": [
    "import matplotlib.pyplot as plt\n",
    "%matplotlib inline "
   ]
  },
  {
   "cell_type": "code",
   "execution_count": 162,
   "metadata": {},
   "outputs": [
    {
     "data": {
      "text/plain": [
       "<matplotlib.collections.PathCollection at 0x117731080>"
      ]
     },
     "execution_count": 162,
     "metadata": {},
     "output_type": "execute_result"
    },
    {
     "data": {
      "image/png": "[encoded data removed]",
      "text/plain": [
       "<matplotlib.figure.Figure at 0x117606198>"
      ]
     },
     "metadata": {},
     "output_type": "display_data"
    }
   ],
   "source": [
    "plt.scatter(x, y, c='r', marker='o') # c는 점의 색깔, marker는 점의 형상을 나타냄"
   ]
  },
  {
   "cell_type": "markdown",
   "metadata": {},
   "source": [
    "* **create a model**\n",
    " - 각 알고리즘을 수행하는 객체 생성 후, fit 함수를 이용하여 model training"
   ]
  },
  {
   "cell_type": "code",
   "execution_count": 163,
   "metadata": {
    "collapsed": true
   },
   "outputs": [],
   "source": [
    "x = x.reshape(100, 1)"
   ]
  },
  {
   "cell_type": "code",
   "execution_count": 164,
   "metadata": {},
   "outputs": [
    {
     "name": "stderr",
     "output_type": "stream",
     "text": [
      "/Users/beomyongnho/.pyenv/versions/3.6.1/envs/firstvenv/lib/python3.6/site-packages/scipy/linalg/basic.py:1018: RuntimeWarning: internal gelsd driver lwork query error, required iwork dimension not returned. This is likely the result of LAPACK bug 0038, fixed in LAPACK 3.2.2 (released July 21, 2010). Falling back to 'gelss' driver.\n",
      "  warnings.warn(mesg, RuntimeWarning)\n"
     ]
    },
    {
     "data": {
      "text/plain": [
       "LinearRegression(copy_X=True, fit_intercept=True, n_jobs=1, normalize=False)"
      ]
     },
     "execution_count": 164,
     "metadata": {},
     "output_type": "execute_result"
    }
   ],
   "source": [
    "from sklearn.linear_model import LinearRegression\n",
    "\n",
    "model = LinearRegression()\n",
    "model.fit(x, y)"
   ]
  },
  {
   "cell_type": "markdown",
   "metadata": {},
   "source": [
    "* **check coefficient, bias(intercept)**\n",
    " - coefficient와 bias값 확인"
   ]
  },
  {
   "cell_type": "code",
   "execution_count": 165,
   "metadata": {},
   "outputs": [
    {
     "data": {
      "text/plain": [
       "(array([ 4.01249869]), 29.992531448378955)"
      ]
     },
     "execution_count": 165,
     "metadata": {},
     "output_type": "execute_result"
    }
   ],
   "source": [
    "w = model.coef_\n",
    "b = model.intercept_\n",
    "\n",
    "w, b"
   ]
  },
  {
   "cell_type": "markdown",
   "metadata": {},
   "source": [
    "* **plot data with our model**"
   ]
  },
  {
   "cell_type": "code",
   "execution_count": 169,
   "metadata": {},
   "outputs": [
    {
     "data": {
      "text/plain": [
       "[<matplotlib.lines.Line2D at 0x1111db160>]"
      ]
     },
     "execution_count": 169,
     "metadata": {},
     "output_type": "execute_result"
    },
    {
     "data": {
      "image/png": "[encoded data removed]",
      "text/plain": [
       "<matplotlib.figure.Figure at 0x12d5b5a58>"
      ]
     },
     "metadata": {},
     "output_type": "display_data"
    }
   ],
   "source": [
    "plt.scatter(x, y, c='r', marker='o')\n",
    "plt.plot(x, w * x + b, 'g-')\n",
    "plt.plot(x, 4 * x + 30+1, 'b-') # 일부러 잘 보이게 해서 비교하려고 bias에 1을 더함 "
   ]
  },
  {
   "cell_type": "markdown",
   "metadata": {},
   "source": [
    "* **pandas**\n",
    "  - http://pandas.pydata.org/\n",
    "  - Opensource python 고성능 데이터 분석 라이브러리\n",
    "  - DataFrame, Series 객체가 가장 많이 사용\n",
    "  - ML library인 scikit-learn과 함께 ML 분석에 많이 사용 됨\n",
    "  - pip install pandas로 설치\n",
    "  - 관례적으로 pd 로 임포트"
   ]
  },
  {
   "cell_type": "code",
   "execution_count": 170,
   "metadata": {
    "collapsed": true
   },
   "outputs": [],
   "source": [
    "import numpy as np\n",
    "import pandas as pd"
   ]
  },
  {
   "cell_type": "markdown",
   "metadata": {},
   "source": [
    " * **Series**\n",
    "  - pandas의 기본 객체 중 하나\n",
    "  - numpy의 ndarray를 기반으로 인덱싱을 기능을 추가하여 1차원 배열을 나타냄\n",
    "  - index를 지정하지 않을 시, 기본적으로 ndarray와 같이 0-based 인덱스 생성\n",
    "  - 같은 타입의 0개 이상의 데이터를 가질 수 있음"
   ]
  },
  {
   "cell_type": "code",
   "execution_count": 172,
   "metadata": {},
   "outputs": [
    {
     "name": "stdout",
     "output_type": "stream",
     "text": [
      "0     1\n",
      "1     2\n",
      "2    20\n",
      "dtype: int64\n"
     ]
    }
   ],
   "source": [
    "s1 = pd.Series([1, 2, 20])\n",
    "print(s1)\n",
    "# 아래 출력 결과에서 첫 열의 0,1,2는 인덱스 번호"
   ]
  },
  {
   "cell_type": "code",
   "execution_count": 173,
   "metadata": {},
   "outputs": [
    {
     "name": "stdout",
     "output_type": "stream",
     "text": [
      "1\n"
     ]
    }
   ],
   "source": [
    "# indexing 가능\n",
    "print(s1[0])"
   ]
  },
  {
   "cell_type": "code",
   "execution_count": 174,
   "metadata": {},
   "outputs": [
    {
     "name": "stdout",
     "output_type": "stream",
     "text": [
      "0    1\n",
      "1    2\n",
      "2    3\n",
      "3    4\n",
      "4    5\n",
      "dtype: int64\n"
     ]
    }
   ],
   "source": [
    "s2 = pd.Series(list(range(1, 6)))\n",
    "print(s2)"
   ]
  },
  {
   "cell_type": "markdown",
   "metadata": {},
   "source": [
    " * **값 및 인덱스 접근**\n",
    "  - 각각 values, index 속성"
   ]
  },
  {
   "cell_type": "code",
   "execution_count": 175,
   "metadata": {},
   "outputs": [
    {
     "name": "stdout",
     "output_type": "stream",
     "text": [
      "[1 2 3 4 5]\n"
     ]
    }
   ],
   "source": [
    "print(s2.values)"
   ]
  },
  {
   "cell_type": "code",
   "execution_count": 176,
   "metadata": {},
   "outputs": [
    {
     "name": "stdout",
     "output_type": "stream",
     "text": [
      "RangeIndex(start=0, stop=5, step=1)\n"
     ]
    }
   ],
   "source": [
    "print(s2.index)"
   ]
  },
  {
   "cell_type": "markdown",
   "metadata": {},
   "source": [
    "* **index 지정하기**"
   ]
  },
  {
   "cell_type": "code",
   "execution_count": 178,
   "metadata": {},
   "outputs": [
    {
     "name": "stdout",
     "output_type": "stream",
     "text": [
      "a    1\n",
      "b    2\n",
      "c    3\n",
      "dtype: int64\n",
      "[1 2 3]\n",
      "Index(['a', 'b', 'c'], dtype='object')\n"
     ]
    }
   ],
   "source": [
    "s3 = pd.Series(list(range(1, 4)), \n",
    "               index = [chr(i) for i in range(97, 100)])\n",
    "print(s3)\n",
    "print(s3.values)\n",
    "print(s3.index)"
   ]
  },
  {
   "cell_type": "markdown",
   "metadata": {},
   "source": [
    "* ** chr, ord 함수**\n",
    " - chr : unicode point -> 문자\n",
    " - ord : 문자 -> unicode point"
   ]
  },
  {
   "cell_type": "code",
   "execution_count": 93,
   "metadata": {},
   "outputs": [
    {
     "data": {
      "text/plain": [
       "('a', 'A', '0')"
      ]
     },
     "execution_count": 93,
     "metadata": {},
     "output_type": "execute_result"
    }
   ],
   "source": [
    "chr(97), chr(65), chr(48)"
   ]
  },
  {
   "cell_type": "code",
   "execution_count": 179,
   "metadata": {
    "scrolled": true
   },
   "outputs": [
    {
     "data": {
      "text/plain": [
       "(97, 65, 48)"
      ]
     },
     "execution_count": 179,
     "metadata": {},
     "output_type": "execute_result"
    }
   ],
   "source": [
    "ord('a'), ord('A'), ord('0')"
   ]
  },
  {
   "cell_type": "code",
   "execution_count": 180,
   "metadata": {},
   "outputs": [
    {
     "data": {
      "text/plain": [
       "a    1\n",
       "b    2\n",
       "c    3\n",
       "dtype: int64"
      ]
     },
     "execution_count": 180,
     "metadata": {},
     "output_type": "execute_result"
    }
   ],
   "source": [
    "s3"
   ]
  },
  {
   "cell_type": "code",
   "execution_count": 95,
   "metadata": {},
   "outputs": [
    {
     "name": "stdout",
     "output_type": "stream",
     "text": [
      "2 2\n",
      "3\n"
     ]
    }
   ],
   "source": [
    "# 인덱스를 새로 지정한 경우, 기본 인덱스도 동시에 사용 가능\n",
    "# 단, 지정한 인덱스가 정수인 경우에는, 해당되지 않음\n",
    "print(s3[1], s3['b']) \n",
    "print(s3['c'])"
   ]
  },
  {
   "cell_type": "code",
   "execution_count": 181,
   "metadata": {},
   "outputs": [
    {
     "name": "stdout",
     "output_type": "stream",
     "text": [
      "1\n"
     ]
    }
   ],
   "source": [
    "s4 = pd.Series(range(1, 4), index=[100, 101, 102])\n",
    "\n",
    "print(s4[100])\n",
    "#print(s4[0]) #이미 정수로 인덱스를 지정했기 때문에 기본 인덱스로 호출할 경우 에러 발생함"
   ]
  },
  {
   "cell_type": "markdown",
   "metadata": {},
   "source": [
    "* **index가 없는 경우**"
   ]
  },
  {
   "cell_type": "code",
   "execution_count": 187,
   "metadata": {
    "collapsed": true
   },
   "outputs": [
    {
     "ename": "KeyError",
     "evalue": "'d'",
     "output_type": "error",
     "traceback": [
      "\u001b[0;31m---------------------------------------------------------------------------\u001b[0m",
      "\u001b[0;31mTypeError\u001b[0m                                 Traceback (most recent call last)",
      "\u001b[0;32m~/.pyenv/versions/3.6.1/envs/firstvenv/lib/python3.6/site-packages/pandas/core/indexes/base.py\u001b[0m in \u001b[0;36mget_value\u001b[0;34m(self, series, key)\u001b[0m\n\u001b[1;32m   2482\u001b[0m             \u001b[0;32mtry\u001b[0m\u001b[0;34m:\u001b[0m\u001b[0;34m\u001b[0m\u001b[0m\n\u001b[0;32m-> 2483\u001b[0;31m                 \u001b[0;32mreturn\u001b[0m \u001b[0mlibts\u001b[0m\u001b[0;34m.\u001b[0m\u001b[0mget_value_box\u001b[0m\u001b[0;34m(\u001b[0m\u001b[0ms\u001b[0m\u001b[0;34m,\u001b[0m \u001b[0mkey\u001b[0m\u001b[0;34m)\u001b[0m\u001b[0;34m\u001b[0m\u001b[0m\n\u001b[0m\u001b[1;32m   2484\u001b[0m             \u001b[0;32mexcept\u001b[0m \u001b[0mIndexError\u001b[0m\u001b[0;34m:\u001b[0m\u001b[0;34m\u001b[0m\u001b[0m\n",
      "\u001b[0;32mpandas/_libs/tslib.pyx\u001b[0m in \u001b[0;36mpandas._libs.tslib.get_value_box (pandas/_libs/tslib.c:18843)\u001b[0;34m()\u001b[0m\n",
      "\u001b[0;32mpandas/_libs/tslib.pyx\u001b[0m in \u001b[0;36mpandas._libs.tslib.get_value_box (pandas/_libs/tslib.c:18477)\u001b[0;34m()\u001b[0m\n",
      "\u001b[0;31mTypeError\u001b[0m: 'str' object cannot be interpreted as an integer",
      "\nDuring handling of the above exception, another exception occurred:\n",
      "\u001b[0;31mKeyError\u001b[0m                                  Traceback (most recent call last)",
      "\u001b[0;32m<ipython-input-187-308ba0c92a70>\u001b[0m in \u001b[0;36m<module>\u001b[0;34m()\u001b[0m\n\u001b[0;32m----> 1\u001b[0;31m \u001b[0mprint\u001b[0m\u001b[0;34m(\u001b[0m\u001b[0ms3\u001b[0m\u001b[0;34m[\u001b[0m\u001b[0;34m'd'\u001b[0m\u001b[0;34m]\u001b[0m\u001b[0;34m)\u001b[0m \u001b[0;31m#지정되지 않은 인덱스 호출 시 에러\u001b[0m\u001b[0;34m\u001b[0m\u001b[0m\n\u001b[0m\u001b[1;32m      2\u001b[0m \u001b[0mprint\u001b[0m\u001b[0;34m(\u001b[0m\u001b[0ms3\u001b[0m\u001b[0;34m[\u001b[0m\u001b[0;36m4\u001b[0m\u001b[0;34m]\u001b[0m\u001b[0;34m)\u001b[0m \u001b[0;31m#기본 인덱스 범위를 벗어난 호출을 해도 에러\u001b[0m\u001b[0;34m\u001b[0m\u001b[0m\n",
      "\u001b[0;32m~/.pyenv/versions/3.6.1/envs/firstvenv/lib/python3.6/site-packages/pandas/core/series.py\u001b[0m in \u001b[0;36m__getitem__\u001b[0;34m(self, key)\u001b[0m\n\u001b[1;32m    599\u001b[0m         \u001b[0mkey\u001b[0m \u001b[0;34m=\u001b[0m \u001b[0mcom\u001b[0m\u001b[0;34m.\u001b[0m\u001b[0m_apply_if_callable\u001b[0m\u001b[0;34m(\u001b[0m\u001b[0mkey\u001b[0m\u001b[0;34m,\u001b[0m \u001b[0mself\u001b[0m\u001b[0;34m)\u001b[0m\u001b[0;34m\u001b[0m\u001b[0m\n\u001b[1;32m    600\u001b[0m         \u001b[0;32mtry\u001b[0m\u001b[0;34m:\u001b[0m\u001b[0;34m\u001b[0m\u001b[0m\n\u001b[0;32m--> 601\u001b[0;31m             \u001b[0mresult\u001b[0m \u001b[0;34m=\u001b[0m \u001b[0mself\u001b[0m\u001b[0;34m.\u001b[0m\u001b[0mindex\u001b[0m\u001b[0;34m.\u001b[0m\u001b[0mget_value\u001b[0m\u001b[0;34m(\u001b[0m\u001b[0mself\u001b[0m\u001b[0;34m,\u001b[0m \u001b[0mkey\u001b[0m\u001b[0;34m)\u001b[0m\u001b[0;34m\u001b[0m\u001b[0m\n\u001b[0m\u001b[1;32m    602\u001b[0m \u001b[0;34m\u001b[0m\u001b[0m\n\u001b[1;32m    603\u001b[0m             \u001b[0;32mif\u001b[0m \u001b[0;32mnot\u001b[0m \u001b[0mis_scalar\u001b[0m\u001b[0;34m(\u001b[0m\u001b[0mresult\u001b[0m\u001b[0;34m)\u001b[0m\u001b[0;34m:\u001b[0m\u001b[0;34m\u001b[0m\u001b[0m\n",
      "\u001b[0;32m~/.pyenv/versions/3.6.1/envs/firstvenv/lib/python3.6/site-packages/pandas/core/indexes/base.py\u001b[0m in \u001b[0;36mget_value\u001b[0;34m(self, series, key)\u001b[0m\n\u001b[1;32m   2489\u001b[0m                     \u001b[0;32mraise\u001b[0m \u001b[0mInvalidIndexError\u001b[0m\u001b[0;34m(\u001b[0m\u001b[0mkey\u001b[0m\u001b[0;34m)\u001b[0m\u001b[0;34m\u001b[0m\u001b[0m\n\u001b[1;32m   2490\u001b[0m                 \u001b[0;32melse\u001b[0m\u001b[0;34m:\u001b[0m\u001b[0;34m\u001b[0m\u001b[0m\n\u001b[0;32m-> 2491\u001b[0;31m                     \u001b[0;32mraise\u001b[0m \u001b[0me1\u001b[0m\u001b[0;34m\u001b[0m\u001b[0m\n\u001b[0m\u001b[1;32m   2492\u001b[0m             \u001b[0;32mexcept\u001b[0m \u001b[0mException\u001b[0m\u001b[0;34m:\u001b[0m  \u001b[0;31m# pragma: no cover\u001b[0m\u001b[0;34m\u001b[0m\u001b[0m\n\u001b[1;32m   2493\u001b[0m                 \u001b[0;32mraise\u001b[0m \u001b[0me1\u001b[0m\u001b[0;34m\u001b[0m\u001b[0m\n",
      "\u001b[0;32m~/.pyenv/versions/3.6.1/envs/firstvenv/lib/python3.6/site-packages/pandas/core/indexes/base.py\u001b[0m in \u001b[0;36mget_value\u001b[0;34m(self, series, key)\u001b[0m\n\u001b[1;32m   2475\u001b[0m         \u001b[0;32mtry\u001b[0m\u001b[0;34m:\u001b[0m\u001b[0;34m\u001b[0m\u001b[0m\n\u001b[1;32m   2476\u001b[0m             return self._engine.get_value(s, k,\n\u001b[0;32m-> 2477\u001b[0;31m                                           tz=getattr(series.dtype, 'tz', None))\n\u001b[0m\u001b[1;32m   2478\u001b[0m         \u001b[0;32mexcept\u001b[0m \u001b[0mKeyError\u001b[0m \u001b[0;32mas\u001b[0m \u001b[0me1\u001b[0m\u001b[0;34m:\u001b[0m\u001b[0;34m\u001b[0m\u001b[0m\n\u001b[1;32m   2479\u001b[0m             \u001b[0;32mif\u001b[0m \u001b[0mlen\u001b[0m\u001b[0;34m(\u001b[0m\u001b[0mself\u001b[0m\u001b[0;34m)\u001b[0m \u001b[0;34m>\u001b[0m \u001b[0;36m0\u001b[0m \u001b[0;32mand\u001b[0m \u001b[0mself\u001b[0m\u001b[0;34m.\u001b[0m\u001b[0minferred_type\u001b[0m \u001b[0;32min\u001b[0m \u001b[0;34m[\u001b[0m\u001b[0;34m'integer'\u001b[0m\u001b[0;34m,\u001b[0m \u001b[0;34m'boolean'\u001b[0m\u001b[0;34m]\u001b[0m\u001b[0;34m:\u001b[0m\u001b[0;34m\u001b[0m\u001b[0m\n",
      "\u001b[0;32mpandas/_libs/index.pyx\u001b[0m in \u001b[0;36mpandas._libs.index.IndexEngine.get_value (pandas/_libs/index.c:4404)\u001b[0;34m()\u001b[0m\n",
      "\u001b[0;32mpandas/_libs/index.pyx\u001b[0m in \u001b[0;36mpandas._libs.index.IndexEngine.get_value (pandas/_libs/index.c:4087)\u001b[0;34m()\u001b[0m\n",
      "\u001b[0;32mpandas/_libs/index.pyx\u001b[0m in \u001b[0;36mpandas._libs.index.IndexEngine.get_loc (pandas/_libs/index.c:5126)\u001b[0;34m()\u001b[0m\n",
      "\u001b[0;32mpandas/_libs/hashtable_class_helper.pxi\u001b[0m in \u001b[0;36mpandas._libs.hashtable.PyObjectHashTable.get_item (pandas/_libs/hashtable.c:20523)\u001b[0;34m()\u001b[0m\n",
      "\u001b[0;32mpandas/_libs/hashtable_class_helper.pxi\u001b[0m in \u001b[0;36mpandas._libs.hashtable.PyObjectHashTable.get_item (pandas/_libs/hashtable.c:20477)\u001b[0;34m()\u001b[0m\n",
      "\u001b[0;31mKeyError\u001b[0m: 'd'"
     ]
    }
   ],
   "source": [
    "print(s3['d']) #지정되지 않은 인덱스 호출 시 에러\n",
    "print(s3[4]) #기본 인덱스 범위를 벗어난 호출을 해도 에러"
   ]
  },
  {
   "cell_type": "markdown",
   "metadata": {},
   "source": [
    "* **index 재사용**\n",
    " - 기존 series나 dataframe의 인덱스를 재사용 가능\n",
    " - .index 속성 이용"
   ]
  },
  {
   "cell_type": "code",
   "execution_count": 188,
   "metadata": {},
   "outputs": [
    {
     "name": "stdout",
     "output_type": "stream",
     "text": [
      "a    2\n",
      "b    2\n",
      "c    2\n",
      "dtype: int64\n"
     ]
    }
   ],
   "source": [
    "s4 = pd.Series(2, index = s3.index) #s3의 인덱스 갯수만큼 원소가 생성됨, 인덱스는 s3의 인덱스를 그대로 사용\n",
    "print(s4)"
   ]
  },
  {
   "cell_type": "code",
   "execution_count": 189,
   "metadata": {},
   "outputs": [
    {
     "name": "stdout",
     "output_type": "stream",
     "text": [
      "a    a\n",
      "b    a\n",
      "c    a\n",
      "dtype: object\n"
     ]
    }
   ],
   "source": [
    "a1 = pd.Series('a', index = s3.index)\n",
    "print(a1)"
   ]
  },
  {
   "cell_type": "code",
   "execution_count": 190,
   "metadata": {},
   "outputs": [
    {
     "name": "stdout",
     "output_type": "stream",
     "text": [
      "10    1.879769\n",
      "11   -0.062560\n",
      "12    0.771034\n",
      "13    1.093149\n",
      "14   -0.433412\n",
      "dtype: float64\n"
     ]
    }
   ],
   "source": [
    "s5 = pd.Series(np.random.randn(5), index=np.arange(10, 15))\n",
    "print(s5)"
   ]
  },
  {
   "cell_type": "code",
   "execution_count": 109,
   "metadata": {},
   "outputs": [
    {
     "name": "stdout",
     "output_type": "stream",
     "text": [
      "10    1\n",
      "11    2\n",
      "12    3\n",
      "13    4\n",
      "14    5\n",
      "dtype: int64\n"
     ]
    }
   ],
   "source": [
    "s6 = pd.Series(np.arange(1, 6), s5.index)\n",
    "print(s6)"
   ]
  },
  {
   "cell_type": "code",
   "execution_count": 111,
   "metadata": {},
   "outputs": [
    {
     "name": "stdout",
     "output_type": "stream",
     "text": [
      "a     100\n",
      "b    1000\n",
      "c       2\n",
      "d       6\n",
      "dtype: int64\n",
      "1000\n",
      "<class 'pandas.core.series.Series'>\n",
      "a    0\n",
      "b    1\n",
      "c    2\n",
      "d    3\n",
      "dtype: int64\n"
     ]
    }
   ],
   "source": [
    "s7 = pd.Series({'a' : 100, 'b' : 1000, 'c' : 2, 'd' : 6})\n",
    "print(s7)\n",
    "print(s7['b'])\n",
    "print(type(s7))\n",
    "s8 = pd.Series(np.arange(4), index=s7.index)\n",
    "print(s8)"
   ]
  },
  {
   "cell_type": "markdown",
   "metadata": {},
   "source": [
    "* **Series size, shape, unique, count, value_counts**\n",
    " - size : 개수 반환\n",
    " - shape : 튜플형태로 shape반환\n",
    " - unique: 유일한 값만 ndarray로 반환\n",
    " - count : NaN을 제외한 개수를 반환\n",
    " - value_counts: NaN을 제외하고 각 값들의 빈도를 반환 "
   ]
  },
  {
   "cell_type": "code",
   "execution_count": 205,
   "metadata": {},
   "outputs": [
    {
     "name": "stdout",
     "output_type": "stream",
     "text": [
      "0    0.0\n",
      "1    1.0\n",
      "2    1.0\n",
      "3    2.0\n",
      "4    3.0\n",
      "5    4.0\n",
      "6    5.0\n",
      "7    6.0\n",
      "8    7.0\n",
      "9    NaN\n",
      "dtype: float64\n"
     ]
    },
    {
     "data": {
      "text/plain": [
       "9"
      ]
     },
     "execution_count": 205,
     "metadata": {},
     "output_type": "execute_result"
    }
   ],
   "source": [
    "s = pd.Series([0, 1, 1, 2, 3, 4, 5, 6, 7, np.nan])\n",
    "print(s)"
   ]
  },
  {
   "cell_type": "code",
   "execution_count": 193,
   "metadata": {},
   "outputs": [
    {
     "name": "stdout",
     "output_type": "stream",
     "text": [
      "10\n"
     ]
    }
   ],
   "source": [
    "print(len(s))"
   ]
  },
  {
   "cell_type": "code",
   "execution_count": 194,
   "metadata": {},
   "outputs": [
    {
     "name": "stdout",
     "output_type": "stream",
     "text": [
      "10\n"
     ]
    }
   ],
   "source": [
    "print(s.size)"
   ]
  },
  {
   "cell_type": "code",
   "execution_count": 195,
   "metadata": {},
   "outputs": [
    {
     "name": "stdout",
     "output_type": "stream",
     "text": [
      "(10,)\n"
     ]
    }
   ],
   "source": [
    "print(s.shape)"
   ]
  },
  {
   "cell_type": "code",
   "execution_count": 196,
   "metadata": {},
   "outputs": [
    {
     "name": "stdout",
     "output_type": "stream",
     "text": [
      "9\n"
     ]
    }
   ],
   "source": [
    "print(s.count()) # NaN을 제외한 값들의 갯수를 카운팅"
   ]
  },
  {
   "cell_type": "code",
   "execution_count": 208,
   "metadata": {},
   "outputs": [
    {
     "name": "stdout",
     "output_type": "stream",
     "text": [
      "[  0.   1.   2.   3.   4.   5.   6.   7.  nan]\n"
     ]
    }
   ],
   "source": [
    "print(s.unique()) # 중복을 제거한 s의 원소를 보여줌. "
   ]
  },
  {
   "cell_type": "code",
   "execution_count": 209,
   "metadata": {},
   "outputs": [
    {
     "name": "stdout",
     "output_type": "stream",
     "text": [
      "[  0.  nan   2.   3.   9.]\n",
      "6\n",
      "0.0    3\n",
      "9.0    1\n",
      "3.0    1\n",
      "2.0    1\n",
      "dtype: int64\n"
     ]
    }
   ],
   "source": [
    "a2 = pd.Series([0, 0, 0, np.nan, np.nan, 2, 3, 9])\n",
    "print(a2.unique())\n",
    "print(a2.count()) # NaN 값만 제외할 뿐 나머지 값들은 중복원소들도 갯수대로 카운팅\n",
    "print(a2.value_counts())"
   ]
  },
  {
   "cell_type": "code",
   "execution_count": 201,
   "metadata": {},
   "outputs": [
    {
     "name": "stdout",
     "output_type": "stream",
     "text": [
      "1.0    2\n",
      "7.0    1\n",
      "6.0    1\n",
      "5.0    1\n",
      "4.0    1\n",
      "3.0    1\n",
      "2.0    1\n",
      "0.0    1\n",
      "dtype: int64\n"
     ]
    },
    {
     "data": {
      "text/plain": [
       "pandas.core.series.Series"
      ]
     },
     "execution_count": 201,
     "metadata": {},
     "output_type": "execute_result"
    }
   ],
   "source": [
    "print(s.value_counts()) # NaN 제외하고 s 각각의 value마다 중복갯수를 카운팅 함\n",
    "type(s.value_counts()) # value_counts의 타입 역시 pd.Series"
   ]
  },
  {
   "cell_type": "markdown",
   "metadata": {},
   "source": [
    "* **head, tail, take**\n",
    " - head : 상위 n개 출력 기본 5개\n",
    " - tail : 하위 n개 출력 기본 5개\n",
    " - take : 주어진 인덱스 리스트와 매칭되는 원소만 추출"
   ]
  },
  {
   "cell_type": "code",
   "execution_count": 210,
   "metadata": {},
   "outputs": [
    {
     "data": {
      "text/plain": [
       "0    0.0\n",
       "1    1.0\n",
       "2    1.0\n",
       "3    2.0\n",
       "4    3.0\n",
       "dtype: float64"
      ]
     },
     "execution_count": 210,
     "metadata": {},
     "output_type": "execute_result"
    }
   ],
   "source": [
    "s.head() # 상위 5개 출력"
   ]
  },
  {
   "cell_type": "code",
   "execution_count": 211,
   "metadata": {},
   "outputs": [
    {
     "data": {
      "text/plain": [
       "0    0.0\n",
       "1    1.0\n",
       "2    1.0\n",
       "dtype: float64"
      ]
     },
     "execution_count": 211,
     "metadata": {},
     "output_type": "execute_result"
    }
   ],
   "source": [
    "s.head(n = 3)"
   ]
  },
  {
   "cell_type": "code",
   "execution_count": 212,
   "metadata": {},
   "outputs": [
    {
     "data": {
      "text/plain": [
       "5    4.0\n",
       "6    5.0\n",
       "7    6.0\n",
       "8    7.0\n",
       "9    NaN\n",
       "dtype: float64"
      ]
     },
     "execution_count": 212,
     "metadata": {},
     "output_type": "execute_result"
    }
   ],
   "source": [
    "s.tail()"
   ]
  },
  {
   "cell_type": "code",
   "execution_count": 213,
   "metadata": {},
   "outputs": [
    {
     "data": {
      "text/plain": [
       "8    7.0\n",
       "9    NaN\n",
       "dtype: float64"
      ]
     },
     "execution_count": 213,
     "metadata": {},
     "output_type": "execute_result"
    }
   ],
   "source": [
    "s.tail(n = 2)"
   ]
  },
  {
   "cell_type": "code",
   "execution_count": 214,
   "metadata": {},
   "outputs": [
    {
     "name": "stdout",
     "output_type": "stream",
     "text": [
      "0    0.0\n",
      "1    1.0\n",
      "2    1.0\n",
      "3    2.0\n",
      "4    3.0\n",
      "5    4.0\n",
      "6    5.0\n",
      "7    6.0\n",
      "8    7.0\n",
      "9    NaN\n",
      "dtype: float64\n",
      "\n",
      "0    0.0\n",
      "4    3.0\n",
      "3    2.0\n",
      "9    NaN\n",
      "dtype: float64\n"
     ]
    }
   ],
   "source": [
    "print(s)\n",
    "print()\n",
    "print(s.take([0, 4, 3, 9]))"
   ]
  },
  {
   "cell_type": "code",
   "execution_count": 215,
   "metadata": {},
   "outputs": [
    {
     "data": {
      "text/plain": [
       "x    1\n",
       "z    3\n",
       "dtype: int64"
      ]
     },
     "execution_count": 215,
     "metadata": {},
     "output_type": "execute_result"
    }
   ],
   "source": [
    "import numpy as np\n",
    "import pandas as pd\n",
    "s = pd.Series(np.arange(1, 4), index = ['x', 'y', 'z'])\n",
    "s.take([0, 2])\n",
    "#s.take(['x', 'z']) #0 - based index만 가능 (에러 발생함)"
   ]
  },
  {
   "cell_type": "markdown",
   "metadata": {},
   "source": [
    " * **single value accessing**\n",
    "  - 인덱스를 이용하여 값 접근 가능\n",
    "  - 문자열 인덱스가 주어진 경우, 0-based index도 사용 가능\n",
    "  "
   ]
  },
  {
   "cell_type": "code",
   "execution_count": 216,
   "metadata": {},
   "outputs": [
    {
     "name": "stdout",
     "output_type": "stream",
     "text": [
      "1\n"
     ]
    }
   ],
   "source": [
    "print(s['x']) # 인덱스로 가능"
   ]
  },
  {
   "cell_type": "code",
   "execution_count": 218,
   "metadata": {},
   "outputs": [
    {
     "name": "stdout",
     "output_type": "stream",
     "text": [
      "1\n"
     ]
    }
   ],
   "source": [
    "print(s[0]) # 숫자 인덱스도 가능"
   ]
  },
  {
   "cell_type": "code",
   "execution_count": 219,
   "metadata": {},
   "outputs": [
    {
     "name": "stdout",
     "output_type": "stream",
     "text": [
      "1\n"
     ]
    }
   ],
   "source": [
    "s = pd.Series(np.arange(1, 4), index = [100, 101, 102])\n",
    "print(s[100])\n",
    "#print(s[0]) # 에러"
   ]
  },
  {
   "cell_type": "markdown",
   "metadata": {},
   "source": [
    "* **multiple values accessing**\n",
    " - 인덱스 리스트, ndarray로 여러 값에 접근 가능"
   ]
  },
  {
   "cell_type": "code",
   "execution_count": 135,
   "metadata": {},
   "outputs": [
    {
     "name": "stdout",
     "output_type": "stream",
     "text": [
      "1\n",
      "100    1\n",
      "102    3\n",
      "dtype: int64\n"
     ]
    }
   ],
   "source": [
    "print(s[100])\n",
    "print(s[[100, 102]])"
   ]
  },
  {
   "cell_type": "markdown",
   "metadata": {},
   "source": [
    "* **loc , iloc**\n",
    "  - loc[] : index로 값 접근\n",
    "  - iloc[] : 0 based index로 값 접근"
   ]
  },
  {
   "cell_type": "code",
   "execution_count": 222,
   "metadata": {},
   "outputs": [
    {
     "name": "stdout",
     "output_type": "stream",
     "text": [
      "100    1\n",
      "101    2\n",
      "102    3\n",
      "dtype: int64\n"
     ]
    }
   ],
   "source": [
    "print(s)"
   ]
  },
  {
   "cell_type": "code",
   "execution_count": 224,
   "metadata": {},
   "outputs": [
    {
     "name": "stdout",
     "output_type": "stream",
     "text": [
      "1\n"
     ]
    }
   ],
   "source": [
    "print(s.loc[100])"
   ]
  },
  {
   "cell_type": "code",
   "execution_count": 225,
   "metadata": {},
   "outputs": [
    {
     "name": "stdout",
     "output_type": "stream",
     "text": [
      "1\n"
     ]
    }
   ],
   "source": [
    "print(s.iloc[0])"
   ]
  },
  {
   "cell_type": "code",
   "execution_count": 226,
   "metadata": {},
   "outputs": [
    {
     "name": "stdout",
     "output_type": "stream",
     "text": [
      "100    1\n",
      "102    3\n",
      "dtype: int64\n"
     ]
    }
   ],
   "source": [
    "print(s.loc[[100, 102]])"
   ]
  },
  {
   "cell_type": "code",
   "execution_count": 227,
   "metadata": {},
   "outputs": [
    {
     "name": "stdout",
     "output_type": "stream",
     "text": [
      "100    1\n",
      "102    3\n",
      "dtype: int64\n"
     ]
    }
   ],
   "source": [
    "print(s.iloc[[0, 2]])"
   ]
  },
  {
   "cell_type": "markdown",
   "metadata": {},
   "source": [
    "* ** index값이 없는 경우**\n",
    " - loc : NaN으로 대체\n",
    " - iloc : 에러 발생"
   ]
  },
  {
   "cell_type": "code",
   "execution_count": 228,
   "metadata": {},
   "outputs": [
    {
     "data": {
      "text/plain": [
       "100    1.0\n",
       "102    3.0\n",
       "104    NaN\n",
       "105    NaN\n",
       "dtype: float64"
      ]
     },
     "execution_count": 228,
     "metadata": {},
     "output_type": "execute_result"
    }
   ],
   "source": [
    "s.loc[[100, 102, 104, 105]]"
   ]
  },
  {
   "cell_type": "code",
   "execution_count": 142,
   "metadata": {
    "collapsed": true
   },
   "outputs": [
    {
     "ename": "IndexError",
     "evalue": "positional indexers are out-of-bounds",
     "output_type": "error",
     "traceback": [
      "\u001b[0;31m---------------------------------------------------------------------------\u001b[0m",
      "\u001b[0;31mIndexError\u001b[0m                                Traceback (most recent call last)",
      "\u001b[0;32m~/.pyenv/versions/3.6.1/envs/firstvenv/lib/python3.6/site-packages/pandas/core/indexing.py\u001b[0m in \u001b[0;36m_get_list_axis\u001b[0;34m(self, key, axis)\u001b[0m\n\u001b[1;32m   1714\u001b[0m         \u001b[0;32mtry\u001b[0m\u001b[0;34m:\u001b[0m\u001b[0;34m\u001b[0m\u001b[0m\n\u001b[0;32m-> 1715\u001b[0;31m             \u001b[0;32mreturn\u001b[0m \u001b[0mself\u001b[0m\u001b[0;34m.\u001b[0m\u001b[0mobj\u001b[0m\u001b[0;34m.\u001b[0m\u001b[0mtake\u001b[0m\u001b[0;34m(\u001b[0m\u001b[0mkey\u001b[0m\u001b[0;34m,\u001b[0m \u001b[0maxis\u001b[0m\u001b[0;34m=\u001b[0m\u001b[0maxis\u001b[0m\u001b[0;34m,\u001b[0m \u001b[0mconvert\u001b[0m\u001b[0;34m=\u001b[0m\u001b[0;32mFalse\u001b[0m\u001b[0;34m)\u001b[0m\u001b[0;34m\u001b[0m\u001b[0m\n\u001b[0m\u001b[1;32m   1716\u001b[0m         \u001b[0;32mexcept\u001b[0m \u001b[0mIndexError\u001b[0m\u001b[0;34m:\u001b[0m\u001b[0;34m\u001b[0m\u001b[0m\n",
      "\u001b[0;32m~/.pyenv/versions/3.6.1/envs/firstvenv/lib/python3.6/site-packages/pandas/core/series.py\u001b[0m in \u001b[0;36mtake\u001b[0;34m(self, indices, axis, convert, is_copy, **kwargs)\u001b[0m\n\u001b[1;32m   2499\u001b[0m         \u001b[0mindices\u001b[0m \u001b[0;34m=\u001b[0m \u001b[0m_ensure_platform_int\u001b[0m\u001b[0;34m(\u001b[0m\u001b[0mindices\u001b[0m\u001b[0;34m)\u001b[0m\u001b[0;34m\u001b[0m\u001b[0m\n\u001b[0;32m-> 2500\u001b[0;31m         \u001b[0mnew_index\u001b[0m \u001b[0;34m=\u001b[0m \u001b[0mself\u001b[0m\u001b[0;34m.\u001b[0m\u001b[0mindex\u001b[0m\u001b[0;34m.\u001b[0m\u001b[0mtake\u001b[0m\u001b[0;34m(\u001b[0m\u001b[0mindices\u001b[0m\u001b[0;34m)\u001b[0m\u001b[0;34m\u001b[0m\u001b[0m\n\u001b[0m\u001b[1;32m   2501\u001b[0m         \u001b[0mnew_values\u001b[0m \u001b[0;34m=\u001b[0m \u001b[0mself\u001b[0m\u001b[0;34m.\u001b[0m\u001b[0m_values\u001b[0m\u001b[0;34m.\u001b[0m\u001b[0mtake\u001b[0m\u001b[0;34m(\u001b[0m\u001b[0mindices\u001b[0m\u001b[0;34m)\u001b[0m\u001b[0;34m\u001b[0m\u001b[0m\n",
      "\u001b[0;32m~/.pyenv/versions/3.6.1/envs/firstvenv/lib/python3.6/site-packages/pandas/core/indexes/base.py\u001b[0m in \u001b[0;36mtake\u001b[0;34m(self, indices, axis, allow_fill, fill_value, **kwargs)\u001b[0m\n\u001b[1;32m   1786\u001b[0m                 \u001b[0;32mraise\u001b[0m \u001b[0mValueError\u001b[0m\u001b[0;34m(\u001b[0m\u001b[0mmsg\u001b[0m\u001b[0;34m.\u001b[0m\u001b[0mformat\u001b[0m\u001b[0;34m(\u001b[0m\u001b[0mself\u001b[0m\u001b[0;34m.\u001b[0m\u001b[0m__class__\u001b[0m\u001b[0;34m.\u001b[0m\u001b[0m__name__\u001b[0m\u001b[0;34m)\u001b[0m\u001b[0;34m)\u001b[0m\u001b[0;34m\u001b[0m\u001b[0m\n\u001b[0;32m-> 1787\u001b[0;31m             \u001b[0mtaken\u001b[0m \u001b[0;34m=\u001b[0m \u001b[0mself\u001b[0m\u001b[0;34m.\u001b[0m\u001b[0mvalues\u001b[0m\u001b[0;34m.\u001b[0m\u001b[0mtake\u001b[0m\u001b[0;34m(\u001b[0m\u001b[0mindices\u001b[0m\u001b[0;34m)\u001b[0m\u001b[0;34m\u001b[0m\u001b[0m\n\u001b[0m\u001b[1;32m   1788\u001b[0m         \u001b[0;32mreturn\u001b[0m \u001b[0mself\u001b[0m\u001b[0;34m.\u001b[0m\u001b[0m_shallow_copy\u001b[0m\u001b[0;34m(\u001b[0m\u001b[0mtaken\u001b[0m\u001b[0;34m)\u001b[0m\u001b[0;34m\u001b[0m\u001b[0m\n",
      "\u001b[0;31mIndexError\u001b[0m: index 4 is out of bounds for size 3",
      "\nDuring handling of the above exception, another exception occurred:\n",
      "\u001b[0;31mIndexError\u001b[0m                                Traceback (most recent call last)",
      "\u001b[0;32m<ipython-input-142-6f2b43481125>\u001b[0m in \u001b[0;36m<module>\u001b[0;34m()\u001b[0m\n\u001b[1;32m      1\u001b[0m \u001b[0;31m# 에러 발생\u001b[0m\u001b[0;34m\u001b[0m\u001b[0;34m\u001b[0m\u001b[0m\n\u001b[1;32m      2\u001b[0m \u001b[0;31m# 인덱스 4가 없기 때문\u001b[0m\u001b[0;34m\u001b[0m\u001b[0;34m\u001b[0m\u001b[0m\n\u001b[0;32m----> 3\u001b[0;31m \u001b[0ms\u001b[0m\u001b[0;34m.\u001b[0m\u001b[0miloc\u001b[0m\u001b[0;34m[\u001b[0m\u001b[0;34m[\u001b[0m\u001b[0;36m0\u001b[0m\u001b[0;34m,\u001b[0m \u001b[0;36m2\u001b[0m\u001b[0;34m,\u001b[0m \u001b[0;36m1\u001b[0m\u001b[0;34m,\u001b[0m \u001b[0;36m4\u001b[0m\u001b[0;34m]\u001b[0m\u001b[0;34m]\u001b[0m\u001b[0;34m\u001b[0m\u001b[0m\n\u001b[0m",
      "\u001b[0;32m~/.pyenv/versions/3.6.1/envs/firstvenv/lib/python3.6/site-packages/pandas/core/indexing.py\u001b[0m in \u001b[0;36m__getitem__\u001b[0;34m(self, key)\u001b[0m\n\u001b[1;32m   1326\u001b[0m         \u001b[0;32melse\u001b[0m\u001b[0;34m:\u001b[0m\u001b[0;34m\u001b[0m\u001b[0m\n\u001b[1;32m   1327\u001b[0m             \u001b[0mkey\u001b[0m \u001b[0;34m=\u001b[0m \u001b[0mcom\u001b[0m\u001b[0;34m.\u001b[0m\u001b[0m_apply_if_callable\u001b[0m\u001b[0;34m(\u001b[0m\u001b[0mkey\u001b[0m\u001b[0;34m,\u001b[0m \u001b[0mself\u001b[0m\u001b[0;34m.\u001b[0m\u001b[0mobj\u001b[0m\u001b[0;34m)\u001b[0m\u001b[0;34m\u001b[0m\u001b[0m\n\u001b[0;32m-> 1328\u001b[0;31m             \u001b[0;32mreturn\u001b[0m \u001b[0mself\u001b[0m\u001b[0;34m.\u001b[0m\u001b[0m_getitem_axis\u001b[0m\u001b[0;34m(\u001b[0m\u001b[0mkey\u001b[0m\u001b[0;34m,\u001b[0m \u001b[0maxis\u001b[0m\u001b[0;34m=\u001b[0m\u001b[0;36m0\u001b[0m\u001b[0;34m)\u001b[0m\u001b[0;34m\u001b[0m\u001b[0m\n\u001b[0m\u001b[1;32m   1329\u001b[0m \u001b[0;34m\u001b[0m\u001b[0m\n\u001b[1;32m   1330\u001b[0m     \u001b[0;32mdef\u001b[0m \u001b[0m_is_scalar_access\u001b[0m\u001b[0;34m(\u001b[0m\u001b[0mself\u001b[0m\u001b[0;34m,\u001b[0m \u001b[0mkey\u001b[0m\u001b[0;34m)\u001b[0m\u001b[0;34m:\u001b[0m\u001b[0;34m\u001b[0m\u001b[0m\n",
      "\u001b[0;32m~/.pyenv/versions/3.6.1/envs/firstvenv/lib/python3.6/site-packages/pandas/core/indexing.py\u001b[0m in \u001b[0;36m_getitem_axis\u001b[0;34m(self, key, axis)\u001b[0m\n\u001b[1;32m   1736\u001b[0m         \u001b[0;31m# a list of integers\u001b[0m\u001b[0;34m\u001b[0m\u001b[0;34m\u001b[0m\u001b[0m\n\u001b[1;32m   1737\u001b[0m         \u001b[0;32melif\u001b[0m \u001b[0mis_list_like_indexer\u001b[0m\u001b[0;34m(\u001b[0m\u001b[0mkey\u001b[0m\u001b[0;34m)\u001b[0m\u001b[0;34m:\u001b[0m\u001b[0;34m\u001b[0m\u001b[0m\n\u001b[0;32m-> 1738\u001b[0;31m             \u001b[0;32mreturn\u001b[0m \u001b[0mself\u001b[0m\u001b[0;34m.\u001b[0m\u001b[0m_get_list_axis\u001b[0m\u001b[0;34m(\u001b[0m\u001b[0mkey\u001b[0m\u001b[0;34m,\u001b[0m \u001b[0maxis\u001b[0m\u001b[0;34m=\u001b[0m\u001b[0maxis\u001b[0m\u001b[0;34m)\u001b[0m\u001b[0;34m\u001b[0m\u001b[0m\n\u001b[0m\u001b[1;32m   1739\u001b[0m \u001b[0;34m\u001b[0m\u001b[0m\n\u001b[1;32m   1740\u001b[0m         \u001b[0;31m# a single integer\u001b[0m\u001b[0;34m\u001b[0m\u001b[0;34m\u001b[0m\u001b[0m\n",
      "\u001b[0;32m~/.pyenv/versions/3.6.1/envs/firstvenv/lib/python3.6/site-packages/pandas/core/indexing.py\u001b[0m in \u001b[0;36m_get_list_axis\u001b[0;34m(self, key, axis)\u001b[0m\n\u001b[1;32m   1716\u001b[0m         \u001b[0;32mexcept\u001b[0m \u001b[0mIndexError\u001b[0m\u001b[0;34m:\u001b[0m\u001b[0;34m\u001b[0m\u001b[0m\n\u001b[1;32m   1717\u001b[0m             \u001b[0;31m# re-raise with different error message\u001b[0m\u001b[0;34m\u001b[0m\u001b[0;34m\u001b[0m\u001b[0m\n\u001b[0;32m-> 1718\u001b[0;31m             \u001b[0;32mraise\u001b[0m \u001b[0mIndexError\u001b[0m\u001b[0;34m(\u001b[0m\u001b[0;34m\"positional indexers are out-of-bounds\"\u001b[0m\u001b[0;34m)\u001b[0m\u001b[0;34m\u001b[0m\u001b[0m\n\u001b[0m\u001b[1;32m   1719\u001b[0m \u001b[0;34m\u001b[0m\u001b[0m\n\u001b[1;32m   1720\u001b[0m     \u001b[0;32mdef\u001b[0m \u001b[0m_getitem_axis\u001b[0m\u001b[0;34m(\u001b[0m\u001b[0mself\u001b[0m\u001b[0;34m,\u001b[0m \u001b[0mkey\u001b[0m\u001b[0;34m,\u001b[0m \u001b[0maxis\u001b[0m\u001b[0;34m=\u001b[0m\u001b[0;36m0\u001b[0m\u001b[0;34m)\u001b[0m\u001b[0;34m:\u001b[0m\u001b[0;34m\u001b[0m\u001b[0m\n",
      "\u001b[0;31mIndexError\u001b[0m: positional indexers are out-of-bounds"
     ]
    }
   ],
   "source": [
    "# 에러 발생\n",
    "# 인덱스 4가 없기 때문\n",
    "s.iloc[[0, 2, 1, 4]] "
   ]
  },
  {
   "cell_type": "markdown",
   "metadata": {},
   "source": [
    "* **index를 기준으로 더하기**"
   ]
  },
  {
   "cell_type": "code",
   "execution_count": 231,
   "metadata": {},
   "outputs": [
    {
     "name": "stdout",
     "output_type": "stream",
     "text": [
      "a    1\n",
      "b    2\n",
      "c    3\n",
      "d    4\n",
      "dtype: int64\n"
     ]
    }
   ],
   "source": [
    "s1 = pd.Series([1, 2, 3, 4], index=['a', 'b', 'c', 'd'])\n",
    "print(s1)"
   ]
  },
  {
   "cell_type": "code",
   "execution_count": 232,
   "metadata": {},
   "outputs": [
    {
     "data": {
      "text/plain": [
       "d    4\n",
       "c    3\n",
       "b    2\n",
       "a    1\n",
       "dtype: int64"
      ]
     },
     "execution_count": 232,
     "metadata": {},
     "output_type": "execute_result"
    }
   ],
   "source": [
    "s2 = pd.Series([4, 3, 2, 1], index=['d', 'c', 'b', 'a'])\n",
    "s2"
   ]
  },
  {
   "cell_type": "code",
   "execution_count": 233,
   "metadata": {},
   "outputs": [
    {
     "data": {
      "text/plain": [
       "d    4\n",
       "c    3\n",
       "b    2\n",
       "a    1\n",
       "dtype: int64"
      ]
     },
     "execution_count": 233,
     "metadata": {},
     "output_type": "execute_result"
    }
   ],
   "source": [
    "s2.iloc[[0, 1, 2, 3]]"
   ]
  },
  {
   "cell_type": "code",
   "execution_count": 234,
   "metadata": {},
   "outputs": [
    {
     "name": "stdout",
     "output_type": "stream",
     "text": [
      "a    2\n",
      "b    4\n",
      "c    6\n",
      "d    8\n",
      "dtype: int64\n"
     ]
    }
   ],
   "source": [
    "print(s1 + s2) #같은 지정 인덱스끼리 더함. "
   ]
  },
  {
   "cell_type": "markdown",
   "metadata": {},
   "source": [
    "* numpy와 비교\n",
    " - index 지정이 불가한 numpy는 0-based index로 연산"
   ]
  },
  {
   "cell_type": "code",
   "execution_count": 236,
   "metadata": {},
   "outputs": [
    {
     "data": {
      "text/plain": [
       "array([5, 5, 5, 5])"
      ]
     },
     "execution_count": 236,
     "metadata": {},
     "output_type": "execute_result"
    }
   ],
   "source": [
    "a1 = np.array([1, 2, 3, 4])\n",
    "a2 = np.array([4, 3, 2, 1])\n",
    "a1 + a2"
   ]
  },
  {
   "cell_type": "markdown",
   "metadata": {},
   "source": [
    "* **산술연산**\n",
    " - Series의 경우에도 스칼라와의 연산은 각 원소별로 스칼라와의 연산이 적용\n",
    " - Series와의 연산은 각 인덱스에 맞는 값끼리 연산이 적용\n",
    "   - 이때, 인덱스의 pair가 맞지 않으면, 결과는 NaN "
   ]
  },
  {
   "cell_type": "code",
   "execution_count": 237,
   "metadata": {},
   "outputs": [
    {
     "name": "stdout",
     "output_type": "stream",
     "text": [
      "a    1\n",
      "b    2\n",
      "c    3\n",
      "d    4\n",
      "dtype: int64\n"
     ]
    }
   ],
   "source": [
    "print(s1)"
   ]
  },
  {
   "cell_type": "code",
   "execution_count": 238,
   "metadata": {},
   "outputs": [
    {
     "name": "stdout",
     "output_type": "stream",
     "text": [
      "a     1\n",
      "b     4\n",
      "c     9\n",
      "d    16\n",
      "dtype: int64\n"
     ]
    }
   ],
   "source": [
    "print(s1 ** 2)"
   ]
  },
  {
   "cell_type": "code",
   "execution_count": 244,
   "metadata": {},
   "outputs": [
    {
     "data": {
      "text/plain": [
       "a    1\n",
       "b    2\n",
       "c    3\n",
       "d    4\n",
       "dtype: int64"
      ]
     },
     "execution_count": 244,
     "metadata": {},
     "output_type": "execute_result"
    }
   ],
   "source": [
    "s1"
   ]
  },
  {
   "cell_type": "code",
   "execution_count": 245,
   "metadata": {},
   "outputs": [
    {
     "name": "stdout",
     "output_type": "stream",
     "text": [
      "d    2\n",
      "c    2\n",
      "b    2\n",
      "a    2\n",
      "dtype: int64\n",
      "a     1\n",
      "b     4\n",
      "c     9\n",
      "d    16\n",
      "dtype: int64\n"
     ]
    }
   ],
   "source": [
    "exp = pd.Series(2, s2.index)\n",
    "print(exp)\n",
    "print(s1 ** exp)"
   ]
  },
  {
   "cell_type": "markdown",
   "metadata": {},
   "source": [
    "* **index pair가 안맞는 경우**\n",
    " - 해당 index에 대해선 NaN 값 생성"
   ]
  },
  {
   "cell_type": "code",
   "execution_count": 246,
   "metadata": {},
   "outputs": [
    {
     "name": "stdout",
     "output_type": "stream",
     "text": [
      "a     NaN\n",
      "b     8.0\n",
      "c    10.0\n",
      "d    14.0\n",
      "e     NaN\n",
      "dtype: float64\n"
     ]
    }
   ],
   "source": [
    "s1 = pd.Series({'a': 1, 'b': 2, 'c': 3, 'd': 5})\n",
    "s2 = pd.Series({'b': 6, 'c': 7, 'd': 9, 'e': 10})\n",
    "\n",
    "print(s1 + s2)"
   ]
  },
  {
   "cell_type": "markdown",
   "metadata": {},
   "source": [
    " * **NaN (Not a Number)**\n",
    "  - numpy와 비교"
   ]
  },
  {
   "cell_type": "code",
   "execution_count": 247,
   "metadata": {},
   "outputs": [
    {
     "data": {
      "text/plain": [
       "(3.0, 3.0)"
      ]
     },
     "execution_count": 247,
     "metadata": {},
     "output_type": "execute_result"
    }
   ],
   "source": [
    "nda = np.array([1, 2, 3, 4, 5])\n",
    "\n",
    "# 일반적으로 np 모듈의 함수나 Series혹은 DataFrame의 멤버함수 중 하나를 사용\n",
    "nda.mean(), np.mean(nda)\n"
   ]
  },
  {
   "cell_type": "code",
   "execution_count": 248,
   "metadata": {},
   "outputs": [
    {
     "data": {
      "text/plain": [
       "nan"
      ]
     },
     "execution_count": 248,
     "metadata": {},
     "output_type": "execute_result"
    }
   ],
   "source": [
    "# NaN이 있는 경우, 연산 불가능\n",
    "nda = np.array([1, 2, 3, 4, np.NaN])\n",
    "nda.mean()"
   ]
  },
  {
   "cell_type": "code",
   "execution_count": 249,
   "metadata": {},
   "outputs": [
    {
     "name": "stdout",
     "output_type": "stream",
     "text": [
      "2.5\n",
      "nan\n"
     ]
    }
   ],
   "source": [
    "# Series는 NaN을 무시하고 연산\n",
    "s = pd.Series([1, 2, 3, 4, np.NaN])\n",
    "print(s.mean())\n",
    "print(s.mean(skipna=False))"
   ]
  },
  {
   "cell_type": "markdown",
   "metadata": {},
   "source": [
    " * **Boolean selection**\n",
    "  - boolean Series가 []와 함께 사용되면 True 값에 해당하는 값만 새로 반환되는 Series객체에 포함됨"
   ]
  },
  {
   "cell_type": "code",
   "execution_count": 250,
   "metadata": {},
   "outputs": [
    {
     "data": {
      "text/plain": [
       "0    1\n",
       "1    2\n",
       "2    3\n",
       "3    4\n",
       "4    5\n",
       "5    6\n",
       "6    7\n",
       "7    8\n",
       "8    9\n",
       "dtype: int64"
      ]
     },
     "execution_count": 250,
     "metadata": {},
     "output_type": "execute_result"
    }
   ],
   "source": [
    "s = pd.Series(np.arange(1, 10))\n",
    "s"
   ]
  },
  {
   "cell_type": "code",
   "execution_count": 251,
   "metadata": {},
   "outputs": [
    {
     "name": "stdout",
     "output_type": "stream",
     "text": [
      "[False False False False False False  True  True  True]\n"
     ]
    }
   ],
   "source": [
    "my_logic = s.index > 5\n",
    "print(my_logic)"
   ]
  },
  {
   "cell_type": "code",
   "execution_count": 252,
   "metadata": {},
   "outputs": [
    {
     "name": "stdout",
     "output_type": "stream",
     "text": [
      "6    7\n",
      "7    8\n",
      "8    9\n",
      "dtype: int64\n"
     ]
    }
   ],
   "source": [
    "print(s[my_logic])"
   ]
  },
  {
   "cell_type": "code",
   "execution_count": 253,
   "metadata": {},
   "outputs": [
    {
     "name": "stdout",
     "output_type": "stream",
     "text": [
      "6    7\n",
      "7    8\n",
      "8    9\n",
      "dtype: int64\n",
      "5    6\n",
      "6    7\n",
      "7    8\n",
      "8    9\n",
      "dtype: int64\n"
     ]
    }
   ],
   "source": [
    "# 한번에!\n",
    "print(s[s.index > 5])\n",
    "print(s[s > 5])"
   ]
  },
  {
   "cell_type": "code",
   "execution_count": 167,
   "metadata": {},
   "outputs": [
    {
     "name": "stdout",
     "output_type": "stream",
     "text": [
      "5    6\n",
      "6    7\n",
      "dtype: int64\n"
     ]
    }
   ],
   "source": [
    "#print s > 5 and s < 8\n",
    "#print s[s > 5 and s < 8]\n",
    "print(s[(s > 5) & (s < 8)]) # & and , | or"
   ]
  },
  {
   "cell_type": "markdown",
   "metadata": {},
   "source": [
    "* 연습문제) 아래 연산의 각가의 결과는?"
   ]
  },
  {
   "cell_type": "code",
   "execution_count": 257,
   "metadata": {},
   "outputs": [
    {
     "data": {
      "text/plain": [
       "0    1\n",
       "1    2\n",
       "2    3\n",
       "3    4\n",
       "4    5\n",
       "5    6\n",
       "6    7\n",
       "7    8\n",
       "8    9\n",
       "dtype: int64"
      ]
     },
     "execution_count": 257,
     "metadata": {},
     "output_type": "execute_result"
    }
   ],
   "source": [
    "s"
   ]
  },
  {
   "cell_type": "code",
   "execution_count": 260,
   "metadata": {},
   "outputs": [
    {
     "name": "stdout",
     "output_type": "stream",
     "text": [
      "24\n",
      "3\n"
     ]
    }
   ],
   "source": [
    "print(s[s >= 7].sum()) # 값들을 더함\n",
    "print((s >= 7).sum()) # 갯수를 더함"
   ]
  },
  {
   "cell_type": "markdown",
   "metadata": {},
   "source": [
    "* **Series 값 변경**\n",
    "  - 인덱스를 이용하여 변경  \n"
   ]
  },
  {
   "cell_type": "code",
   "execution_count": 261,
   "metadata": {},
   "outputs": [
    {
     "name": "stdout",
     "output_type": "stream",
     "text": [
      "a       1\n",
      "b      10\n",
      "c     100\n",
      "d    1000\n",
      "dtype: int64\n",
      "a        1\n",
      "b       10\n",
      "c      100\n",
      "d    10000\n",
      "dtype: int64\n"
     ]
    }
   ],
   "source": [
    "s = pd.Series([1, 10, 100], index = ['a', 'b', 'c'])\n",
    "\n",
    "s['d'] = 1000\n",
    "print(s)\n",
    "\n",
    "s['d'] = 10000\n",
    "print(s)"
   ]
  },
  {
   "cell_type": "code",
   "execution_count": 262,
   "metadata": {},
   "outputs": [
    {
     "name": "stdout",
     "output_type": "stream",
     "text": [
      "b       10\n",
      "c      100\n",
      "d    10000\n",
      "dtype: int64\n"
     ]
    }
   ],
   "source": [
    "del s['a']\n",
    "print(s)"
   ]
  },
  {
   "cell_type": "markdown",
   "metadata": {},
   "source": [
    "* **Slicing**\n",
    " - 리스트, ndarray와 동일하게 적용"
   ]
  },
  {
   "cell_type": "code",
   "execution_count": 263,
   "metadata": {},
   "outputs": [
    {
     "data": {
      "text/plain": [
       "10000    1\n",
       "10       1\n",
       "100      1\n",
       "dtype: int64"
      ]
     },
     "execution_count": 263,
     "metadata": {},
     "output_type": "execute_result"
    }
   ],
   "source": [
    "s.value_counts()"
   ]
  },
  {
   "cell_type": "code",
   "execution_count": 264,
   "metadata": {},
   "outputs": [
    {
     "name": "stdout",
     "output_type": "stream",
     "text": [
      "10    100\n",
      "11    101\n",
      "12    102\n",
      "13    103\n",
      "14    104\n",
      "dtype: int64 \n",
      "\n",
      "10    100\n",
      "11    101\n",
      "12    102\n",
      "13    103\n",
      "14    104\n",
      "dtype: int64 \n",
      "\n",
      "15    105\n",
      "16    106\n",
      "17    107\n",
      "18    108\n",
      "19    109\n",
      "dtype: int64 \n",
      "\n",
      "17    107\n",
      "18    108\n",
      "19    109\n",
      "dtype: int64 \n",
      "\n"
     ]
    }
   ],
   "source": [
    "s = pd.Series(np.arange(100, 110), index=np.arange(10, 20))\n",
    "print(s[0:5], '\\n')\n",
    "print(s[:5], '\\n')\n",
    "print(s[5:], '\\n')\n",
    "print(s[-3:], '\\n')"
   ]
  },
  {
   "cell_type": "markdown",
   "metadata": {},
   "source": [
    "* **DataFrame**\n",
    "  - Series가 1차원이라면 DataFrame은 2차원으로 확대된 버젼\n",
    "  - Excel spreadsheet이라고 생각하면 이해하기 쉬움\n",
    "  - 2차원이기 때문에 인덱스가 row, column로 구성됨\n",
    "  - Data Analysis, Machine Learning에서 data 변형을 위해 가장 많이 사용"
   ]
  },
  {
   "cell_type": "code",
   "execution_count": 265,
   "metadata": {},
   "outputs": [
    {
     "name": "stdout",
     "output_type": "stream",
     "text": [
      "    0   1\n",
      "0  10  11\n",
      "1  20  22\n"
     ]
    }
   ],
   "source": [
    "df = pd.DataFrame(np.array([[10, 11], [20, 22]]))\n",
    "print(df)"
   ]
  },
  {
   "cell_type": "code",
   "execution_count": 266,
   "metadata": {},
   "outputs": [
    {
     "name": "stdout",
     "output_type": "stream",
     "text": [
      "   0\n",
      "0  2\n",
      "1  1\n",
      "2  2\n",
      "3  3\n"
     ]
    },
    {
     "data": {
      "text/plain": [
       "pandas.core.frame.DataFrame"
      ]
     },
     "execution_count": 266,
     "metadata": {},
     "output_type": "execute_result"
    }
   ],
   "source": [
    "df = pd.DataFrame(np.array([2, 1, 2, 3]))\n",
    "print(df)\n",
    "\n",
    "type(df)"
   ]
  },
  {
   "cell_type": "markdown",
   "metadata": {},
   "source": [
    "* **shape**\n",
    " - row, column"
   ]
  },
  {
   "cell_type": "code",
   "execution_count": 176,
   "metadata": {},
   "outputs": [
    {
     "name": "stdout",
     "output_type": "stream",
     "text": [
      "    0   1   2   3   4\n",
      "0  10  11  12  13  14\n",
      "1  20  21  22  23  24\n",
      "2  20  21  22  23  24 \n",
      "\n",
      "(3, 5)\n"
     ]
    }
   ],
   "source": [
    "df1 = pd.DataFrame([pd.Series(np.arange(10, 15)) ,\n",
    "                pd.Series(np.arange(20, 25)),             \n",
    "                pd.Series(np.arange(20, 25))])\n",
    "print(df1, '\\n')\n",
    "print(df1.shape) # dataframe의 경우 항상 크기가 2인 튜플"
   ]
  },
  {
   "cell_type": "markdown",
   "metadata": {},
   "source": [
    "* ** dataframe 살펴보기**\n",
    " - shape           : row, column 개수 확인\n",
    " - head(), tail()  : 데이터 확인\n",
    " - describe()      : 각 column별 간략한 통계정보 \n",
    " - info()          : 각 column별 타입 정보"
   ]
  },
  {
   "cell_type": "code",
   "execution_count": 268,
   "metadata": {},
   "outputs": [
    {
     "data": {
      "text/html": [
       "<div>\n",
       "<style>\n",
       "    .dataframe thead tr:only-child th {\n",
       "        text-align: right;\n",
       "    }\n",
       "\n",
       "    .dataframe thead th {\n",
       "        text-align: left;\n",
       "    }\n",
       "\n",
       "    .dataframe tbody tr th {\n",
       "        vertical-align: top;\n",
       "    }\n",
       "</style>\n",
       "<table border=\"1\" class=\"dataframe\">\n",
       "  <thead>\n",
       "    <tr style=\"text-align: right;\">\n",
       "      <th></th>\n",
       "      <th>0</th>\n",
       "    </tr>\n",
       "  </thead>\n",
       "  <tbody>\n",
       "    <tr>\n",
       "      <th>0</th>\n",
       "      <td>2</td>\n",
       "    </tr>\n",
       "    <tr>\n",
       "      <th>1</th>\n",
       "      <td>1</td>\n",
       "    </tr>\n",
       "    <tr>\n",
       "      <th>2</th>\n",
       "      <td>2</td>\n",
       "    </tr>\n",
       "    <tr>\n",
       "      <th>3</th>\n",
       "      <td>3</td>\n",
       "    </tr>\n",
       "  </tbody>\n",
       "</table>\n",
       "</div>"
      ],
      "text/plain": [
       "   0\n",
       "0  2\n",
       "1  1\n",
       "2  2\n",
       "3  3"
      ]
     },
     "execution_count": 268,
     "metadata": {},
     "output_type": "execute_result"
    }
   ],
   "source": [
    "df"
   ]
  },
  {
   "cell_type": "code",
   "execution_count": 269,
   "metadata": {},
   "outputs": [
    {
     "data": {
      "text/plain": [
       "(4, 1)"
      ]
     },
     "execution_count": 269,
     "metadata": {},
     "output_type": "execute_result"
    }
   ],
   "source": [
    "df.shape"
   ]
  },
  {
   "cell_type": "code",
   "execution_count": 270,
   "metadata": {},
   "outputs": [
    {
     "data": {
      "text/plain": [
       "4"
      ]
     },
     "execution_count": 270,
     "metadata": {},
     "output_type": "execute_result"
    }
   ],
   "source": [
    "len(df) # row 갯수"
   ]
  },
  {
   "cell_type": "code",
   "execution_count": 271,
   "metadata": {},
   "outputs": [
    {
     "data": {
      "text/html": [
       "<div>\n",
       "<style>\n",
       "    .dataframe thead tr:only-child th {\n",
       "        text-align: right;\n",
       "    }\n",
       "\n",
       "    .dataframe thead th {\n",
       "        text-align: left;\n",
       "    }\n",
       "\n",
       "    .dataframe tbody tr th {\n",
       "        vertical-align: top;\n",
       "    }\n",
       "</style>\n",
       "<table border=\"1\" class=\"dataframe\">\n",
       "  <thead>\n",
       "    <tr style=\"text-align: right;\">\n",
       "      <th></th>\n",
       "      <th>0</th>\n",
       "    </tr>\n",
       "  </thead>\n",
       "  <tbody>\n",
       "    <tr>\n",
       "      <th>0</th>\n",
       "      <td>2</td>\n",
       "    </tr>\n",
       "    <tr>\n",
       "      <th>1</th>\n",
       "      <td>1</td>\n",
       "    </tr>\n",
       "    <tr>\n",
       "      <th>2</th>\n",
       "      <td>2</td>\n",
       "    </tr>\n",
       "    <tr>\n",
       "      <th>3</th>\n",
       "      <td>3</td>\n",
       "    </tr>\n",
       "  </tbody>\n",
       "</table>\n",
       "</div>"
      ],
      "text/plain": [
       "   0\n",
       "0  2\n",
       "1  1\n",
       "2  2\n",
       "3  3"
      ]
     },
     "execution_count": 271,
     "metadata": {},
     "output_type": "execute_result"
    }
   ],
   "source": [
    "df.head()"
   ]
  },
  {
   "cell_type": "code",
   "execution_count": 272,
   "metadata": {},
   "outputs": [
    {
     "data": {
      "text/html": [
       "<div>\n",
       "<style>\n",
       "    .dataframe thead tr:only-child th {\n",
       "        text-align: right;\n",
       "    }\n",
       "\n",
       "    .dataframe thead th {\n",
       "        text-align: left;\n",
       "    }\n",
       "\n",
       "    .dataframe tbody tr th {\n",
       "        vertical-align: top;\n",
       "    }\n",
       "</style>\n",
       "<table border=\"1\" class=\"dataframe\">\n",
       "  <thead>\n",
       "    <tr style=\"text-align: right;\">\n",
       "      <th></th>\n",
       "      <th>0</th>\n",
       "    </tr>\n",
       "  </thead>\n",
       "  <tbody>\n",
       "    <tr>\n",
       "      <th>count</th>\n",
       "      <td>4.000000</td>\n",
       "    </tr>\n",
       "    <tr>\n",
       "      <th>mean</th>\n",
       "      <td>2.000000</td>\n",
       "    </tr>\n",
       "    <tr>\n",
       "      <th>std</th>\n",
       "      <td>0.816497</td>\n",
       "    </tr>\n",
       "    <tr>\n",
       "      <th>min</th>\n",
       "      <td>1.000000</td>\n",
       "    </tr>\n",
       "    <tr>\n",
       "      <th>25%</th>\n",
       "      <td>1.750000</td>\n",
       "    </tr>\n",
       "    <tr>\n",
       "      <th>50%</th>\n",
       "      <td>2.000000</td>\n",
       "    </tr>\n",
       "    <tr>\n",
       "      <th>75%</th>\n",
       "      <td>2.250000</td>\n",
       "    </tr>\n",
       "    <tr>\n",
       "      <th>max</th>\n",
       "      <td>3.000000</td>\n",
       "    </tr>\n",
       "  </tbody>\n",
       "</table>\n",
       "</div>"
      ],
      "text/plain": [
       "              0\n",
       "count  4.000000\n",
       "mean   2.000000\n",
       "std    0.816497\n",
       "min    1.000000\n",
       "25%    1.750000\n",
       "50%    2.000000\n",
       "75%    2.250000\n",
       "max    3.000000"
      ]
     },
     "execution_count": 272,
     "metadata": {},
     "output_type": "execute_result"
    }
   ],
   "source": [
    "df.describe()"
   ]
  },
  {
   "cell_type": "code",
   "execution_count": 273,
   "metadata": {},
   "outputs": [
    {
     "name": "stdout",
     "output_type": "stream",
     "text": [
      "<class 'pandas.core.frame.DataFrame'>\n",
      "RangeIndex: 4 entries, 0 to 3\n",
      "Data columns (total 1 columns):\n",
      "0    4 non-null int64\n",
      "dtypes: int64(1)\n",
      "memory usage: 112.0 bytes\n"
     ]
    }
   ],
   "source": [
    "df.info()"
   ]
  },
  {
   "cell_type": "markdown",
   "metadata": {},
   "source": [
    "* **column 초기화**\n",
    " - Series의 경우 1차원 타입이기 때문에 index만 존재\n",
    " - Dataframe의 경우, index와 column을 모두 명시"
   ]
  },
  {
   "cell_type": "code",
   "execution_count": 274,
   "metadata": {},
   "outputs": [
    {
     "name": "stdout",
     "output_type": "stream",
     "text": [
      "    Age  Height\n",
      "d1   10      20\n",
      "d2   20      30\n"
     ]
    },
    {
     "data": {
      "text/plain": [
       "(Index(['d1', 'd2'], dtype='object'), Index(['Age', 'Height'], dtype='object'))"
      ]
     },
     "execution_count": 274,
     "metadata": {},
     "output_type": "execute_result"
    }
   ],
   "source": [
    "df = pd.DataFrame(np.array([[10, 20], [20, 30]]), \n",
    "                  columns = ['Age', 'Height'], index = ['d1', 'd2'])\n",
    "print(df)\n",
    "df.index, df.columns"
   ]
  },
  {
   "cell_type": "code",
   "execution_count": 286,
   "metadata": {},
   "outputs": [
    {
     "name": "stdout",
     "output_type": "stream",
     "text": [
      "Index(['a', 'b'], dtype='object')\n",
      "    a   b\n",
      "0  10  20\n",
      "1  20  30 \n",
      "\n",
      "   t1  t2\n",
      "0  10  20\n",
      "1  20  30\n"
     ]
    }
   ],
   "source": [
    "df = pd.DataFrame(np.array([[10, 20], [20, 30]]), \n",
    "                  columns = ['a', 'b'])\n",
    "print(df.columns)\n",
    "print(df, '\\n')\n",
    "\n",
    "df.columns = ['t1', 't2']\n",
    "print(df)"
   ]
  },
  {
   "cell_type": "markdown",
   "metadata": {},
   "source": [
    "* **Series dictionary로 부터 생성**"
   ]
  },
  {
   "cell_type": "code",
   "execution_count": 287,
   "metadata": {},
   "outputs": [
    {
     "name": "stdout",
     "output_type": "stream",
     "text": [
      "   c1  c2\n",
      "0   1   6\n",
      "1   2   7\n",
      "2   3   8\n",
      "3   4   9\n",
      "4   5  10\n"
     ]
    }
   ],
   "source": [
    "s1 = pd.Series(np.arange(1, 6, 1))\n",
    "s2 = pd.Series(np.arange(6, 11, 1))\n",
    "df = pd.DataFrame({'c1': s1, 'c2': s2})\n",
    "\n",
    "print(df)"
   ]
  },
  {
   "cell_type": "markdown",
   "metadata": {},
   "source": [
    "* **csv 데이터로 부터 dataframe 생성**\n",
    "  - 데이터 분석을 위해, dataframe을 생성하는 가장 일반적인 방법\n",
    "  - 데이터 소스로부터 추출된 csv(comma separated values) 파일로부터 생성"
   ]
  },
  {
   "cell_type": "markdown",
   "metadata": {},
   "source": [
    "* 각 제품별 가격에 관한 정보 데이터"
   ]
  },
  {
   "cell_type": "code",
   "execution_count": 288,
   "metadata": {
    "collapsed": true
   },
   "outputs": [],
   "source": [
    "sample_file = 'data/sample.csv'"
   ]
  },
  {
   "cell_type": "code",
   "execution_count": 289,
   "metadata": {},
   "outputs": [
    {
     "data": {
      "text/html": [
       "<div>\n",
       "<style>\n",
       "    .dataframe thead tr:only-child th {\n",
       "        text-align: right;\n",
       "    }\n",
       "\n",
       "    .dataframe thead th {\n",
       "        text-align: left;\n",
       "    }\n",
       "\n",
       "    .dataframe tbody tr th {\n",
       "        vertical-align: top;\n",
       "    }\n",
       "</style>\n",
       "<table border=\"1\" class=\"dataframe\">\n",
       "  <thead>\n",
       "    <tr style=\"text-align: right;\">\n",
       "      <th></th>\n",
       "      <th>Symbol</th>\n",
       "      <th>Name</th>\n",
       "      <th>Sector</th>\n",
       "      <th>Price</th>\n",
       "      <th>Dividend Yield</th>\n",
       "      <th>Price/Earnings</th>\n",
       "      <th>Earnings/Share</th>\n",
       "      <th>Book Value</th>\n",
       "      <th>52 week low</th>\n",
       "      <th>52 week high</th>\n",
       "      <th>Market Cap</th>\n",
       "      <th>EBITDA</th>\n",
       "      <th>Price/Sales</th>\n",
       "      <th>Price/Book</th>\n",
       "      <th>SEC Filings</th>\n",
       "    </tr>\n",
       "  </thead>\n",
       "  <tbody>\n",
       "    <tr>\n",
       "      <th>0</th>\n",
       "      <td>MMM</td>\n",
       "      <td>3M Company</td>\n",
       "      <td>Industrials</td>\n",
       "      <td>177.12</td>\n",
       "      <td>2.53</td>\n",
       "      <td>22.77</td>\n",
       "      <td>7.78</td>\n",
       "      <td>19.34</td>\n",
       "      <td>134.00</td>\n",
       "      <td>177.79</td>\n",
       "      <td>107.43</td>\n",
       "      <td>8.57</td>\n",
       "      <td>3.52</td>\n",
       "      <td>9.04</td>\n",
       "      <td>http://www.sec.gov/cgi-bin/browse-edgar?action...</td>\n",
       "    </tr>\n",
       "    <tr>\n",
       "      <th>1</th>\n",
       "      <td>ABT</td>\n",
       "      <td>Abbott Laboratories</td>\n",
       "      <td>Health Care</td>\n",
       "      <td>41.89</td>\n",
       "      <td>2.55</td>\n",
       "      <td>25.79</td>\n",
       "      <td>1.62</td>\n",
       "      <td>14.10</td>\n",
       "      <td>36.00</td>\n",
       "      <td>51.74</td>\n",
       "      <td>61.54</td>\n",
       "      <td>4.40</td>\n",
       "      <td>2.98</td>\n",
       "      <td>2.93</td>\n",
       "      <td>http://www.sec.gov/cgi-bin/browse-edgar?action...</td>\n",
       "    </tr>\n",
       "    <tr>\n",
       "      <th>2</th>\n",
       "      <td>ABBV</td>\n",
       "      <td>AbbVie</td>\n",
       "      <td>Health Care</td>\n",
       "      <td>64.16</td>\n",
       "      <td>3.60</td>\n",
       "      <td>19.29</td>\n",
       "      <td>3.33</td>\n",
       "      <td>2.87</td>\n",
       "      <td>45.45</td>\n",
       "      <td>71.60</td>\n",
       "      <td>103.77</td>\n",
       "      <td>10.30</td>\n",
       "      <td>4.31</td>\n",
       "      <td>22.09</td>\n",
       "      <td>http://www.sec.gov/cgi-bin/browse-edgar?action...</td>\n",
       "    </tr>\n",
       "    <tr>\n",
       "      <th>3</th>\n",
       "      <td>ACN</td>\n",
       "      <td>Accenture plc</td>\n",
       "      <td>Information Technology</td>\n",
       "      <td>115.11</td>\n",
       "      <td>1.94</td>\n",
       "      <td>19.45</td>\n",
       "      <td>5.92</td>\n",
       "      <td>11.45</td>\n",
       "      <td>88.43</td>\n",
       "      <td>120.78</td>\n",
       "      <td>71.66</td>\n",
       "      <td>5.42</td>\n",
       "      <td>2.17</td>\n",
       "      <td>9.84</td>\n",
       "      <td>http://www.sec.gov/cgi-bin/browse-edgar?action...</td>\n",
       "    </tr>\n",
       "    <tr>\n",
       "      <th>4</th>\n",
       "      <td>ATVI</td>\n",
       "      <td>Activision Blizzard</td>\n",
       "      <td>Information Technology</td>\n",
       "      <td>41.29</td>\n",
       "      <td>0.64</td>\n",
       "      <td>37.06</td>\n",
       "      <td>1.11</td>\n",
       "      <td>11.31</td>\n",
       "      <td>24.04</td>\n",
       "      <td>41.32</td>\n",
       "      <td>30.48</td>\n",
       "      <td>1.59</td>\n",
       "      <td>6.16</td>\n",
       "      <td>3.57</td>\n",
       "      <td>http://www.sec.gov/cgi-bin/browse-edgar?action...</td>\n",
       "    </tr>\n",
       "  </tbody>\n",
       "</table>\n",
       "</div>"
      ],
      "text/plain": [
       "  Symbol                 Name                  Sector   Price  Dividend Yield  \\\n",
       "0    MMM           3M Company             Industrials  177.12            2.53   \n",
       "1    ABT  Abbott Laboratories             Health Care   41.89            2.55   \n",
       "2   ABBV               AbbVie             Health Care   64.16            3.60   \n",
       "3    ACN        Accenture plc  Information Technology  115.11            1.94   \n",
       "4   ATVI  Activision Blizzard  Information Technology   41.29            0.64   \n",
       "\n",
       "   Price/Earnings  Earnings/Share  Book Value  52 week low  52 week high  \\\n",
       "0           22.77            7.78       19.34       134.00        177.79   \n",
       "1           25.79            1.62       14.10        36.00         51.74   \n",
       "2           19.29            3.33        2.87        45.45         71.60   \n",
       "3           19.45            5.92       11.45        88.43        120.78   \n",
       "4           37.06            1.11       11.31        24.04         41.32   \n",
       "\n",
       "   Market Cap  EBITDA  Price/Sales  Price/Book  \\\n",
       "0      107.43    8.57         3.52        9.04   \n",
       "1       61.54    4.40         2.98        2.93   \n",
       "2      103.77   10.30         4.31       22.09   \n",
       "3       71.66    5.42         2.17        9.84   \n",
       "4       30.48    1.59         6.16        3.57   \n",
       "\n",
       "                                         SEC Filings  \n",
       "0  http://www.sec.gov/cgi-bin/browse-edgar?action...  \n",
       "1  http://www.sec.gov/cgi-bin/browse-edgar?action...  \n",
       "2  http://www.sec.gov/cgi-bin/browse-edgar?action...  \n",
       "3  http://www.sec.gov/cgi-bin/browse-edgar?action...  \n",
       "4  http://www.sec.gov/cgi-bin/browse-edgar?action...  "
      ]
     },
     "execution_count": 289,
     "metadata": {},
     "output_type": "execute_result"
    }
   ],
   "source": [
    "sample_df = pd.read_csv(sample_file)\n",
    "sample_df.head()"
   ]
  },
  {
   "cell_type": "code",
   "execution_count": 314,
   "metadata": {},
   "outputs": [
    {
     "data": {
      "text/plain": [
       "<bound method Series.unique of 0       2.53\n",
       "1       2.55\n",
       "2       3.60\n",
       "3       1.94\n",
       "4       0.64\n",
       "5       0.21\n",
       "6       0.00\n",
       "7       0.15\n",
       "8       3.60\n",
       "9       0.87\n",
       "10       NaN\n",
       "11      2.27\n",
       "12      1.04\n",
       "13      2.46\n",
       "14       NaN\n",
       "15      1.88\n",
       "16      1.57\n",
       "17      1.31\n",
       "18       NaN\n",
       "19      0.70\n",
       "20      0.10\n",
       "21       NaN\n",
       "22      3.18\n",
       "23      1.95\n",
       "24       NaN\n",
       "25       NaN\n",
       "26      3.26\n",
       "27       NaN\n",
       "28      3.16\n",
       "29      1.41\n",
       "       ...  \n",
       "474     0.75\n",
       "475     2.57\n",
       "476     0.66\n",
       "477     2.72\n",
       "478     1.77\n",
       "479     2.44\n",
       "480     0.00\n",
       "481     3.26\n",
       "482     4.50\n",
       "483     4.20\n",
       "484     3.34\n",
       "485     4.04\n",
       "486     4.12\n",
       "487     2.38\n",
       "488     1.63\n",
       "489    12.43\n",
       "490     1.54\n",
       "491     3.02\n",
       "492     2.84\n",
       "493     2.22\n",
       "494     3.00\n",
       "495     3.30\n",
       "496     2.90\n",
       "497     2.45\n",
       "498     1.43\n",
       "499      NaN\n",
       "500     2.18\n",
       "501     0.79\n",
       "502     0.98\n",
       "503     0.80\n",
       "Name: Dividend Yield, Length: 504, dtype: float64>"
      ]
     },
     "execution_count": 314,
     "metadata": {},
     "output_type": "execute_result"
    }
   ],
   "source": [
    "sample_df['Dividend Yield']"
   ]
  },
  {
   "cell_type": "code",
   "execution_count": 290,
   "metadata": {},
   "outputs": [
    {
     "name": "stdout",
     "output_type": "stream",
     "text": [
      "<class 'pandas.core.frame.DataFrame'>\n",
      "RangeIndex: 504 entries, 0 to 503\n",
      "Data columns (total 15 columns):\n",
      "Symbol            504 non-null object\n",
      "Name              504 non-null object\n",
      "Sector            504 non-null object\n",
      "Price             504 non-null float64\n",
      "Dividend Yield    435 non-null float64\n",
      "Price/Earnings    452 non-null float64\n",
      "Earnings/Share    503 non-null float64\n",
      "Book Value        504 non-null float64\n",
      "52 week low       504 non-null float64\n",
      "52 week high      504 non-null float64\n",
      "Market Cap        502 non-null float64\n",
      "EBITDA            503 non-null float64\n",
      "Price/Sales       502 non-null float64\n",
      "Price/Book        486 non-null float64\n",
      "SEC Filings       504 non-null object\n",
      "dtypes: float64(11), object(4)\n",
      "memory usage: 59.1+ KB\n"
     ]
    }
   ],
   "source": [
    "sample_df.info()"
   ]
  },
  {
   "cell_type": "code",
   "execution_count": 317,
   "metadata": {},
   "outputs": [
    {
     "data": {
      "text/plain": [
       "Index(['Symbol', 'Name', 'Sector', 'Price', 'Dividend Yield', 'Price/Earnings',\n",
       "       'Earnings/Share', 'Book Value', '52 week low', '52 week high',\n",
       "       'Market Cap', 'EBITDA', 'Price/Sales', 'Price/Book', 'SEC Filings'],\n",
       "      dtype='object')"
      ]
     },
     "execution_count": 317,
     "metadata": {},
     "output_type": "execute_result"
    }
   ],
   "source": [
    "sample_df.columns"
   ]
  },
  {
   "cell_type": "code",
   "execution_count": 318,
   "metadata": {},
   "outputs": [
    {
     "data": {
      "text/html": [
       "<div>\n",
       "<style>\n",
       "    .dataframe thead tr:only-child th {\n",
       "        text-align: right;\n",
       "    }\n",
       "\n",
       "    .dataframe thead th {\n",
       "        text-align: left;\n",
       "    }\n",
       "\n",
       "    .dataframe tbody tr th {\n",
       "        vertical-align: top;\n",
       "    }\n",
       "</style>\n",
       "<table border=\"1\" class=\"dataframe\">\n",
       "  <thead>\n",
       "    <tr style=\"text-align: right;\">\n",
       "      <th></th>\n",
       "      <th>Symbol</th>\n",
       "      <th>Name</th>\n",
       "      <th>Sector</th>\n",
       "      <th>Price</th>\n",
       "      <th>Book Value</th>\n",
       "    </tr>\n",
       "  </thead>\n",
       "  <tbody>\n",
       "    <tr>\n",
       "      <th>0</th>\n",
       "      <td>MMM</td>\n",
       "      <td>3M Company</td>\n",
       "      <td>Industrials</td>\n",
       "      <td>177.12</td>\n",
       "      <td>19.34</td>\n",
       "    </tr>\n",
       "    <tr>\n",
       "      <th>1</th>\n",
       "      <td>ABT</td>\n",
       "      <td>Abbott Laboratories</td>\n",
       "      <td>Health Care</td>\n",
       "      <td>41.89</td>\n",
       "      <td>14.10</td>\n",
       "    </tr>\n",
       "    <tr>\n",
       "      <th>2</th>\n",
       "      <td>ABBV</td>\n",
       "      <td>AbbVie</td>\n",
       "      <td>Health Care</td>\n",
       "      <td>64.16</td>\n",
       "      <td>2.87</td>\n",
       "    </tr>\n",
       "    <tr>\n",
       "      <th>3</th>\n",
       "      <td>ACN</td>\n",
       "      <td>Accenture plc</td>\n",
       "      <td>Information Technology</td>\n",
       "      <td>115.11</td>\n",
       "      <td>11.45</td>\n",
       "    </tr>\n",
       "    <tr>\n",
       "      <th>4</th>\n",
       "      <td>ATVI</td>\n",
       "      <td>Activision Blizzard</td>\n",
       "      <td>Information Technology</td>\n",
       "      <td>41.29</td>\n",
       "      <td>11.31</td>\n",
       "    </tr>\n",
       "  </tbody>\n",
       "</table>\n",
       "</div>"
      ],
      "text/plain": [
       "  Symbol                 Name                  Sector   Price  Book Value\n",
       "0    MMM           3M Company             Industrials  177.12       19.34\n",
       "1    ABT  Abbott Laboratories             Health Care   41.89       14.10\n",
       "2   ABBV               AbbVie             Health Care   64.16        2.87\n",
       "3    ACN        Accenture plc  Information Technology  115.11       11.45\n",
       "4   ATVI  Activision Blizzard  Information Technology   41.29       11.31"
      ]
     },
     "execution_count": 318,
     "metadata": {},
     "output_type": "execute_result"
    }
   ],
   "source": [
    "sample_df = pd.read_csv(sample_file, usecols = [0, 1, 2, 3, 7])\n",
    "sample_df.head()"
   ]
  },
  {
   "cell_type": "code",
   "execution_count": 194,
   "metadata": {},
   "outputs": [
    {
     "data": {
      "text/html": [
       "<div>\n",
       "<style>\n",
       "    .dataframe thead tr:only-child th {\n",
       "        text-align: right;\n",
       "    }\n",
       "\n",
       "    .dataframe thead th {\n",
       "        text-align: left;\n",
       "    }\n",
       "\n",
       "    .dataframe tbody tr th {\n",
       "        vertical-align: top;\n",
       "    }\n",
       "</style>\n",
       "<table border=\"1\" class=\"dataframe\">\n",
       "  <thead>\n",
       "    <tr style=\"text-align: right;\">\n",
       "      <th></th>\n",
       "      <th>Name</th>\n",
       "      <th>Sector</th>\n",
       "      <th>Price</th>\n",
       "      <th>Book Value</th>\n",
       "    </tr>\n",
       "    <tr>\n",
       "      <th>Symbol</th>\n",
       "      <th></th>\n",
       "      <th></th>\n",
       "      <th></th>\n",
       "      <th></th>\n",
       "    </tr>\n",
       "  </thead>\n",
       "  <tbody>\n",
       "    <tr>\n",
       "      <th>MMM</th>\n",
       "      <td>3M Company</td>\n",
       "      <td>Industrials</td>\n",
       "      <td>177.12</td>\n",
       "      <td>19.34</td>\n",
       "    </tr>\n",
       "    <tr>\n",
       "      <th>ABT</th>\n",
       "      <td>Abbott Laboratories</td>\n",
       "      <td>Health Care</td>\n",
       "      <td>41.89</td>\n",
       "      <td>14.10</td>\n",
       "    </tr>\n",
       "    <tr>\n",
       "      <th>ABBV</th>\n",
       "      <td>AbbVie</td>\n",
       "      <td>Health Care</td>\n",
       "      <td>64.16</td>\n",
       "      <td>2.87</td>\n",
       "    </tr>\n",
       "    <tr>\n",
       "      <th>ACN</th>\n",
       "      <td>Accenture plc</td>\n",
       "      <td>Information Technology</td>\n",
       "      <td>115.11</td>\n",
       "      <td>11.45</td>\n",
       "    </tr>\n",
       "    <tr>\n",
       "      <th>ATVI</th>\n",
       "      <td>Activision Blizzard</td>\n",
       "      <td>Information Technology</td>\n",
       "      <td>41.29</td>\n",
       "      <td>11.31</td>\n",
       "    </tr>\n",
       "  </tbody>\n",
       "</table>\n",
       "</div>"
      ],
      "text/plain": [
       "                       Name                  Sector   Price  Book Value\n",
       "Symbol                                                                 \n",
       "MMM              3M Company             Industrials  177.12       19.34\n",
       "ABT     Abbott Laboratories             Health Care   41.89       14.10\n",
       "ABBV                 AbbVie             Health Care   64.16        2.87\n",
       "ACN           Accenture plc  Information Technology  115.11       11.45\n",
       "ATVI    Activision Blizzard  Information Technology   41.29       11.31"
      ]
     },
     "execution_count": 194,
     "metadata": {},
     "output_type": "execute_result"
    }
   ],
   "source": [
    "sample_df = pd.read_csv(sample_file, index_col = 'Symbol', \n",
    "                        usecols = [0, 1, 2, 3, 7])\n",
    "sample_df.head()"
   ]
  },
  {
   "cell_type": "code",
   "execution_count": 319,
   "metadata": {},
   "outputs": [
    {
     "data": {
      "text/html": [
       "<div>\n",
       "<style>\n",
       "    .dataframe thead tr:only-child th {\n",
       "        text-align: right;\n",
       "    }\n",
       "\n",
       "    .dataframe thead th {\n",
       "        text-align: left;\n",
       "    }\n",
       "\n",
       "    .dataframe tbody tr th {\n",
       "        vertical-align: top;\n",
       "    }\n",
       "</style>\n",
       "<table border=\"1\" class=\"dataframe\">\n",
       "  <thead>\n",
       "    <tr style=\"text-align: right;\">\n",
       "      <th></th>\n",
       "      <th>Name</th>\n",
       "      <th>Price</th>\n",
       "    </tr>\n",
       "    <tr>\n",
       "      <th>Symbol</th>\n",
       "      <th></th>\n",
       "      <th></th>\n",
       "    </tr>\n",
       "  </thead>\n",
       "  <tbody>\n",
       "    <tr>\n",
       "      <th>MMM</th>\n",
       "      <td>3M Company</td>\n",
       "      <td>177.12</td>\n",
       "    </tr>\n",
       "    <tr>\n",
       "      <th>ABT</th>\n",
       "      <td>Abbott Laboratories</td>\n",
       "      <td>41.89</td>\n",
       "    </tr>\n",
       "    <tr>\n",
       "      <th>ABBV</th>\n",
       "      <td>AbbVie</td>\n",
       "      <td>64.16</td>\n",
       "    </tr>\n",
       "    <tr>\n",
       "      <th>ACN</th>\n",
       "      <td>Accenture plc</td>\n",
       "      <td>115.11</td>\n",
       "    </tr>\n",
       "    <tr>\n",
       "      <th>ATVI</th>\n",
       "      <td>Activision Blizzard</td>\n",
       "      <td>41.29</td>\n",
       "    </tr>\n",
       "  </tbody>\n",
       "</table>\n",
       "</div>"
      ],
      "text/plain": [
       "                       Name   Price\n",
       "Symbol                             \n",
       "MMM              3M Company  177.12\n",
       "ABT     Abbott Laboratories   41.89\n",
       "ABBV                 AbbVie   64.16\n",
       "ACN           Accenture plc  115.11\n",
       "ATVI    Activision Blizzard   41.29"
      ]
     },
     "execution_count": 319,
     "metadata": {},
     "output_type": "execute_result"
    }
   ],
   "source": [
    "sample_df = pd.read_csv(sample_file, index_col = 'Symbol', \n",
    "                        usecols=['Name', 'Symbol', 'Price'])\n",
    "sample_df.head()"
   ]
  },
  {
   "cell_type": "markdown",
   "metadata": {},
   "source": [
    "* **dataframe slicing**\n",
    "  - dataframe의 경우 기본적으로 [] 연산자가 **column 선택**에 사용\n",
    "  - 따라서 [0], ['some val'] 과 같이 하면 column 레벨의 데이터 추출\n",
    "  - 하지만, 유일하게 slicing은 row 레벨로 지원"
   ]
  },
  {
   "cell_type": "code",
   "execution_count": 320,
   "metadata": {},
   "outputs": [
    {
     "data": {
      "text/html": [
       "<div>\n",
       "<style>\n",
       "    .dataframe thead tr:only-child th {\n",
       "        text-align: right;\n",
       "    }\n",
       "\n",
       "    .dataframe thead th {\n",
       "        text-align: left;\n",
       "    }\n",
       "\n",
       "    .dataframe tbody tr th {\n",
       "        vertical-align: top;\n",
       "    }\n",
       "</style>\n",
       "<table border=\"1\" class=\"dataframe\">\n",
       "  <thead>\n",
       "    <tr style=\"text-align: right;\">\n",
       "      <th></th>\n",
       "      <th>Date</th>\n",
       "      <th>Open</th>\n",
       "      <th>High</th>\n",
       "      <th>Low</th>\n",
       "      <th>Close</th>\n",
       "      <th>Volume</th>\n",
       "    </tr>\n",
       "  </thead>\n",
       "  <tbody>\n",
       "    <tr>\n",
       "      <th>0</th>\n",
       "      <td>30-Sep-16</td>\n",
       "      <td>112.46</td>\n",
       "      <td>113.37</td>\n",
       "      <td>111.80</td>\n",
       "      <td>113.05</td>\n",
       "      <td>36379106</td>\n",
       "    </tr>\n",
       "    <tr>\n",
       "      <th>1</th>\n",
       "      <td>29-Sep-16</td>\n",
       "      <td>113.16</td>\n",
       "      <td>113.80</td>\n",
       "      <td>111.80</td>\n",
       "      <td>112.18</td>\n",
       "      <td>35886990</td>\n",
       "    </tr>\n",
       "    <tr>\n",
       "      <th>2</th>\n",
       "      <td>28-Sep-16</td>\n",
       "      <td>113.69</td>\n",
       "      <td>114.64</td>\n",
       "      <td>113.43</td>\n",
       "      <td>113.95</td>\n",
       "      <td>29641085</td>\n",
       "    </tr>\n",
       "    <tr>\n",
       "      <th>3</th>\n",
       "      <td>27-Sep-16</td>\n",
       "      <td>113.00</td>\n",
       "      <td>113.18</td>\n",
       "      <td>112.34</td>\n",
       "      <td>113.09</td>\n",
       "      <td>24607412</td>\n",
       "    </tr>\n",
       "    <tr>\n",
       "      <th>4</th>\n",
       "      <td>26-Sep-16</td>\n",
       "      <td>111.64</td>\n",
       "      <td>113.39</td>\n",
       "      <td>111.55</td>\n",
       "      <td>112.88</td>\n",
       "      <td>29869442</td>\n",
       "    </tr>\n",
       "  </tbody>\n",
       "</table>\n",
       "</div>"
      ],
      "text/plain": [
       "        Date    Open    High     Low   Close    Volume\n",
       "0  30-Sep-16  112.46  113.37  111.80  113.05  36379106\n",
       "1  29-Sep-16  113.16  113.80  111.80  112.18  35886990\n",
       "2  28-Sep-16  113.69  114.64  113.43  113.95  29641085\n",
       "3  27-Sep-16  113.00  113.18  112.34  113.09  24607412\n",
       "4  26-Sep-16  111.64  113.39  111.55  112.88  29869442"
      ]
     },
     "execution_count": 320,
     "metadata": {},
     "output_type": "execute_result"
    }
   ],
   "source": [
    "apple_df = pd.read_csv('data/apple.csv')\n",
    "apple_df.head()"
   ]
  },
  {
   "cell_type": "code",
   "execution_count": 321,
   "metadata": {},
   "outputs": [
    {
     "data": {
      "text/html": [
       "<div>\n",
       "<style>\n",
       "    .dataframe thead tr:only-child th {\n",
       "        text-align: right;\n",
       "    }\n",
       "\n",
       "    .dataframe thead th {\n",
       "        text-align: left;\n",
       "    }\n",
       "\n",
       "    .dataframe tbody tr th {\n",
       "        vertical-align: top;\n",
       "    }\n",
       "</style>\n",
       "<table border=\"1\" class=\"dataframe\">\n",
       "  <thead>\n",
       "    <tr style=\"text-align: right;\">\n",
       "      <th></th>\n",
       "      <th>0</th>\n",
       "      <th>1</th>\n",
       "      <th>2</th>\n",
       "      <th>3</th>\n",
       "      <th>4</th>\n",
       "      <th>5</th>\n",
       "    </tr>\n",
       "  </thead>\n",
       "  <tbody>\n",
       "    <tr>\n",
       "      <th>0</th>\n",
       "      <td>Date</td>\n",
       "      <td>Open</td>\n",
       "      <td>High</td>\n",
       "      <td>Low</td>\n",
       "      <td>Close</td>\n",
       "      <td>Volume</td>\n",
       "    </tr>\n",
       "    <tr>\n",
       "      <th>1</th>\n",
       "      <td>30-Sep-16</td>\n",
       "      <td>112.46</td>\n",
       "      <td>113.37</td>\n",
       "      <td>111.80</td>\n",
       "      <td>113.05</td>\n",
       "      <td>36379106</td>\n",
       "    </tr>\n",
       "    <tr>\n",
       "      <th>2</th>\n",
       "      <td>29-Sep-16</td>\n",
       "      <td>113.16</td>\n",
       "      <td>113.80</td>\n",
       "      <td>111.80</td>\n",
       "      <td>112.18</td>\n",
       "      <td>35886990</td>\n",
       "    </tr>\n",
       "    <tr>\n",
       "      <th>3</th>\n",
       "      <td>28-Sep-16</td>\n",
       "      <td>113.69</td>\n",
       "      <td>114.64</td>\n",
       "      <td>113.43</td>\n",
       "      <td>113.95</td>\n",
       "      <td>29641085</td>\n",
       "    </tr>\n",
       "    <tr>\n",
       "      <th>4</th>\n",
       "      <td>27-Sep-16</td>\n",
       "      <td>113.00</td>\n",
       "      <td>113.18</td>\n",
       "      <td>112.34</td>\n",
       "      <td>113.09</td>\n",
       "      <td>24607412</td>\n",
       "    </tr>\n",
       "  </tbody>\n",
       "</table>\n",
       "</div>"
      ],
      "text/plain": [
       "           0       1       2       3       4         5\n",
       "0       Date    Open    High     Low   Close    Volume\n",
       "1  30-Sep-16  112.46  113.37  111.80  113.05  36379106\n",
       "2  29-Sep-16  113.16  113.80  111.80  112.18  35886990\n",
       "3  28-Sep-16  113.69  114.64  113.43  113.95  29641085\n",
       "4  27-Sep-16  113.00  113.18  112.34  113.09  24607412"
      ]
     },
     "execution_count": 321,
     "metadata": {},
     "output_type": "execute_result"
    }
   ],
   "source": [
    "# header = None으로 .csv 파일의 header가 없다는 것을 명시\n",
    "apple_df = pd.read_csv('data/apple.csv', header = None)\n",
    "apple_df.head()"
   ]
  },
  {
   "cell_type": "code",
   "execution_count": 323,
   "metadata": {
    "collapsed": true
   },
   "outputs": [
    {
     "ename": "KeyError",
     "evalue": "'Open'",
     "output_type": "error",
     "traceback": [
      "\u001b[0;31m---------------------------------------------------------------------------\u001b[0m",
      "\u001b[0;31mTypeError\u001b[0m                                 Traceback (most recent call last)",
      "\u001b[0;32mpandas/_libs/index.pyx\u001b[0m in \u001b[0;36mpandas._libs.index.IndexEngine.get_loc (pandas/_libs/index.c:5126)\u001b[0;34m()\u001b[0m\n",
      "\u001b[0;32mpandas/_libs/hashtable_class_helper.pxi\u001b[0m in \u001b[0;36mpandas._libs.hashtable.Int64HashTable.get_item (pandas/_libs/hashtable.c:14010)\u001b[0;34m()\u001b[0m\n",
      "\u001b[0;31mTypeError\u001b[0m: an integer is required",
      "\nDuring handling of the above exception, another exception occurred:\n",
      "\u001b[0;31mKeyError\u001b[0m                                  Traceback (most recent call last)",
      "\u001b[0;32m~/.pyenv/versions/3.6.1/envs/firstvenv/lib/python3.6/site-packages/pandas/core/indexes/base.py\u001b[0m in \u001b[0;36mget_loc\u001b[0;34m(self, key, method, tolerance)\u001b[0m\n\u001b[1;32m   2441\u001b[0m             \u001b[0;32mtry\u001b[0m\u001b[0;34m:\u001b[0m\u001b[0;34m\u001b[0m\u001b[0m\n\u001b[0;32m-> 2442\u001b[0;31m                 \u001b[0;32mreturn\u001b[0m \u001b[0mself\u001b[0m\u001b[0;34m.\u001b[0m\u001b[0m_engine\u001b[0m\u001b[0;34m.\u001b[0m\u001b[0mget_loc\u001b[0m\u001b[0;34m(\u001b[0m\u001b[0mkey\u001b[0m\u001b[0;34m)\u001b[0m\u001b[0;34m\u001b[0m\u001b[0m\n\u001b[0m\u001b[1;32m   2443\u001b[0m             \u001b[0;32mexcept\u001b[0m \u001b[0mKeyError\u001b[0m\u001b[0;34m:\u001b[0m\u001b[0;34m\u001b[0m\u001b[0m\n",
      "\u001b[0;32mpandas/_libs/index.pyx\u001b[0m in \u001b[0;36mpandas._libs.index.IndexEngine.get_loc (pandas/_libs/index.c:5280)\u001b[0;34m()\u001b[0m\n",
      "\u001b[0;32mpandas/_libs/index.pyx\u001b[0m in \u001b[0;36mpandas._libs.index.IndexEngine.get_loc (pandas/_libs/index.c:5210)\u001b[0;34m()\u001b[0m\n",
      "\u001b[0;31mKeyError\u001b[0m: 'Open'",
      "\nDuring handling of the above exception, another exception occurred:\n",
      "\u001b[0;31mTypeError\u001b[0m                                 Traceback (most recent call last)",
      "\u001b[0;32mpandas/_libs/index.pyx\u001b[0m in \u001b[0;36mpandas._libs.index.IndexEngine.get_loc (pandas/_libs/index.c:5126)\u001b[0;34m()\u001b[0m\n",
      "\u001b[0;32mpandas/_libs/hashtable_class_helper.pxi\u001b[0m in \u001b[0;36mpandas._libs.hashtable.Int64HashTable.get_item (pandas/_libs/hashtable.c:14010)\u001b[0;34m()\u001b[0m\n",
      "\u001b[0;31mTypeError\u001b[0m: an integer is required",
      "\nDuring handling of the above exception, another exception occurred:\n",
      "\u001b[0;31mKeyError\u001b[0m                                  Traceback (most recent call last)",
      "\u001b[0;32m<ipython-input-323-986ead0a7949>\u001b[0m in \u001b[0;36m<module>\u001b[0;34m()\u001b[0m\n\u001b[1;32m      1\u001b[0m \u001b[0;31m# header를 None으로 설정했으므로 'Open' 칼럼 선택 시 에러발생\u001b[0m\u001b[0;34m\u001b[0m\u001b[0;34m\u001b[0m\u001b[0m\n\u001b[0;32m----> 2\u001b[0;31m \u001b[0mapple_df\u001b[0m\u001b[0;34m[\u001b[0m\u001b[0;34m'Open'\u001b[0m\u001b[0;34m]\u001b[0m\u001b[0;34m\u001b[0m\u001b[0m\n\u001b[0m",
      "\u001b[0;32m~/.pyenv/versions/3.6.1/envs/firstvenv/lib/python3.6/site-packages/pandas/core/frame.py\u001b[0m in \u001b[0;36m__getitem__\u001b[0;34m(self, key)\u001b[0m\n\u001b[1;32m   1962\u001b[0m             \u001b[0;32mreturn\u001b[0m \u001b[0mself\u001b[0m\u001b[0;34m.\u001b[0m\u001b[0m_getitem_multilevel\u001b[0m\u001b[0;34m(\u001b[0m\u001b[0mkey\u001b[0m\u001b[0;34m)\u001b[0m\u001b[0;34m\u001b[0m\u001b[0m\n\u001b[1;32m   1963\u001b[0m         \u001b[0;32melse\u001b[0m\u001b[0;34m:\u001b[0m\u001b[0;34m\u001b[0m\u001b[0m\n\u001b[0;32m-> 1964\u001b[0;31m             \u001b[0;32mreturn\u001b[0m \u001b[0mself\u001b[0m\u001b[0;34m.\u001b[0m\u001b[0m_getitem_column\u001b[0m\u001b[0;34m(\u001b[0m\u001b[0mkey\u001b[0m\u001b[0;34m)\u001b[0m\u001b[0;34m\u001b[0m\u001b[0m\n\u001b[0m\u001b[1;32m   1965\u001b[0m \u001b[0;34m\u001b[0m\u001b[0m\n\u001b[1;32m   1966\u001b[0m     \u001b[0;32mdef\u001b[0m \u001b[0m_getitem_column\u001b[0m\u001b[0;34m(\u001b[0m\u001b[0mself\u001b[0m\u001b[0;34m,\u001b[0m \u001b[0mkey\u001b[0m\u001b[0;34m)\u001b[0m\u001b[0;34m:\u001b[0m\u001b[0;34m\u001b[0m\u001b[0m\n",
      "\u001b[0;32m~/.pyenv/versions/3.6.1/envs/firstvenv/lib/python3.6/site-packages/pandas/core/frame.py\u001b[0m in \u001b[0;36m_getitem_column\u001b[0;34m(self, key)\u001b[0m\n\u001b[1;32m   1969\u001b[0m         \u001b[0;31m# get column\u001b[0m\u001b[0;34m\u001b[0m\u001b[0;34m\u001b[0m\u001b[0m\n\u001b[1;32m   1970\u001b[0m         \u001b[0;32mif\u001b[0m \u001b[0mself\u001b[0m\u001b[0;34m.\u001b[0m\u001b[0mcolumns\u001b[0m\u001b[0;34m.\u001b[0m\u001b[0mis_unique\u001b[0m\u001b[0;34m:\u001b[0m\u001b[0;34m\u001b[0m\u001b[0m\n\u001b[0;32m-> 1971\u001b[0;31m             \u001b[0;32mreturn\u001b[0m \u001b[0mself\u001b[0m\u001b[0;34m.\u001b[0m\u001b[0m_get_item_cache\u001b[0m\u001b[0;34m(\u001b[0m\u001b[0mkey\u001b[0m\u001b[0;34m)\u001b[0m\u001b[0;34m\u001b[0m\u001b[0m\n\u001b[0m\u001b[1;32m   1972\u001b[0m \u001b[0;34m\u001b[0m\u001b[0m\n\u001b[1;32m   1973\u001b[0m         \u001b[0;31m# duplicate columns & possible reduce dimensionality\u001b[0m\u001b[0;34m\u001b[0m\u001b[0;34m\u001b[0m\u001b[0m\n",
      "\u001b[0;32m~/.pyenv/versions/3.6.1/envs/firstvenv/lib/python3.6/site-packages/pandas/core/generic.py\u001b[0m in \u001b[0;36m_get_item_cache\u001b[0;34m(self, item)\u001b[0m\n\u001b[1;32m   1643\u001b[0m         \u001b[0mres\u001b[0m \u001b[0;34m=\u001b[0m \u001b[0mcache\u001b[0m\u001b[0;34m.\u001b[0m\u001b[0mget\u001b[0m\u001b[0;34m(\u001b[0m\u001b[0mitem\u001b[0m\u001b[0;34m)\u001b[0m\u001b[0;34m\u001b[0m\u001b[0m\n\u001b[1;32m   1644\u001b[0m         \u001b[0;32mif\u001b[0m \u001b[0mres\u001b[0m \u001b[0;32mis\u001b[0m \u001b[0;32mNone\u001b[0m\u001b[0;34m:\u001b[0m\u001b[0;34m\u001b[0m\u001b[0m\n\u001b[0;32m-> 1645\u001b[0;31m             \u001b[0mvalues\u001b[0m \u001b[0;34m=\u001b[0m \u001b[0mself\u001b[0m\u001b[0;34m.\u001b[0m\u001b[0m_data\u001b[0m\u001b[0;34m.\u001b[0m\u001b[0mget\u001b[0m\u001b[0;34m(\u001b[0m\u001b[0mitem\u001b[0m\u001b[0;34m)\u001b[0m\u001b[0;34m\u001b[0m\u001b[0m\n\u001b[0m\u001b[1;32m   1646\u001b[0m             \u001b[0mres\u001b[0m \u001b[0;34m=\u001b[0m \u001b[0mself\u001b[0m\u001b[0;34m.\u001b[0m\u001b[0m_box_item_values\u001b[0m\u001b[0;34m(\u001b[0m\u001b[0mitem\u001b[0m\u001b[0;34m,\u001b[0m \u001b[0mvalues\u001b[0m\u001b[0;34m)\u001b[0m\u001b[0;34m\u001b[0m\u001b[0m\n\u001b[1;32m   1647\u001b[0m             \u001b[0mcache\u001b[0m\u001b[0;34m[\u001b[0m\u001b[0mitem\u001b[0m\u001b[0;34m]\u001b[0m \u001b[0;34m=\u001b[0m \u001b[0mres\u001b[0m\u001b[0;34m\u001b[0m\u001b[0m\n",
      "\u001b[0;32m~/.pyenv/versions/3.6.1/envs/firstvenv/lib/python3.6/site-packages/pandas/core/internals.py\u001b[0m in \u001b[0;36mget\u001b[0;34m(self, item, fastpath)\u001b[0m\n\u001b[1;32m   3588\u001b[0m \u001b[0;34m\u001b[0m\u001b[0m\n\u001b[1;32m   3589\u001b[0m             \u001b[0;32mif\u001b[0m \u001b[0;32mnot\u001b[0m \u001b[0misnull\u001b[0m\u001b[0;34m(\u001b[0m\u001b[0mitem\u001b[0m\u001b[0;34m)\u001b[0m\u001b[0;34m:\u001b[0m\u001b[0;34m\u001b[0m\u001b[0m\n\u001b[0;32m-> 3590\u001b[0;31m                 \u001b[0mloc\u001b[0m \u001b[0;34m=\u001b[0m \u001b[0mself\u001b[0m\u001b[0;34m.\u001b[0m\u001b[0mitems\u001b[0m\u001b[0;34m.\u001b[0m\u001b[0mget_loc\u001b[0m\u001b[0;34m(\u001b[0m\u001b[0mitem\u001b[0m\u001b[0;34m)\u001b[0m\u001b[0;34m\u001b[0m\u001b[0m\n\u001b[0m\u001b[1;32m   3591\u001b[0m             \u001b[0;32melse\u001b[0m\u001b[0;34m:\u001b[0m\u001b[0;34m\u001b[0m\u001b[0m\n\u001b[1;32m   3592\u001b[0m                 \u001b[0mindexer\u001b[0m \u001b[0;34m=\u001b[0m \u001b[0mnp\u001b[0m\u001b[0;34m.\u001b[0m\u001b[0marange\u001b[0m\u001b[0;34m(\u001b[0m\u001b[0mlen\u001b[0m\u001b[0;34m(\u001b[0m\u001b[0mself\u001b[0m\u001b[0;34m.\u001b[0m\u001b[0mitems\u001b[0m\u001b[0;34m)\u001b[0m\u001b[0;34m)\u001b[0m\u001b[0;34m[\u001b[0m\u001b[0misnull\u001b[0m\u001b[0;34m(\u001b[0m\u001b[0mself\u001b[0m\u001b[0;34m.\u001b[0m\u001b[0mitems\u001b[0m\u001b[0;34m)\u001b[0m\u001b[0;34m]\u001b[0m\u001b[0;34m\u001b[0m\u001b[0m\n",
      "\u001b[0;32m~/.pyenv/versions/3.6.1/envs/firstvenv/lib/python3.6/site-packages/pandas/core/indexes/base.py\u001b[0m in \u001b[0;36mget_loc\u001b[0;34m(self, key, method, tolerance)\u001b[0m\n\u001b[1;32m   2442\u001b[0m                 \u001b[0;32mreturn\u001b[0m \u001b[0mself\u001b[0m\u001b[0;34m.\u001b[0m\u001b[0m_engine\u001b[0m\u001b[0;34m.\u001b[0m\u001b[0mget_loc\u001b[0m\u001b[0;34m(\u001b[0m\u001b[0mkey\u001b[0m\u001b[0;34m)\u001b[0m\u001b[0;34m\u001b[0m\u001b[0m\n\u001b[1;32m   2443\u001b[0m             \u001b[0;32mexcept\u001b[0m \u001b[0mKeyError\u001b[0m\u001b[0;34m:\u001b[0m\u001b[0;34m\u001b[0m\u001b[0m\n\u001b[0;32m-> 2444\u001b[0;31m                 \u001b[0;32mreturn\u001b[0m \u001b[0mself\u001b[0m\u001b[0;34m.\u001b[0m\u001b[0m_engine\u001b[0m\u001b[0;34m.\u001b[0m\u001b[0mget_loc\u001b[0m\u001b[0;34m(\u001b[0m\u001b[0mself\u001b[0m\u001b[0;34m.\u001b[0m\u001b[0m_maybe_cast_indexer\u001b[0m\u001b[0;34m(\u001b[0m\u001b[0mkey\u001b[0m\u001b[0;34m)\u001b[0m\u001b[0;34m)\u001b[0m\u001b[0;34m\u001b[0m\u001b[0m\n\u001b[0m\u001b[1;32m   2445\u001b[0m \u001b[0;34m\u001b[0m\u001b[0m\n\u001b[1;32m   2446\u001b[0m         \u001b[0mindexer\u001b[0m \u001b[0;34m=\u001b[0m \u001b[0mself\u001b[0m\u001b[0;34m.\u001b[0m\u001b[0mget_indexer\u001b[0m\u001b[0;34m(\u001b[0m\u001b[0;34m[\u001b[0m\u001b[0mkey\u001b[0m\u001b[0;34m]\u001b[0m\u001b[0;34m,\u001b[0m \u001b[0mmethod\u001b[0m\u001b[0;34m=\u001b[0m\u001b[0mmethod\u001b[0m\u001b[0;34m,\u001b[0m \u001b[0mtolerance\u001b[0m\u001b[0;34m=\u001b[0m\u001b[0mtolerance\u001b[0m\u001b[0;34m)\u001b[0m\u001b[0;34m\u001b[0m\u001b[0m\n",
      "\u001b[0;32mpandas/_libs/index.pyx\u001b[0m in \u001b[0;36mpandas._libs.index.IndexEngine.get_loc (pandas/_libs/index.c:5280)\u001b[0;34m()\u001b[0m\n",
      "\u001b[0;32mpandas/_libs/index.pyx\u001b[0m in \u001b[0;36mpandas._libs.index.IndexEngine.get_loc (pandas/_libs/index.c:5210)\u001b[0;34m()\u001b[0m\n",
      "\u001b[0;31mKeyError\u001b[0m: 'Open'"
     ]
    }
   ],
   "source": [
    "# header를 None으로 설정했으므로 'Open' 칼럼 선택 시 에러발생\n",
    "apple_df['Open']"
   ]
  },
  {
   "cell_type": "code",
   "execution_count": 324,
   "metadata": {},
   "outputs": [
    {
     "data": {
      "text/plain": [
       "0          Date\n",
       "1     30-Sep-16\n",
       "2     29-Sep-16\n",
       "3     28-Sep-16\n",
       "4     27-Sep-16\n",
       "5     26-Sep-16\n",
       "6     23-Sep-16\n",
       "7     22-Sep-16\n",
       "8     21-Sep-16\n",
       "9     20-Sep-16\n",
       "10    19-Sep-16\n",
       "11    16-Sep-16\n",
       "12    15-Sep-16\n",
       "13    14-Sep-16\n",
       "14    13-Sep-16\n",
       "15    12-Sep-16\n",
       "16     9-Sep-16\n",
       "17     8-Sep-16\n",
       "18     7-Sep-16\n",
       "19     6-Sep-16\n",
       "20     2-Sep-16\n",
       "21     1-Sep-16\n",
       "Name: 0, dtype: object"
      ]
     },
     "execution_count": 324,
     "metadata": {},
     "output_type": "execute_result"
    }
   ],
   "source": [
    "apple_df[0]"
   ]
  },
  {
   "cell_type": "code",
   "execution_count": 326,
   "metadata": {},
   "outputs": [
    {
     "data": {
      "text/html": [
       "<div>\n",
       "<style>\n",
       "    .dataframe thead tr:only-child th {\n",
       "        text-align: right;\n",
       "    }\n",
       "\n",
       "    .dataframe thead th {\n",
       "        text-align: left;\n",
       "    }\n",
       "\n",
       "    .dataframe tbody tr th {\n",
       "        vertical-align: top;\n",
       "    }\n",
       "</style>\n",
       "<table border=\"1\" class=\"dataframe\">\n",
       "  <thead>\n",
       "    <tr style=\"text-align: right;\">\n",
       "      <th></th>\n",
       "      <th>0</th>\n",
       "      <th>1</th>\n",
       "      <th>2</th>\n",
       "      <th>3</th>\n",
       "      <th>4</th>\n",
       "      <th>5</th>\n",
       "    </tr>\n",
       "  </thead>\n",
       "  <tbody>\n",
       "    <tr>\n",
       "      <th>0</th>\n",
       "      <td>Date</td>\n",
       "      <td>Open</td>\n",
       "      <td>High</td>\n",
       "      <td>Low</td>\n",
       "      <td>Close</td>\n",
       "      <td>Volume</td>\n",
       "    </tr>\n",
       "    <tr>\n",
       "      <th>1</th>\n",
       "      <td>30-Sep-16</td>\n",
       "      <td>112.46</td>\n",
       "      <td>113.37</td>\n",
       "      <td>111.80</td>\n",
       "      <td>113.05</td>\n",
       "      <td>36379106</td>\n",
       "    </tr>\n",
       "    <tr>\n",
       "      <th>2</th>\n",
       "      <td>29-Sep-16</td>\n",
       "      <td>113.16</td>\n",
       "      <td>113.80</td>\n",
       "      <td>111.80</td>\n",
       "      <td>112.18</td>\n",
       "      <td>35886990</td>\n",
       "    </tr>\n",
       "    <tr>\n",
       "      <th>3</th>\n",
       "      <td>28-Sep-16</td>\n",
       "      <td>113.69</td>\n",
       "      <td>114.64</td>\n",
       "      <td>113.43</td>\n",
       "      <td>113.95</td>\n",
       "      <td>29641085</td>\n",
       "    </tr>\n",
       "    <tr>\n",
       "      <th>4</th>\n",
       "      <td>27-Sep-16</td>\n",
       "      <td>113.00</td>\n",
       "      <td>113.18</td>\n",
       "      <td>112.34</td>\n",
       "      <td>113.09</td>\n",
       "      <td>24607412</td>\n",
       "    </tr>\n",
       "    <tr>\n",
       "      <th>5</th>\n",
       "      <td>26-Sep-16</td>\n",
       "      <td>111.64</td>\n",
       "      <td>113.39</td>\n",
       "      <td>111.55</td>\n",
       "      <td>112.88</td>\n",
       "      <td>29869442</td>\n",
       "    </tr>\n",
       "  </tbody>\n",
       "</table>\n",
       "</div>"
      ],
      "text/plain": [
       "           0       1       2       3       4         5\n",
       "0       Date    Open    High     Low   Close    Volume\n",
       "1  30-Sep-16  112.46  113.37  111.80  113.05  36379106\n",
       "2  29-Sep-16  113.16  113.80  111.80  112.18  35886990\n",
       "3  28-Sep-16  113.69  114.64  113.43  113.95  29641085\n",
       "4  27-Sep-16  113.00  113.18  112.34  113.09  24607412\n",
       "5  26-Sep-16  111.64  113.39  111.55  112.88  29869442"
      ]
     },
     "execution_count": 326,
     "metadata": {},
     "output_type": "execute_result"
    }
   ],
   "source": [
    "# 슬라이싱은 row 지원\n",
    "apple_df[:6]"
   ]
  },
  {
   "cell_type": "code",
   "execution_count": 327,
   "metadata": {},
   "outputs": [
    {
     "data": {
      "text/html": [
       "<div>\n",
       "<style>\n",
       "    .dataframe thead tr:only-child th {\n",
       "        text-align: right;\n",
       "    }\n",
       "\n",
       "    .dataframe thead th {\n",
       "        text-align: left;\n",
       "    }\n",
       "\n",
       "    .dataframe tbody tr th {\n",
       "        vertical-align: top;\n",
       "    }\n",
       "</style>\n",
       "<table border=\"1\" class=\"dataframe\">\n",
       "  <thead>\n",
       "    <tr style=\"text-align: right;\">\n",
       "      <th></th>\n",
       "      <th>0</th>\n",
       "      <th>1</th>\n",
       "      <th>2</th>\n",
       "      <th>3</th>\n",
       "      <th>4</th>\n",
       "      <th>5</th>\n",
       "    </tr>\n",
       "  </thead>\n",
       "  <tbody>\n",
       "    <tr>\n",
       "      <th>3</th>\n",
       "      <td>28-Sep-16</td>\n",
       "      <td>113.69</td>\n",
       "      <td>114.64</td>\n",
       "      <td>113.43</td>\n",
       "      <td>113.95</td>\n",
       "      <td>29641085</td>\n",
       "    </tr>\n",
       "    <tr>\n",
       "      <th>4</th>\n",
       "      <td>27-Sep-16</td>\n",
       "      <td>113.00</td>\n",
       "      <td>113.18</td>\n",
       "      <td>112.34</td>\n",
       "      <td>113.09</td>\n",
       "      <td>24607412</td>\n",
       "    </tr>\n",
       "    <tr>\n",
       "      <th>5</th>\n",
       "      <td>26-Sep-16</td>\n",
       "      <td>111.64</td>\n",
       "      <td>113.39</td>\n",
       "      <td>111.55</td>\n",
       "      <td>112.88</td>\n",
       "      <td>29869442</td>\n",
       "    </tr>\n",
       "    <tr>\n",
       "      <th>6</th>\n",
       "      <td>23-Sep-16</td>\n",
       "      <td>114.42</td>\n",
       "      <td>114.79</td>\n",
       "      <td>111.55</td>\n",
       "      <td>112.71</td>\n",
       "      <td>52481151</td>\n",
       "    </tr>\n",
       "  </tbody>\n",
       "</table>\n",
       "</div>"
      ],
      "text/plain": [
       "           0       1       2       3       4         5\n",
       "3  28-Sep-16  113.69  114.64  113.43  113.95  29641085\n",
       "4  27-Sep-16  113.00  113.18  112.34  113.09  24607412\n",
       "5  26-Sep-16  111.64  113.39  111.55  112.88  29869442\n",
       "6  23-Sep-16  114.42  114.79  111.55  112.71  52481151"
      ]
     },
     "execution_count": 327,
     "metadata": {},
     "output_type": "execute_result"
    }
   ],
   "source": [
    "apple_df[3:7]"
   ]
  },
  {
   "cell_type": "markdown",
   "metadata": {},
   "source": [
    "* **연습문제** \n",
    " - 아래 코드의 결과는?"
   ]
  },
  {
   "cell_type": "code",
   "execution_count": 328,
   "metadata": {},
   "outputs": [
    {
     "data": {
      "text/plain": [
       "0          Date\n",
       "1     30-Sep-16\n",
       "2     29-Sep-16\n",
       "3     28-Sep-16\n",
       "4     27-Sep-16\n",
       "5     26-Sep-16\n",
       "6     23-Sep-16\n",
       "7     22-Sep-16\n",
       "8     21-Sep-16\n",
       "9     20-Sep-16\n",
       "10    19-Sep-16\n",
       "11    16-Sep-16\n",
       "12    15-Sep-16\n",
       "13    14-Sep-16\n",
       "14    13-Sep-16\n",
       "15    12-Sep-16\n",
       "16     9-Sep-16\n",
       "17     8-Sep-16\n",
       "18     7-Sep-16\n",
       "19     6-Sep-16\n",
       "20     2-Sep-16\n",
       "21     1-Sep-16\n",
       "Name: 0, dtype: object"
      ]
     },
     "execution_count": 328,
     "metadata": {},
     "output_type": "execute_result"
    }
   ],
   "source": [
    "apple_df[0]"
   ]
  },
  {
   "cell_type": "code",
   "execution_count": 329,
   "metadata": {},
   "outputs": [
    {
     "data": {
      "text/html": [
       "<div>\n",
       "<style>\n",
       "    .dataframe thead tr:only-child th {\n",
       "        text-align: right;\n",
       "    }\n",
       "\n",
       "    .dataframe thead th {\n",
       "        text-align: left;\n",
       "    }\n",
       "\n",
       "    .dataframe tbody tr th {\n",
       "        vertical-align: top;\n",
       "    }\n",
       "</style>\n",
       "<table border=\"1\" class=\"dataframe\">\n",
       "  <thead>\n",
       "    <tr style=\"text-align: right;\">\n",
       "      <th></th>\n",
       "      <th>1</th>\n",
       "      <th>2</th>\n",
       "    </tr>\n",
       "  </thead>\n",
       "  <tbody>\n",
       "    <tr>\n",
       "      <th>0</th>\n",
       "      <td>Open</td>\n",
       "      <td>High</td>\n",
       "    </tr>\n",
       "    <tr>\n",
       "      <th>1</th>\n",
       "      <td>112.46</td>\n",
       "      <td>113.37</td>\n",
       "    </tr>\n",
       "    <tr>\n",
       "      <th>2</th>\n",
       "      <td>113.16</td>\n",
       "      <td>113.80</td>\n",
       "    </tr>\n",
       "    <tr>\n",
       "      <th>3</th>\n",
       "      <td>113.69</td>\n",
       "      <td>114.64</td>\n",
       "    </tr>\n",
       "    <tr>\n",
       "      <th>4</th>\n",
       "      <td>113.00</td>\n",
       "      <td>113.18</td>\n",
       "    </tr>\n",
       "    <tr>\n",
       "      <th>5</th>\n",
       "      <td>111.64</td>\n",
       "      <td>113.39</td>\n",
       "    </tr>\n",
       "    <tr>\n",
       "      <th>6</th>\n",
       "      <td>114.42</td>\n",
       "      <td>114.79</td>\n",
       "    </tr>\n",
       "    <tr>\n",
       "      <th>7</th>\n",
       "      <td>114.35</td>\n",
       "      <td>114.94</td>\n",
       "    </tr>\n",
       "    <tr>\n",
       "      <th>8</th>\n",
       "      <td>113.85</td>\n",
       "      <td>113.99</td>\n",
       "    </tr>\n",
       "    <tr>\n",
       "      <th>9</th>\n",
       "      <td>113.05</td>\n",
       "      <td>114.12</td>\n",
       "    </tr>\n",
       "    <tr>\n",
       "      <th>10</th>\n",
       "      <td>115.19</td>\n",
       "      <td>116.18</td>\n",
       "    </tr>\n",
       "    <tr>\n",
       "      <th>11</th>\n",
       "      <td>115.12</td>\n",
       "      <td>116.13</td>\n",
       "    </tr>\n",
       "    <tr>\n",
       "      <th>12</th>\n",
       "      <td>113.86</td>\n",
       "      <td>115.73</td>\n",
       "    </tr>\n",
       "    <tr>\n",
       "      <th>13</th>\n",
       "      <td>108.73</td>\n",
       "      <td>113.03</td>\n",
       "    </tr>\n",
       "    <tr>\n",
       "      <th>14</th>\n",
       "      <td>107.51</td>\n",
       "      <td>108.79</td>\n",
       "    </tr>\n",
       "    <tr>\n",
       "      <th>15</th>\n",
       "      <td>102.65</td>\n",
       "      <td>105.72</td>\n",
       "    </tr>\n",
       "    <tr>\n",
       "      <th>16</th>\n",
       "      <td>104.64</td>\n",
       "      <td>105.72</td>\n",
       "    </tr>\n",
       "    <tr>\n",
       "      <th>17</th>\n",
       "      <td>107.25</td>\n",
       "      <td>107.27</td>\n",
       "    </tr>\n",
       "    <tr>\n",
       "      <th>18</th>\n",
       "      <td>107.83</td>\n",
       "      <td>108.76</td>\n",
       "    </tr>\n",
       "    <tr>\n",
       "      <th>19</th>\n",
       "      <td>107.90</td>\n",
       "      <td>108.30</td>\n",
       "    </tr>\n",
       "    <tr>\n",
       "      <th>20</th>\n",
       "      <td>107.70</td>\n",
       "      <td>108.00</td>\n",
       "    </tr>\n",
       "    <tr>\n",
       "      <th>21</th>\n",
       "      <td>106.14</td>\n",
       "      <td>106.80</td>\n",
       "    </tr>\n",
       "  </tbody>\n",
       "</table>\n",
       "</div>"
      ],
      "text/plain": [
       "         1       2\n",
       "0     Open    High\n",
       "1   112.46  113.37\n",
       "2   113.16  113.80\n",
       "3   113.69  114.64\n",
       "4   113.00  113.18\n",
       "5   111.64  113.39\n",
       "6   114.42  114.79\n",
       "7   114.35  114.94\n",
       "8   113.85  113.99\n",
       "9   113.05  114.12\n",
       "10  115.19  116.18\n",
       "11  115.12  116.13\n",
       "12  113.86  115.73\n",
       "13  108.73  113.03\n",
       "14  107.51  108.79\n",
       "15  102.65  105.72\n",
       "16  104.64  105.72\n",
       "17  107.25  107.27\n",
       "18  107.83  108.76\n",
       "19  107.90  108.30\n",
       "20  107.70  108.00\n",
       "21  106.14  106.80"
      ]
     },
     "execution_count": 329,
     "metadata": {},
     "output_type": "execute_result"
    }
   ],
   "source": [
    "# column index 1, 2번 선택\n",
    "apple_df[[1, 2]]"
   ]
  },
  {
   "cell_type": "code",
   "execution_count": 330,
   "metadata": {},
   "outputs": [
    {
     "data": {
      "text/plain": [
       "(0     30-Sep-16\n",
       " 1     29-Sep-16\n",
       " 2     28-Sep-16\n",
       " 3     27-Sep-16\n",
       " 4     26-Sep-16\n",
       " 5     23-Sep-16\n",
       " 6     22-Sep-16\n",
       " 7     21-Sep-16\n",
       " 8     20-Sep-16\n",
       " 9     19-Sep-16\n",
       " 10    16-Sep-16\n",
       " 11    15-Sep-16\n",
       " 12    14-Sep-16\n",
       " 13    13-Sep-16\n",
       " 14    12-Sep-16\n",
       " 15     9-Sep-16\n",
       " 16     8-Sep-16\n",
       " 17     7-Sep-16\n",
       " 18     6-Sep-16\n",
       " 19     2-Sep-16\n",
       " 20     1-Sep-16\n",
       " Name: Date, dtype: object, 0     112.46\n",
       " 1     113.16\n",
       " 2     113.69\n",
       " 3     113.00\n",
       " 4     111.64\n",
       " 5     114.42\n",
       " 6     114.35\n",
       " 7     113.85\n",
       " 8     113.05\n",
       " 9     115.19\n",
       " 10    115.12\n",
       " 11    113.86\n",
       " 12    108.73\n",
       " 13    107.51\n",
       " 14    102.65\n",
       " 15    104.64\n",
       " 16    107.25\n",
       " 17    107.83\n",
       " 18    107.90\n",
       " 19    107.70\n",
       " 20    106.14\n",
       " Name: Open, dtype: float64)"
      ]
     },
     "execution_count": 330,
     "metadata": {},
     "output_type": "execute_result"
    }
   ],
   "source": [
    "apple_df = pd.read_csv('data/apple.csv')\n",
    "apple_df['Date'], apple_df['Open']"
   ]
  },
  {
   "cell_type": "markdown",
   "metadata": {},
   "source": [
    "* **column 선택하기**\n",
    "  - 기본적으로 **[ ]는 column을 추출 **\n",
    "  - 컬럼 이름일 경우 이름만 사용 가능\n",
    "  - 컬럼 인덱스일 경우 인덱스의 리스트 사용 가능"
   ]
  },
  {
   "cell_type": "code",
   "execution_count": 347,
   "metadata": {},
   "outputs": [
    {
     "data": {
      "text/html": [
       "<div>\n",
       "<style>\n",
       "    .dataframe thead tr:only-child th {\n",
       "        text-align: right;\n",
       "    }\n",
       "\n",
       "    .dataframe thead th {\n",
       "        text-align: left;\n",
       "    }\n",
       "\n",
       "    .dataframe tbody tr th {\n",
       "        vertical-align: top;\n",
       "    }\n",
       "</style>\n",
       "<table border=\"1\" class=\"dataframe\">\n",
       "  <thead>\n",
       "    <tr style=\"text-align: right;\">\n",
       "      <th></th>\n",
       "      <th>Date</th>\n",
       "      <th>Open</th>\n",
       "      <th>High</th>\n",
       "      <th>Low</th>\n",
       "      <th>Close</th>\n",
       "      <th>Volume</th>\n",
       "    </tr>\n",
       "  </thead>\n",
       "  <tbody>\n",
       "    <tr>\n",
       "      <th>0</th>\n",
       "      <td>30-Sep-16</td>\n",
       "      <td>112.46</td>\n",
       "      <td>113.37</td>\n",
       "      <td>111.80</td>\n",
       "      <td>113.05</td>\n",
       "      <td>36379106</td>\n",
       "    </tr>\n",
       "    <tr>\n",
       "      <th>1</th>\n",
       "      <td>29-Sep-16</td>\n",
       "      <td>113.16</td>\n",
       "      <td>113.80</td>\n",
       "      <td>111.80</td>\n",
       "      <td>112.18</td>\n",
       "      <td>35886990</td>\n",
       "    </tr>\n",
       "    <tr>\n",
       "      <th>2</th>\n",
       "      <td>28-Sep-16</td>\n",
       "      <td>113.69</td>\n",
       "      <td>114.64</td>\n",
       "      <td>113.43</td>\n",
       "      <td>113.95</td>\n",
       "      <td>29641085</td>\n",
       "    </tr>\n",
       "    <tr>\n",
       "      <th>3</th>\n",
       "      <td>27-Sep-16</td>\n",
       "      <td>113.00</td>\n",
       "      <td>113.18</td>\n",
       "      <td>112.34</td>\n",
       "      <td>113.09</td>\n",
       "      <td>24607412</td>\n",
       "    </tr>\n",
       "    <tr>\n",
       "      <th>4</th>\n",
       "      <td>26-Sep-16</td>\n",
       "      <td>111.64</td>\n",
       "      <td>113.39</td>\n",
       "      <td>111.55</td>\n",
       "      <td>112.88</td>\n",
       "      <td>29869442</td>\n",
       "    </tr>\n",
       "  </tbody>\n",
       "</table>\n",
       "</div>"
      ],
      "text/plain": [
       "        Date    Open    High     Low   Close    Volume\n",
       "0  30-Sep-16  112.46  113.37  111.80  113.05  36379106\n",
       "1  29-Sep-16  113.16  113.80  111.80  112.18  35886990\n",
       "2  28-Sep-16  113.69  114.64  113.43  113.95  29641085\n",
       "3  27-Sep-16  113.00  113.18  112.34  113.09  24607412\n",
       "4  26-Sep-16  111.64  113.39  111.55  112.88  29869442"
      ]
     },
     "execution_count": 347,
     "metadata": {},
     "output_type": "execute_result"
    }
   ],
   "source": [
    "apple_df.head()"
   ]
  },
  {
   "cell_type": "code",
   "execution_count": 331,
   "metadata": {},
   "outputs": [
    {
     "data": {
      "text/html": [
       "<div>\n",
       "<style>\n",
       "    .dataframe thead tr:only-child th {\n",
       "        text-align: right;\n",
       "    }\n",
       "\n",
       "    .dataframe thead th {\n",
       "        text-align: left;\n",
       "    }\n",
       "\n",
       "    .dataframe tbody tr th {\n",
       "        vertical-align: top;\n",
       "    }\n",
       "</style>\n",
       "<table border=\"1\" class=\"dataframe\">\n",
       "  <thead>\n",
       "    <tr style=\"text-align: right;\">\n",
       "      <th></th>\n",
       "      <th>Date</th>\n",
       "      <th>Close</th>\n",
       "      <th>Volume</th>\n",
       "    </tr>\n",
       "  </thead>\n",
       "  <tbody>\n",
       "    <tr>\n",
       "      <th>0</th>\n",
       "      <td>30-Sep-16</td>\n",
       "      <td>113.05</td>\n",
       "      <td>36379106</td>\n",
       "    </tr>\n",
       "    <tr>\n",
       "      <th>1</th>\n",
       "      <td>29-Sep-16</td>\n",
       "      <td>112.18</td>\n",
       "      <td>35886990</td>\n",
       "    </tr>\n",
       "    <tr>\n",
       "      <th>2</th>\n",
       "      <td>28-Sep-16</td>\n",
       "      <td>113.95</td>\n",
       "      <td>29641085</td>\n",
       "    </tr>\n",
       "    <tr>\n",
       "      <th>3</th>\n",
       "      <td>27-Sep-16</td>\n",
       "      <td>113.09</td>\n",
       "      <td>24607412</td>\n",
       "    </tr>\n",
       "    <tr>\n",
       "      <th>4</th>\n",
       "      <td>26-Sep-16</td>\n",
       "      <td>112.88</td>\n",
       "      <td>29869442</td>\n",
       "    </tr>\n",
       "    <tr>\n",
       "      <th>5</th>\n",
       "      <td>23-Sep-16</td>\n",
       "      <td>112.71</td>\n",
       "      <td>52481151</td>\n",
       "    </tr>\n",
       "    <tr>\n",
       "      <th>6</th>\n",
       "      <td>22-Sep-16</td>\n",
       "      <td>114.62</td>\n",
       "      <td>31073984</td>\n",
       "    </tr>\n",
       "    <tr>\n",
       "      <th>7</th>\n",
       "      <td>21-Sep-16</td>\n",
       "      <td>113.55</td>\n",
       "      <td>36003185</td>\n",
       "    </tr>\n",
       "    <tr>\n",
       "      <th>8</th>\n",
       "      <td>20-Sep-16</td>\n",
       "      <td>113.57</td>\n",
       "      <td>34514269</td>\n",
       "    </tr>\n",
       "    <tr>\n",
       "      <th>9</th>\n",
       "      <td>19-Sep-16</td>\n",
       "      <td>113.58</td>\n",
       "      <td>47023046</td>\n",
       "    </tr>\n",
       "    <tr>\n",
       "      <th>10</th>\n",
       "      <td>16-Sep-16</td>\n",
       "      <td>114.92</td>\n",
       "      <td>79886911</td>\n",
       "    </tr>\n",
       "    <tr>\n",
       "      <th>11</th>\n",
       "      <td>15-Sep-16</td>\n",
       "      <td>115.57</td>\n",
       "      <td>90613177</td>\n",
       "    </tr>\n",
       "    <tr>\n",
       "      <th>12</th>\n",
       "      <td>14-Sep-16</td>\n",
       "      <td>111.77</td>\n",
       "      <td>112340318</td>\n",
       "    </tr>\n",
       "    <tr>\n",
       "      <th>13</th>\n",
       "      <td>13-Sep-16</td>\n",
       "      <td>107.95</td>\n",
       "      <td>62176190</td>\n",
       "    </tr>\n",
       "    <tr>\n",
       "      <th>14</th>\n",
       "      <td>12-Sep-16</td>\n",
       "      <td>105.44</td>\n",
       "      <td>45292770</td>\n",
       "    </tr>\n",
       "    <tr>\n",
       "      <th>15</th>\n",
       "      <td>9-Sep-16</td>\n",
       "      <td>103.13</td>\n",
       "      <td>46556984</td>\n",
       "    </tr>\n",
       "    <tr>\n",
       "      <th>16</th>\n",
       "      <td>8-Sep-16</td>\n",
       "      <td>105.52</td>\n",
       "      <td>53002026</td>\n",
       "    </tr>\n",
       "    <tr>\n",
       "      <th>17</th>\n",
       "      <td>7-Sep-16</td>\n",
       "      <td>108.36</td>\n",
       "      <td>42364328</td>\n",
       "    </tr>\n",
       "    <tr>\n",
       "      <th>18</th>\n",
       "      <td>6-Sep-16</td>\n",
       "      <td>107.70</td>\n",
       "      <td>26880391</td>\n",
       "    </tr>\n",
       "    <tr>\n",
       "      <th>19</th>\n",
       "      <td>2-Sep-16</td>\n",
       "      <td>107.73</td>\n",
       "      <td>26334858</td>\n",
       "    </tr>\n",
       "    <tr>\n",
       "      <th>20</th>\n",
       "      <td>1-Sep-16</td>\n",
       "      <td>106.73</td>\n",
       "      <td>26701523</td>\n",
       "    </tr>\n",
       "  </tbody>\n",
       "</table>\n",
       "</div>"
      ],
      "text/plain": [
       "         Date   Close     Volume\n",
       "0   30-Sep-16  113.05   36379106\n",
       "1   29-Sep-16  112.18   35886990\n",
       "2   28-Sep-16  113.95   29641085\n",
       "3   27-Sep-16  113.09   24607412\n",
       "4   26-Sep-16  112.88   29869442\n",
       "5   23-Sep-16  112.71   52481151\n",
       "6   22-Sep-16  114.62   31073984\n",
       "7   21-Sep-16  113.55   36003185\n",
       "8   20-Sep-16  113.57   34514269\n",
       "9   19-Sep-16  113.58   47023046\n",
       "10  16-Sep-16  114.92   79886911\n",
       "11  15-Sep-16  115.57   90613177\n",
       "12  14-Sep-16  111.77  112340318\n",
       "13  13-Sep-16  107.95   62176190\n",
       "14  12-Sep-16  105.44   45292770\n",
       "15   9-Sep-16  103.13   46556984\n",
       "16   8-Sep-16  105.52   53002026\n",
       "17   7-Sep-16  108.36   42364328\n",
       "18   6-Sep-16  107.70   26880391\n",
       "19   2-Sep-16  107.73   26334858\n",
       "20   1-Sep-16  106.73   26701523"
      ]
     },
     "execution_count": 331,
     "metadata": {},
     "output_type": "execute_result"
    }
   ],
   "source": [
    "# 숫자 인덱스로 컬럼 셀렉션 확인 할 것 \n",
    "apple_df[['Date', 'Close', 'Volume']] # 인덱스로도 가능"
   ]
  },
  {
   "cell_type": "code",
   "execution_count": 215,
   "metadata": {},
   "outputs": [
    {
     "name": "stdout",
     "output_type": "stream",
     "text": [
      "<class 'pandas.core.frame.DataFrame'>\n",
      "<class 'pandas.core.frame.DataFrame'>\n",
      "<class 'pandas.core.series.Series'>\n"
     ]
    }
   ],
   "source": [
    "print(type(apple_df[['Date']]))\n",
    "print(type(apple_df[['Date', 'Close']]))\n",
    "print(type(apple_df['Date']))"
   ]
  },
  {
   "cell_type": "markdown",
   "metadata": {},
   "source": [
    "* **row 선택하기**\n",
    "  - Seires의 경우 []로 row 선택이 가능하나, **DataFrame의 경우는 기본적으로 column을 선택하도록 설계**\n",
    "  - [:10]과 같이 slicing의 경우에는 row 선택 가능\n",
    "  - **.loc, .iloc함수**로 row 선택 가능"
   ]
  },
  {
   "cell_type": "code",
   "execution_count": 357,
   "metadata": {},
   "outputs": [
    {
     "data": {
      "text/html": [
       "<div>\n",
       "<style>\n",
       "    .dataframe thead tr:only-child th {\n",
       "        text-align: right;\n",
       "    }\n",
       "\n",
       "    .dataframe thead th {\n",
       "        text-align: left;\n",
       "    }\n",
       "\n",
       "    .dataframe tbody tr th {\n",
       "        vertical-align: top;\n",
       "    }\n",
       "</style>\n",
       "<table border=\"1\" class=\"dataframe\">\n",
       "  <thead>\n",
       "    <tr style=\"text-align: right;\">\n",
       "      <th></th>\n",
       "      <th>Name</th>\n",
       "      <th>Sector</th>\n",
       "      <th>Price</th>\n",
       "      <th>Dividend Yield</th>\n",
       "      <th>Price/Earnings</th>\n",
       "      <th>Earnings/Share</th>\n",
       "      <th>Book Value</th>\n",
       "      <th>52 week low</th>\n",
       "      <th>52 week high</th>\n",
       "      <th>Market Cap</th>\n",
       "      <th>EBITDA</th>\n",
       "      <th>Price/Sales</th>\n",
       "      <th>Price/Book</th>\n",
       "      <th>SEC Filings</th>\n",
       "    </tr>\n",
       "    <tr>\n",
       "      <th>Symbol</th>\n",
       "      <th></th>\n",
       "      <th></th>\n",
       "      <th></th>\n",
       "      <th></th>\n",
       "      <th></th>\n",
       "      <th></th>\n",
       "      <th></th>\n",
       "      <th></th>\n",
       "      <th></th>\n",
       "      <th></th>\n",
       "      <th></th>\n",
       "      <th></th>\n",
       "      <th></th>\n",
       "      <th></th>\n",
       "    </tr>\n",
       "  </thead>\n",
       "  <tbody>\n",
       "    <tr>\n",
       "      <th>MMM</th>\n",
       "      <td>3M Company</td>\n",
       "      <td>Industrials</td>\n",
       "      <td>177.12</td>\n",
       "      <td>2.53</td>\n",
       "      <td>22.77</td>\n",
       "      <td>7.78</td>\n",
       "      <td>19.34</td>\n",
       "      <td>134.00</td>\n",
       "      <td>177.79</td>\n",
       "      <td>107.43</td>\n",
       "      <td>8.57</td>\n",
       "      <td>3.52</td>\n",
       "      <td>9.04</td>\n",
       "      <td>http://www.sec.gov/cgi-bin/browse-edgar?action...</td>\n",
       "    </tr>\n",
       "    <tr>\n",
       "      <th>ABT</th>\n",
       "      <td>Abbott Laboratories</td>\n",
       "      <td>Health Care</td>\n",
       "      <td>41.89</td>\n",
       "      <td>2.55</td>\n",
       "      <td>25.79</td>\n",
       "      <td>1.62</td>\n",
       "      <td>14.10</td>\n",
       "      <td>36.00</td>\n",
       "      <td>51.74</td>\n",
       "      <td>61.54</td>\n",
       "      <td>4.40</td>\n",
       "      <td>2.98</td>\n",
       "      <td>2.93</td>\n",
       "      <td>http://www.sec.gov/cgi-bin/browse-edgar?action...</td>\n",
       "    </tr>\n",
       "    <tr>\n",
       "      <th>ABBV</th>\n",
       "      <td>AbbVie</td>\n",
       "      <td>Health Care</td>\n",
       "      <td>64.16</td>\n",
       "      <td>3.60</td>\n",
       "      <td>19.29</td>\n",
       "      <td>3.33</td>\n",
       "      <td>2.87</td>\n",
       "      <td>45.45</td>\n",
       "      <td>71.60</td>\n",
       "      <td>103.77</td>\n",
       "      <td>10.30</td>\n",
       "      <td>4.31</td>\n",
       "      <td>22.09</td>\n",
       "      <td>http://www.sec.gov/cgi-bin/browse-edgar?action...</td>\n",
       "    </tr>\n",
       "    <tr>\n",
       "      <th>ACN</th>\n",
       "      <td>Accenture plc</td>\n",
       "      <td>Information Technology</td>\n",
       "      <td>115.11</td>\n",
       "      <td>1.94</td>\n",
       "      <td>19.45</td>\n",
       "      <td>5.92</td>\n",
       "      <td>11.45</td>\n",
       "      <td>88.43</td>\n",
       "      <td>120.78</td>\n",
       "      <td>71.66</td>\n",
       "      <td>5.42</td>\n",
       "      <td>2.17</td>\n",
       "      <td>9.84</td>\n",
       "      <td>http://www.sec.gov/cgi-bin/browse-edgar?action...</td>\n",
       "    </tr>\n",
       "    <tr>\n",
       "      <th>ATVI</th>\n",
       "      <td>Activision Blizzard</td>\n",
       "      <td>Information Technology</td>\n",
       "      <td>41.29</td>\n",
       "      <td>0.64</td>\n",
       "      <td>37.06</td>\n",
       "      <td>1.11</td>\n",
       "      <td>11.31</td>\n",
       "      <td>24.04</td>\n",
       "      <td>41.32</td>\n",
       "      <td>30.48</td>\n",
       "      <td>1.59</td>\n",
       "      <td>6.16</td>\n",
       "      <td>3.57</td>\n",
       "      <td>http://www.sec.gov/cgi-bin/browse-edgar?action...</td>\n",
       "    </tr>\n",
       "  </tbody>\n",
       "</table>\n",
       "</div>"
      ],
      "text/plain": [
       "                       Name                  Sector   Price  Dividend Yield  \\\n",
       "Symbol                                                                        \n",
       "MMM              3M Company             Industrials  177.12            2.53   \n",
       "ABT     Abbott Laboratories             Health Care   41.89            2.55   \n",
       "ABBV                 AbbVie             Health Care   64.16            3.60   \n",
       "ACN           Accenture plc  Information Technology  115.11            1.94   \n",
       "ATVI    Activision Blizzard  Information Technology   41.29            0.64   \n",
       "\n",
       "        Price/Earnings  Earnings/Share  Book Value  52 week low  52 week high  \\\n",
       "Symbol                                                                          \n",
       "MMM              22.77            7.78       19.34       134.00        177.79   \n",
       "ABT              25.79            1.62       14.10        36.00         51.74   \n",
       "ABBV             19.29            3.33        2.87        45.45         71.60   \n",
       "ACN              19.45            5.92       11.45        88.43        120.78   \n",
       "ATVI             37.06            1.11       11.31        24.04         41.32   \n",
       "\n",
       "        Market Cap  EBITDA  Price/Sales  Price/Book  \\\n",
       "Symbol                                                \n",
       "MMM         107.43    8.57         3.52        9.04   \n",
       "ABT          61.54    4.40         2.98        2.93   \n",
       "ABBV        103.77   10.30         4.31       22.09   \n",
       "ACN          71.66    5.42         2.17        9.84   \n",
       "ATVI         30.48    1.59         6.16        3.57   \n",
       "\n",
       "                                              SEC Filings  \n",
       "Symbol                                                     \n",
       "MMM     http://www.sec.gov/cgi-bin/browse-edgar?action...  \n",
       "ABT     http://www.sec.gov/cgi-bin/browse-edgar?action...  \n",
       "ABBV    http://www.sec.gov/cgi-bin/browse-edgar?action...  \n",
       "ACN     http://www.sec.gov/cgi-bin/browse-edgar?action...  \n",
       "ATVI    http://www.sec.gov/cgi-bin/browse-edgar?action...  "
      ]
     },
     "execution_count": 357,
     "metadata": {},
     "output_type": "execute_result"
    }
   ],
   "source": [
    "import pandas as pd\n",
    "sample_df = pd.read_csv('data/sample.csv', index_col='Symbol')\n",
    "sample_df.head()"
   ]
  },
  {
   "cell_type": "code",
   "execution_count": 360,
   "metadata": {},
   "outputs": [
    {
     "name": "stdout",
     "output_type": "stream",
     "text": [
      "                       Name                  Sector   Price  Dividend Yield  \\\n",
      "Symbol                                                                        \n",
      "ABT     Abbott Laboratories             Health Care   41.89            2.55   \n",
      "ABBV                 AbbVie             Health Care   64.16            3.60   \n",
      "ACN           Accenture plc  Information Technology  115.11            1.94   \n",
      "ATVI    Activision Blizzard  Information Technology   41.29            0.64   \n",
      "AYI       Acuity Brands Inc             Industrials  264.62            0.21   \n",
      "ADBE      Adobe Systems Inc  Information Technology   96.79            0.00   \n",
      "AAP      Advance Auto Parts  Consumer Discretionary  164.85            0.15   \n",
      "AES                AES Corp               Utilities   12.32            3.60   \n",
      "AET               Aetna Inc             Health Care  117.00            0.87   \n",
      "\n",
      "        Price/Earnings  Earnings/Share  Book Value  52 week low  52 week high  \\\n",
      "Symbol                                                                          \n",
      "ABT              25.79            1.62       14.10        36.00         51.74   \n",
      "ABBV             19.29            3.33        2.87        45.45         71.60   \n",
      "ACN              19.45            5.92       11.45        88.43        120.78   \n",
      "ATVI             37.06            1.11       11.31        24.04         41.32   \n",
      "AYI              43.23            6.12       36.50       168.33        265.10   \n",
      "ADBE             54.68            1.77       14.53        71.27        100.56   \n",
      "AAP              25.20            6.40       35.82       131.59        201.24   \n",
      "AES              28.99            0.43        4.86         8.22         13.38   \n",
      "AET              17.62            6.64       47.96        92.42        125.47   \n",
      "\n",
      "        Market Cap   EBITDA  Price/Sales  Price/Book  \\\n",
      "Symbol                                                 \n",
      "ABT          61.54   4.4000         2.98        2.93   \n",
      "ABBV        103.77  10.3000         4.31       22.09   \n",
      "ACN          71.66   5.4200         2.17        9.84   \n",
      "ATVI         30.48   1.5900         6.16        3.57   \n",
      "AYI          11.51   0.5365         3.53        6.95   \n",
      "ADBE         48.23   1.5300         8.93        6.55   \n",
      "AAP          12.10   1.2400         1.22        4.50   \n",
      "AES           8.12   3.5700         0.55        2.49   \n",
      "AET          41.02   5.4000         0.67        2.41   \n",
      "\n",
      "                                              SEC Filings  \n",
      "Symbol                                                     \n",
      "ABT     http://www.sec.gov/cgi-bin/browse-edgar?action...  \n",
      "ABBV    http://www.sec.gov/cgi-bin/browse-edgar?action...  \n",
      "ACN     http://www.sec.gov/cgi-bin/browse-edgar?action...  \n",
      "ATVI    http://www.sec.gov/cgi-bin/browse-edgar?action...  \n",
      "AYI     http://www.sec.gov/cgi-bin/browse-edgar?action...  \n",
      "ADBE    http://www.sec.gov/cgi-bin/browse-edgar?action...  \n",
      "AAP     http://www.sec.gov/cgi-bin/browse-edgar?action...  \n",
      "AES     http://www.sec.gov/cgi-bin/browse-edgar?action...  \n",
      "AET     http://www.sec.gov/cgi-bin/browse-edgar?action...  \n"
     ]
    }
   ],
   "source": [
    "# slicing을 사용하면 row선택\n",
    "print(sample_df[1:10])"
   ]
  },
  {
   "cell_type": "code",
   "execution_count": 361,
   "metadata": {},
   "outputs": [
    {
     "name": "stdout",
     "output_type": "stream",
     "text": [
      "Name                                            Abbott Laboratories\n",
      "Sector                                                  Health Care\n",
      "Price                                                         41.89\n",
      "Dividend Yield                                                 2.55\n",
      "Price/Earnings                                                25.79\n",
      "Earnings/Share                                                 1.62\n",
      "Book Value                                                     14.1\n",
      "52 week low                                                      36\n",
      "52 week high                                                  51.74\n",
      "Market Cap                                                    61.54\n",
      "EBITDA                                                          4.4\n",
      "Price/Sales                                                    2.98\n",
      "Price/Book                                                     2.93\n",
      "SEC Filings       http://www.sec.gov/cgi-bin/browse-edgar?action...\n",
      "Name: ABT, dtype: object\n"
     ]
    }
   ],
   "source": [
    "print(sample_df.loc['ABT'])"
   ]
  },
  {
   "cell_type": "code",
   "execution_count": 6,
   "metadata": {},
   "outputs": [
    {
     "data": {
      "text/plain": [
       "Name                                                     3M Company\n",
       "Sector                                                  Industrials\n",
       "Price                                                        177.12\n",
       "Dividend Yield                                                 2.53\n",
       "Price/Earnings                                                22.77\n",
       "Earnings/Share                                                 7.78\n",
       "Book Value                                                    19.34\n",
       "52 week low                                                     134\n",
       "52 week high                                                 177.79\n",
       "Market Cap                                                   107.43\n",
       "EBITDA                                                         8.57\n",
       "Price/Sales                                                    3.52\n",
       "Price/Book                                                     9.04\n",
       "SEC Filings       http://www.sec.gov/cgi-bin/browse-edgar?action...\n",
       "Name: MMM, dtype: object"
      ]
     },
     "execution_count": 6,
     "metadata": {},
     "output_type": "execute_result"
    }
   ],
   "source": [
    "sample_df.iloc[0]"
   ]
  },
  {
   "cell_type": "code",
   "execution_count": 7,
   "metadata": {},
   "outputs": [
    {
     "data": {
      "text/html": [
       "<div>\n",
       "<style>\n",
       "    .dataframe thead tr:only-child th {\n",
       "        text-align: right;\n",
       "    }\n",
       "\n",
       "    .dataframe thead th {\n",
       "        text-align: left;\n",
       "    }\n",
       "\n",
       "    .dataframe tbody tr th {\n",
       "        vertical-align: top;\n",
       "    }\n",
       "</style>\n",
       "<table border=\"1\" class=\"dataframe\">\n",
       "  <thead>\n",
       "    <tr style=\"text-align: right;\">\n",
       "      <th></th>\n",
       "      <th>Name</th>\n",
       "      <th>Price</th>\n",
       "    </tr>\n",
       "    <tr>\n",
       "      <th>Symbol</th>\n",
       "      <th></th>\n",
       "      <th></th>\n",
       "    </tr>\n",
       "  </thead>\n",
       "  <tbody>\n",
       "    <tr>\n",
       "      <th>MMM</th>\n",
       "      <td>3M Company</td>\n",
       "      <td>177.12</td>\n",
       "    </tr>\n",
       "    <tr>\n",
       "      <th>MSFT</th>\n",
       "      <td>Microsoft Corp.</td>\n",
       "      <td>52.30</td>\n",
       "    </tr>\n",
       "  </tbody>\n",
       "</table>\n",
       "</div>"
      ],
      "text/plain": [
       "                   Name   Price\n",
       "Symbol                         \n",
       "MMM          3M Company  177.12\n",
       "MSFT    Microsoft Corp.   52.30"
      ]
     },
     "execution_count": 7,
     "metadata": {},
     "output_type": "execute_result"
    }
   ],
   "source": [
    "sample_df.loc[['MMM', 'MSFT']][['Name', 'Price']]"
   ]
  },
  {
   "cell_type": "code",
   "execution_count": 8,
   "metadata": {},
   "outputs": [
    {
     "name": "stdout",
     "output_type": "stream",
     "text": [
      "                       Name       Sector   Price  Dividend Yield  \\\n",
      "Symbol                                                             \n",
      "MMM              3M Company  Industrials  177.12            2.53   \n",
      "ABT     Abbott Laboratories  Health Care   41.89            2.55   \n",
      "ABBV                 AbbVie  Health Care   64.16            3.60   \n",
      "\n",
      "        Price/Earnings  Earnings/Share  Book Value  52 week low  52 week high  \\\n",
      "Symbol                                                                          \n",
      "MMM              22.77            7.78       19.34       134.00        177.79   \n",
      "ABT              25.79            1.62       14.10        36.00         51.74   \n",
      "ABBV             19.29            3.33        2.87        45.45         71.60   \n",
      "\n",
      "        Market Cap  EBITDA  Price/Sales  Price/Book  \\\n",
      "Symbol                                                \n",
      "MMM         107.43    8.57         3.52        9.04   \n",
      "ABT          61.54    4.40         2.98        2.93   \n",
      "ABBV        103.77   10.30         4.31       22.09   \n",
      "\n",
      "                                              SEC Filings  \n",
      "Symbol                                                     \n",
      "MMM     http://www.sec.gov/cgi-bin/browse-edgar?action...  \n",
      "ABT     http://www.sec.gov/cgi-bin/browse-edgar?action...  \n",
      "ABBV    http://www.sec.gov/cgi-bin/browse-edgar?action...  \n",
      "<class 'pandas.core.frame.DataFrame'>\n",
      "\n",
      "Name                                                     3M Company\n",
      "Sector                                                  Industrials\n",
      "Price                                                        177.12\n",
      "Dividend Yield                                                 2.53\n",
      "Price/Earnings                                                22.77\n",
      "Earnings/Share                                                 7.78\n",
      "Book Value                                                    19.34\n",
      "52 week low                                                     134\n",
      "52 week high                                                 177.79\n",
      "Market Cap                                                   107.43\n",
      "EBITDA                                                         8.57\n",
      "Price/Sales                                                    3.52\n",
      "Price/Book                                                     9.04\n",
      "SEC Filings       http://www.sec.gov/cgi-bin/browse-edgar?action...\n",
      "Name: MMM, dtype: object\n",
      "<class 'pandas.core.series.Series'>\n"
     ]
    }
   ],
   "source": [
    "print(sample_df.iloc[[0, 1, 2]])\n",
    "print(type(sample_df.iloc[[0, 1, 2]]))\n",
    "\n",
    "print()\n",
    "\n",
    "print(sample_df.iloc[0]) \n",
    "print(type(sample_df.iloc[0]))"
   ]
  },
  {
   "cell_type": "markdown",
   "metadata": {},
   "source": [
    "* **boolean selection으로 row 선택하기**"
   ]
  },
  {
   "cell_type": "code",
   "execution_count": 368,
   "metadata": {},
   "outputs": [
    {
     "name": "stdout",
     "output_type": "stream",
     "text": [
      "Symbol\n",
      "MMM       True\n",
      "ABT      False\n",
      "ABBV     False\n",
      "ACN       True\n",
      "ATVI     False\n",
      "AYI       True\n",
      "ADBE     False\n",
      "AAP       True\n",
      "AES      False\n",
      "AET       True\n",
      "AMG       True\n",
      "AFL      False\n",
      "A        False\n",
      "APD       True\n",
      "AKAM     False\n",
      "ALK      False\n",
      "ALB      False\n",
      "AA       False\n",
      "ALXN      True\n",
      "ALLE     False\n",
      "AGN       True\n",
      "ADS       True\n",
      "LNT      False\n",
      "ALL      False\n",
      "GOOGL     True\n",
      "GOOG      True\n",
      "MO       False\n",
      "AMZN      True\n",
      "AEE      False\n",
      "AAL      False\n",
      "         ...  \n",
      "V        False\n",
      "VNO       True\n",
      "VMC       True\n",
      "WMT      False\n",
      "WBA      False\n",
      "WM       False\n",
      "WAT       True\n",
      "WFC      False\n",
      "HCN      False\n",
      "WDC      False\n",
      "WU       False\n",
      "WRK      False\n",
      "WY       False\n",
      "WHR       True\n",
      "WFM      False\n",
      "WMB      False\n",
      "WLTW      True\n",
      "WEC      False\n",
      "WYN      False\n",
      "WYNN     False\n",
      "XEL      False\n",
      "XRX      False\n",
      "XLNX     False\n",
      "XL       False\n",
      "XYL      False\n",
      "YHOO     False\n",
      "YUM      False\n",
      "ZBH       True\n",
      "ZION     False\n",
      "ZTS      False\n",
      "Name: Price, Length: 504, dtype: bool\n"
     ]
    }
   ],
   "source": [
    "print(sample_df['Price'] > 100)"
   ]
  },
  {
   "cell_type": "code",
   "execution_count": 369,
   "metadata": {},
   "outputs": [
    {
     "data": {
      "text/html": [
       "<div>\n",
       "<style>\n",
       "    .dataframe thead tr:only-child th {\n",
       "        text-align: right;\n",
       "    }\n",
       "\n",
       "    .dataframe thead th {\n",
       "        text-align: left;\n",
       "    }\n",
       "\n",
       "    .dataframe tbody tr th {\n",
       "        vertical-align: top;\n",
       "    }\n",
       "</style>\n",
       "<table border=\"1\" class=\"dataframe\">\n",
       "  <thead>\n",
       "    <tr style=\"text-align: right;\">\n",
       "      <th></th>\n",
       "      <th>Name</th>\n",
       "      <th>Sector</th>\n",
       "      <th>Price</th>\n",
       "      <th>Dividend Yield</th>\n",
       "      <th>Price/Earnings</th>\n",
       "      <th>Earnings/Share</th>\n",
       "      <th>Book Value</th>\n",
       "      <th>52 week low</th>\n",
       "      <th>52 week high</th>\n",
       "      <th>Market Cap</th>\n",
       "      <th>EBITDA</th>\n",
       "      <th>Price/Sales</th>\n",
       "      <th>Price/Book</th>\n",
       "      <th>SEC Filings</th>\n",
       "    </tr>\n",
       "    <tr>\n",
       "      <th>Symbol</th>\n",
       "      <th></th>\n",
       "      <th></th>\n",
       "      <th></th>\n",
       "      <th></th>\n",
       "      <th></th>\n",
       "      <th></th>\n",
       "      <th></th>\n",
       "      <th></th>\n",
       "      <th></th>\n",
       "      <th></th>\n",
       "      <th></th>\n",
       "      <th></th>\n",
       "      <th></th>\n",
       "      <th></th>\n",
       "    </tr>\n",
       "  </thead>\n",
       "  <tbody>\n",
       "    <tr>\n",
       "      <th>MMM</th>\n",
       "      <td>3M Company</td>\n",
       "      <td>Industrials</td>\n",
       "      <td>177.12</td>\n",
       "      <td>2.53</td>\n",
       "      <td>22.77</td>\n",
       "      <td>7.78</td>\n",
       "      <td>19.34</td>\n",
       "      <td>134.00</td>\n",
       "      <td>177.79</td>\n",
       "      <td>107.43000</td>\n",
       "      <td>8.57</td>\n",
       "      <td>3.52</td>\n",
       "      <td>9.04</td>\n",
       "      <td>http://www.sec.gov/cgi-bin/browse-edgar?action...</td>\n",
       "    </tr>\n",
       "    <tr>\n",
       "      <th>ACN</th>\n",
       "      <td>Accenture plc</td>\n",
       "      <td>Information Technology</td>\n",
       "      <td>115.11</td>\n",
       "      <td>1.94</td>\n",
       "      <td>19.45</td>\n",
       "      <td>5.92</td>\n",
       "      <td>11.45</td>\n",
       "      <td>88.43</td>\n",
       "      <td>120.78</td>\n",
       "      <td>71.66000</td>\n",
       "      <td>5.42</td>\n",
       "      <td>2.17</td>\n",
       "      <td>9.84</td>\n",
       "      <td>http://www.sec.gov/cgi-bin/browse-edgar?action...</td>\n",
       "    </tr>\n",
       "    <tr>\n",
       "      <th>AET</th>\n",
       "      <td>Aetna Inc</td>\n",
       "      <td>Health Care</td>\n",
       "      <td>117.00</td>\n",
       "      <td>0.87</td>\n",
       "      <td>17.62</td>\n",
       "      <td>6.64</td>\n",
       "      <td>47.96</td>\n",
       "      <td>92.42</td>\n",
       "      <td>125.47</td>\n",
       "      <td>41.02000</td>\n",
       "      <td>5.40</td>\n",
       "      <td>0.67</td>\n",
       "      <td>2.41</td>\n",
       "      <td>http://www.sec.gov/cgi-bin/browse-edgar?action...</td>\n",
       "    </tr>\n",
       "    <tr>\n",
       "      <th>AGN</th>\n",
       "      <td>Allergan plc</td>\n",
       "      <td>Health Care</td>\n",
       "      <td>240.59</td>\n",
       "      <td>0.10</td>\n",
       "      <td>21.53</td>\n",
       "      <td>11.18</td>\n",
       "      <td>183.41</td>\n",
       "      <td>195.50</td>\n",
       "      <td>340.34</td>\n",
       "      <td>95.17000</td>\n",
       "      <td>6.57</td>\n",
       "      <td>5.77</td>\n",
       "      <td>1.30</td>\n",
       "      <td>http://www.sec.gov/cgi-bin/browse-edgar?action...</td>\n",
       "    </tr>\n",
       "    <tr>\n",
       "      <th>GOOGL</th>\n",
       "      <td>Alphabet Inc Class A</td>\n",
       "      <td>Information Technology</td>\n",
       "      <td>717.78</td>\n",
       "      <td>NaN</td>\n",
       "      <td>29.21</td>\n",
       "      <td>24.58</td>\n",
       "      <td>179.92</td>\n",
       "      <td>558.70</td>\n",
       "      <td>810.35</td>\n",
       "      <td>492.80000</td>\n",
       "      <td>25.51</td>\n",
       "      <td>6.23</td>\n",
       "      <td>3.93</td>\n",
       "      <td>http://www.sec.gov/cgi-bin/browse-edgar?action...</td>\n",
       "    </tr>\n",
       "    <tr>\n",
       "      <th>GOOG</th>\n",
       "      <td>Alphabet Inc Class C</td>\n",
       "      <td>Information Technology</td>\n",
       "      <td>705.63</td>\n",
       "      <td>NaN</td>\n",
       "      <td>28.71</td>\n",
       "      <td>24.58</td>\n",
       "      <td>179.92</td>\n",
       "      <td>532.40</td>\n",
       "      <td>789.87</td>\n",
       "      <td>484.45000</td>\n",
       "      <td>25.51</td>\n",
       "      <td>6.12</td>\n",
       "      <td>3.86</td>\n",
       "      <td>http://www.sec.gov/cgi-bin/browse-edgar?action...</td>\n",
       "    </tr>\n",
       "    <tr>\n",
       "      <th>AMZN</th>\n",
       "      <td>Amazon.com Inc</td>\n",
       "      <td>Consumer Discretionary</td>\n",
       "      <td>745.81</td>\n",
       "      <td>NaN</td>\n",
       "      <td>307.42</td>\n",
       "      <td>2.43</td>\n",
       "      <td>31.26</td>\n",
       "      <td>447.54</td>\n",
       "      <td>746.10</td>\n",
       "      <td>351.89000</td>\n",
       "      <td>9.09</td>\n",
       "      <td>3.06</td>\n",
       "      <td>23.56</td>\n",
       "      <td>http://www.sec.gov/cgi-bin/browse-edgar?action...</td>\n",
       "    </tr>\n",
       "    <tr>\n",
       "      <th>AMGN</th>\n",
       "      <td>Amgen Inc</td>\n",
       "      <td>Health Care</td>\n",
       "      <td>161.10</td>\n",
       "      <td>2.55</td>\n",
       "      <td>17.05</td>\n",
       "      <td>9.45</td>\n",
       "      <td>38.18</td>\n",
       "      <td>130.09</td>\n",
       "      <td>181.81</td>\n",
       "      <td>121.02000</td>\n",
       "      <td>10.99</td>\n",
       "      <td>5.31</td>\n",
       "      <td>4.10</td>\n",
       "      <td>http://www.sec.gov/cgi-bin/browse-edgar?action...</td>\n",
       "    </tr>\n",
       "    <tr>\n",
       "      <th>ANTM</th>\n",
       "      <td>Anthem Inc.</td>\n",
       "      <td>Health Care</td>\n",
       "      <td>132.15</td>\n",
       "      <td>2.01</td>\n",
       "      <td>14.87</td>\n",
       "      <td>8.89</td>\n",
       "      <td>89.59</td>\n",
       "      <td>115.63</td>\n",
       "      <td>161.80</td>\n",
       "      <td>34.75000</td>\n",
       "      <td>5.60</td>\n",
       "      <td>0.42</td>\n",
       "      <td>1.44</td>\n",
       "      <td>http://www.sec.gov/cgi-bin/browse-edgar?action...</td>\n",
       "    </tr>\n",
       "    <tr>\n",
       "      <th>BRK-B</th>\n",
       "      <td>Berkshire Hathaway</td>\n",
       "      <td>Financials</td>\n",
       "      <td>143.65</td>\n",
       "      <td>NaN</td>\n",
       "      <td>14.45</td>\n",
       "      <td>9.94</td>\n",
       "      <td>157329.00</td>\n",
       "      <td>123.55</td>\n",
       "      <td>148.03</td>\n",
       "      <td>0.23602</td>\n",
       "      <td>45.20</td>\n",
       "      <td>0.00</td>\n",
       "      <td>0.00</td>\n",
       "      <td>http://www.sec.gov/cgi-bin/browse-edgar?action...</td>\n",
       "    </tr>\n",
       "    <tr>\n",
       "      <th>BIIB</th>\n",
       "      <td>BIOGEN IDEC Inc.</td>\n",
       "      <td>Health Care</td>\n",
       "      <td>251.30</td>\n",
       "      <td>NaN</td>\n",
       "      <td>15.44</td>\n",
       "      <td>16.27</td>\n",
       "      <td>47.14</td>\n",
       "      <td>223.02</td>\n",
       "      <td>412.24</td>\n",
       "      <td>55.05000</td>\n",
       "      <td>5.88</td>\n",
       "      <td>4.95</td>\n",
       "      <td>5.25</td>\n",
       "      <td>http://www.sec.gov/cgi-bin/browse-edgar?action...</td>\n",
       "    </tr>\n",
       "    <tr>\n",
       "      <th>BA</th>\n",
       "      <td>Boeing Company</td>\n",
       "      <td>Industrials</td>\n",
       "      <td>130.09</td>\n",
       "      <td>3.43</td>\n",
       "      <td>17.58</td>\n",
       "      <td>7.40</td>\n",
       "      <td>6.32</td>\n",
       "      <td>102.10</td>\n",
       "      <td>150.59</td>\n",
       "      <td>82.87000</td>\n",
       "      <td>8.78</td>\n",
       "      <td>0.84</td>\n",
       "      <td>20.13</td>\n",
       "      <td>http://www.sec.gov/cgi-bin/browse-edgar?action...</td>\n",
       "    </tr>\n",
       "    <tr>\n",
       "      <th>CVX</th>\n",
       "      <td>Chevron Corp.</td>\n",
       "      <td>Energy</td>\n",
       "      <td>104.77</td>\n",
       "      <td>4.15</td>\n",
       "      <td>151.62</td>\n",
       "      <td>0.69</td>\n",
       "      <td>79.75</td>\n",
       "      <td>69.58</td>\n",
       "      <td>105.00</td>\n",
       "      <td>197.46000</td>\n",
       "      <td>16.31</td>\n",
       "      <td>1.71</td>\n",
       "      <td>1.29</td>\n",
       "      <td>http://www.sec.gov/cgi-bin/browse-edgar?action...</td>\n",
       "    </tr>\n",
       "    <tr>\n",
       "      <th>FB</th>\n",
       "      <td>Facebook</td>\n",
       "      <td>Information Technology</td>\n",
       "      <td>117.24</td>\n",
       "      <td>NaN</td>\n",
       "      <td>71.71</td>\n",
       "      <td>1.63</td>\n",
       "      <td>16.54</td>\n",
       "      <td>72.00</td>\n",
       "      <td>121.08</td>\n",
       "      <td>335.34000</td>\n",
       "      <td>9.43</td>\n",
       "      <td>16.76</td>\n",
       "      <td>7.00</td>\n",
       "      <td>http://www.sec.gov/cgi-bin/browse-edgar?action...</td>\n",
       "    </tr>\n",
       "    <tr>\n",
       "      <th>FDX</th>\n",
       "      <td>FedEx Corporation</td>\n",
       "      <td>Industrials</td>\n",
       "      <td>156.22</td>\n",
       "      <td>0.75</td>\n",
       "      <td>24.00</td>\n",
       "      <td>6.51</td>\n",
       "      <td>53.38</td>\n",
       "      <td>119.71</td>\n",
       "      <td>173.00</td>\n",
       "      <td>41.93000</td>\n",
       "      <td>7.53</td>\n",
       "      <td>0.81</td>\n",
       "      <td>2.86</td>\n",
       "      <td>http://www.sec.gov/cgi-bin/browse-edgar?action...</td>\n",
       "    </tr>\n",
       "    <tr>\n",
       "      <th>HD</th>\n",
       "      <td>Home Depot</td>\n",
       "      <td>Consumer Discretionary</td>\n",
       "      <td>134.34</td>\n",
       "      <td>2.10</td>\n",
       "      <td>23.60</td>\n",
       "      <td>5.69</td>\n",
       "      <td>5.09</td>\n",
       "      <td>92.17</td>\n",
       "      <td>137.82</td>\n",
       "      <td>167.12000</td>\n",
       "      <td>14.09</td>\n",
       "      <td>1.81</td>\n",
       "      <td>25.78</td>\n",
       "      <td>http://www.sec.gov/cgi-bin/browse-edgar?action...</td>\n",
       "    </tr>\n",
       "    <tr>\n",
       "      <th>HON</th>\n",
       "      <td>Honeywell Int'l Inc.</td>\n",
       "      <td>Industrials</td>\n",
       "      <td>118.84</td>\n",
       "      <td>2.05</td>\n",
       "      <td>19.29</td>\n",
       "      <td>6.16</td>\n",
       "      <td>23.88</td>\n",
       "      <td>87.00</td>\n",
       "      <td>118.99</td>\n",
       "      <td>90.57000</td>\n",
       "      <td>7.82</td>\n",
       "      <td>2.28</td>\n",
       "      <td>4.86</td>\n",
       "      <td>http://www.sec.gov/cgi-bin/browse-edgar?action...</td>\n",
       "    </tr>\n",
       "    <tr>\n",
       "      <th>IBM</th>\n",
       "      <td>International Bus. Machines</td>\n",
       "      <td>Information Technology</td>\n",
       "      <td>154.46</td>\n",
       "      <td>3.67</td>\n",
       "      <td>11.71</td>\n",
       "      <td>13.19</td>\n",
       "      <td>15.55</td>\n",
       "      <td>116.90</td>\n",
       "      <td>173.78</td>\n",
       "      <td>148.28000</td>\n",
       "      <td>19.00</td>\n",
       "      <td>1.81</td>\n",
       "      <td>9.82</td>\n",
       "      <td>http://www.sec.gov/cgi-bin/browse-edgar?action...</td>\n",
       "    </tr>\n",
       "    <tr>\n",
       "      <th>JNJ</th>\n",
       "      <td>Johnson &amp; Johnson</td>\n",
       "      <td>Health Care</td>\n",
       "      <td>122.85</td>\n",
       "      <td>2.61</td>\n",
       "      <td>22.39</td>\n",
       "      <td>5.49</td>\n",
       "      <td>26.40</td>\n",
       "      <td>81.79</td>\n",
       "      <td>123.23</td>\n",
       "      <td>337.92000</td>\n",
       "      <td>22.24</td>\n",
       "      <td>4.80</td>\n",
       "      <td>4.64</td>\n",
       "      <td>http://www.sec.gov/cgi-bin/browse-edgar?action...</td>\n",
       "    </tr>\n",
       "    <tr>\n",
       "      <th>LMT</th>\n",
       "      <td>Lockheed Martin Corp.</td>\n",
       "      <td>Industrials</td>\n",
       "      <td>251.90</td>\n",
       "      <td>2.64</td>\n",
       "      <td>22.28</td>\n",
       "      <td>11.31</td>\n",
       "      <td>10.44</td>\n",
       "      <td>181.91</td>\n",
       "      <td>252.30</td>\n",
       "      <td>76.69000</td>\n",
       "      <td>6.41</td>\n",
       "      <td>1.59</td>\n",
       "      <td>23.94</td>\n",
       "      <td>http://www.sec.gov/cgi-bin/browse-edgar?action...</td>\n",
       "    </tr>\n",
       "    <tr>\n",
       "      <th>MCD</th>\n",
       "      <td>McDonald's Corp.</td>\n",
       "      <td>Consumer Discretionary</td>\n",
       "      <td>121.31</td>\n",
       "      <td>2.94</td>\n",
       "      <td>23.31</td>\n",
       "      <td>5.20</td>\n",
       "      <td>4.40</td>\n",
       "      <td>87.50</td>\n",
       "      <td>131.96</td>\n",
       "      <td>106.49000</td>\n",
       "      <td>9.03</td>\n",
       "      <td>4.19</td>\n",
       "      <td>27.48</td>\n",
       "      <td>http://www.sec.gov/cgi-bin/browse-edgar?action...</td>\n",
       "    </tr>\n",
       "    <tr>\n",
       "      <th>NEE</th>\n",
       "      <td>NextEra Energy</td>\n",
       "      <td>Utilities</td>\n",
       "      <td>129.93</td>\n",
       "      <td>2.86</td>\n",
       "      <td>21.74</td>\n",
       "      <td>5.98</td>\n",
       "      <td>49.65</td>\n",
       "      <td>93.74</td>\n",
       "      <td>131.98</td>\n",
       "      <td>59.96000</td>\n",
       "      <td>8.00</td>\n",
       "      <td>3.44</td>\n",
       "      <td>2.58</td>\n",
       "      <td>http://www.sec.gov/cgi-bin/browse-edgar?action...</td>\n",
       "    </tr>\n",
       "    <tr>\n",
       "      <th>PEP</th>\n",
       "      <td>PepsiCo Inc.</td>\n",
       "      <td>Consumer Staples</td>\n",
       "      <td>108.27</td>\n",
       "      <td>2.84</td>\n",
       "      <td>30.59</td>\n",
       "      <td>3.50</td>\n",
       "      <td>8.60</td>\n",
       "      <td>76.48</td>\n",
       "      <td>109.00</td>\n",
       "      <td>155.82000</td>\n",
       "      <td>12.12</td>\n",
       "      <td>2.49</td>\n",
       "      <td>12.50</td>\n",
       "      <td>http://www.sec.gov/cgi-bin/browse-edgar?action...</td>\n",
       "    </tr>\n",
       "    <tr>\n",
       "      <th>PM</th>\n",
       "      <td>Philip Morris International</td>\n",
       "      <td>Consumer Staples</td>\n",
       "      <td>103.09</td>\n",
       "      <td>4.01</td>\n",
       "      <td>24.31</td>\n",
       "      <td>4.24</td>\n",
       "      <td>-8.22</td>\n",
       "      <td>76.54</td>\n",
       "      <td>103.16</td>\n",
       "      <td>159.92000</td>\n",
       "      <td>11.03</td>\n",
       "      <td>6.01</td>\n",
       "      <td>NaN</td>\n",
       "      <td>http://www.sec.gov/cgi-bin/browse-edgar?action...</td>\n",
       "    </tr>\n",
       "    <tr>\n",
       "      <th>TRV</th>\n",
       "      <td>The Travelers Companies Inc.</td>\n",
       "      <td>Financials</td>\n",
       "      <td>118.08</td>\n",
       "      <td>2.28</td>\n",
       "      <td>11.09</td>\n",
       "      <td>10.65</td>\n",
       "      <td>82.65</td>\n",
       "      <td>95.21</td>\n",
       "      <td>119.30</td>\n",
       "      <td>34.53000</td>\n",
       "      <td>5.69</td>\n",
       "      <td>1.28</td>\n",
       "      <td>1.42</td>\n",
       "      <td>http://www.sec.gov/cgi-bin/browse-edgar?action...</td>\n",
       "    </tr>\n",
       "    <tr>\n",
       "      <th>UNH</th>\n",
       "      <td>United Health Group Inc.</td>\n",
       "      <td>Health Care</td>\n",
       "      <td>141.27</td>\n",
       "      <td>1.78</td>\n",
       "      <td>22.71</td>\n",
       "      <td>6.22</td>\n",
       "      <td>36.87</td>\n",
       "      <td>95.00</td>\n",
       "      <td>142.96</td>\n",
       "      <td>134.32000</td>\n",
       "      <td>12.73</td>\n",
       "      <td>0.81</td>\n",
       "      <td>3.82</td>\n",
       "      <td>http://www.sec.gov/cgi-bin/browse-edgar?action...</td>\n",
       "    </tr>\n",
       "    <tr>\n",
       "      <th>UPS</th>\n",
       "      <td>United Parcel Service</td>\n",
       "      <td>Industrials</td>\n",
       "      <td>109.52</td>\n",
       "      <td>2.89</td>\n",
       "      <td>19.90</td>\n",
       "      <td>5.50</td>\n",
       "      <td>2.78</td>\n",
       "      <td>87.30</td>\n",
       "      <td>109.85</td>\n",
       "      <td>96.67000</td>\n",
       "      <td>9.96</td>\n",
       "      <td>1.62</td>\n",
       "      <td>38.85</td>\n",
       "      <td>http://www.sec.gov/cgi-bin/browse-edgar?action...</td>\n",
       "    </tr>\n",
       "    <tr>\n",
       "      <th>UTX</th>\n",
       "      <td>United Technologies</td>\n",
       "      <td>Industrials</td>\n",
       "      <td>103.66</td>\n",
       "      <td>2.59</td>\n",
       "      <td>12.15</td>\n",
       "      <td>8.53</td>\n",
       "      <td>33.88</td>\n",
       "      <td>83.39</td>\n",
       "      <td>112.36</td>\n",
       "      <td>86.75000</td>\n",
       "      <td>10.11</td>\n",
       "      <td>1.52</td>\n",
       "      <td>3.01</td>\n",
       "      <td>http://www.sec.gov/cgi-bin/browse-edgar?action...</td>\n",
       "    </tr>\n",
       "  </tbody>\n",
       "</table>\n",
       "</div>"
      ],
      "text/plain": [
       "                                Name                  Sector   Price  \\\n",
       "Symbol                                                                 \n",
       "MMM                       3M Company             Industrials  177.12   \n",
       "ACN                    Accenture plc  Information Technology  115.11   \n",
       "AET                        Aetna Inc             Health Care  117.00   \n",
       "AGN                     Allergan plc             Health Care  240.59   \n",
       "GOOGL           Alphabet Inc Class A  Information Technology  717.78   \n",
       "GOOG            Alphabet Inc Class C  Information Technology  705.63   \n",
       "AMZN                  Amazon.com Inc  Consumer Discretionary  745.81   \n",
       "AMGN                       Amgen Inc             Health Care  161.10   \n",
       "ANTM                     Anthem Inc.             Health Care  132.15   \n",
       "BRK-B             Berkshire Hathaway              Financials  143.65   \n",
       "BIIB                BIOGEN IDEC Inc.             Health Care  251.30   \n",
       "BA                    Boeing Company             Industrials  130.09   \n",
       "CVX                    Chevron Corp.                  Energy  104.77   \n",
       "FB                          Facebook  Information Technology  117.24   \n",
       "FDX                FedEx Corporation             Industrials  156.22   \n",
       "HD                        Home Depot  Consumer Discretionary  134.34   \n",
       "HON             Honeywell Int'l Inc.             Industrials  118.84   \n",
       "IBM      International Bus. Machines  Information Technology  154.46   \n",
       "JNJ                Johnson & Johnson             Health Care  122.85   \n",
       "LMT            Lockheed Martin Corp.             Industrials  251.90   \n",
       "MCD                 McDonald's Corp.  Consumer Discretionary  121.31   \n",
       "NEE                   NextEra Energy               Utilities  129.93   \n",
       "PEP                     PepsiCo Inc.        Consumer Staples  108.27   \n",
       "PM       Philip Morris International        Consumer Staples  103.09   \n",
       "TRV     The Travelers Companies Inc.              Financials  118.08   \n",
       "UNH         United Health Group Inc.             Health Care  141.27   \n",
       "UPS            United Parcel Service             Industrials  109.52   \n",
       "UTX              United Technologies             Industrials  103.66   \n",
       "\n",
       "        Dividend Yield  Price/Earnings  Earnings/Share  Book Value  \\\n",
       "Symbol                                                               \n",
       "MMM               2.53           22.77            7.78       19.34   \n",
       "ACN               1.94           19.45            5.92       11.45   \n",
       "AET               0.87           17.62            6.64       47.96   \n",
       "AGN               0.10           21.53           11.18      183.41   \n",
       "GOOGL              NaN           29.21           24.58      179.92   \n",
       "GOOG               NaN           28.71           24.58      179.92   \n",
       "AMZN               NaN          307.42            2.43       31.26   \n",
       "AMGN              2.55           17.05            9.45       38.18   \n",
       "ANTM              2.01           14.87            8.89       89.59   \n",
       "BRK-B              NaN           14.45            9.94   157329.00   \n",
       "BIIB               NaN           15.44           16.27       47.14   \n",
       "BA                3.43           17.58            7.40        6.32   \n",
       "CVX               4.15          151.62            0.69       79.75   \n",
       "FB                 NaN           71.71            1.63       16.54   \n",
       "FDX               0.75           24.00            6.51       53.38   \n",
       "HD                2.10           23.60            5.69        5.09   \n",
       "HON               2.05           19.29            6.16       23.88   \n",
       "IBM               3.67           11.71           13.19       15.55   \n",
       "JNJ               2.61           22.39            5.49       26.40   \n",
       "LMT               2.64           22.28           11.31       10.44   \n",
       "MCD               2.94           23.31            5.20        4.40   \n",
       "NEE               2.86           21.74            5.98       49.65   \n",
       "PEP               2.84           30.59            3.50        8.60   \n",
       "PM                4.01           24.31            4.24       -8.22   \n",
       "TRV               2.28           11.09           10.65       82.65   \n",
       "UNH               1.78           22.71            6.22       36.87   \n",
       "UPS               2.89           19.90            5.50        2.78   \n",
       "UTX               2.59           12.15            8.53       33.88   \n",
       "\n",
       "        52 week low  52 week high  Market Cap  EBITDA  Price/Sales  \\\n",
       "Symbol                                                               \n",
       "MMM          134.00        177.79   107.43000    8.57         3.52   \n",
       "ACN           88.43        120.78    71.66000    5.42         2.17   \n",
       "AET           92.42        125.47    41.02000    5.40         0.67   \n",
       "AGN          195.50        340.34    95.17000    6.57         5.77   \n",
       "GOOGL        558.70        810.35   492.80000   25.51         6.23   \n",
       "GOOG         532.40        789.87   484.45000   25.51         6.12   \n",
       "AMZN         447.54        746.10   351.89000    9.09         3.06   \n",
       "AMGN         130.09        181.81   121.02000   10.99         5.31   \n",
       "ANTM         115.63        161.80    34.75000    5.60         0.42   \n",
       "BRK-B        123.55        148.03     0.23602   45.20         0.00   \n",
       "BIIB         223.02        412.24    55.05000    5.88         4.95   \n",
       "BA           102.10        150.59    82.87000    8.78         0.84   \n",
       "CVX           69.58        105.00   197.46000   16.31         1.71   \n",
       "FB            72.00        121.08   335.34000    9.43        16.76   \n",
       "FDX          119.71        173.00    41.93000    7.53         0.81   \n",
       "HD            92.17        137.82   167.12000   14.09         1.81   \n",
       "HON           87.00        118.99    90.57000    7.82         2.28   \n",
       "IBM          116.90        173.78   148.28000   19.00         1.81   \n",
       "JNJ           81.79        123.23   337.92000   22.24         4.80   \n",
       "LMT          181.91        252.30    76.69000    6.41         1.59   \n",
       "MCD           87.50        131.96   106.49000    9.03         4.19   \n",
       "NEE           93.74        131.98    59.96000    8.00         3.44   \n",
       "PEP           76.48        109.00   155.82000   12.12         2.49   \n",
       "PM            76.54        103.16   159.92000   11.03         6.01   \n",
       "TRV           95.21        119.30    34.53000    5.69         1.28   \n",
       "UNH           95.00        142.96   134.32000   12.73         0.81   \n",
       "UPS           87.30        109.85    96.67000    9.96         1.62   \n",
       "UTX           83.39        112.36    86.75000   10.11         1.52   \n",
       "\n",
       "        Price/Book                                        SEC Filings  \n",
       "Symbol                                                                 \n",
       "MMM           9.04  http://www.sec.gov/cgi-bin/browse-edgar?action...  \n",
       "ACN           9.84  http://www.sec.gov/cgi-bin/browse-edgar?action...  \n",
       "AET           2.41  http://www.sec.gov/cgi-bin/browse-edgar?action...  \n",
       "AGN           1.30  http://www.sec.gov/cgi-bin/browse-edgar?action...  \n",
       "GOOGL         3.93  http://www.sec.gov/cgi-bin/browse-edgar?action...  \n",
       "GOOG          3.86  http://www.sec.gov/cgi-bin/browse-edgar?action...  \n",
       "AMZN         23.56  http://www.sec.gov/cgi-bin/browse-edgar?action...  \n",
       "AMGN          4.10  http://www.sec.gov/cgi-bin/browse-edgar?action...  \n",
       "ANTM          1.44  http://www.sec.gov/cgi-bin/browse-edgar?action...  \n",
       "BRK-B         0.00  http://www.sec.gov/cgi-bin/browse-edgar?action...  \n",
       "BIIB          5.25  http://www.sec.gov/cgi-bin/browse-edgar?action...  \n",
       "BA           20.13  http://www.sec.gov/cgi-bin/browse-edgar?action...  \n",
       "CVX           1.29  http://www.sec.gov/cgi-bin/browse-edgar?action...  \n",
       "FB            7.00  http://www.sec.gov/cgi-bin/browse-edgar?action...  \n",
       "FDX           2.86  http://www.sec.gov/cgi-bin/browse-edgar?action...  \n",
       "HD           25.78  http://www.sec.gov/cgi-bin/browse-edgar?action...  \n",
       "HON           4.86  http://www.sec.gov/cgi-bin/browse-edgar?action...  \n",
       "IBM           9.82  http://www.sec.gov/cgi-bin/browse-edgar?action...  \n",
       "JNJ           4.64  http://www.sec.gov/cgi-bin/browse-edgar?action...  \n",
       "LMT          23.94  http://www.sec.gov/cgi-bin/browse-edgar?action...  \n",
       "MCD          27.48  http://www.sec.gov/cgi-bin/browse-edgar?action...  \n",
       "NEE           2.58  http://www.sec.gov/cgi-bin/browse-edgar?action...  \n",
       "PEP          12.50  http://www.sec.gov/cgi-bin/browse-edgar?action...  \n",
       "PM             NaN  http://www.sec.gov/cgi-bin/browse-edgar?action...  \n",
       "TRV           1.42  http://www.sec.gov/cgi-bin/browse-edgar?action...  \n",
       "UNH           3.82  http://www.sec.gov/cgi-bin/browse-edgar?action...  \n",
       "UPS          38.85  http://www.sec.gov/cgi-bin/browse-edgar?action...  \n",
       "UTX           3.01  http://www.sec.gov/cgi-bin/browse-edgar?action...  "
      ]
     },
     "execution_count": 369,
     "metadata": {},
     "output_type": "execute_result"
    }
   ],
   "source": [
    "sample_df[(sample_df['Price'] > 100) & (sample_df['EBITDA'] > 5)] #두 조건을 모두 만족하는 symbol만 호출됨"
   ]
  },
  {
   "cell_type": "code",
   "execution_count": 12,
   "metadata": {},
   "outputs": [
    {
     "data": {
      "text/html": [
       "<div>\n",
       "<style>\n",
       "    .dataframe thead tr:only-child th {\n",
       "        text-align: right;\n",
       "    }\n",
       "\n",
       "    .dataframe thead th {\n",
       "        text-align: left;\n",
       "    }\n",
       "\n",
       "    .dataframe tbody tr th {\n",
       "        vertical-align: top;\n",
       "    }\n",
       "</style>\n",
       "<table border=\"1\" class=\"dataframe\">\n",
       "  <thead>\n",
       "    <tr style=\"text-align: right;\">\n",
       "      <th></th>\n",
       "      <th>Name</th>\n",
       "      <th>Price</th>\n",
       "    </tr>\n",
       "    <tr>\n",
       "      <th>Symbol</th>\n",
       "      <th></th>\n",
       "      <th></th>\n",
       "    </tr>\n",
       "  </thead>\n",
       "  <tbody>\n",
       "    <tr>\n",
       "      <th>MMM</th>\n",
       "      <td>3M Company</td>\n",
       "      <td>177.12</td>\n",
       "    </tr>\n",
       "    <tr>\n",
       "      <th>ACN</th>\n",
       "      <td>Accenture plc</td>\n",
       "      <td>115.11</td>\n",
       "    </tr>\n",
       "    <tr>\n",
       "      <th>AYI</th>\n",
       "      <td>Acuity Brands Inc</td>\n",
       "      <td>264.62</td>\n",
       "    </tr>\n",
       "    <tr>\n",
       "      <th>AAP</th>\n",
       "      <td>Advance Auto Parts</td>\n",
       "      <td>164.85</td>\n",
       "    </tr>\n",
       "    <tr>\n",
       "      <th>AET</th>\n",
       "      <td>Aetna Inc</td>\n",
       "      <td>117.00</td>\n",
       "    </tr>\n",
       "    <tr>\n",
       "      <th>AMG</th>\n",
       "      <td>Affiliated Managers Group Inc</td>\n",
       "      <td>138.85</td>\n",
       "    </tr>\n",
       "    <tr>\n",
       "      <th>APD</th>\n",
       "      <td>Air Products &amp; Chemicals Inc</td>\n",
       "      <td>144.35</td>\n",
       "    </tr>\n",
       "    <tr>\n",
       "      <th>ALXN</th>\n",
       "      <td>Alexion Pharmaceuticals</td>\n",
       "      <td>124.42</td>\n",
       "    </tr>\n",
       "    <tr>\n",
       "      <th>AGN</th>\n",
       "      <td>Allergan plc</td>\n",
       "      <td>240.59</td>\n",
       "    </tr>\n",
       "    <tr>\n",
       "      <th>ADS</th>\n",
       "      <td>Alliance Data Systems</td>\n",
       "      <td>200.96</td>\n",
       "    </tr>\n",
       "    <tr>\n",
       "      <th>GOOGL</th>\n",
       "      <td>Alphabet Inc Class A</td>\n",
       "      <td>717.78</td>\n",
       "    </tr>\n",
       "    <tr>\n",
       "      <th>GOOG</th>\n",
       "      <td>Alphabet Inc Class C</td>\n",
       "      <td>705.63</td>\n",
       "    </tr>\n",
       "    <tr>\n",
       "      <th>AMZN</th>\n",
       "      <td>Amazon.com Inc</td>\n",
       "      <td>745.81</td>\n",
       "    </tr>\n",
       "    <tr>\n",
       "      <th>AMT</th>\n",
       "      <td>American Tower Corp A</td>\n",
       "      <td>113.66</td>\n",
       "    </tr>\n",
       "    <tr>\n",
       "      <th>AMGN</th>\n",
       "      <td>Amgen Inc</td>\n",
       "      <td>161.10</td>\n",
       "    </tr>\n",
       "    <tr>\n",
       "      <th>ANTM</th>\n",
       "      <td>Anthem Inc.</td>\n",
       "      <td>132.15</td>\n",
       "    </tr>\n",
       "    <tr>\n",
       "      <th>AON</th>\n",
       "      <td>Aon plc</td>\n",
       "      <td>109.57</td>\n",
       "    </tr>\n",
       "    <tr>\n",
       "      <th>AZO</th>\n",
       "      <td>AutoZone Inc</td>\n",
       "      <td>815.02</td>\n",
       "    </tr>\n",
       "    <tr>\n",
       "      <th>AVGO</th>\n",
       "      <td>Avago Technologies</td>\n",
       "      <td>155.14</td>\n",
       "    </tr>\n",
       "    <tr>\n",
       "      <th>AVB</th>\n",
       "      <td>AvalonBay Communities, Inc.</td>\n",
       "      <td>184.94</td>\n",
       "    </tr>\n",
       "    <tr>\n",
       "      <th>BCR</th>\n",
       "      <td>Bard (C.R.) Inc.</td>\n",
       "      <td>239.00</td>\n",
       "    </tr>\n",
       "    <tr>\n",
       "      <th>BDX</th>\n",
       "      <td>Becton Dickinson</td>\n",
       "      <td>175.64</td>\n",
       "    </tr>\n",
       "    <tr>\n",
       "      <th>BRK-B</th>\n",
       "      <td>Berkshire Hathaway</td>\n",
       "      <td>143.65</td>\n",
       "    </tr>\n",
       "    <tr>\n",
       "      <th>BIIB</th>\n",
       "      <td>BIOGEN IDEC Inc.</td>\n",
       "      <td>251.30</td>\n",
       "    </tr>\n",
       "    <tr>\n",
       "      <th>BLK</th>\n",
       "      <td>BlackRock</td>\n",
       "      <td>345.20</td>\n",
       "    </tr>\n",
       "    <tr>\n",
       "      <th>BA</th>\n",
       "      <td>Boeing Company</td>\n",
       "      <td>130.09</td>\n",
       "    </tr>\n",
       "    <tr>\n",
       "      <th>BXP</th>\n",
       "      <td>Boston Properties</td>\n",
       "      <td>133.32</td>\n",
       "    </tr>\n",
       "    <tr>\n",
       "      <th>CELG</th>\n",
       "      <td>Celgene Corp.</td>\n",
       "      <td>105.03</td>\n",
       "    </tr>\n",
       "    <tr>\n",
       "      <th>CVX</th>\n",
       "      <td>Chevron Corp.</td>\n",
       "      <td>104.77</td>\n",
       "    </tr>\n",
       "    <tr>\n",
       "      <th>CMG</th>\n",
       "      <td>Chipotle Mexican Grill</td>\n",
       "      <td>399.71</td>\n",
       "    </tr>\n",
       "    <tr>\n",
       "      <th>...</th>\n",
       "      <td>...</td>\n",
       "      <td>...</td>\n",
       "    </tr>\n",
       "    <tr>\n",
       "      <th>RTN</th>\n",
       "      <td>Raytheon Co.</td>\n",
       "      <td>138.49</td>\n",
       "    </tr>\n",
       "    <tr>\n",
       "      <th>REGN</th>\n",
       "      <td>Regeneron</td>\n",
       "      <td>378.35</td>\n",
       "    </tr>\n",
       "    <tr>\n",
       "      <th>ROK</th>\n",
       "      <td>Rockwell Automation Inc.</td>\n",
       "      <td>115.70</td>\n",
       "    </tr>\n",
       "    <tr>\n",
       "      <th>ROP</th>\n",
       "      <td>Roper Industries</td>\n",
       "      <td>170.04</td>\n",
       "    </tr>\n",
       "    <tr>\n",
       "      <th>SPGI</th>\n",
       "      <td>S&amp;P Global, Inc.</td>\n",
       "      <td>108.87</td>\n",
       "    </tr>\n",
       "    <tr>\n",
       "      <th>SRE</th>\n",
       "      <td>Sempra Energy</td>\n",
       "      <td>114.11</td>\n",
       "    </tr>\n",
       "    <tr>\n",
       "      <th>SHW</th>\n",
       "      <td>Sherwin-Williams</td>\n",
       "      <td>306.52</td>\n",
       "    </tr>\n",
       "    <tr>\n",
       "      <th>SPG</th>\n",
       "      <td>Simon Property Group Inc</td>\n",
       "      <td>219.56</td>\n",
       "    </tr>\n",
       "    <tr>\n",
       "      <th>SLG</th>\n",
       "      <td>SL Green Realty</td>\n",
       "      <td>105.98</td>\n",
       "    </tr>\n",
       "    <tr>\n",
       "      <th>SJM</th>\n",
       "      <td>Smucker (J.M.)</td>\n",
       "      <td>154.08</td>\n",
       "    </tr>\n",
       "    <tr>\n",
       "      <th>SNA</th>\n",
       "      <td>Snap-On Inc.</td>\n",
       "      <td>160.16</td>\n",
       "    </tr>\n",
       "    <tr>\n",
       "      <th>SWK</th>\n",
       "      <td>Stanley Black &amp; Decker</td>\n",
       "      <td>114.97</td>\n",
       "    </tr>\n",
       "    <tr>\n",
       "      <th>SRCL</th>\n",
       "      <td>Stericycle Inc</td>\n",
       "      <td>104.70</td>\n",
       "    </tr>\n",
       "    <tr>\n",
       "      <th>SYK</th>\n",
       "      <td>Stryker Corp.</td>\n",
       "      <td>122.29</td>\n",
       "    </tr>\n",
       "    <tr>\n",
       "      <th>CLX</th>\n",
       "      <td>The Clorox Company</td>\n",
       "      <td>138.37</td>\n",
       "    </tr>\n",
       "    <tr>\n",
       "      <th>HSY</th>\n",
       "      <td>The Hershey Company</td>\n",
       "      <td>110.70</td>\n",
       "    </tr>\n",
       "    <tr>\n",
       "      <th>TRV</th>\n",
       "      <td>The Travelers Companies Inc.</td>\n",
       "      <td>118.08</td>\n",
       "    </tr>\n",
       "    <tr>\n",
       "      <th>TMO</th>\n",
       "      <td>Thermo Fisher Scientific</td>\n",
       "      <td>152.69</td>\n",
       "    </tr>\n",
       "    <tr>\n",
       "      <th>TDG</th>\n",
       "      <td>TransDigm Group</td>\n",
       "      <td>269.81</td>\n",
       "    </tr>\n",
       "    <tr>\n",
       "      <th>ULTA</th>\n",
       "      <td>Ulta Salon Cosmetics &amp; Fragrance Inc</td>\n",
       "      <td>250.82</td>\n",
       "    </tr>\n",
       "    <tr>\n",
       "      <th>UNH</th>\n",
       "      <td>United Health Group Inc.</td>\n",
       "      <td>141.27</td>\n",
       "    </tr>\n",
       "    <tr>\n",
       "      <th>UPS</th>\n",
       "      <td>United Parcel Service</td>\n",
       "      <td>109.52</td>\n",
       "    </tr>\n",
       "    <tr>\n",
       "      <th>UTX</th>\n",
       "      <td>United Technologies</td>\n",
       "      <td>103.66</td>\n",
       "    </tr>\n",
       "    <tr>\n",
       "      <th>UHS</th>\n",
       "      <td>Universal Health Services, Inc.</td>\n",
       "      <td>137.16</td>\n",
       "    </tr>\n",
       "    <tr>\n",
       "      <th>VNO</th>\n",
       "      <td>Vornado Realty Trust</td>\n",
       "      <td>100.46</td>\n",
       "    </tr>\n",
       "    <tr>\n",
       "      <th>VMC</th>\n",
       "      <td>Vulcan Materials</td>\n",
       "      <td>123.61</td>\n",
       "    </tr>\n",
       "    <tr>\n",
       "      <th>WAT</th>\n",
       "      <td>Waters Corporation</td>\n",
       "      <td>146.53</td>\n",
       "    </tr>\n",
       "    <tr>\n",
       "      <th>WHR</th>\n",
       "      <td>Whirlpool Corp.</td>\n",
       "      <td>171.38</td>\n",
       "    </tr>\n",
       "    <tr>\n",
       "      <th>WLTW</th>\n",
       "      <td>Willis Towers Watson</td>\n",
       "      <td>125.06</td>\n",
       "    </tr>\n",
       "    <tr>\n",
       "      <th>ZBH</th>\n",
       "      <td>Zimmer Biomet Holdings</td>\n",
       "      <td>124.89</td>\n",
       "    </tr>\n",
       "  </tbody>\n",
       "</table>\n",
       "<p>122 rows × 2 columns</p>\n",
       "</div>"
      ],
      "text/plain": [
       "                                        Name   Price\n",
       "Symbol                                              \n",
       "MMM                               3M Company  177.12\n",
       "ACN                            Accenture plc  115.11\n",
       "AYI                        Acuity Brands Inc  264.62\n",
       "AAP                       Advance Auto Parts  164.85\n",
       "AET                                Aetna Inc  117.00\n",
       "AMG            Affiliated Managers Group Inc  138.85\n",
       "APD             Air Products & Chemicals Inc  144.35\n",
       "ALXN                 Alexion Pharmaceuticals  124.42\n",
       "AGN                             Allergan plc  240.59\n",
       "ADS                    Alliance Data Systems  200.96\n",
       "GOOGL                   Alphabet Inc Class A  717.78\n",
       "GOOG                    Alphabet Inc Class C  705.63\n",
       "AMZN                          Amazon.com Inc  745.81\n",
       "AMT                    American Tower Corp A  113.66\n",
       "AMGN                               Amgen Inc  161.10\n",
       "ANTM                             Anthem Inc.  132.15\n",
       "AON                                  Aon plc  109.57\n",
       "AZO                             AutoZone Inc  815.02\n",
       "AVGO                      Avago Technologies  155.14\n",
       "AVB              AvalonBay Communities, Inc.  184.94\n",
       "BCR                         Bard (C.R.) Inc.  239.00\n",
       "BDX                         Becton Dickinson  175.64\n",
       "BRK-B                     Berkshire Hathaway  143.65\n",
       "BIIB                        BIOGEN IDEC Inc.  251.30\n",
       "BLK                                BlackRock  345.20\n",
       "BA                            Boeing Company  130.09\n",
       "BXP                        Boston Properties  133.32\n",
       "CELG                           Celgene Corp.  105.03\n",
       "CVX                            Chevron Corp.  104.77\n",
       "CMG                   Chipotle Mexican Grill  399.71\n",
       "...                                      ...     ...\n",
       "RTN                             Raytheon Co.  138.49\n",
       "REGN                               Regeneron  378.35\n",
       "ROK                 Rockwell Automation Inc.  115.70\n",
       "ROP                         Roper Industries  170.04\n",
       "SPGI                        S&P Global, Inc.  108.87\n",
       "SRE                            Sempra Energy  114.11\n",
       "SHW                         Sherwin-Williams  306.52\n",
       "SPG                 Simon Property Group Inc  219.56\n",
       "SLG                          SL Green Realty  105.98\n",
       "SJM                           Smucker (J.M.)  154.08\n",
       "SNA                             Snap-On Inc.  160.16\n",
       "SWK                   Stanley Black & Decker  114.97\n",
       "SRCL                          Stericycle Inc  104.70\n",
       "SYK                            Stryker Corp.  122.29\n",
       "CLX                       The Clorox Company  138.37\n",
       "HSY                      The Hershey Company  110.70\n",
       "TRV             The Travelers Companies Inc.  118.08\n",
       "TMO                 Thermo Fisher Scientific  152.69\n",
       "TDG                          TransDigm Group  269.81\n",
       "ULTA    Ulta Salon Cosmetics & Fragrance Inc  250.82\n",
       "UNH                 United Health Group Inc.  141.27\n",
       "UPS                    United Parcel Service  109.52\n",
       "UTX                      United Technologies  103.66\n",
       "UHS          Universal Health Services, Inc.  137.16\n",
       "VNO                     Vornado Realty Trust  100.46\n",
       "VMC                         Vulcan Materials  123.61\n",
       "WAT                       Waters Corporation  146.53\n",
       "WHR                          Whirlpool Corp.  171.38\n",
       "WLTW                    Willis Towers Watson  125.06\n",
       "ZBH                   Zimmer Biomet Holdings  124.89\n",
       "\n",
       "[122 rows x 2 columns]"
      ]
     },
     "execution_count": 12,
     "metadata": {},
     "output_type": "execute_result"
    }
   ],
   "source": [
    "# selection 결과에 다시 column선택하기\n",
    "sample_df[sample_df['Price'] > 100][['Name', 'Price']]"
   ]
  },
  {
   "cell_type": "markdown",
   "metadata": {},
   "source": [
    "* **새 column 추가하기**"
   ]
  },
  {
   "cell_type": "code",
   "execution_count": 370,
   "metadata": {
    "scrolled": true
   },
   "outputs": [
    {
     "data": {
      "text/html": [
       "<div>\n",
       "<style>\n",
       "    .dataframe thead tr:only-child th {\n",
       "        text-align: right;\n",
       "    }\n",
       "\n",
       "    .dataframe thead th {\n",
       "        text-align: left;\n",
       "    }\n",
       "\n",
       "    .dataframe tbody tr th {\n",
       "        vertical-align: top;\n",
       "    }\n",
       "</style>\n",
       "<table border=\"1\" class=\"dataframe\">\n",
       "  <thead>\n",
       "    <tr style=\"text-align: right;\">\n",
       "      <th></th>\n",
       "      <th>Name</th>\n",
       "      <th>Sector</th>\n",
       "      <th>Price</th>\n",
       "      <th>Dividend Yield</th>\n",
       "      <th>Price/Earnings</th>\n",
       "      <th>Earnings/Share</th>\n",
       "      <th>Book Value</th>\n",
       "      <th>52 week low</th>\n",
       "      <th>52 week high</th>\n",
       "      <th>Market Cap</th>\n",
       "      <th>EBITDA</th>\n",
       "      <th>Price/Sales</th>\n",
       "      <th>Price/Book</th>\n",
       "      <th>SEC Filings</th>\n",
       "    </tr>\n",
       "    <tr>\n",
       "      <th>Symbol</th>\n",
       "      <th></th>\n",
       "      <th></th>\n",
       "      <th></th>\n",
       "      <th></th>\n",
       "      <th></th>\n",
       "      <th></th>\n",
       "      <th></th>\n",
       "      <th></th>\n",
       "      <th></th>\n",
       "      <th></th>\n",
       "      <th></th>\n",
       "      <th></th>\n",
       "      <th></th>\n",
       "      <th></th>\n",
       "    </tr>\n",
       "  </thead>\n",
       "  <tbody>\n",
       "    <tr>\n",
       "      <th>MMM</th>\n",
       "      <td>3M Company</td>\n",
       "      <td>Industrials</td>\n",
       "      <td>177.12</td>\n",
       "      <td>2.53</td>\n",
       "      <td>22.77</td>\n",
       "      <td>7.78</td>\n",
       "      <td>19.34</td>\n",
       "      <td>134.00</td>\n",
       "      <td>177.79</td>\n",
       "      <td>107.43</td>\n",
       "      <td>8.57</td>\n",
       "      <td>3.52</td>\n",
       "      <td>9.04</td>\n",
       "      <td>http://www.sec.gov/cgi-bin/browse-edgar?action...</td>\n",
       "    </tr>\n",
       "    <tr>\n",
       "      <th>ABT</th>\n",
       "      <td>Abbott Laboratories</td>\n",
       "      <td>Health Care</td>\n",
       "      <td>41.89</td>\n",
       "      <td>2.55</td>\n",
       "      <td>25.79</td>\n",
       "      <td>1.62</td>\n",
       "      <td>14.10</td>\n",
       "      <td>36.00</td>\n",
       "      <td>51.74</td>\n",
       "      <td>61.54</td>\n",
       "      <td>4.40</td>\n",
       "      <td>2.98</td>\n",
       "      <td>2.93</td>\n",
       "      <td>http://www.sec.gov/cgi-bin/browse-edgar?action...</td>\n",
       "    </tr>\n",
       "    <tr>\n",
       "      <th>ABBV</th>\n",
       "      <td>AbbVie</td>\n",
       "      <td>Health Care</td>\n",
       "      <td>64.16</td>\n",
       "      <td>3.60</td>\n",
       "      <td>19.29</td>\n",
       "      <td>3.33</td>\n",
       "      <td>2.87</td>\n",
       "      <td>45.45</td>\n",
       "      <td>71.60</td>\n",
       "      <td>103.77</td>\n",
       "      <td>10.30</td>\n",
       "      <td>4.31</td>\n",
       "      <td>22.09</td>\n",
       "      <td>http://www.sec.gov/cgi-bin/browse-edgar?action...</td>\n",
       "    </tr>\n",
       "    <tr>\n",
       "      <th>ACN</th>\n",
       "      <td>Accenture plc</td>\n",
       "      <td>Information Technology</td>\n",
       "      <td>115.11</td>\n",
       "      <td>1.94</td>\n",
       "      <td>19.45</td>\n",
       "      <td>5.92</td>\n",
       "      <td>11.45</td>\n",
       "      <td>88.43</td>\n",
       "      <td>120.78</td>\n",
       "      <td>71.66</td>\n",
       "      <td>5.42</td>\n",
       "      <td>2.17</td>\n",
       "      <td>9.84</td>\n",
       "      <td>http://www.sec.gov/cgi-bin/browse-edgar?action...</td>\n",
       "    </tr>\n",
       "    <tr>\n",
       "      <th>ATVI</th>\n",
       "      <td>Activision Blizzard</td>\n",
       "      <td>Information Technology</td>\n",
       "      <td>41.29</td>\n",
       "      <td>0.64</td>\n",
       "      <td>37.06</td>\n",
       "      <td>1.11</td>\n",
       "      <td>11.31</td>\n",
       "      <td>24.04</td>\n",
       "      <td>41.32</td>\n",
       "      <td>30.48</td>\n",
       "      <td>1.59</td>\n",
       "      <td>6.16</td>\n",
       "      <td>3.57</td>\n",
       "      <td>http://www.sec.gov/cgi-bin/browse-edgar?action...</td>\n",
       "    </tr>\n",
       "  </tbody>\n",
       "</table>\n",
       "</div>"
      ],
      "text/plain": [
       "                       Name                  Sector   Price  Dividend Yield  \\\n",
       "Symbol                                                                        \n",
       "MMM              3M Company             Industrials  177.12            2.53   \n",
       "ABT     Abbott Laboratories             Health Care   41.89            2.55   \n",
       "ABBV                 AbbVie             Health Care   64.16            3.60   \n",
       "ACN           Accenture plc  Information Technology  115.11            1.94   \n",
       "ATVI    Activision Blizzard  Information Technology   41.29            0.64   \n",
       "\n",
       "        Price/Earnings  Earnings/Share  Book Value  52 week low  52 week high  \\\n",
       "Symbol                                                                          \n",
       "MMM              22.77            7.78       19.34       134.00        177.79   \n",
       "ABT              25.79            1.62       14.10        36.00         51.74   \n",
       "ABBV             19.29            3.33        2.87        45.45         71.60   \n",
       "ACN              19.45            5.92       11.45        88.43        120.78   \n",
       "ATVI             37.06            1.11       11.31        24.04         41.32   \n",
       "\n",
       "        Market Cap  EBITDA  Price/Sales  Price/Book  \\\n",
       "Symbol                                                \n",
       "MMM         107.43    8.57         3.52        9.04   \n",
       "ABT          61.54    4.40         2.98        2.93   \n",
       "ABBV        103.77   10.30         4.31       22.09   \n",
       "ACN          71.66    5.42         2.17        9.84   \n",
       "ATVI         30.48    1.59         6.16        3.57   \n",
       "\n",
       "                                              SEC Filings  \n",
       "Symbol                                                     \n",
       "MMM     http://www.sec.gov/cgi-bin/browse-edgar?action...  \n",
       "ABT     http://www.sec.gov/cgi-bin/browse-edgar?action...  \n",
       "ABBV    http://www.sec.gov/cgi-bin/browse-edgar?action...  \n",
       "ACN     http://www.sec.gov/cgi-bin/browse-edgar?action...  \n",
       "ATVI    http://www.sec.gov/cgi-bin/browse-edgar?action...  "
      ]
     },
     "execution_count": 370,
     "metadata": {},
     "output_type": "execute_result"
    }
   ],
   "source": [
    "# 새로운 dataframe 생성\n",
    "copy = sample_df.copy()\n",
    "copy.head()"
   ]
  },
  {
   "cell_type": "code",
   "execution_count": 15,
   "metadata": {},
   "outputs": [
    {
     "data": {
      "text/html": [
       "<div>\n",
       "<style>\n",
       "    .dataframe thead tr:only-child th {\n",
       "        text-align: right;\n",
       "    }\n",
       "\n",
       "    .dataframe thead th {\n",
       "        text-align: left;\n",
       "    }\n",
       "\n",
       "    .dataframe tbody tr th {\n",
       "        vertical-align: top;\n",
       "    }\n",
       "</style>\n",
       "<table border=\"1\" class=\"dataframe\">\n",
       "  <thead>\n",
       "    <tr style=\"text-align: right;\">\n",
       "      <th></th>\n",
       "      <th>Name</th>\n",
       "      <th>Sector</th>\n",
       "      <th>Price</th>\n",
       "      <th>Dividend Yield</th>\n",
       "      <th>Price/Earnings</th>\n",
       "      <th>Earnings/Share</th>\n",
       "      <th>Book Value</th>\n",
       "      <th>52 week low</th>\n",
       "      <th>52 week high</th>\n",
       "      <th>Market Cap</th>\n",
       "      <th>EBITDA</th>\n",
       "      <th>Price/Sales</th>\n",
       "      <th>Price/Book</th>\n",
       "      <th>SEC Filings</th>\n",
       "    </tr>\n",
       "    <tr>\n",
       "      <th>Symbol</th>\n",
       "      <th></th>\n",
       "      <th></th>\n",
       "      <th></th>\n",
       "      <th></th>\n",
       "      <th></th>\n",
       "      <th></th>\n",
       "      <th></th>\n",
       "      <th></th>\n",
       "      <th></th>\n",
       "      <th></th>\n",
       "      <th></th>\n",
       "      <th></th>\n",
       "      <th></th>\n",
       "      <th></th>\n",
       "    </tr>\n",
       "  </thead>\n",
       "  <tbody>\n",
       "    <tr>\n",
       "      <th>MMM</th>\n",
       "      <td>3M Company</td>\n",
       "      <td>Industrials</td>\n",
       "      <td>177.12</td>\n",
       "      <td>2.53</td>\n",
       "      <td>22.77</td>\n",
       "      <td>7.78</td>\n",
       "      <td>19.34</td>\n",
       "      <td>134.00</td>\n",
       "      <td>177.79</td>\n",
       "      <td>107.43</td>\n",
       "      <td>8.57000</td>\n",
       "      <td>3.52</td>\n",
       "      <td>9.04</td>\n",
       "      <td>http://www.sec.gov/cgi-bin/browse-edgar?action...</td>\n",
       "    </tr>\n",
       "    <tr>\n",
       "      <th>ABT</th>\n",
       "      <td>Abbott Laboratories</td>\n",
       "      <td>Health Care</td>\n",
       "      <td>41.89</td>\n",
       "      <td>2.55</td>\n",
       "      <td>25.79</td>\n",
       "      <td>1.62</td>\n",
       "      <td>14.10</td>\n",
       "      <td>36.00</td>\n",
       "      <td>51.74</td>\n",
       "      <td>61.54</td>\n",
       "      <td>4.40000</td>\n",
       "      <td>2.98</td>\n",
       "      <td>2.93</td>\n",
       "      <td>http://www.sec.gov/cgi-bin/browse-edgar?action...</td>\n",
       "    </tr>\n",
       "    <tr>\n",
       "      <th>ABBV</th>\n",
       "      <td>AbbVie</td>\n",
       "      <td>Health Care</td>\n",
       "      <td>64.16</td>\n",
       "      <td>3.60</td>\n",
       "      <td>19.29</td>\n",
       "      <td>3.33</td>\n",
       "      <td>2.87</td>\n",
       "      <td>45.45</td>\n",
       "      <td>71.60</td>\n",
       "      <td>103.77</td>\n",
       "      <td>10.30000</td>\n",
       "      <td>4.31</td>\n",
       "      <td>22.09</td>\n",
       "      <td>http://www.sec.gov/cgi-bin/browse-edgar?action...</td>\n",
       "    </tr>\n",
       "    <tr>\n",
       "      <th>ACN</th>\n",
       "      <td>Accenture plc</td>\n",
       "      <td>Information Technology</td>\n",
       "      <td>115.11</td>\n",
       "      <td>1.94</td>\n",
       "      <td>19.45</td>\n",
       "      <td>5.92</td>\n",
       "      <td>11.45</td>\n",
       "      <td>88.43</td>\n",
       "      <td>120.78</td>\n",
       "      <td>71.66</td>\n",
       "      <td>5.42000</td>\n",
       "      <td>2.17</td>\n",
       "      <td>9.84</td>\n",
       "      <td>http://www.sec.gov/cgi-bin/browse-edgar?action...</td>\n",
       "    </tr>\n",
       "    <tr>\n",
       "      <th>ATVI</th>\n",
       "      <td>Activision Blizzard</td>\n",
       "      <td>Information Technology</td>\n",
       "      <td>41.29</td>\n",
       "      <td>0.64</td>\n",
       "      <td>37.06</td>\n",
       "      <td>1.11</td>\n",
       "      <td>11.31</td>\n",
       "      <td>24.04</td>\n",
       "      <td>41.32</td>\n",
       "      <td>30.48</td>\n",
       "      <td>1.59000</td>\n",
       "      <td>6.16</td>\n",
       "      <td>3.57</td>\n",
       "      <td>http://www.sec.gov/cgi-bin/browse-edgar?action...</td>\n",
       "    </tr>\n",
       "    <tr>\n",
       "      <th>AYI</th>\n",
       "      <td>Acuity Brands Inc</td>\n",
       "      <td>Industrials</td>\n",
       "      <td>264.62</td>\n",
       "      <td>0.21</td>\n",
       "      <td>43.23</td>\n",
       "      <td>6.12</td>\n",
       "      <td>36.50</td>\n",
       "      <td>168.33</td>\n",
       "      <td>265.10</td>\n",
       "      <td>11.51</td>\n",
       "      <td>0.53650</td>\n",
       "      <td>3.53</td>\n",
       "      <td>6.95</td>\n",
       "      <td>http://www.sec.gov/cgi-bin/browse-edgar?action...</td>\n",
       "    </tr>\n",
       "    <tr>\n",
       "      <th>ADBE</th>\n",
       "      <td>Adobe Systems Inc</td>\n",
       "      <td>Information Technology</td>\n",
       "      <td>96.79</td>\n",
       "      <td>0.00</td>\n",
       "      <td>54.68</td>\n",
       "      <td>1.77</td>\n",
       "      <td>14.53</td>\n",
       "      <td>71.27</td>\n",
       "      <td>100.56</td>\n",
       "      <td>48.23</td>\n",
       "      <td>1.53000</td>\n",
       "      <td>8.93</td>\n",
       "      <td>6.55</td>\n",
       "      <td>http://www.sec.gov/cgi-bin/browse-edgar?action...</td>\n",
       "    </tr>\n",
       "    <tr>\n",
       "      <th>AAP</th>\n",
       "      <td>Advance Auto Parts</td>\n",
       "      <td>Consumer Discretionary</td>\n",
       "      <td>164.85</td>\n",
       "      <td>0.15</td>\n",
       "      <td>25.20</td>\n",
       "      <td>6.40</td>\n",
       "      <td>35.82</td>\n",
       "      <td>131.59</td>\n",
       "      <td>201.24</td>\n",
       "      <td>12.10</td>\n",
       "      <td>1.24000</td>\n",
       "      <td>1.22</td>\n",
       "      <td>4.50</td>\n",
       "      <td>http://www.sec.gov/cgi-bin/browse-edgar?action...</td>\n",
       "    </tr>\n",
       "    <tr>\n",
       "      <th>AES</th>\n",
       "      <td>AES Corp</td>\n",
       "      <td>Utilities</td>\n",
       "      <td>12.32</td>\n",
       "      <td>3.60</td>\n",
       "      <td>28.99</td>\n",
       "      <td>0.43</td>\n",
       "      <td>4.86</td>\n",
       "      <td>8.22</td>\n",
       "      <td>13.38</td>\n",
       "      <td>8.12</td>\n",
       "      <td>3.57000</td>\n",
       "      <td>0.55</td>\n",
       "      <td>2.49</td>\n",
       "      <td>http://www.sec.gov/cgi-bin/browse-edgar?action...</td>\n",
       "    </tr>\n",
       "    <tr>\n",
       "      <th>AET</th>\n",
       "      <td>Aetna Inc</td>\n",
       "      <td>Health Care</td>\n",
       "      <td>117.00</td>\n",
       "      <td>0.87</td>\n",
       "      <td>17.62</td>\n",
       "      <td>6.64</td>\n",
       "      <td>47.96</td>\n",
       "      <td>92.42</td>\n",
       "      <td>125.47</td>\n",
       "      <td>41.02</td>\n",
       "      <td>5.40000</td>\n",
       "      <td>0.67</td>\n",
       "      <td>2.41</td>\n",
       "      <td>http://www.sec.gov/cgi-bin/browse-edgar?action...</td>\n",
       "    </tr>\n",
       "    <tr>\n",
       "      <th>AMG</th>\n",
       "      <td>Affiliated Managers Group Inc</td>\n",
       "      <td>Financials</td>\n",
       "      <td>138.85</td>\n",
       "      <td>NaN</td>\n",
       "      <td>15.55</td>\n",
       "      <td>8.93</td>\n",
       "      <td>53.30</td>\n",
       "      <td>115.97</td>\n",
       "      <td>220.72</td>\n",
       "      <td>7.47</td>\n",
       "      <td>0.91600</td>\n",
       "      <td>3.02</td>\n",
       "      <td>2.52</td>\n",
       "      <td>http://www.sec.gov/cgi-bin/browse-edgar?action...</td>\n",
       "    </tr>\n",
       "    <tr>\n",
       "      <th>AFL</th>\n",
       "      <td>AFLAC Inc</td>\n",
       "      <td>Financials</td>\n",
       "      <td>72.49</td>\n",
       "      <td>2.27</td>\n",
       "      <td>11.93</td>\n",
       "      <td>6.07</td>\n",
       "      <td>48.22</td>\n",
       "      <td>51.41</td>\n",
       "      <td>72.81</td>\n",
       "      <td>30.01</td>\n",
       "      <td>4.49000</td>\n",
       "      <td>1.40</td>\n",
       "      <td>1.48</td>\n",
       "      <td>http://www.sec.gov/cgi-bin/browse-edgar?action...</td>\n",
       "    </tr>\n",
       "    <tr>\n",
       "      <th>A</th>\n",
       "      <td>Agilent Technologies Inc</td>\n",
       "      <td>Health Care</td>\n",
       "      <td>45.48</td>\n",
       "      <td>1.04</td>\n",
       "      <td>32.35</td>\n",
       "      <td>1.38</td>\n",
       "      <td>12.79</td>\n",
       "      <td>33.12</td>\n",
       "      <td>46.68</td>\n",
       "      <td>14.80</td>\n",
       "      <td>0.84400</td>\n",
       "      <td>3.53</td>\n",
       "      <td>3.47</td>\n",
       "      <td>http://www.sec.gov/cgi-bin/browse-edgar?action...</td>\n",
       "    </tr>\n",
       "    <tr>\n",
       "      <th>APD</th>\n",
       "      <td>Air Products &amp; Chemicals Inc</td>\n",
       "      <td>Materials</td>\n",
       "      <td>144.35</td>\n",
       "      <td>2.46</td>\n",
       "      <td>56.99</td>\n",
       "      <td>2.53</td>\n",
       "      <td>32.01</td>\n",
       "      <td>114.64</td>\n",
       "      <td>152.16</td>\n",
       "      <td>31.19</td>\n",
       "      <td>2.98000</td>\n",
       "      <td>3.16</td>\n",
       "      <td>4.36</td>\n",
       "      <td>http://www.sec.gov/cgi-bin/browse-edgar?action...</td>\n",
       "    </tr>\n",
       "    <tr>\n",
       "      <th>AKAM</th>\n",
       "      <td>Akamai Technologies Inc</td>\n",
       "      <td>Information Technology</td>\n",
       "      <td>56.38</td>\n",
       "      <td>NaN</td>\n",
       "      <td>31.85</td>\n",
       "      <td>1.77</td>\n",
       "      <td>17.69</td>\n",
       "      <td>39.43</td>\n",
       "      <td>76.98</td>\n",
       "      <td>9.90</td>\n",
       "      <td>0.69810</td>\n",
       "      <td>4.31</td>\n",
       "      <td>3.11</td>\n",
       "      <td>http://www.sec.gov/cgi-bin/browse-edgar?action...</td>\n",
       "    </tr>\n",
       "    <tr>\n",
       "      <th>ALK</th>\n",
       "      <td>Alaska Air Group Inc</td>\n",
       "      <td>Industrials</td>\n",
       "      <td>59.86</td>\n",
       "      <td>1.88</td>\n",
       "      <td>8.65</td>\n",
       "      <td>6.92</td>\n",
       "      <td>19.81</td>\n",
       "      <td>54.51</td>\n",
       "      <td>87.17</td>\n",
       "      <td>7.38</td>\n",
       "      <td>1.72000</td>\n",
       "      <td>1.29</td>\n",
       "      <td>3.00</td>\n",
       "      <td>http://www.sec.gov/cgi-bin/browse-edgar?action...</td>\n",
       "    </tr>\n",
       "    <tr>\n",
       "      <th>ALB</th>\n",
       "      <td>Albemarle Corp</td>\n",
       "      <td>Materials</td>\n",
       "      <td>83.58</td>\n",
       "      <td>1.57</td>\n",
       "      <td>18.13</td>\n",
       "      <td>4.61</td>\n",
       "      <td>31.53</td>\n",
       "      <td>41.37</td>\n",
       "      <td>84.99</td>\n",
       "      <td>9.39</td>\n",
       "      <td>0.95275</td>\n",
       "      <td>2.51</td>\n",
       "      <td>2.58</td>\n",
       "      <td>http://www.sec.gov/cgi-bin/browse-edgar?action...</td>\n",
       "    </tr>\n",
       "    <tr>\n",
       "      <th>AA</th>\n",
       "      <td>Alcoa Inc</td>\n",
       "      <td>Materials</td>\n",
       "      <td>9.82</td>\n",
       "      <td>1.31</td>\n",
       "      <td>NaN</td>\n",
       "      <td>-0.44</td>\n",
       "      <td>9.25</td>\n",
       "      <td>6.14</td>\n",
       "      <td>11.50</td>\n",
       "      <td>12.91</td>\n",
       "      <td>2.67000</td>\n",
       "      <td>0.57</td>\n",
       "      <td>1.01</td>\n",
       "      <td>http://www.sec.gov/cgi-bin/browse-edgar?action...</td>\n",
       "    </tr>\n",
       "    <tr>\n",
       "      <th>ALXN</th>\n",
       "      <td>Alexion Pharmaceuticals</td>\n",
       "      <td>Health Care</td>\n",
       "      <td>124.42</td>\n",
       "      <td>NaN</td>\n",
       "      <td>188.23</td>\n",
       "      <td>0.66</td>\n",
       "      <td>35.96</td>\n",
       "      <td>110.56</td>\n",
       "      <td>208.88</td>\n",
       "      <td>27.87</td>\n",
       "      <td>0.97872</td>\n",
       "      <td>10.22</td>\n",
       "      <td>3.43</td>\n",
       "      <td>http://www.sec.gov/cgi-bin/browse-edgar?action...</td>\n",
       "    </tr>\n",
       "    <tr>\n",
       "      <th>ALLE</th>\n",
       "      <td>Allegion</td>\n",
       "      <td>Industrials</td>\n",
       "      <td>69.74</td>\n",
       "      <td>0.70</td>\n",
       "      <td>40.59</td>\n",
       "      <td>1.72</td>\n",
       "      <td>0.77</td>\n",
       "      <td>52.95</td>\n",
       "      <td>69.95</td>\n",
       "      <td>6.68</td>\n",
       "      <td>0.45060</td>\n",
       "      <td>3.11</td>\n",
       "      <td>89.14</td>\n",
       "      <td>http://www.sec.gov/cgi-bin/browse-edgar?action...</td>\n",
       "    </tr>\n",
       "    <tr>\n",
       "      <th>AGN</th>\n",
       "      <td>Allergan plc</td>\n",
       "      <td>Health Care</td>\n",
       "      <td>240.59</td>\n",
       "      <td>0.10</td>\n",
       "      <td>21.53</td>\n",
       "      <td>11.18</td>\n",
       "      <td>183.41</td>\n",
       "      <td>195.50</td>\n",
       "      <td>340.34</td>\n",
       "      <td>95.17</td>\n",
       "      <td>6.57000</td>\n",
       "      <td>5.77</td>\n",
       "      <td>1.30</td>\n",
       "      <td>http://www.sec.gov/cgi-bin/browse-edgar?action...</td>\n",
       "    </tr>\n",
       "    <tr>\n",
       "      <th>ADS</th>\n",
       "      <td>Alliance Data Systems</td>\n",
       "      <td>Information Technology</td>\n",
       "      <td>200.96</td>\n",
       "      <td>NaN</td>\n",
       "      <td>22.65</td>\n",
       "      <td>8.87</td>\n",
       "      <td>29.51</td>\n",
       "      <td>176.63</td>\n",
       "      <td>307.78</td>\n",
       "      <td>11.84</td>\n",
       "      <td>1.52000</td>\n",
       "      <td>1.78</td>\n",
       "      <td>6.68</td>\n",
       "      <td>http://www.sec.gov/cgi-bin/browse-edgar?action...</td>\n",
       "    </tr>\n",
       "    <tr>\n",
       "      <th>LNT</th>\n",
       "      <td>Alliant Energy Corp</td>\n",
       "      <td>Utilities</td>\n",
       "      <td>40.55</td>\n",
       "      <td>3.18</td>\n",
       "      <td>24.30</td>\n",
       "      <td>3.34</td>\n",
       "      <td>16.58</td>\n",
       "      <td>27.14</td>\n",
       "      <td>40.99</td>\n",
       "      <td>9.21</td>\n",
       "      <td>0.99400</td>\n",
       "      <td>2.83</td>\n",
       "      <td>2.40</td>\n",
       "      <td>http://www.sec.gov/cgi-bin/browse-edgar?action...</td>\n",
       "    </tr>\n",
       "    <tr>\n",
       "      <th>ALL</th>\n",
       "      <td>Allstate Corp</td>\n",
       "      <td>Financials</td>\n",
       "      <td>69.66</td>\n",
       "      <td>1.95</td>\n",
       "      <td>17.00</td>\n",
       "      <td>4.10</td>\n",
       "      <td>49.58</td>\n",
       "      <td>54.12</td>\n",
       "      <td>69.95</td>\n",
       "      <td>26.08</td>\n",
       "      <td>3.26000</td>\n",
       "      <td>0.73</td>\n",
       "      <td>1.39</td>\n",
       "      <td>http://www.sec.gov/cgi-bin/browse-edgar?action...</td>\n",
       "    </tr>\n",
       "    <tr>\n",
       "      <th>GOOGL</th>\n",
       "      <td>Alphabet Inc Class A</td>\n",
       "      <td>Information Technology</td>\n",
       "      <td>717.78</td>\n",
       "      <td>NaN</td>\n",
       "      <td>29.21</td>\n",
       "      <td>24.58</td>\n",
       "      <td>179.92</td>\n",
       "      <td>558.70</td>\n",
       "      <td>810.35</td>\n",
       "      <td>492.80</td>\n",
       "      <td>25.51000</td>\n",
       "      <td>6.23</td>\n",
       "      <td>3.93</td>\n",
       "      <td>http://www.sec.gov/cgi-bin/browse-edgar?action...</td>\n",
       "    </tr>\n",
       "    <tr>\n",
       "      <th>GOOG</th>\n",
       "      <td>Alphabet Inc Class C</td>\n",
       "      <td>Information Technology</td>\n",
       "      <td>705.63</td>\n",
       "      <td>NaN</td>\n",
       "      <td>28.71</td>\n",
       "      <td>24.58</td>\n",
       "      <td>179.92</td>\n",
       "      <td>532.40</td>\n",
       "      <td>789.87</td>\n",
       "      <td>484.45</td>\n",
       "      <td>25.51000</td>\n",
       "      <td>6.12</td>\n",
       "      <td>3.86</td>\n",
       "      <td>http://www.sec.gov/cgi-bin/browse-edgar?action...</td>\n",
       "    </tr>\n",
       "    <tr>\n",
       "      <th>MO</th>\n",
       "      <td>Altria Group Inc</td>\n",
       "      <td>Consumer Staples</td>\n",
       "      <td>69.83</td>\n",
       "      <td>3.26</td>\n",
       "      <td>25.20</td>\n",
       "      <td>2.77</td>\n",
       "      <td>1.40</td>\n",
       "      <td>47.41</td>\n",
       "      <td>70.15</td>\n",
       "      <td>136.59</td>\n",
       "      <td>9.06000</td>\n",
       "      <td>7.09</td>\n",
       "      <td>49.39</td>\n",
       "      <td>http://www.sec.gov/cgi-bin/browse-edgar?action...</td>\n",
       "    </tr>\n",
       "    <tr>\n",
       "      <th>AMZN</th>\n",
       "      <td>Amazon.com Inc</td>\n",
       "      <td>Consumer Discretionary</td>\n",
       "      <td>745.81</td>\n",
       "      <td>NaN</td>\n",
       "      <td>307.42</td>\n",
       "      <td>2.43</td>\n",
       "      <td>31.26</td>\n",
       "      <td>447.54</td>\n",
       "      <td>746.10</td>\n",
       "      <td>351.89</td>\n",
       "      <td>9.09000</td>\n",
       "      <td>3.06</td>\n",
       "      <td>23.56</td>\n",
       "      <td>http://www.sec.gov/cgi-bin/browse-edgar?action...</td>\n",
       "    </tr>\n",
       "    <tr>\n",
       "      <th>AEE</th>\n",
       "      <td>Ameren Corp</td>\n",
       "      <td>Utilities</td>\n",
       "      <td>53.15</td>\n",
       "      <td>3.16</td>\n",
       "      <td>20.62</td>\n",
       "      <td>2.58</td>\n",
       "      <td>28.31</td>\n",
       "      <td>37.92</td>\n",
       "      <td>54.08</td>\n",
       "      <td>12.90</td>\n",
       "      <td>2.18000</td>\n",
       "      <td>2.21</td>\n",
       "      <td>1.86</td>\n",
       "      <td>http://www.sec.gov/cgi-bin/browse-edgar?action...</td>\n",
       "    </tr>\n",
       "    <tr>\n",
       "      <th>AAL</th>\n",
       "      <td>American Airlines Group</td>\n",
       "      <td>Industrials</td>\n",
       "      <td>30.04</td>\n",
       "      <td>1.41</td>\n",
       "      <td>2.69</td>\n",
       "      <td>11.16</td>\n",
       "      <td>8.04</td>\n",
       "      <td>24.85</td>\n",
       "      <td>47.09</td>\n",
       "      <td>17.37</td>\n",
       "      <td>8.83000</td>\n",
       "      <td>0.42</td>\n",
       "      <td>3.66</td>\n",
       "      <td>http://www.sec.gov/cgi-bin/browse-edgar?action...</td>\n",
       "    </tr>\n",
       "    <tr>\n",
       "      <th>...</th>\n",
       "      <td>...</td>\n",
       "      <td>...</td>\n",
       "      <td>...</td>\n",
       "      <td>...</td>\n",
       "      <td>...</td>\n",
       "      <td>...</td>\n",
       "      <td>...</td>\n",
       "      <td>...</td>\n",
       "      <td>...</td>\n",
       "      <td>...</td>\n",
       "      <td>...</td>\n",
       "      <td>...</td>\n",
       "      <td>...</td>\n",
       "      <td>...</td>\n",
       "    </tr>\n",
       "    <tr>\n",
       "      <th>V</th>\n",
       "      <td>Visa Inc.</td>\n",
       "      <td>Information Technology</td>\n",
       "      <td>76.42</td>\n",
       "      <td>0.75</td>\n",
       "      <td>26.64</td>\n",
       "      <td>2.87</td>\n",
       "      <td>12.22</td>\n",
       "      <td>60.00</td>\n",
       "      <td>81.73</td>\n",
       "      <td>182.28</td>\n",
       "      <td>9.63000</td>\n",
       "      <td>12.45</td>\n",
       "      <td>6.10</td>\n",
       "      <td>http://www.sec.gov/cgi-bin/browse-edgar?action...</td>\n",
       "    </tr>\n",
       "    <tr>\n",
       "      <th>VNO</th>\n",
       "      <td>Vornado Realty Trust</td>\n",
       "      <td>Financials</td>\n",
       "      <td>100.46</td>\n",
       "      <td>2.57</td>\n",
       "      <td>39.61</td>\n",
       "      <td>2.54</td>\n",
       "      <td>27.80</td>\n",
       "      <td>78.91</td>\n",
       "      <td>103.41</td>\n",
       "      <td>18.96</td>\n",
       "      <td>1.22000</td>\n",
       "      <td>7.44</td>\n",
       "      <td>3.52</td>\n",
       "      <td>http://www.sec.gov/cgi-bin/browse-edgar?action...</td>\n",
       "    </tr>\n",
       "    <tr>\n",
       "      <th>VMC</th>\n",
       "      <td>Vulcan Materials</td>\n",
       "      <td>Materials</td>\n",
       "      <td>123.61</td>\n",
       "      <td>0.66</td>\n",
       "      <td>60.09</td>\n",
       "      <td>2.06</td>\n",
       "      <td>33.15</td>\n",
       "      <td>78.83</td>\n",
       "      <td>124.28</td>\n",
       "      <td>16.46</td>\n",
       "      <td>0.89797</td>\n",
       "      <td>4.58</td>\n",
       "      <td>3.67</td>\n",
       "      <td>http://www.sec.gov/cgi-bin/browse-edgar?action...</td>\n",
       "    </tr>\n",
       "    <tr>\n",
       "      <th>WMT</th>\n",
       "      <td>Wal-Mart Stores</td>\n",
       "      <td>Consumer Staples</td>\n",
       "      <td>73.84</td>\n",
       "      <td>2.72</td>\n",
       "      <td>16.32</td>\n",
       "      <td>4.52</td>\n",
       "      <td>24.06</td>\n",
       "      <td>56.30</td>\n",
       "      <td>74.14</td>\n",
       "      <td>230.13</td>\n",
       "      <td>33.22000</td>\n",
       "      <td>0.47</td>\n",
       "      <td>3.06</td>\n",
       "      <td>http://www.sec.gov/cgi-bin/browse-edgar?action...</td>\n",
       "    </tr>\n",
       "    <tr>\n",
       "      <th>WBA</th>\n",
       "      <td>Walgreens Boots Alliance</td>\n",
       "      <td>Consumer Staples</td>\n",
       "      <td>81.80</td>\n",
       "      <td>1.77</td>\n",
       "      <td>28.27</td>\n",
       "      <td>2.89</td>\n",
       "      <td>28.55</td>\n",
       "      <td>71.50</td>\n",
       "      <td>97.30</td>\n",
       "      <td>88.53</td>\n",
       "      <td>8.27000</td>\n",
       "      <td>0.74</td>\n",
       "      <td>2.82</td>\n",
       "      <td>http://www.sec.gov/cgi-bin/browse-edgar?action...</td>\n",
       "    </tr>\n",
       "    <tr>\n",
       "      <th>WM</th>\n",
       "      <td>Waste Management Inc.</td>\n",
       "      <td>Industrials</td>\n",
       "      <td>67.61</td>\n",
       "      <td>2.44</td>\n",
       "      <td>26.87</td>\n",
       "      <td>2.52</td>\n",
       "      <td>11.90</td>\n",
       "      <td>47.55</td>\n",
       "      <td>70.50</td>\n",
       "      <td>30.04</td>\n",
       "      <td>3.46000</td>\n",
       "      <td>2.28</td>\n",
       "      <td>5.66</td>\n",
       "      <td>http://www.sec.gov/cgi-bin/browse-edgar?action...</td>\n",
       "    </tr>\n",
       "    <tr>\n",
       "      <th>WAT</th>\n",
       "      <td>Waters Corporation</td>\n",
       "      <td>Health Care</td>\n",
       "      <td>146.53</td>\n",
       "      <td>0.00</td>\n",
       "      <td>25.91</td>\n",
       "      <td>5.66</td>\n",
       "      <td>25.97</td>\n",
       "      <td>112.00</td>\n",
       "      <td>146.96</td>\n",
       "      <td>11.86</td>\n",
       "      <td>0.66179</td>\n",
       "      <td>5.61</td>\n",
       "      <td>5.49</td>\n",
       "      <td>http://www.sec.gov/cgi-bin/browse-edgar?action...</td>\n",
       "    </tr>\n",
       "    <tr>\n",
       "      <th>WFC</th>\n",
       "      <td>Wells Fargo</td>\n",
       "      <td>Financials</td>\n",
       "      <td>47.79</td>\n",
       "      <td>3.26</td>\n",
       "      <td>11.74</td>\n",
       "      <td>4.07</td>\n",
       "      <td>34.62</td>\n",
       "      <td>44.50</td>\n",
       "      <td>58.77</td>\n",
       "      <td>242.63</td>\n",
       "      <td>0.00000</td>\n",
       "      <td>2.82</td>\n",
       "      <td>1.35</td>\n",
       "      <td>http://www.sec.gov/cgi-bin/browse-edgar?action...</td>\n",
       "    </tr>\n",
       "    <tr>\n",
       "      <th>HCN</th>\n",
       "      <td>Welltower Inc.</td>\n",
       "      <td>Financials</td>\n",
       "      <td>75.62</td>\n",
       "      <td>4.50</td>\n",
       "      <td>34.40</td>\n",
       "      <td>2.20</td>\n",
       "      <td>37.88</td>\n",
       "      <td>52.80</td>\n",
       "      <td>77.18</td>\n",
       "      <td>27.00</td>\n",
       "      <td>2.01000</td>\n",
       "      <td>6.82</td>\n",
       "      <td>1.98</td>\n",
       "      <td>http://www.sec.gov/cgi-bin/browse-edgar?action...</td>\n",
       "    </tr>\n",
       "    <tr>\n",
       "      <th>WDC</th>\n",
       "      <td>Western Digital</td>\n",
       "      <td>Information Technology</td>\n",
       "      <td>49.35</td>\n",
       "      <td>4.20</td>\n",
       "      <td>13.94</td>\n",
       "      <td>3.54</td>\n",
       "      <td>41.24</td>\n",
       "      <td>34.99</td>\n",
       "      <td>88.46</td>\n",
       "      <td>11.50</td>\n",
       "      <td>2.22000</td>\n",
       "      <td>0.88</td>\n",
       "      <td>1.16</td>\n",
       "      <td>http://www.sec.gov/cgi-bin/browse-edgar?action...</td>\n",
       "    </tr>\n",
       "    <tr>\n",
       "      <th>WU</th>\n",
       "      <td>Western Union Co</td>\n",
       "      <td>Information Technology</td>\n",
       "      <td>19.57</td>\n",
       "      <td>3.34</td>\n",
       "      <td>12.22</td>\n",
       "      <td>1.60</td>\n",
       "      <td>2.52</td>\n",
       "      <td>16.02</td>\n",
       "      <td>20.62</td>\n",
       "      <td>9.61</td>\n",
       "      <td>1.38000</td>\n",
       "      <td>1.71</td>\n",
       "      <td>7.54</td>\n",
       "      <td>http://www.sec.gov/cgi-bin/browse-edgar?action...</td>\n",
       "    </tr>\n",
       "    <tr>\n",
       "      <th>WRK</th>\n",
       "      <td>Westrock Co</td>\n",
       "      <td>Materials</td>\n",
       "      <td>38.55</td>\n",
       "      <td>4.04</td>\n",
       "      <td>NaN</td>\n",
       "      <td>-0.55</td>\n",
       "      <td>43.77</td>\n",
       "      <td>29.73</td>\n",
       "      <td>64.74</td>\n",
       "      <td>9.63</td>\n",
       "      <td>2.26000</td>\n",
       "      <td>0.67</td>\n",
       "      <td>0.85</td>\n",
       "      <td>http://www.sec.gov/cgi-bin/browse-edgar?action...</td>\n",
       "    </tr>\n",
       "    <tr>\n",
       "      <th>WY</th>\n",
       "      <td>Weyerhaeuser Corp.</td>\n",
       "      <td>Financials</td>\n",
       "      <td>30.67</td>\n",
       "      <td>4.12</td>\n",
       "      <td>37.86</td>\n",
       "      <td>0.81</td>\n",
       "      <td>13.53</td>\n",
       "      <td>22.06</td>\n",
       "      <td>32.72</td>\n",
       "      <td>22.91</td>\n",
       "      <td>1.51000</td>\n",
       "      <td>3.14</td>\n",
       "      <td>2.23</td>\n",
       "      <td>http://www.sec.gov/cgi-bin/browse-edgar?action...</td>\n",
       "    </tr>\n",
       "    <tr>\n",
       "      <th>WHR</th>\n",
       "      <td>Whirlpool Corp.</td>\n",
       "      <td>Consumer Discretionary</td>\n",
       "      <td>171.38</td>\n",
       "      <td>2.38</td>\n",
       "      <td>18.27</td>\n",
       "      <td>9.38</td>\n",
       "      <td>62.60</td>\n",
       "      <td>123.60</td>\n",
       "      <td>193.59</td>\n",
       "      <td>13.02</td>\n",
       "      <td>2.09000</td>\n",
       "      <td>0.62</td>\n",
       "      <td>2.68</td>\n",
       "      <td>http://www.sec.gov/cgi-bin/browse-edgar?action...</td>\n",
       "    </tr>\n",
       "    <tr>\n",
       "      <th>WFM</th>\n",
       "      <td>Whole Foods Market</td>\n",
       "      <td>Consumer Staples</td>\n",
       "      <td>33.58</td>\n",
       "      <td>1.63</td>\n",
       "      <td>22.91</td>\n",
       "      <td>1.47</td>\n",
       "      <td>10.11</td>\n",
       "      <td>28.07</td>\n",
       "      <td>41.97</td>\n",
       "      <td>10.78</td>\n",
       "      <td>1.39000</td>\n",
       "      <td>0.69</td>\n",
       "      <td>3.29</td>\n",
       "      <td>http://www.sec.gov/cgi-bin/browse-edgar?action...</td>\n",
       "    </tr>\n",
       "    <tr>\n",
       "      <th>WMB</th>\n",
       "      <td>Williams Cos.</td>\n",
       "      <td>Energy</td>\n",
       "      <td>20.99</td>\n",
       "      <td>12.43</td>\n",
       "      <td>NaN</td>\n",
       "      <td>-0.94</td>\n",
       "      <td>7.59</td>\n",
       "      <td>10.22</td>\n",
       "      <td>58.77</td>\n",
       "      <td>15.75</td>\n",
       "      <td>3.24000</td>\n",
       "      <td>2.09</td>\n",
       "      <td>2.68</td>\n",
       "      <td>http://www.sec.gov/cgi-bin/browse-edgar?action...</td>\n",
       "    </tr>\n",
       "    <tr>\n",
       "      <th>WLTW</th>\n",
       "      <td>Willis Towers Watson</td>\n",
       "      <td>Financials</td>\n",
       "      <td>125.06</td>\n",
       "      <td>1.54</td>\n",
       "      <td>26.71</td>\n",
       "      <td>4.68</td>\n",
       "      <td>80.57</td>\n",
       "      <td>104.11</td>\n",
       "      <td>129.70</td>\n",
       "      <td>17.31</td>\n",
       "      <td>1.16000</td>\n",
       "      <td>3.48</td>\n",
       "      <td>1.54</td>\n",
       "      <td>http://www.sec.gov/cgi-bin/browse-edgar?action...</td>\n",
       "    </tr>\n",
       "    <tr>\n",
       "      <th>WEC</th>\n",
       "      <td>Wisconsin Energy Corporation</td>\n",
       "      <td>Utilities</td>\n",
       "      <td>65.03</td>\n",
       "      <td>3.02</td>\n",
       "      <td>24.35</td>\n",
       "      <td>2.67</td>\n",
       "      <td>27.94</td>\n",
       "      <td>46.00</td>\n",
       "      <td>66.10</td>\n",
       "      <td>20.53</td>\n",
       "      <td>2.14000</td>\n",
       "      <td>3.02</td>\n",
       "      <td>2.30</td>\n",
       "      <td>http://www.sec.gov/cgi-bin/browse-edgar?action...</td>\n",
       "    </tr>\n",
       "    <tr>\n",
       "      <th>WYN</th>\n",
       "      <td>Wyndham Worldwide</td>\n",
       "      <td>Consumer Discretionary</td>\n",
       "      <td>72.35</td>\n",
       "      <td>2.84</td>\n",
       "      <td>14.46</td>\n",
       "      <td>5.00</td>\n",
       "      <td>7.48</td>\n",
       "      <td>60.59</td>\n",
       "      <td>87.33</td>\n",
       "      <td>8.10</td>\n",
       "      <td>1.25000</td>\n",
       "      <td>1.43</td>\n",
       "      <td>9.50</td>\n",
       "      <td>http://www.sec.gov/cgi-bin/browse-edgar?action...</td>\n",
       "    </tr>\n",
       "    <tr>\n",
       "      <th>WYNN</th>\n",
       "      <td>Wynn Resorts Ltd</td>\n",
       "      <td>Consumer Discretionary</td>\n",
       "      <td>89.75</td>\n",
       "      <td>2.22</td>\n",
       "      <td>29.01</td>\n",
       "      <td>3.09</td>\n",
       "      <td>-0.83</td>\n",
       "      <td>49.95</td>\n",
       "      <td>110.31</td>\n",
       "      <td>9.10</td>\n",
       "      <td>0.95720</td>\n",
       "      <td>2.27</td>\n",
       "      <td>NaN</td>\n",
       "      <td>http://www.sec.gov/cgi-bin/browse-edgar?action...</td>\n",
       "    </tr>\n",
       "    <tr>\n",
       "      <th>XEL</th>\n",
       "      <td>Xcel Energy Inc</td>\n",
       "      <td>Utilities</td>\n",
       "      <td>44.59</td>\n",
       "      <td>3.00</td>\n",
       "      <td>21.13</td>\n",
       "      <td>2.11</td>\n",
       "      <td>21.01</td>\n",
       "      <td>32.43</td>\n",
       "      <td>45.42</td>\n",
       "      <td>22.65</td>\n",
       "      <td>3.43000</td>\n",
       "      <td>2.08</td>\n",
       "      <td>2.11</td>\n",
       "      <td>http://www.sec.gov/cgi-bin/browse-edgar?action...</td>\n",
       "    </tr>\n",
       "    <tr>\n",
       "      <th>XRX</th>\n",
       "      <td>Xerox Corp.</td>\n",
       "      <td>Information Technology</td>\n",
       "      <td>9.54</td>\n",
       "      <td>3.30</td>\n",
       "      <td>38.31</td>\n",
       "      <td>0.25</td>\n",
       "      <td>9.01</td>\n",
       "      <td>8.48</td>\n",
       "      <td>11.46</td>\n",
       "      <td>9.66</td>\n",
       "      <td>1.73000</td>\n",
       "      <td>0.53</td>\n",
       "      <td>1.04</td>\n",
       "      <td>http://www.sec.gov/cgi-bin/browse-edgar?action...</td>\n",
       "    </tr>\n",
       "    <tr>\n",
       "      <th>XLNX</th>\n",
       "      <td>Xilinx Inc</td>\n",
       "      <td>Information Technology</td>\n",
       "      <td>46.97</td>\n",
       "      <td>2.90</td>\n",
       "      <td>22.91</td>\n",
       "      <td>2.05</td>\n",
       "      <td>10.21</td>\n",
       "      <td>38.73</td>\n",
       "      <td>50.72</td>\n",
       "      <td>11.92</td>\n",
       "      <td>0.73832</td>\n",
       "      <td>5.24</td>\n",
       "      <td>4.48</td>\n",
       "      <td>http://www.sec.gov/cgi-bin/browse-edgar?action...</td>\n",
       "    </tr>\n",
       "    <tr>\n",
       "      <th>XL</th>\n",
       "      <td>XL Capital</td>\n",
       "      <td>Financials</td>\n",
       "      <td>33.01</td>\n",
       "      <td>2.45</td>\n",
       "      <td>8.31</td>\n",
       "      <td>3.97</td>\n",
       "      <td>40.83</td>\n",
       "      <td>25.56</td>\n",
       "      <td>40.48</td>\n",
       "      <td>9.40</td>\n",
       "      <td>1.59000</td>\n",
       "      <td>0.88</td>\n",
       "      <td>0.80</td>\n",
       "      <td>http://www.sec.gov/cgi-bin/browse-edgar?action...</td>\n",
       "    </tr>\n",
       "    <tr>\n",
       "      <th>XYL</th>\n",
       "      <td>Xylem Inc.</td>\n",
       "      <td>Industrials</td>\n",
       "      <td>46.41</td>\n",
       "      <td>1.43</td>\n",
       "      <td>24.53</td>\n",
       "      <td>1.89</td>\n",
       "      <td>12.07</td>\n",
       "      <td>29.90</td>\n",
       "      <td>46.67</td>\n",
       "      <td>8.30</td>\n",
       "      <td>0.59800</td>\n",
       "      <td>2.23</td>\n",
       "      <td>3.78</td>\n",
       "      <td>http://www.sec.gov/cgi-bin/browse-edgar?action...</td>\n",
       "    </tr>\n",
       "    <tr>\n",
       "      <th>YHOO</th>\n",
       "      <td>Yahoo Inc.</td>\n",
       "      <td>Information Technology</td>\n",
       "      <td>37.74</td>\n",
       "      <td>NaN</td>\n",
       "      <td>NaN</td>\n",
       "      <td>-4.76</td>\n",
       "      <td>30.03</td>\n",
       "      <td>26.15</td>\n",
       "      <td>39.98</td>\n",
       "      <td>35.82</td>\n",
       "      <td>0.24544</td>\n",
       "      <td>7.37</td>\n",
       "      <td>1.25</td>\n",
       "      <td>http://www.sec.gov/cgi-bin/browse-edgar?action...</td>\n",
       "    </tr>\n",
       "    <tr>\n",
       "      <th>YUM</th>\n",
       "      <td>Yum! Brands Inc</td>\n",
       "      <td>Consumer Discretionary</td>\n",
       "      <td>85.76</td>\n",
       "      <td>2.18</td>\n",
       "      <td>28.29</td>\n",
       "      <td>3.03</td>\n",
       "      <td>0.38</td>\n",
       "      <td>64.58</td>\n",
       "      <td>92.33</td>\n",
       "      <td>34.94</td>\n",
       "      <td>2.97000</td>\n",
       "      <td>2.62</td>\n",
       "      <td>220.13</td>\n",
       "      <td>http://www.sec.gov/cgi-bin/browse-edgar?action...</td>\n",
       "    </tr>\n",
       "    <tr>\n",
       "      <th>ZBH</th>\n",
       "      <td>Zimmer Biomet Holdings</td>\n",
       "      <td>Health Care</td>\n",
       "      <td>124.89</td>\n",
       "      <td>0.79</td>\n",
       "      <td>307.61</td>\n",
       "      <td>0.41</td>\n",
       "      <td>48.52</td>\n",
       "      <td>88.27</td>\n",
       "      <td>124.98</td>\n",
       "      <td>24.88</td>\n",
       "      <td>2.63000</td>\n",
       "      <td>3.59</td>\n",
       "      <td>2.51</td>\n",
       "      <td>http://www.sec.gov/cgi-bin/browse-edgar?action...</td>\n",
       "    </tr>\n",
       "    <tr>\n",
       "      <th>ZION</th>\n",
       "      <td>Zions Bancorp</td>\n",
       "      <td>Financials</td>\n",
       "      <td>24.74</td>\n",
       "      <td>0.98</td>\n",
       "      <td>20.45</td>\n",
       "      <td>1.21</td>\n",
       "      <td>33.23</td>\n",
       "      <td>19.65</td>\n",
       "      <td>32.42</td>\n",
       "      <td>5.06</td>\n",
       "      <td>0.00000</td>\n",
       "      <td>2.44</td>\n",
       "      <td>0.73</td>\n",
       "      <td>http://www.sec.gov/cgi-bin/browse-edgar?action...</td>\n",
       "    </tr>\n",
       "    <tr>\n",
       "      <th>ZTS</th>\n",
       "      <td>Zoetis</td>\n",
       "      <td>Health Care</td>\n",
       "      <td>48.50</td>\n",
       "      <td>0.80</td>\n",
       "      <td>63.98</td>\n",
       "      <td>0.76</td>\n",
       "      <td>2.35</td>\n",
       "      <td>37.73</td>\n",
       "      <td>50.39</td>\n",
       "      <td>24.07</td>\n",
       "      <td>1.53000</td>\n",
       "      <td>4.90</td>\n",
       "      <td>20.32</td>\n",
       "      <td>http://www.sec.gov/cgi-bin/browse-edgar?action...</td>\n",
       "    </tr>\n",
       "  </tbody>\n",
       "</table>\n",
       "<p>504 rows × 14 columns</p>\n",
       "</div>"
      ],
      "text/plain": [
       "                                 Name                  Sector   Price  \\\n",
       "Symbol                                                                  \n",
       "MMM                        3M Company             Industrials  177.12   \n",
       "ABT               Abbott Laboratories             Health Care   41.89   \n",
       "ABBV                           AbbVie             Health Care   64.16   \n",
       "ACN                     Accenture plc  Information Technology  115.11   \n",
       "ATVI              Activision Blizzard  Information Technology   41.29   \n",
       "AYI                 Acuity Brands Inc             Industrials  264.62   \n",
       "ADBE                Adobe Systems Inc  Information Technology   96.79   \n",
       "AAP                Advance Auto Parts  Consumer Discretionary  164.85   \n",
       "AES                          AES Corp               Utilities   12.32   \n",
       "AET                         Aetna Inc             Health Care  117.00   \n",
       "AMG     Affiliated Managers Group Inc              Financials  138.85   \n",
       "AFL                         AFLAC Inc              Financials   72.49   \n",
       "A            Agilent Technologies Inc             Health Care   45.48   \n",
       "APD      Air Products & Chemicals Inc               Materials  144.35   \n",
       "AKAM          Akamai Technologies Inc  Information Technology   56.38   \n",
       "ALK              Alaska Air Group Inc             Industrials   59.86   \n",
       "ALB                    Albemarle Corp               Materials   83.58   \n",
       "AA                          Alcoa Inc               Materials    9.82   \n",
       "ALXN          Alexion Pharmaceuticals             Health Care  124.42   \n",
       "ALLE                         Allegion             Industrials   69.74   \n",
       "AGN                      Allergan plc             Health Care  240.59   \n",
       "ADS             Alliance Data Systems  Information Technology  200.96   \n",
       "LNT               Alliant Energy Corp               Utilities   40.55   \n",
       "ALL                     Allstate Corp              Financials   69.66   \n",
       "GOOGL            Alphabet Inc Class A  Information Technology  717.78   \n",
       "GOOG             Alphabet Inc Class C  Information Technology  705.63   \n",
       "MO                   Altria Group Inc        Consumer Staples   69.83   \n",
       "AMZN                   Amazon.com Inc  Consumer Discretionary  745.81   \n",
       "AEE                       Ameren Corp               Utilities   53.15   \n",
       "AAL           American Airlines Group             Industrials   30.04   \n",
       "...                               ...                     ...     ...   \n",
       "V                           Visa Inc.  Information Technology   76.42   \n",
       "VNO              Vornado Realty Trust              Financials  100.46   \n",
       "VMC                  Vulcan Materials               Materials  123.61   \n",
       "WMT                   Wal-Mart Stores        Consumer Staples   73.84   \n",
       "WBA          Walgreens Boots Alliance        Consumer Staples   81.80   \n",
       "WM              Waste Management Inc.             Industrials   67.61   \n",
       "WAT                Waters Corporation             Health Care  146.53   \n",
       "WFC                       Wells Fargo              Financials   47.79   \n",
       "HCN                    Welltower Inc.              Financials   75.62   \n",
       "WDC                   Western Digital  Information Technology   49.35   \n",
       "WU                   Western Union Co  Information Technology   19.57   \n",
       "WRK                       Westrock Co               Materials   38.55   \n",
       "WY                 Weyerhaeuser Corp.              Financials   30.67   \n",
       "WHR                   Whirlpool Corp.  Consumer Discretionary  171.38   \n",
       "WFM                Whole Foods Market        Consumer Staples   33.58   \n",
       "WMB                     Williams Cos.                  Energy   20.99   \n",
       "WLTW             Willis Towers Watson              Financials  125.06   \n",
       "WEC      Wisconsin Energy Corporation               Utilities   65.03   \n",
       "WYN                 Wyndham Worldwide  Consumer Discretionary   72.35   \n",
       "WYNN                 Wynn Resorts Ltd  Consumer Discretionary   89.75   \n",
       "XEL                   Xcel Energy Inc               Utilities   44.59   \n",
       "XRX                       Xerox Corp.  Information Technology    9.54   \n",
       "XLNX                       Xilinx Inc  Information Technology   46.97   \n",
       "XL                         XL Capital              Financials   33.01   \n",
       "XYL                        Xylem Inc.             Industrials   46.41   \n",
       "YHOO                       Yahoo Inc.  Information Technology   37.74   \n",
       "YUM                   Yum! Brands Inc  Consumer Discretionary   85.76   \n",
       "ZBH            Zimmer Biomet Holdings             Health Care  124.89   \n",
       "ZION                    Zions Bancorp              Financials   24.74   \n",
       "ZTS                            Zoetis             Health Care   48.50   \n",
       "\n",
       "        Dividend Yield  Price/Earnings  Earnings/Share  Book Value  \\\n",
       "Symbol                                                               \n",
       "MMM               2.53           22.77            7.78       19.34   \n",
       "ABT               2.55           25.79            1.62       14.10   \n",
       "ABBV              3.60           19.29            3.33        2.87   \n",
       "ACN               1.94           19.45            5.92       11.45   \n",
       "ATVI              0.64           37.06            1.11       11.31   \n",
       "AYI               0.21           43.23            6.12       36.50   \n",
       "ADBE              0.00           54.68            1.77       14.53   \n",
       "AAP               0.15           25.20            6.40       35.82   \n",
       "AES               3.60           28.99            0.43        4.86   \n",
       "AET               0.87           17.62            6.64       47.96   \n",
       "AMG                NaN           15.55            8.93       53.30   \n",
       "AFL               2.27           11.93            6.07       48.22   \n",
       "A                 1.04           32.35            1.38       12.79   \n",
       "APD               2.46           56.99            2.53       32.01   \n",
       "AKAM               NaN           31.85            1.77       17.69   \n",
       "ALK               1.88            8.65            6.92       19.81   \n",
       "ALB               1.57           18.13            4.61       31.53   \n",
       "AA                1.31             NaN           -0.44        9.25   \n",
       "ALXN               NaN          188.23            0.66       35.96   \n",
       "ALLE              0.70           40.59            1.72        0.77   \n",
       "AGN               0.10           21.53           11.18      183.41   \n",
       "ADS                NaN           22.65            8.87       29.51   \n",
       "LNT               3.18           24.30            3.34       16.58   \n",
       "ALL               1.95           17.00            4.10       49.58   \n",
       "GOOGL              NaN           29.21           24.58      179.92   \n",
       "GOOG               NaN           28.71           24.58      179.92   \n",
       "MO                3.26           25.20            2.77        1.40   \n",
       "AMZN               NaN          307.42            2.43       31.26   \n",
       "AEE               3.16           20.62            2.58       28.31   \n",
       "AAL               1.41            2.69           11.16        8.04   \n",
       "...                ...             ...             ...         ...   \n",
       "V                 0.75           26.64            2.87       12.22   \n",
       "VNO               2.57           39.61            2.54       27.80   \n",
       "VMC               0.66           60.09            2.06       33.15   \n",
       "WMT               2.72           16.32            4.52       24.06   \n",
       "WBA               1.77           28.27            2.89       28.55   \n",
       "WM                2.44           26.87            2.52       11.90   \n",
       "WAT               0.00           25.91            5.66       25.97   \n",
       "WFC               3.26           11.74            4.07       34.62   \n",
       "HCN               4.50           34.40            2.20       37.88   \n",
       "WDC               4.20           13.94            3.54       41.24   \n",
       "WU                3.34           12.22            1.60        2.52   \n",
       "WRK               4.04             NaN           -0.55       43.77   \n",
       "WY                4.12           37.86            0.81       13.53   \n",
       "WHR               2.38           18.27            9.38       62.60   \n",
       "WFM               1.63           22.91            1.47       10.11   \n",
       "WMB              12.43             NaN           -0.94        7.59   \n",
       "WLTW              1.54           26.71            4.68       80.57   \n",
       "WEC               3.02           24.35            2.67       27.94   \n",
       "WYN               2.84           14.46            5.00        7.48   \n",
       "WYNN              2.22           29.01            3.09       -0.83   \n",
       "XEL               3.00           21.13            2.11       21.01   \n",
       "XRX               3.30           38.31            0.25        9.01   \n",
       "XLNX              2.90           22.91            2.05       10.21   \n",
       "XL                2.45            8.31            3.97       40.83   \n",
       "XYL               1.43           24.53            1.89       12.07   \n",
       "YHOO               NaN             NaN           -4.76       30.03   \n",
       "YUM               2.18           28.29            3.03        0.38   \n",
       "ZBH               0.79          307.61            0.41       48.52   \n",
       "ZION              0.98           20.45            1.21       33.23   \n",
       "ZTS               0.80           63.98            0.76        2.35   \n",
       "\n",
       "        52 week low  52 week high  Market Cap    EBITDA  Price/Sales  \\\n",
       "Symbol                                                                 \n",
       "MMM          134.00        177.79      107.43   8.57000         3.52   \n",
       "ABT           36.00         51.74       61.54   4.40000         2.98   \n",
       "ABBV          45.45         71.60      103.77  10.30000         4.31   \n",
       "ACN           88.43        120.78       71.66   5.42000         2.17   \n",
       "ATVI          24.04         41.32       30.48   1.59000         6.16   \n",
       "AYI          168.33        265.10       11.51   0.53650         3.53   \n",
       "ADBE          71.27        100.56       48.23   1.53000         8.93   \n",
       "AAP          131.59        201.24       12.10   1.24000         1.22   \n",
       "AES            8.22         13.38        8.12   3.57000         0.55   \n",
       "AET           92.42        125.47       41.02   5.40000         0.67   \n",
       "AMG          115.97        220.72        7.47   0.91600         3.02   \n",
       "AFL           51.41         72.81       30.01   4.49000         1.40   \n",
       "A             33.12         46.68       14.80   0.84400         3.53   \n",
       "APD          114.64        152.16       31.19   2.98000         3.16   \n",
       "AKAM          39.43         76.98        9.90   0.69810         4.31   \n",
       "ALK           54.51         87.17        7.38   1.72000         1.29   \n",
       "ALB           41.37         84.99        9.39   0.95275         2.51   \n",
       "AA             6.14         11.50       12.91   2.67000         0.57   \n",
       "ALXN         110.56        208.88       27.87   0.97872        10.22   \n",
       "ALLE          52.95         69.95        6.68   0.45060         3.11   \n",
       "AGN          195.50        340.34       95.17   6.57000         5.77   \n",
       "ADS          176.63        307.78       11.84   1.52000         1.78   \n",
       "LNT           27.14         40.99        9.21   0.99400         2.83   \n",
       "ALL           54.12         69.95       26.08   3.26000         0.73   \n",
       "GOOGL        558.70        810.35      492.80  25.51000         6.23   \n",
       "GOOG         532.40        789.87      484.45  25.51000         6.12   \n",
       "MO            47.41         70.15      136.59   9.06000         7.09   \n",
       "AMZN         447.54        746.10      351.89   9.09000         3.06   \n",
       "AEE           37.92         54.08       12.90   2.18000         2.21   \n",
       "AAL           24.85         47.09       17.37   8.83000         0.42   \n",
       "...             ...           ...         ...       ...          ...   \n",
       "V             60.00         81.73      182.28   9.63000        12.45   \n",
       "VNO           78.91        103.41       18.96   1.22000         7.44   \n",
       "VMC           78.83        124.28       16.46   0.89797         4.58   \n",
       "WMT           56.30         74.14      230.13  33.22000         0.47   \n",
       "WBA           71.50         97.30       88.53   8.27000         0.74   \n",
       "WM            47.55         70.50       30.04   3.46000         2.28   \n",
       "WAT          112.00        146.96       11.86   0.66179         5.61   \n",
       "WFC           44.50         58.77      242.63   0.00000         2.82   \n",
       "HCN           52.80         77.18       27.00   2.01000         6.82   \n",
       "WDC           34.99         88.46       11.50   2.22000         0.88   \n",
       "WU            16.02         20.62        9.61   1.38000         1.71   \n",
       "WRK           29.73         64.74        9.63   2.26000         0.67   \n",
       "WY            22.06         32.72       22.91   1.51000         3.14   \n",
       "WHR          123.60        193.59       13.02   2.09000         0.62   \n",
       "WFM           28.07         41.97       10.78   1.39000         0.69   \n",
       "WMB           10.22         58.77       15.75   3.24000         2.09   \n",
       "WLTW         104.11        129.70       17.31   1.16000         3.48   \n",
       "WEC           46.00         66.10       20.53   2.14000         3.02   \n",
       "WYN           60.59         87.33        8.10   1.25000         1.43   \n",
       "WYNN          49.95        110.31        9.10   0.95720         2.27   \n",
       "XEL           32.43         45.42       22.65   3.43000         2.08   \n",
       "XRX            8.48         11.46        9.66   1.73000         0.53   \n",
       "XLNX          38.73         50.72       11.92   0.73832         5.24   \n",
       "XL            25.56         40.48        9.40   1.59000         0.88   \n",
       "XYL           29.90         46.67        8.30   0.59800         2.23   \n",
       "YHOO          26.15         39.98       35.82   0.24544         7.37   \n",
       "YUM           64.58         92.33       34.94   2.97000         2.62   \n",
       "ZBH           88.27        124.98       24.88   2.63000         3.59   \n",
       "ZION          19.65         32.42        5.06   0.00000         2.44   \n",
       "ZTS           37.73         50.39       24.07   1.53000         4.90   \n",
       "\n",
       "        Price/Book                                        SEC Filings  \n",
       "Symbol                                                                 \n",
       "MMM           9.04  http://www.sec.gov/cgi-bin/browse-edgar?action...  \n",
       "ABT           2.93  http://www.sec.gov/cgi-bin/browse-edgar?action...  \n",
       "ABBV         22.09  http://www.sec.gov/cgi-bin/browse-edgar?action...  \n",
       "ACN           9.84  http://www.sec.gov/cgi-bin/browse-edgar?action...  \n",
       "ATVI          3.57  http://www.sec.gov/cgi-bin/browse-edgar?action...  \n",
       "AYI           6.95  http://www.sec.gov/cgi-bin/browse-edgar?action...  \n",
       "ADBE          6.55  http://www.sec.gov/cgi-bin/browse-edgar?action...  \n",
       "AAP           4.50  http://www.sec.gov/cgi-bin/browse-edgar?action...  \n",
       "AES           2.49  http://www.sec.gov/cgi-bin/browse-edgar?action...  \n",
       "AET           2.41  http://www.sec.gov/cgi-bin/browse-edgar?action...  \n",
       "AMG           2.52  http://www.sec.gov/cgi-bin/browse-edgar?action...  \n",
       "AFL           1.48  http://www.sec.gov/cgi-bin/browse-edgar?action...  \n",
       "A             3.47  http://www.sec.gov/cgi-bin/browse-edgar?action...  \n",
       "APD           4.36  http://www.sec.gov/cgi-bin/browse-edgar?action...  \n",
       "AKAM          3.11  http://www.sec.gov/cgi-bin/browse-edgar?action...  \n",
       "ALK           3.00  http://www.sec.gov/cgi-bin/browse-edgar?action...  \n",
       "ALB           2.58  http://www.sec.gov/cgi-bin/browse-edgar?action...  \n",
       "AA            1.01  http://www.sec.gov/cgi-bin/browse-edgar?action...  \n",
       "ALXN          3.43  http://www.sec.gov/cgi-bin/browse-edgar?action...  \n",
       "ALLE         89.14  http://www.sec.gov/cgi-bin/browse-edgar?action...  \n",
       "AGN           1.30  http://www.sec.gov/cgi-bin/browse-edgar?action...  \n",
       "ADS           6.68  http://www.sec.gov/cgi-bin/browse-edgar?action...  \n",
       "LNT           2.40  http://www.sec.gov/cgi-bin/browse-edgar?action...  \n",
       "ALL           1.39  http://www.sec.gov/cgi-bin/browse-edgar?action...  \n",
       "GOOGL         3.93  http://www.sec.gov/cgi-bin/browse-edgar?action...  \n",
       "GOOG          3.86  http://www.sec.gov/cgi-bin/browse-edgar?action...  \n",
       "MO           49.39  http://www.sec.gov/cgi-bin/browse-edgar?action...  \n",
       "AMZN         23.56  http://www.sec.gov/cgi-bin/browse-edgar?action...  \n",
       "AEE           1.86  http://www.sec.gov/cgi-bin/browse-edgar?action...  \n",
       "AAL           3.66  http://www.sec.gov/cgi-bin/browse-edgar?action...  \n",
       "...            ...                                                ...  \n",
       "V             6.10  http://www.sec.gov/cgi-bin/browse-edgar?action...  \n",
       "VNO           3.52  http://www.sec.gov/cgi-bin/browse-edgar?action...  \n",
       "VMC           3.67  http://www.sec.gov/cgi-bin/browse-edgar?action...  \n",
       "WMT           3.06  http://www.sec.gov/cgi-bin/browse-edgar?action...  \n",
       "WBA           2.82  http://www.sec.gov/cgi-bin/browse-edgar?action...  \n",
       "WM            5.66  http://www.sec.gov/cgi-bin/browse-edgar?action...  \n",
       "WAT           5.49  http://www.sec.gov/cgi-bin/browse-edgar?action...  \n",
       "WFC           1.35  http://www.sec.gov/cgi-bin/browse-edgar?action...  \n",
       "HCN           1.98  http://www.sec.gov/cgi-bin/browse-edgar?action...  \n",
       "WDC           1.16  http://www.sec.gov/cgi-bin/browse-edgar?action...  \n",
       "WU            7.54  http://www.sec.gov/cgi-bin/browse-edgar?action...  \n",
       "WRK           0.85  http://www.sec.gov/cgi-bin/browse-edgar?action...  \n",
       "WY            2.23  http://www.sec.gov/cgi-bin/browse-edgar?action...  \n",
       "WHR           2.68  http://www.sec.gov/cgi-bin/browse-edgar?action...  \n",
       "WFM           3.29  http://www.sec.gov/cgi-bin/browse-edgar?action...  \n",
       "WMB           2.68  http://www.sec.gov/cgi-bin/browse-edgar?action...  \n",
       "WLTW          1.54  http://www.sec.gov/cgi-bin/browse-edgar?action...  \n",
       "WEC           2.30  http://www.sec.gov/cgi-bin/browse-edgar?action...  \n",
       "WYN           9.50  http://www.sec.gov/cgi-bin/browse-edgar?action...  \n",
       "WYNN           NaN  http://www.sec.gov/cgi-bin/browse-edgar?action...  \n",
       "XEL           2.11  http://www.sec.gov/cgi-bin/browse-edgar?action...  \n",
       "XRX           1.04  http://www.sec.gov/cgi-bin/browse-edgar?action...  \n",
       "XLNX          4.48  http://www.sec.gov/cgi-bin/browse-edgar?action...  \n",
       "XL            0.80  http://www.sec.gov/cgi-bin/browse-edgar?action...  \n",
       "XYL           3.78  http://www.sec.gov/cgi-bin/browse-edgar?action...  \n",
       "YHOO          1.25  http://www.sec.gov/cgi-bin/browse-edgar?action...  \n",
       "YUM         220.13  http://www.sec.gov/cgi-bin/browse-edgar?action...  \n",
       "ZBH           2.51  http://www.sec.gov/cgi-bin/browse-edgar?action...  \n",
       "ZION          0.73  http://www.sec.gov/cgi-bin/browse-edgar?action...  \n",
       "ZTS          20.32  http://www.sec.gov/cgi-bin/browse-edgar?action...  \n",
       "\n",
       "[504 rows x 14 columns]"
      ]
     },
     "execution_count": 15,
     "metadata": {},
     "output_type": "execute_result"
    }
   ],
   "source": [
    "sample_df"
   ]
  },
  {
   "cell_type": "code",
   "execution_count": 14,
   "metadata": {},
   "outputs": [
    {
     "data": {
      "text/html": [
       "<div>\n",
       "<style>\n",
       "    .dataframe thead tr:only-child th {\n",
       "        text-align: right;\n",
       "    }\n",
       "\n",
       "    .dataframe thead th {\n",
       "        text-align: left;\n",
       "    }\n",
       "\n",
       "    .dataframe tbody tr th {\n",
       "        vertical-align: top;\n",
       "    }\n",
       "</style>\n",
       "<table border=\"1\" class=\"dataframe\">\n",
       "  <thead>\n",
       "    <tr style=\"text-align: right;\">\n",
       "      <th></th>\n",
       "      <th>Name</th>\n",
       "      <th>Sector</th>\n",
       "      <th>Price</th>\n",
       "      <th>Dividend Yield</th>\n",
       "      <th>Price/Earnings</th>\n",
       "      <th>Earnings/Share</th>\n",
       "      <th>Book Value</th>\n",
       "      <th>52 week low</th>\n",
       "      <th>52 week high</th>\n",
       "      <th>Market Cap</th>\n",
       "      <th>EBITDA</th>\n",
       "      <th>Price/Sales</th>\n",
       "      <th>Price/Book</th>\n",
       "      <th>SEC Filings</th>\n",
       "      <th>TwicePrice</th>\n",
       "    </tr>\n",
       "    <tr>\n",
       "      <th>Symbol</th>\n",
       "      <th></th>\n",
       "      <th></th>\n",
       "      <th></th>\n",
       "      <th></th>\n",
       "      <th></th>\n",
       "      <th></th>\n",
       "      <th></th>\n",
       "      <th></th>\n",
       "      <th></th>\n",
       "      <th></th>\n",
       "      <th></th>\n",
       "      <th></th>\n",
       "      <th></th>\n",
       "      <th></th>\n",
       "      <th></th>\n",
       "    </tr>\n",
       "  </thead>\n",
       "  <tbody>\n",
       "    <tr>\n",
       "      <th>MMM</th>\n",
       "      <td>3M Company</td>\n",
       "      <td>Industrials</td>\n",
       "      <td>177.12</td>\n",
       "      <td>2.53</td>\n",
       "      <td>22.77</td>\n",
       "      <td>7.78</td>\n",
       "      <td>19.34</td>\n",
       "      <td>134.00</td>\n",
       "      <td>177.79</td>\n",
       "      <td>107.43</td>\n",
       "      <td>8.57</td>\n",
       "      <td>3.52</td>\n",
       "      <td>9.04</td>\n",
       "      <td>http://www.sec.gov/cgi-bin/browse-edgar?action...</td>\n",
       "      <td>354.24</td>\n",
       "    </tr>\n",
       "    <tr>\n",
       "      <th>ABT</th>\n",
       "      <td>Abbott Laboratories</td>\n",
       "      <td>Health Care</td>\n",
       "      <td>41.89</td>\n",
       "      <td>2.55</td>\n",
       "      <td>25.79</td>\n",
       "      <td>1.62</td>\n",
       "      <td>14.10</td>\n",
       "      <td>36.00</td>\n",
       "      <td>51.74</td>\n",
       "      <td>61.54</td>\n",
       "      <td>4.40</td>\n",
       "      <td>2.98</td>\n",
       "      <td>2.93</td>\n",
       "      <td>http://www.sec.gov/cgi-bin/browse-edgar?action...</td>\n",
       "      <td>83.78</td>\n",
       "    </tr>\n",
       "    <tr>\n",
       "      <th>ABBV</th>\n",
       "      <td>AbbVie</td>\n",
       "      <td>Health Care</td>\n",
       "      <td>64.16</td>\n",
       "      <td>3.60</td>\n",
       "      <td>19.29</td>\n",
       "      <td>3.33</td>\n",
       "      <td>2.87</td>\n",
       "      <td>45.45</td>\n",
       "      <td>71.60</td>\n",
       "      <td>103.77</td>\n",
       "      <td>10.30</td>\n",
       "      <td>4.31</td>\n",
       "      <td>22.09</td>\n",
       "      <td>http://www.sec.gov/cgi-bin/browse-edgar?action...</td>\n",
       "      <td>128.32</td>\n",
       "    </tr>\n",
       "    <tr>\n",
       "      <th>ACN</th>\n",
       "      <td>Accenture plc</td>\n",
       "      <td>Information Technology</td>\n",
       "      <td>115.11</td>\n",
       "      <td>1.94</td>\n",
       "      <td>19.45</td>\n",
       "      <td>5.92</td>\n",
       "      <td>11.45</td>\n",
       "      <td>88.43</td>\n",
       "      <td>120.78</td>\n",
       "      <td>71.66</td>\n",
       "      <td>5.42</td>\n",
       "      <td>2.17</td>\n",
       "      <td>9.84</td>\n",
       "      <td>http://www.sec.gov/cgi-bin/browse-edgar?action...</td>\n",
       "      <td>230.22</td>\n",
       "    </tr>\n",
       "    <tr>\n",
       "      <th>ATVI</th>\n",
       "      <td>Activision Blizzard</td>\n",
       "      <td>Information Technology</td>\n",
       "      <td>41.29</td>\n",
       "      <td>0.64</td>\n",
       "      <td>37.06</td>\n",
       "      <td>1.11</td>\n",
       "      <td>11.31</td>\n",
       "      <td>24.04</td>\n",
       "      <td>41.32</td>\n",
       "      <td>30.48</td>\n",
       "      <td>1.59</td>\n",
       "      <td>6.16</td>\n",
       "      <td>3.57</td>\n",
       "      <td>http://www.sec.gov/cgi-bin/browse-edgar?action...</td>\n",
       "      <td>82.58</td>\n",
       "    </tr>\n",
       "  </tbody>\n",
       "</table>\n",
       "</div>"
      ],
      "text/plain": [
       "                       Name                  Sector   Price  Dividend Yield  \\\n",
       "Symbol                                                                        \n",
       "MMM              3M Company             Industrials  177.12            2.53   \n",
       "ABT     Abbott Laboratories             Health Care   41.89            2.55   \n",
       "ABBV                 AbbVie             Health Care   64.16            3.60   \n",
       "ACN           Accenture plc  Information Technology  115.11            1.94   \n",
       "ATVI    Activision Blizzard  Information Technology   41.29            0.64   \n",
       "\n",
       "        Price/Earnings  Earnings/Share  Book Value  52 week low  52 week high  \\\n",
       "Symbol                                                                          \n",
       "MMM              22.77            7.78       19.34       134.00        177.79   \n",
       "ABT              25.79            1.62       14.10        36.00         51.74   \n",
       "ABBV             19.29            3.33        2.87        45.45         71.60   \n",
       "ACN              19.45            5.92       11.45        88.43        120.78   \n",
       "ATVI             37.06            1.11       11.31        24.04         41.32   \n",
       "\n",
       "        Market Cap  EBITDA  Price/Sales  Price/Book  \\\n",
       "Symbol                                                \n",
       "MMM         107.43    8.57         3.52        9.04   \n",
       "ABT          61.54    4.40         2.98        2.93   \n",
       "ABBV        103.77   10.30         4.31       22.09   \n",
       "ACN          71.66    5.42         2.17        9.84   \n",
       "ATVI         30.48    1.59         6.16        3.57   \n",
       "\n",
       "                                              SEC Filings  TwicePrice  \n",
       "Symbol                                                                 \n",
       "MMM     http://www.sec.gov/cgi-bin/browse-edgar?action...      354.24  \n",
       "ABT     http://www.sec.gov/cgi-bin/browse-edgar?action...       83.78  \n",
       "ABBV    http://www.sec.gov/cgi-bin/browse-edgar?action...      128.32  \n",
       "ACN     http://www.sec.gov/cgi-bin/browse-edgar?action...      230.22  \n",
       "ATVI    http://www.sec.gov/cgi-bin/browse-edgar?action...       82.58  "
      ]
     },
     "execution_count": 14,
     "metadata": {},
     "output_type": "execute_result"
    }
   ],
   "source": [
    "# 새로 생성된 프레임에 새로운 컬럼 추가 (기존 컬럼 이용)\n",
    "copy['TwicePrice'] = copy['Price'] * 2\n",
    "copy.head()"
   ]
  },
  {
   "cell_type": "code",
   "execution_count": null,
   "metadata": {
    "collapsed": true
   },
   "outputs": [],
   "source": [
    "copy['ratio'] = copy['Price'] / copy['Book Value']\n",
    "copy.head()"
   ]
  },
  {
   "cell_type": "code",
   "execution_count": 371,
   "metadata": {},
   "outputs": [
    {
     "data": {
      "text/html": [
       "<div>\n",
       "<style>\n",
       "    .dataframe thead tr:only-child th {\n",
       "        text-align: right;\n",
       "    }\n",
       "\n",
       "    .dataframe thead th {\n",
       "        text-align: left;\n",
       "    }\n",
       "\n",
       "    .dataframe tbody tr th {\n",
       "        vertical-align: top;\n",
       "    }\n",
       "</style>\n",
       "<table border=\"1\" class=\"dataframe\">\n",
       "  <thead>\n",
       "    <tr style=\"text-align: right;\">\n",
       "      <th></th>\n",
       "      <th>Name</th>\n",
       "      <th>TriplePrice</th>\n",
       "      <th>Sector</th>\n",
       "      <th>Price</th>\n",
       "      <th>Dividend Yield</th>\n",
       "      <th>Price/Earnings</th>\n",
       "      <th>Earnings/Share</th>\n",
       "      <th>Book Value</th>\n",
       "      <th>52 week low</th>\n",
       "      <th>52 week high</th>\n",
       "      <th>Market Cap</th>\n",
       "      <th>EBITDA</th>\n",
       "      <th>Price/Sales</th>\n",
       "      <th>Price/Book</th>\n",
       "      <th>SEC Filings</th>\n",
       "    </tr>\n",
       "    <tr>\n",
       "      <th>Symbol</th>\n",
       "      <th></th>\n",
       "      <th></th>\n",
       "      <th></th>\n",
       "      <th></th>\n",
       "      <th></th>\n",
       "      <th></th>\n",
       "      <th></th>\n",
       "      <th></th>\n",
       "      <th></th>\n",
       "      <th></th>\n",
       "      <th></th>\n",
       "      <th></th>\n",
       "      <th></th>\n",
       "      <th></th>\n",
       "      <th></th>\n",
       "    </tr>\n",
       "  </thead>\n",
       "  <tbody>\n",
       "    <tr>\n",
       "      <th>MMM</th>\n",
       "      <td>3M Company</td>\n",
       "      <td>531.36</td>\n",
       "      <td>Industrials</td>\n",
       "      <td>177.12</td>\n",
       "      <td>2.53</td>\n",
       "      <td>22.77</td>\n",
       "      <td>7.78</td>\n",
       "      <td>19.34</td>\n",
       "      <td>134.00</td>\n",
       "      <td>177.79</td>\n",
       "      <td>107.43</td>\n",
       "      <td>8.57</td>\n",
       "      <td>3.52</td>\n",
       "      <td>9.04</td>\n",
       "      <td>http://www.sec.gov/cgi-bin/browse-edgar?action...</td>\n",
       "    </tr>\n",
       "    <tr>\n",
       "      <th>ABT</th>\n",
       "      <td>Abbott Laboratories</td>\n",
       "      <td>125.67</td>\n",
       "      <td>Health Care</td>\n",
       "      <td>41.89</td>\n",
       "      <td>2.55</td>\n",
       "      <td>25.79</td>\n",
       "      <td>1.62</td>\n",
       "      <td>14.10</td>\n",
       "      <td>36.00</td>\n",
       "      <td>51.74</td>\n",
       "      <td>61.54</td>\n",
       "      <td>4.40</td>\n",
       "      <td>2.98</td>\n",
       "      <td>2.93</td>\n",
       "      <td>http://www.sec.gov/cgi-bin/browse-edgar?action...</td>\n",
       "    </tr>\n",
       "    <tr>\n",
       "      <th>ABBV</th>\n",
       "      <td>AbbVie</td>\n",
       "      <td>192.48</td>\n",
       "      <td>Health Care</td>\n",
       "      <td>64.16</td>\n",
       "      <td>3.60</td>\n",
       "      <td>19.29</td>\n",
       "      <td>3.33</td>\n",
       "      <td>2.87</td>\n",
       "      <td>45.45</td>\n",
       "      <td>71.60</td>\n",
       "      <td>103.77</td>\n",
       "      <td>10.30</td>\n",
       "      <td>4.31</td>\n",
       "      <td>22.09</td>\n",
       "      <td>http://www.sec.gov/cgi-bin/browse-edgar?action...</td>\n",
       "    </tr>\n",
       "    <tr>\n",
       "      <th>ACN</th>\n",
       "      <td>Accenture plc</td>\n",
       "      <td>345.33</td>\n",
       "      <td>Information Technology</td>\n",
       "      <td>115.11</td>\n",
       "      <td>1.94</td>\n",
       "      <td>19.45</td>\n",
       "      <td>5.92</td>\n",
       "      <td>11.45</td>\n",
       "      <td>88.43</td>\n",
       "      <td>120.78</td>\n",
       "      <td>71.66</td>\n",
       "      <td>5.42</td>\n",
       "      <td>2.17</td>\n",
       "      <td>9.84</td>\n",
       "      <td>http://www.sec.gov/cgi-bin/browse-edgar?action...</td>\n",
       "    </tr>\n",
       "    <tr>\n",
       "      <th>ATVI</th>\n",
       "      <td>Activision Blizzard</td>\n",
       "      <td>123.87</td>\n",
       "      <td>Information Technology</td>\n",
       "      <td>41.29</td>\n",
       "      <td>0.64</td>\n",
       "      <td>37.06</td>\n",
       "      <td>1.11</td>\n",
       "      <td>11.31</td>\n",
       "      <td>24.04</td>\n",
       "      <td>41.32</td>\n",
       "      <td>30.48</td>\n",
       "      <td>1.59</td>\n",
       "      <td>6.16</td>\n",
       "      <td>3.57</td>\n",
       "      <td>http://www.sec.gov/cgi-bin/browse-edgar?action...</td>\n",
       "    </tr>\n",
       "  </tbody>\n",
       "</table>\n",
       "</div>"
      ],
      "text/plain": [
       "                       Name  TriplePrice                  Sector   Price  \\\n",
       "Symbol                                                                     \n",
       "MMM              3M Company       531.36             Industrials  177.12   \n",
       "ABT     Abbott Laboratories       125.67             Health Care   41.89   \n",
       "ABBV                 AbbVie       192.48             Health Care   64.16   \n",
       "ACN           Accenture plc       345.33  Information Technology  115.11   \n",
       "ATVI    Activision Blizzard       123.87  Information Technology   41.29   \n",
       "\n",
       "        Dividend Yield  Price/Earnings  Earnings/Share  Book Value  \\\n",
       "Symbol                                                               \n",
       "MMM               2.53           22.77            7.78       19.34   \n",
       "ABT               2.55           25.79            1.62       14.10   \n",
       "ABBV              3.60           19.29            3.33        2.87   \n",
       "ACN               1.94           19.45            5.92       11.45   \n",
       "ATVI              0.64           37.06            1.11       11.31   \n",
       "\n",
       "        52 week low  52 week high  Market Cap  EBITDA  Price/Sales  \\\n",
       "Symbol                                                               \n",
       "MMM          134.00        177.79      107.43    8.57         3.52   \n",
       "ABT           36.00         51.74       61.54    4.40         2.98   \n",
       "ABBV          45.45         71.60      103.77   10.30         4.31   \n",
       "ACN           88.43        120.78       71.66    5.42         2.17   \n",
       "ATVI          24.04         41.32       30.48    1.59         6.16   \n",
       "\n",
       "        Price/Book                                        SEC Filings  \n",
       "Symbol                                                                 \n",
       "MMM           9.04  http://www.sec.gov/cgi-bin/browse-edgar?action...  \n",
       "ABT           2.93  http://www.sec.gov/cgi-bin/browse-edgar?action...  \n",
       "ABBV         22.09  http://www.sec.gov/cgi-bin/browse-edgar?action...  \n",
       "ACN           9.84  http://www.sec.gov/cgi-bin/browse-edgar?action...  \n",
       "ATVI          3.57  http://www.sec.gov/cgi-bin/browse-edgar?action...  "
      ]
     },
     "execution_count": 371,
     "metadata": {},
     "output_type": "execute_result"
    }
   ],
   "source": [
    "# insert 함수를 이용하여 원하는 컬럼 위치에 삽입 가능\n",
    "copy.insert(1, 'TriplePrice', sample_df['Price'] * 3) #기본 column index 1의 위치에 TriplePrice 생성해서 집어넣기\n",
    "copy.head()"
   ]
  },
  {
   "cell_type": "markdown",
   "metadata": {
    "collapsed": true
   },
   "source": [
    " * **column 삭제하기**"
   ]
  },
  {
   "cell_type": "code",
   "execution_count": 372,
   "metadata": {},
   "outputs": [
    {
     "data": {
      "text/html": [
       "<div>\n",
       "<style>\n",
       "    .dataframe thead tr:only-child th {\n",
       "        text-align: right;\n",
       "    }\n",
       "\n",
       "    .dataframe thead th {\n",
       "        text-align: left;\n",
       "    }\n",
       "\n",
       "    .dataframe tbody tr th {\n",
       "        vertical-align: top;\n",
       "    }\n",
       "</style>\n",
       "<table border=\"1\" class=\"dataframe\">\n",
       "  <thead>\n",
       "    <tr style=\"text-align: right;\">\n",
       "      <th></th>\n",
       "      <th>Name</th>\n",
       "      <th>Sector</th>\n",
       "      <th>Price</th>\n",
       "      <th>Dividend Yield</th>\n",
       "      <th>Price/Earnings</th>\n",
       "      <th>Earnings/Share</th>\n",
       "      <th>Book Value</th>\n",
       "      <th>52 week low</th>\n",
       "      <th>52 week high</th>\n",
       "      <th>Market Cap</th>\n",
       "      <th>EBITDA</th>\n",
       "      <th>Price/Sales</th>\n",
       "      <th>Price/Book</th>\n",
       "      <th>SEC Filings</th>\n",
       "    </tr>\n",
       "    <tr>\n",
       "      <th>Symbol</th>\n",
       "      <th></th>\n",
       "      <th></th>\n",
       "      <th></th>\n",
       "      <th></th>\n",
       "      <th></th>\n",
       "      <th></th>\n",
       "      <th></th>\n",
       "      <th></th>\n",
       "      <th></th>\n",
       "      <th></th>\n",
       "      <th></th>\n",
       "      <th></th>\n",
       "      <th></th>\n",
       "      <th></th>\n",
       "    </tr>\n",
       "  </thead>\n",
       "  <tbody>\n",
       "    <tr>\n",
       "      <th>MMM</th>\n",
       "      <td>3M Company</td>\n",
       "      <td>Industrials</td>\n",
       "      <td>177.12</td>\n",
       "      <td>2.53</td>\n",
       "      <td>22.77</td>\n",
       "      <td>7.78</td>\n",
       "      <td>19.34</td>\n",
       "      <td>134.00</td>\n",
       "      <td>177.79</td>\n",
       "      <td>107.43</td>\n",
       "      <td>8.57</td>\n",
       "      <td>3.52</td>\n",
       "      <td>9.04</td>\n",
       "      <td>http://www.sec.gov/cgi-bin/browse-edgar?action...</td>\n",
       "    </tr>\n",
       "    <tr>\n",
       "      <th>ABT</th>\n",
       "      <td>Abbott Laboratories</td>\n",
       "      <td>Health Care</td>\n",
       "      <td>41.89</td>\n",
       "      <td>2.55</td>\n",
       "      <td>25.79</td>\n",
       "      <td>1.62</td>\n",
       "      <td>14.10</td>\n",
       "      <td>36.00</td>\n",
       "      <td>51.74</td>\n",
       "      <td>61.54</td>\n",
       "      <td>4.40</td>\n",
       "      <td>2.98</td>\n",
       "      <td>2.93</td>\n",
       "      <td>http://www.sec.gov/cgi-bin/browse-edgar?action...</td>\n",
       "    </tr>\n",
       "    <tr>\n",
       "      <th>ABBV</th>\n",
       "      <td>AbbVie</td>\n",
       "      <td>Health Care</td>\n",
       "      <td>64.16</td>\n",
       "      <td>3.60</td>\n",
       "      <td>19.29</td>\n",
       "      <td>3.33</td>\n",
       "      <td>2.87</td>\n",
       "      <td>45.45</td>\n",
       "      <td>71.60</td>\n",
       "      <td>103.77</td>\n",
       "      <td>10.30</td>\n",
       "      <td>4.31</td>\n",
       "      <td>22.09</td>\n",
       "      <td>http://www.sec.gov/cgi-bin/browse-edgar?action...</td>\n",
       "    </tr>\n",
       "    <tr>\n",
       "      <th>ACN</th>\n",
       "      <td>Accenture plc</td>\n",
       "      <td>Information Technology</td>\n",
       "      <td>115.11</td>\n",
       "      <td>1.94</td>\n",
       "      <td>19.45</td>\n",
       "      <td>5.92</td>\n",
       "      <td>11.45</td>\n",
       "      <td>88.43</td>\n",
       "      <td>120.78</td>\n",
       "      <td>71.66</td>\n",
       "      <td>5.42</td>\n",
       "      <td>2.17</td>\n",
       "      <td>9.84</td>\n",
       "      <td>http://www.sec.gov/cgi-bin/browse-edgar?action...</td>\n",
       "    </tr>\n",
       "    <tr>\n",
       "      <th>ATVI</th>\n",
       "      <td>Activision Blizzard</td>\n",
       "      <td>Information Technology</td>\n",
       "      <td>41.29</td>\n",
       "      <td>0.64</td>\n",
       "      <td>37.06</td>\n",
       "      <td>1.11</td>\n",
       "      <td>11.31</td>\n",
       "      <td>24.04</td>\n",
       "      <td>41.32</td>\n",
       "      <td>30.48</td>\n",
       "      <td>1.59</td>\n",
       "      <td>6.16</td>\n",
       "      <td>3.57</td>\n",
       "      <td>http://www.sec.gov/cgi-bin/browse-edgar?action...</td>\n",
       "    </tr>\n",
       "  </tbody>\n",
       "</table>\n",
       "</div>"
      ],
      "text/plain": [
       "                       Name                  Sector   Price  Dividend Yield  \\\n",
       "Symbol                                                                        \n",
       "MMM              3M Company             Industrials  177.12            2.53   \n",
       "ABT     Abbott Laboratories             Health Care   41.89            2.55   \n",
       "ABBV                 AbbVie             Health Care   64.16            3.60   \n",
       "ACN           Accenture plc  Information Technology  115.11            1.94   \n",
       "ATVI    Activision Blizzard  Information Technology   41.29            0.64   \n",
       "\n",
       "        Price/Earnings  Earnings/Share  Book Value  52 week low  52 week high  \\\n",
       "Symbol                                                                          \n",
       "MMM              22.77            7.78       19.34       134.00        177.79   \n",
       "ABT              25.79            1.62       14.10        36.00         51.74   \n",
       "ABBV             19.29            3.33        2.87        45.45         71.60   \n",
       "ACN              19.45            5.92       11.45        88.43        120.78   \n",
       "ATVI             37.06            1.11       11.31        24.04         41.32   \n",
       "\n",
       "        Market Cap  EBITDA  Price/Sales  Price/Book  \\\n",
       "Symbol                                                \n",
       "MMM         107.43    8.57         3.52        9.04   \n",
       "ABT          61.54    4.40         2.98        2.93   \n",
       "ABBV        103.77   10.30         4.31       22.09   \n",
       "ACN          71.66    5.42         2.17        9.84   \n",
       "ATVI         30.48    1.59         6.16        3.57   \n",
       "\n",
       "                                              SEC Filings  \n",
       "Symbol                                                     \n",
       "MMM     http://www.sec.gov/cgi-bin/browse-edgar?action...  \n",
       "ABT     http://www.sec.gov/cgi-bin/browse-edgar?action...  \n",
       "ABBV    http://www.sec.gov/cgi-bin/browse-edgar?action...  \n",
       "ACN     http://www.sec.gov/cgi-bin/browse-edgar?action...  \n",
       "ATVI    http://www.sec.gov/cgi-bin/browse-edgar?action...  "
      ]
     },
     "execution_count": 372,
     "metadata": {},
     "output_type": "execute_result"
    }
   ],
   "source": [
    "# del 키워드로 삭제\n",
    "del copy['TriplePrice']\n",
    "copy.head()"
   ]
  },
  {
   "cell_type": "markdown",
   "metadata": {},
   "source": [
    " * **row 추가/삭제하기**"
   ]
  },
  {
   "cell_type": "code",
   "execution_count": 230,
   "metadata": {},
   "outputs": [
    {
     "name": "stdout",
     "output_type": "stream",
     "text": [
      "                       Name  TriplePrice       Sector   Price  Dividend Yield  \\\n",
      "Symbol                                                                          \n",
      "MMM              3M Company       531.36  Industrials  177.12            2.53   \n",
      "ABT     Abbott Laboratories       125.67  Health Care   41.89            2.55   \n",
      "ABBV                 AbbVie       192.48  Health Care   64.16            3.60   \n",
      "\n",
      "        Price/Earnings  Earnings/Share  Book Value  52 week low  52 week high  \\\n",
      "Symbol                                                                          \n",
      "MMM              22.77            7.78       19.34       134.00        177.79   \n",
      "ABT              25.79            1.62       14.10        36.00         51.74   \n",
      "ABBV             19.29            3.33        2.87        45.45         71.60   \n",
      "\n",
      "        Market Cap  EBITDA  Price/Sales  Price/Book  \\\n",
      "Symbol                                                \n",
      "MMM         107.43    8.57         3.52        9.04   \n",
      "ABT          61.54    4.40         2.98        2.93   \n",
      "ABBV        103.77   10.30         4.31       22.09   \n",
      "\n",
      "                                              SEC Filings  TwicePrice  \n",
      "Symbol                                                                 \n",
      "MMM     http://www.sec.gov/cgi-bin/browse-edgar?action...      354.24  \n",
      "ABT     http://www.sec.gov/cgi-bin/browse-edgar?action...       83.78  \n",
      "ABBV    http://www.sec.gov/cgi-bin/browse-edgar?action...      128.32   \n",
      " copy done\n",
      "                       Name  TriplePrice       Sector   Price  Dividend Yield  \\\n",
      "Symbol                                                                          \n",
      "ABT     Abbott Laboratories       125.67  Health Care   41.89            2.55   \n",
      "ABBV                 AbbVie       192.48  Health Care   64.16            3.60   \n",
      "MMM              3M Company       531.36  Industrials  177.12            2.53   \n",
      "ABT     Abbott Laboratories       125.67  Health Care   41.89            2.55   \n",
      "ABBV                 AbbVie       192.48  Health Care   64.16            3.60   \n",
      "\n",
      "        Price/Earnings  Earnings/Share  Book Value  52 week low  52 week high  \\\n",
      "Symbol                                                                          \n",
      "ABT              25.79            1.62       14.10        36.00         51.74   \n",
      "ABBV             19.29            3.33        2.87        45.45         71.60   \n",
      "MMM              22.77            7.78       19.34       134.00        177.79   \n",
      "ABT              25.79            1.62       14.10        36.00         51.74   \n",
      "ABBV             19.29            3.33        2.87        45.45         71.60   \n",
      "\n",
      "        Market Cap  EBITDA  Price/Sales  Price/Book  \\\n",
      "Symbol                                                \n",
      "ABT          61.54    4.40         2.98        2.93   \n",
      "ABBV        103.77   10.30         4.31       22.09   \n",
      "MMM         107.43    8.57         3.52        9.04   \n",
      "ABT          61.54    4.40         2.98        2.93   \n",
      "ABBV        103.77   10.30         4.31       22.09   \n",
      "\n",
      "                                              SEC Filings  TwicePrice  \n",
      "Symbol                                                                 \n",
      "ABT     http://www.sec.gov/cgi-bin/browse-edgar?action...       83.78  \n",
      "ABBV    http://www.sec.gov/cgi-bin/browse-edgar?action...      128.32  \n",
      "MMM     http://www.sec.gov/cgi-bin/browse-edgar?action...      354.24  \n",
      "ABT     http://www.sec.gov/cgi-bin/browse-edgar?action...       83.78  \n",
      "ABBV    http://www.sec.gov/cgi-bin/browse-edgar?action...      128.32  \n"
     ]
    }
   ],
   "source": [
    "df1 = copy.iloc[0:3].copy()\n",
    "print(df1, '\\n', 'copy done')\n",
    "\n",
    "# append 함수 사용\n",
    "copy = copy.append(df1)\n",
    "print(copy.tail())"
   ]
  },
  {
   "cell_type": "code",
   "execution_count": 373,
   "metadata": {},
   "outputs": [
    {
     "data": {
      "text/html": [
       "<div>\n",
       "<style>\n",
       "    .dataframe thead tr:only-child th {\n",
       "        text-align: right;\n",
       "    }\n",
       "\n",
       "    .dataframe thead th {\n",
       "        text-align: left;\n",
       "    }\n",
       "\n",
       "    .dataframe tbody tr th {\n",
       "        vertical-align: top;\n",
       "    }\n",
       "</style>\n",
       "<table border=\"1\" class=\"dataframe\">\n",
       "  <thead>\n",
       "    <tr style=\"text-align: right;\">\n",
       "      <th></th>\n",
       "      <th>Name</th>\n",
       "      <th>Sector</th>\n",
       "      <th>Price</th>\n",
       "      <th>Dividend Yield</th>\n",
       "      <th>Price/Earnings</th>\n",
       "      <th>Earnings/Share</th>\n",
       "      <th>Book Value</th>\n",
       "      <th>52 week low</th>\n",
       "      <th>52 week high</th>\n",
       "      <th>Market Cap</th>\n",
       "      <th>EBITDA</th>\n",
       "      <th>Price/Sales</th>\n",
       "      <th>Price/Book</th>\n",
       "      <th>SEC Filings</th>\n",
       "    </tr>\n",
       "    <tr>\n",
       "      <th>Symbol</th>\n",
       "      <th></th>\n",
       "      <th></th>\n",
       "      <th></th>\n",
       "      <th></th>\n",
       "      <th></th>\n",
       "      <th></th>\n",
       "      <th></th>\n",
       "      <th></th>\n",
       "      <th></th>\n",
       "      <th></th>\n",
       "      <th></th>\n",
       "      <th></th>\n",
       "      <th></th>\n",
       "      <th></th>\n",
       "    </tr>\n",
       "  </thead>\n",
       "  <tbody>\n",
       "    <tr>\n",
       "      <th>MMM</th>\n",
       "      <td>3M Company</td>\n",
       "      <td>Industrials</td>\n",
       "      <td>177.12</td>\n",
       "      <td>2.53</td>\n",
       "      <td>22.77</td>\n",
       "      <td>7.78</td>\n",
       "      <td>19.34</td>\n",
       "      <td>134.00</td>\n",
       "      <td>177.79</td>\n",
       "      <td>107.43</td>\n",
       "      <td>8.57000</td>\n",
       "      <td>3.52</td>\n",
       "      <td>9.04</td>\n",
       "      <td>http://www.sec.gov/cgi-bin/browse-edgar?action...</td>\n",
       "    </tr>\n",
       "    <tr>\n",
       "      <th>ABT</th>\n",
       "      <td>Abbott Laboratories</td>\n",
       "      <td>Health Care</td>\n",
       "      <td>41.89</td>\n",
       "      <td>2.55</td>\n",
       "      <td>25.79</td>\n",
       "      <td>1.62</td>\n",
       "      <td>14.10</td>\n",
       "      <td>36.00</td>\n",
       "      <td>51.74</td>\n",
       "      <td>61.54</td>\n",
       "      <td>4.40000</td>\n",
       "      <td>2.98</td>\n",
       "      <td>2.93</td>\n",
       "      <td>http://www.sec.gov/cgi-bin/browse-edgar?action...</td>\n",
       "    </tr>\n",
       "    <tr>\n",
       "      <th>ABBV</th>\n",
       "      <td>AbbVie</td>\n",
       "      <td>Health Care</td>\n",
       "      <td>64.16</td>\n",
       "      <td>3.60</td>\n",
       "      <td>19.29</td>\n",
       "      <td>3.33</td>\n",
       "      <td>2.87</td>\n",
       "      <td>45.45</td>\n",
       "      <td>71.60</td>\n",
       "      <td>103.77</td>\n",
       "      <td>10.30000</td>\n",
       "      <td>4.31</td>\n",
       "      <td>22.09</td>\n",
       "      <td>http://www.sec.gov/cgi-bin/browse-edgar?action...</td>\n",
       "    </tr>\n",
       "    <tr>\n",
       "      <th>ACN</th>\n",
       "      <td>Accenture plc</td>\n",
       "      <td>Information Technology</td>\n",
       "      <td>115.11</td>\n",
       "      <td>1.94</td>\n",
       "      <td>19.45</td>\n",
       "      <td>5.92</td>\n",
       "      <td>11.45</td>\n",
       "      <td>88.43</td>\n",
       "      <td>120.78</td>\n",
       "      <td>71.66</td>\n",
       "      <td>5.42000</td>\n",
       "      <td>2.17</td>\n",
       "      <td>9.84</td>\n",
       "      <td>http://www.sec.gov/cgi-bin/browse-edgar?action...</td>\n",
       "    </tr>\n",
       "    <tr>\n",
       "      <th>ATVI</th>\n",
       "      <td>Activision Blizzard</td>\n",
       "      <td>Information Technology</td>\n",
       "      <td>41.29</td>\n",
       "      <td>0.64</td>\n",
       "      <td>37.06</td>\n",
       "      <td>1.11</td>\n",
       "      <td>11.31</td>\n",
       "      <td>24.04</td>\n",
       "      <td>41.32</td>\n",
       "      <td>30.48</td>\n",
       "      <td>1.59000</td>\n",
       "      <td>6.16</td>\n",
       "      <td>3.57</td>\n",
       "      <td>http://www.sec.gov/cgi-bin/browse-edgar?action...</td>\n",
       "    </tr>\n",
       "    <tr>\n",
       "      <th>AYI</th>\n",
       "      <td>Acuity Brands Inc</td>\n",
       "      <td>Industrials</td>\n",
       "      <td>264.62</td>\n",
       "      <td>0.21</td>\n",
       "      <td>43.23</td>\n",
       "      <td>6.12</td>\n",
       "      <td>36.50</td>\n",
       "      <td>168.33</td>\n",
       "      <td>265.10</td>\n",
       "      <td>11.51</td>\n",
       "      <td>0.53650</td>\n",
       "      <td>3.53</td>\n",
       "      <td>6.95</td>\n",
       "      <td>http://www.sec.gov/cgi-bin/browse-edgar?action...</td>\n",
       "    </tr>\n",
       "    <tr>\n",
       "      <th>ADBE</th>\n",
       "      <td>Adobe Systems Inc</td>\n",
       "      <td>Information Technology</td>\n",
       "      <td>96.79</td>\n",
       "      <td>0.00</td>\n",
       "      <td>54.68</td>\n",
       "      <td>1.77</td>\n",
       "      <td>14.53</td>\n",
       "      <td>71.27</td>\n",
       "      <td>100.56</td>\n",
       "      <td>48.23</td>\n",
       "      <td>1.53000</td>\n",
       "      <td>8.93</td>\n",
       "      <td>6.55</td>\n",
       "      <td>http://www.sec.gov/cgi-bin/browse-edgar?action...</td>\n",
       "    </tr>\n",
       "    <tr>\n",
       "      <th>AAP</th>\n",
       "      <td>Advance Auto Parts</td>\n",
       "      <td>Consumer Discretionary</td>\n",
       "      <td>164.85</td>\n",
       "      <td>0.15</td>\n",
       "      <td>25.20</td>\n",
       "      <td>6.40</td>\n",
       "      <td>35.82</td>\n",
       "      <td>131.59</td>\n",
       "      <td>201.24</td>\n",
       "      <td>12.10</td>\n",
       "      <td>1.24000</td>\n",
       "      <td>1.22</td>\n",
       "      <td>4.50</td>\n",
       "      <td>http://www.sec.gov/cgi-bin/browse-edgar?action...</td>\n",
       "    </tr>\n",
       "    <tr>\n",
       "      <th>AES</th>\n",
       "      <td>AES Corp</td>\n",
       "      <td>Utilities</td>\n",
       "      <td>12.32</td>\n",
       "      <td>3.60</td>\n",
       "      <td>28.99</td>\n",
       "      <td>0.43</td>\n",
       "      <td>4.86</td>\n",
       "      <td>8.22</td>\n",
       "      <td>13.38</td>\n",
       "      <td>8.12</td>\n",
       "      <td>3.57000</td>\n",
       "      <td>0.55</td>\n",
       "      <td>2.49</td>\n",
       "      <td>http://www.sec.gov/cgi-bin/browse-edgar?action...</td>\n",
       "    </tr>\n",
       "    <tr>\n",
       "      <th>AET</th>\n",
       "      <td>Aetna Inc</td>\n",
       "      <td>Health Care</td>\n",
       "      <td>117.00</td>\n",
       "      <td>0.87</td>\n",
       "      <td>17.62</td>\n",
       "      <td>6.64</td>\n",
       "      <td>47.96</td>\n",
       "      <td>92.42</td>\n",
       "      <td>125.47</td>\n",
       "      <td>41.02</td>\n",
       "      <td>5.40000</td>\n",
       "      <td>0.67</td>\n",
       "      <td>2.41</td>\n",
       "      <td>http://www.sec.gov/cgi-bin/browse-edgar?action...</td>\n",
       "    </tr>\n",
       "    <tr>\n",
       "      <th>AMG</th>\n",
       "      <td>Affiliated Managers Group Inc</td>\n",
       "      <td>Financials</td>\n",
       "      <td>138.85</td>\n",
       "      <td>NaN</td>\n",
       "      <td>15.55</td>\n",
       "      <td>8.93</td>\n",
       "      <td>53.30</td>\n",
       "      <td>115.97</td>\n",
       "      <td>220.72</td>\n",
       "      <td>7.47</td>\n",
       "      <td>0.91600</td>\n",
       "      <td>3.02</td>\n",
       "      <td>2.52</td>\n",
       "      <td>http://www.sec.gov/cgi-bin/browse-edgar?action...</td>\n",
       "    </tr>\n",
       "    <tr>\n",
       "      <th>AFL</th>\n",
       "      <td>AFLAC Inc</td>\n",
       "      <td>Financials</td>\n",
       "      <td>72.49</td>\n",
       "      <td>2.27</td>\n",
       "      <td>11.93</td>\n",
       "      <td>6.07</td>\n",
       "      <td>48.22</td>\n",
       "      <td>51.41</td>\n",
       "      <td>72.81</td>\n",
       "      <td>30.01</td>\n",
       "      <td>4.49000</td>\n",
       "      <td>1.40</td>\n",
       "      <td>1.48</td>\n",
       "      <td>http://www.sec.gov/cgi-bin/browse-edgar?action...</td>\n",
       "    </tr>\n",
       "    <tr>\n",
       "      <th>A</th>\n",
       "      <td>Agilent Technologies Inc</td>\n",
       "      <td>Health Care</td>\n",
       "      <td>45.48</td>\n",
       "      <td>1.04</td>\n",
       "      <td>32.35</td>\n",
       "      <td>1.38</td>\n",
       "      <td>12.79</td>\n",
       "      <td>33.12</td>\n",
       "      <td>46.68</td>\n",
       "      <td>14.80</td>\n",
       "      <td>0.84400</td>\n",
       "      <td>3.53</td>\n",
       "      <td>3.47</td>\n",
       "      <td>http://www.sec.gov/cgi-bin/browse-edgar?action...</td>\n",
       "    </tr>\n",
       "    <tr>\n",
       "      <th>APD</th>\n",
       "      <td>Air Products &amp; Chemicals Inc</td>\n",
       "      <td>Materials</td>\n",
       "      <td>144.35</td>\n",
       "      <td>2.46</td>\n",
       "      <td>56.99</td>\n",
       "      <td>2.53</td>\n",
       "      <td>32.01</td>\n",
       "      <td>114.64</td>\n",
       "      <td>152.16</td>\n",
       "      <td>31.19</td>\n",
       "      <td>2.98000</td>\n",
       "      <td>3.16</td>\n",
       "      <td>4.36</td>\n",
       "      <td>http://www.sec.gov/cgi-bin/browse-edgar?action...</td>\n",
       "    </tr>\n",
       "    <tr>\n",
       "      <th>AKAM</th>\n",
       "      <td>Akamai Technologies Inc</td>\n",
       "      <td>Information Technology</td>\n",
       "      <td>56.38</td>\n",
       "      <td>NaN</td>\n",
       "      <td>31.85</td>\n",
       "      <td>1.77</td>\n",
       "      <td>17.69</td>\n",
       "      <td>39.43</td>\n",
       "      <td>76.98</td>\n",
       "      <td>9.90</td>\n",
       "      <td>0.69810</td>\n",
       "      <td>4.31</td>\n",
       "      <td>3.11</td>\n",
       "      <td>http://www.sec.gov/cgi-bin/browse-edgar?action...</td>\n",
       "    </tr>\n",
       "    <tr>\n",
       "      <th>ALK</th>\n",
       "      <td>Alaska Air Group Inc</td>\n",
       "      <td>Industrials</td>\n",
       "      <td>59.86</td>\n",
       "      <td>1.88</td>\n",
       "      <td>8.65</td>\n",
       "      <td>6.92</td>\n",
       "      <td>19.81</td>\n",
       "      <td>54.51</td>\n",
       "      <td>87.17</td>\n",
       "      <td>7.38</td>\n",
       "      <td>1.72000</td>\n",
       "      <td>1.29</td>\n",
       "      <td>3.00</td>\n",
       "      <td>http://www.sec.gov/cgi-bin/browse-edgar?action...</td>\n",
       "    </tr>\n",
       "    <tr>\n",
       "      <th>ALB</th>\n",
       "      <td>Albemarle Corp</td>\n",
       "      <td>Materials</td>\n",
       "      <td>83.58</td>\n",
       "      <td>1.57</td>\n",
       "      <td>18.13</td>\n",
       "      <td>4.61</td>\n",
       "      <td>31.53</td>\n",
       "      <td>41.37</td>\n",
       "      <td>84.99</td>\n",
       "      <td>9.39</td>\n",
       "      <td>0.95275</td>\n",
       "      <td>2.51</td>\n",
       "      <td>2.58</td>\n",
       "      <td>http://www.sec.gov/cgi-bin/browse-edgar?action...</td>\n",
       "    </tr>\n",
       "    <tr>\n",
       "      <th>AA</th>\n",
       "      <td>Alcoa Inc</td>\n",
       "      <td>Materials</td>\n",
       "      <td>9.82</td>\n",
       "      <td>1.31</td>\n",
       "      <td>NaN</td>\n",
       "      <td>-0.44</td>\n",
       "      <td>9.25</td>\n",
       "      <td>6.14</td>\n",
       "      <td>11.50</td>\n",
       "      <td>12.91</td>\n",
       "      <td>2.67000</td>\n",
       "      <td>0.57</td>\n",
       "      <td>1.01</td>\n",
       "      <td>http://www.sec.gov/cgi-bin/browse-edgar?action...</td>\n",
       "    </tr>\n",
       "    <tr>\n",
       "      <th>ALXN</th>\n",
       "      <td>Alexion Pharmaceuticals</td>\n",
       "      <td>Health Care</td>\n",
       "      <td>124.42</td>\n",
       "      <td>NaN</td>\n",
       "      <td>188.23</td>\n",
       "      <td>0.66</td>\n",
       "      <td>35.96</td>\n",
       "      <td>110.56</td>\n",
       "      <td>208.88</td>\n",
       "      <td>27.87</td>\n",
       "      <td>0.97872</td>\n",
       "      <td>10.22</td>\n",
       "      <td>3.43</td>\n",
       "      <td>http://www.sec.gov/cgi-bin/browse-edgar?action...</td>\n",
       "    </tr>\n",
       "    <tr>\n",
       "      <th>ALLE</th>\n",
       "      <td>Allegion</td>\n",
       "      <td>Industrials</td>\n",
       "      <td>69.74</td>\n",
       "      <td>0.70</td>\n",
       "      <td>40.59</td>\n",
       "      <td>1.72</td>\n",
       "      <td>0.77</td>\n",
       "      <td>52.95</td>\n",
       "      <td>69.95</td>\n",
       "      <td>6.68</td>\n",
       "      <td>0.45060</td>\n",
       "      <td>3.11</td>\n",
       "      <td>89.14</td>\n",
       "      <td>http://www.sec.gov/cgi-bin/browse-edgar?action...</td>\n",
       "    </tr>\n",
       "    <tr>\n",
       "      <th>AGN</th>\n",
       "      <td>Allergan plc</td>\n",
       "      <td>Health Care</td>\n",
       "      <td>240.59</td>\n",
       "      <td>0.10</td>\n",
       "      <td>21.53</td>\n",
       "      <td>11.18</td>\n",
       "      <td>183.41</td>\n",
       "      <td>195.50</td>\n",
       "      <td>340.34</td>\n",
       "      <td>95.17</td>\n",
       "      <td>6.57000</td>\n",
       "      <td>5.77</td>\n",
       "      <td>1.30</td>\n",
       "      <td>http://www.sec.gov/cgi-bin/browse-edgar?action...</td>\n",
       "    </tr>\n",
       "    <tr>\n",
       "      <th>ADS</th>\n",
       "      <td>Alliance Data Systems</td>\n",
       "      <td>Information Technology</td>\n",
       "      <td>200.96</td>\n",
       "      <td>NaN</td>\n",
       "      <td>22.65</td>\n",
       "      <td>8.87</td>\n",
       "      <td>29.51</td>\n",
       "      <td>176.63</td>\n",
       "      <td>307.78</td>\n",
       "      <td>11.84</td>\n",
       "      <td>1.52000</td>\n",
       "      <td>1.78</td>\n",
       "      <td>6.68</td>\n",
       "      <td>http://www.sec.gov/cgi-bin/browse-edgar?action...</td>\n",
       "    </tr>\n",
       "    <tr>\n",
       "      <th>LNT</th>\n",
       "      <td>Alliant Energy Corp</td>\n",
       "      <td>Utilities</td>\n",
       "      <td>40.55</td>\n",
       "      <td>3.18</td>\n",
       "      <td>24.30</td>\n",
       "      <td>3.34</td>\n",
       "      <td>16.58</td>\n",
       "      <td>27.14</td>\n",
       "      <td>40.99</td>\n",
       "      <td>9.21</td>\n",
       "      <td>0.99400</td>\n",
       "      <td>2.83</td>\n",
       "      <td>2.40</td>\n",
       "      <td>http://www.sec.gov/cgi-bin/browse-edgar?action...</td>\n",
       "    </tr>\n",
       "    <tr>\n",
       "      <th>ALL</th>\n",
       "      <td>Allstate Corp</td>\n",
       "      <td>Financials</td>\n",
       "      <td>69.66</td>\n",
       "      <td>1.95</td>\n",
       "      <td>17.00</td>\n",
       "      <td>4.10</td>\n",
       "      <td>49.58</td>\n",
       "      <td>54.12</td>\n",
       "      <td>69.95</td>\n",
       "      <td>26.08</td>\n",
       "      <td>3.26000</td>\n",
       "      <td>0.73</td>\n",
       "      <td>1.39</td>\n",
       "      <td>http://www.sec.gov/cgi-bin/browse-edgar?action...</td>\n",
       "    </tr>\n",
       "    <tr>\n",
       "      <th>GOOGL</th>\n",
       "      <td>Alphabet Inc Class A</td>\n",
       "      <td>Information Technology</td>\n",
       "      <td>717.78</td>\n",
       "      <td>NaN</td>\n",
       "      <td>29.21</td>\n",
       "      <td>24.58</td>\n",
       "      <td>179.92</td>\n",
       "      <td>558.70</td>\n",
       "      <td>810.35</td>\n",
       "      <td>492.80</td>\n",
       "      <td>25.51000</td>\n",
       "      <td>6.23</td>\n",
       "      <td>3.93</td>\n",
       "      <td>http://www.sec.gov/cgi-bin/browse-edgar?action...</td>\n",
       "    </tr>\n",
       "    <tr>\n",
       "      <th>GOOG</th>\n",
       "      <td>Alphabet Inc Class C</td>\n",
       "      <td>Information Technology</td>\n",
       "      <td>705.63</td>\n",
       "      <td>NaN</td>\n",
       "      <td>28.71</td>\n",
       "      <td>24.58</td>\n",
       "      <td>179.92</td>\n",
       "      <td>532.40</td>\n",
       "      <td>789.87</td>\n",
       "      <td>484.45</td>\n",
       "      <td>25.51000</td>\n",
       "      <td>6.12</td>\n",
       "      <td>3.86</td>\n",
       "      <td>http://www.sec.gov/cgi-bin/browse-edgar?action...</td>\n",
       "    </tr>\n",
       "    <tr>\n",
       "      <th>MO</th>\n",
       "      <td>Altria Group Inc</td>\n",
       "      <td>Consumer Staples</td>\n",
       "      <td>69.83</td>\n",
       "      <td>3.26</td>\n",
       "      <td>25.20</td>\n",
       "      <td>2.77</td>\n",
       "      <td>1.40</td>\n",
       "      <td>47.41</td>\n",
       "      <td>70.15</td>\n",
       "      <td>136.59</td>\n",
       "      <td>9.06000</td>\n",
       "      <td>7.09</td>\n",
       "      <td>49.39</td>\n",
       "      <td>http://www.sec.gov/cgi-bin/browse-edgar?action...</td>\n",
       "    </tr>\n",
       "    <tr>\n",
       "      <th>AMZN</th>\n",
       "      <td>Amazon.com Inc</td>\n",
       "      <td>Consumer Discretionary</td>\n",
       "      <td>745.81</td>\n",
       "      <td>NaN</td>\n",
       "      <td>307.42</td>\n",
       "      <td>2.43</td>\n",
       "      <td>31.26</td>\n",
       "      <td>447.54</td>\n",
       "      <td>746.10</td>\n",
       "      <td>351.89</td>\n",
       "      <td>9.09000</td>\n",
       "      <td>3.06</td>\n",
       "      <td>23.56</td>\n",
       "      <td>http://www.sec.gov/cgi-bin/browse-edgar?action...</td>\n",
       "    </tr>\n",
       "    <tr>\n",
       "      <th>AEE</th>\n",
       "      <td>Ameren Corp</td>\n",
       "      <td>Utilities</td>\n",
       "      <td>53.15</td>\n",
       "      <td>3.16</td>\n",
       "      <td>20.62</td>\n",
       "      <td>2.58</td>\n",
       "      <td>28.31</td>\n",
       "      <td>37.92</td>\n",
       "      <td>54.08</td>\n",
       "      <td>12.90</td>\n",
       "      <td>2.18000</td>\n",
       "      <td>2.21</td>\n",
       "      <td>1.86</td>\n",
       "      <td>http://www.sec.gov/cgi-bin/browse-edgar?action...</td>\n",
       "    </tr>\n",
       "    <tr>\n",
       "      <th>AAL</th>\n",
       "      <td>American Airlines Group</td>\n",
       "      <td>Industrials</td>\n",
       "      <td>30.04</td>\n",
       "      <td>1.41</td>\n",
       "      <td>2.69</td>\n",
       "      <td>11.16</td>\n",
       "      <td>8.04</td>\n",
       "      <td>24.85</td>\n",
       "      <td>47.09</td>\n",
       "      <td>17.37</td>\n",
       "      <td>8.83000</td>\n",
       "      <td>0.42</td>\n",
       "      <td>3.66</td>\n",
       "      <td>http://www.sec.gov/cgi-bin/browse-edgar?action...</td>\n",
       "    </tr>\n",
       "    <tr>\n",
       "      <th>...</th>\n",
       "      <td>...</td>\n",
       "      <td>...</td>\n",
       "      <td>...</td>\n",
       "      <td>...</td>\n",
       "      <td>...</td>\n",
       "      <td>...</td>\n",
       "      <td>...</td>\n",
       "      <td>...</td>\n",
       "      <td>...</td>\n",
       "      <td>...</td>\n",
       "      <td>...</td>\n",
       "      <td>...</td>\n",
       "      <td>...</td>\n",
       "      <td>...</td>\n",
       "    </tr>\n",
       "    <tr>\n",
       "      <th>V</th>\n",
       "      <td>Visa Inc.</td>\n",
       "      <td>Information Technology</td>\n",
       "      <td>76.42</td>\n",
       "      <td>0.75</td>\n",
       "      <td>26.64</td>\n",
       "      <td>2.87</td>\n",
       "      <td>12.22</td>\n",
       "      <td>60.00</td>\n",
       "      <td>81.73</td>\n",
       "      <td>182.28</td>\n",
       "      <td>9.63000</td>\n",
       "      <td>12.45</td>\n",
       "      <td>6.10</td>\n",
       "      <td>http://www.sec.gov/cgi-bin/browse-edgar?action...</td>\n",
       "    </tr>\n",
       "    <tr>\n",
       "      <th>VNO</th>\n",
       "      <td>Vornado Realty Trust</td>\n",
       "      <td>Financials</td>\n",
       "      <td>100.46</td>\n",
       "      <td>2.57</td>\n",
       "      <td>39.61</td>\n",
       "      <td>2.54</td>\n",
       "      <td>27.80</td>\n",
       "      <td>78.91</td>\n",
       "      <td>103.41</td>\n",
       "      <td>18.96</td>\n",
       "      <td>1.22000</td>\n",
       "      <td>7.44</td>\n",
       "      <td>3.52</td>\n",
       "      <td>http://www.sec.gov/cgi-bin/browse-edgar?action...</td>\n",
       "    </tr>\n",
       "    <tr>\n",
       "      <th>VMC</th>\n",
       "      <td>Vulcan Materials</td>\n",
       "      <td>Materials</td>\n",
       "      <td>123.61</td>\n",
       "      <td>0.66</td>\n",
       "      <td>60.09</td>\n",
       "      <td>2.06</td>\n",
       "      <td>33.15</td>\n",
       "      <td>78.83</td>\n",
       "      <td>124.28</td>\n",
       "      <td>16.46</td>\n",
       "      <td>0.89797</td>\n",
       "      <td>4.58</td>\n",
       "      <td>3.67</td>\n",
       "      <td>http://www.sec.gov/cgi-bin/browse-edgar?action...</td>\n",
       "    </tr>\n",
       "    <tr>\n",
       "      <th>WMT</th>\n",
       "      <td>Wal-Mart Stores</td>\n",
       "      <td>Consumer Staples</td>\n",
       "      <td>73.84</td>\n",
       "      <td>2.72</td>\n",
       "      <td>16.32</td>\n",
       "      <td>4.52</td>\n",
       "      <td>24.06</td>\n",
       "      <td>56.30</td>\n",
       "      <td>74.14</td>\n",
       "      <td>230.13</td>\n",
       "      <td>33.22000</td>\n",
       "      <td>0.47</td>\n",
       "      <td>3.06</td>\n",
       "      <td>http://www.sec.gov/cgi-bin/browse-edgar?action...</td>\n",
       "    </tr>\n",
       "    <tr>\n",
       "      <th>WBA</th>\n",
       "      <td>Walgreens Boots Alliance</td>\n",
       "      <td>Consumer Staples</td>\n",
       "      <td>81.80</td>\n",
       "      <td>1.77</td>\n",
       "      <td>28.27</td>\n",
       "      <td>2.89</td>\n",
       "      <td>28.55</td>\n",
       "      <td>71.50</td>\n",
       "      <td>97.30</td>\n",
       "      <td>88.53</td>\n",
       "      <td>8.27000</td>\n",
       "      <td>0.74</td>\n",
       "      <td>2.82</td>\n",
       "      <td>http://www.sec.gov/cgi-bin/browse-edgar?action...</td>\n",
       "    </tr>\n",
       "    <tr>\n",
       "      <th>WM</th>\n",
       "      <td>Waste Management Inc.</td>\n",
       "      <td>Industrials</td>\n",
       "      <td>67.61</td>\n",
       "      <td>2.44</td>\n",
       "      <td>26.87</td>\n",
       "      <td>2.52</td>\n",
       "      <td>11.90</td>\n",
       "      <td>47.55</td>\n",
       "      <td>70.50</td>\n",
       "      <td>30.04</td>\n",
       "      <td>3.46000</td>\n",
       "      <td>2.28</td>\n",
       "      <td>5.66</td>\n",
       "      <td>http://www.sec.gov/cgi-bin/browse-edgar?action...</td>\n",
       "    </tr>\n",
       "    <tr>\n",
       "      <th>WAT</th>\n",
       "      <td>Waters Corporation</td>\n",
       "      <td>Health Care</td>\n",
       "      <td>146.53</td>\n",
       "      <td>0.00</td>\n",
       "      <td>25.91</td>\n",
       "      <td>5.66</td>\n",
       "      <td>25.97</td>\n",
       "      <td>112.00</td>\n",
       "      <td>146.96</td>\n",
       "      <td>11.86</td>\n",
       "      <td>0.66179</td>\n",
       "      <td>5.61</td>\n",
       "      <td>5.49</td>\n",
       "      <td>http://www.sec.gov/cgi-bin/browse-edgar?action...</td>\n",
       "    </tr>\n",
       "    <tr>\n",
       "      <th>WFC</th>\n",
       "      <td>Wells Fargo</td>\n",
       "      <td>Financials</td>\n",
       "      <td>47.79</td>\n",
       "      <td>3.26</td>\n",
       "      <td>11.74</td>\n",
       "      <td>4.07</td>\n",
       "      <td>34.62</td>\n",
       "      <td>44.50</td>\n",
       "      <td>58.77</td>\n",
       "      <td>242.63</td>\n",
       "      <td>0.00000</td>\n",
       "      <td>2.82</td>\n",
       "      <td>1.35</td>\n",
       "      <td>http://www.sec.gov/cgi-bin/browse-edgar?action...</td>\n",
       "    </tr>\n",
       "    <tr>\n",
       "      <th>HCN</th>\n",
       "      <td>Welltower Inc.</td>\n",
       "      <td>Financials</td>\n",
       "      <td>75.62</td>\n",
       "      <td>4.50</td>\n",
       "      <td>34.40</td>\n",
       "      <td>2.20</td>\n",
       "      <td>37.88</td>\n",
       "      <td>52.80</td>\n",
       "      <td>77.18</td>\n",
       "      <td>27.00</td>\n",
       "      <td>2.01000</td>\n",
       "      <td>6.82</td>\n",
       "      <td>1.98</td>\n",
       "      <td>http://www.sec.gov/cgi-bin/browse-edgar?action...</td>\n",
       "    </tr>\n",
       "    <tr>\n",
       "      <th>WDC</th>\n",
       "      <td>Western Digital</td>\n",
       "      <td>Information Technology</td>\n",
       "      <td>49.35</td>\n",
       "      <td>4.20</td>\n",
       "      <td>13.94</td>\n",
       "      <td>3.54</td>\n",
       "      <td>41.24</td>\n",
       "      <td>34.99</td>\n",
       "      <td>88.46</td>\n",
       "      <td>11.50</td>\n",
       "      <td>2.22000</td>\n",
       "      <td>0.88</td>\n",
       "      <td>1.16</td>\n",
       "      <td>http://www.sec.gov/cgi-bin/browse-edgar?action...</td>\n",
       "    </tr>\n",
       "    <tr>\n",
       "      <th>WU</th>\n",
       "      <td>Western Union Co</td>\n",
       "      <td>Information Technology</td>\n",
       "      <td>19.57</td>\n",
       "      <td>3.34</td>\n",
       "      <td>12.22</td>\n",
       "      <td>1.60</td>\n",
       "      <td>2.52</td>\n",
       "      <td>16.02</td>\n",
       "      <td>20.62</td>\n",
       "      <td>9.61</td>\n",
       "      <td>1.38000</td>\n",
       "      <td>1.71</td>\n",
       "      <td>7.54</td>\n",
       "      <td>http://www.sec.gov/cgi-bin/browse-edgar?action...</td>\n",
       "    </tr>\n",
       "    <tr>\n",
       "      <th>WRK</th>\n",
       "      <td>Westrock Co</td>\n",
       "      <td>Materials</td>\n",
       "      <td>38.55</td>\n",
       "      <td>4.04</td>\n",
       "      <td>NaN</td>\n",
       "      <td>-0.55</td>\n",
       "      <td>43.77</td>\n",
       "      <td>29.73</td>\n",
       "      <td>64.74</td>\n",
       "      <td>9.63</td>\n",
       "      <td>2.26000</td>\n",
       "      <td>0.67</td>\n",
       "      <td>0.85</td>\n",
       "      <td>http://www.sec.gov/cgi-bin/browse-edgar?action...</td>\n",
       "    </tr>\n",
       "    <tr>\n",
       "      <th>WY</th>\n",
       "      <td>Weyerhaeuser Corp.</td>\n",
       "      <td>Financials</td>\n",
       "      <td>30.67</td>\n",
       "      <td>4.12</td>\n",
       "      <td>37.86</td>\n",
       "      <td>0.81</td>\n",
       "      <td>13.53</td>\n",
       "      <td>22.06</td>\n",
       "      <td>32.72</td>\n",
       "      <td>22.91</td>\n",
       "      <td>1.51000</td>\n",
       "      <td>3.14</td>\n",
       "      <td>2.23</td>\n",
       "      <td>http://www.sec.gov/cgi-bin/browse-edgar?action...</td>\n",
       "    </tr>\n",
       "    <tr>\n",
       "      <th>WHR</th>\n",
       "      <td>Whirlpool Corp.</td>\n",
       "      <td>Consumer Discretionary</td>\n",
       "      <td>171.38</td>\n",
       "      <td>2.38</td>\n",
       "      <td>18.27</td>\n",
       "      <td>9.38</td>\n",
       "      <td>62.60</td>\n",
       "      <td>123.60</td>\n",
       "      <td>193.59</td>\n",
       "      <td>13.02</td>\n",
       "      <td>2.09000</td>\n",
       "      <td>0.62</td>\n",
       "      <td>2.68</td>\n",
       "      <td>http://www.sec.gov/cgi-bin/browse-edgar?action...</td>\n",
       "    </tr>\n",
       "    <tr>\n",
       "      <th>WFM</th>\n",
       "      <td>Whole Foods Market</td>\n",
       "      <td>Consumer Staples</td>\n",
       "      <td>33.58</td>\n",
       "      <td>1.63</td>\n",
       "      <td>22.91</td>\n",
       "      <td>1.47</td>\n",
       "      <td>10.11</td>\n",
       "      <td>28.07</td>\n",
       "      <td>41.97</td>\n",
       "      <td>10.78</td>\n",
       "      <td>1.39000</td>\n",
       "      <td>0.69</td>\n",
       "      <td>3.29</td>\n",
       "      <td>http://www.sec.gov/cgi-bin/browse-edgar?action...</td>\n",
       "    </tr>\n",
       "    <tr>\n",
       "      <th>WMB</th>\n",
       "      <td>Williams Cos.</td>\n",
       "      <td>Energy</td>\n",
       "      <td>20.99</td>\n",
       "      <td>12.43</td>\n",
       "      <td>NaN</td>\n",
       "      <td>-0.94</td>\n",
       "      <td>7.59</td>\n",
       "      <td>10.22</td>\n",
       "      <td>58.77</td>\n",
       "      <td>15.75</td>\n",
       "      <td>3.24000</td>\n",
       "      <td>2.09</td>\n",
       "      <td>2.68</td>\n",
       "      <td>http://www.sec.gov/cgi-bin/browse-edgar?action...</td>\n",
       "    </tr>\n",
       "    <tr>\n",
       "      <th>WLTW</th>\n",
       "      <td>Willis Towers Watson</td>\n",
       "      <td>Financials</td>\n",
       "      <td>125.06</td>\n",
       "      <td>1.54</td>\n",
       "      <td>26.71</td>\n",
       "      <td>4.68</td>\n",
       "      <td>80.57</td>\n",
       "      <td>104.11</td>\n",
       "      <td>129.70</td>\n",
       "      <td>17.31</td>\n",
       "      <td>1.16000</td>\n",
       "      <td>3.48</td>\n",
       "      <td>1.54</td>\n",
       "      <td>http://www.sec.gov/cgi-bin/browse-edgar?action...</td>\n",
       "    </tr>\n",
       "    <tr>\n",
       "      <th>WEC</th>\n",
       "      <td>Wisconsin Energy Corporation</td>\n",
       "      <td>Utilities</td>\n",
       "      <td>65.03</td>\n",
       "      <td>3.02</td>\n",
       "      <td>24.35</td>\n",
       "      <td>2.67</td>\n",
       "      <td>27.94</td>\n",
       "      <td>46.00</td>\n",
       "      <td>66.10</td>\n",
       "      <td>20.53</td>\n",
       "      <td>2.14000</td>\n",
       "      <td>3.02</td>\n",
       "      <td>2.30</td>\n",
       "      <td>http://www.sec.gov/cgi-bin/browse-edgar?action...</td>\n",
       "    </tr>\n",
       "    <tr>\n",
       "      <th>WYN</th>\n",
       "      <td>Wyndham Worldwide</td>\n",
       "      <td>Consumer Discretionary</td>\n",
       "      <td>72.35</td>\n",
       "      <td>2.84</td>\n",
       "      <td>14.46</td>\n",
       "      <td>5.00</td>\n",
       "      <td>7.48</td>\n",
       "      <td>60.59</td>\n",
       "      <td>87.33</td>\n",
       "      <td>8.10</td>\n",
       "      <td>1.25000</td>\n",
       "      <td>1.43</td>\n",
       "      <td>9.50</td>\n",
       "      <td>http://www.sec.gov/cgi-bin/browse-edgar?action...</td>\n",
       "    </tr>\n",
       "    <tr>\n",
       "      <th>WYNN</th>\n",
       "      <td>Wynn Resorts Ltd</td>\n",
       "      <td>Consumer Discretionary</td>\n",
       "      <td>89.75</td>\n",
       "      <td>2.22</td>\n",
       "      <td>29.01</td>\n",
       "      <td>3.09</td>\n",
       "      <td>-0.83</td>\n",
       "      <td>49.95</td>\n",
       "      <td>110.31</td>\n",
       "      <td>9.10</td>\n",
       "      <td>0.95720</td>\n",
       "      <td>2.27</td>\n",
       "      <td>NaN</td>\n",
       "      <td>http://www.sec.gov/cgi-bin/browse-edgar?action...</td>\n",
       "    </tr>\n",
       "    <tr>\n",
       "      <th>XEL</th>\n",
       "      <td>Xcel Energy Inc</td>\n",
       "      <td>Utilities</td>\n",
       "      <td>44.59</td>\n",
       "      <td>3.00</td>\n",
       "      <td>21.13</td>\n",
       "      <td>2.11</td>\n",
       "      <td>21.01</td>\n",
       "      <td>32.43</td>\n",
       "      <td>45.42</td>\n",
       "      <td>22.65</td>\n",
       "      <td>3.43000</td>\n",
       "      <td>2.08</td>\n",
       "      <td>2.11</td>\n",
       "      <td>http://www.sec.gov/cgi-bin/browse-edgar?action...</td>\n",
       "    </tr>\n",
       "    <tr>\n",
       "      <th>XRX</th>\n",
       "      <td>Xerox Corp.</td>\n",
       "      <td>Information Technology</td>\n",
       "      <td>9.54</td>\n",
       "      <td>3.30</td>\n",
       "      <td>38.31</td>\n",
       "      <td>0.25</td>\n",
       "      <td>9.01</td>\n",
       "      <td>8.48</td>\n",
       "      <td>11.46</td>\n",
       "      <td>9.66</td>\n",
       "      <td>1.73000</td>\n",
       "      <td>0.53</td>\n",
       "      <td>1.04</td>\n",
       "      <td>http://www.sec.gov/cgi-bin/browse-edgar?action...</td>\n",
       "    </tr>\n",
       "    <tr>\n",
       "      <th>XLNX</th>\n",
       "      <td>Xilinx Inc</td>\n",
       "      <td>Information Technology</td>\n",
       "      <td>46.97</td>\n",
       "      <td>2.90</td>\n",
       "      <td>22.91</td>\n",
       "      <td>2.05</td>\n",
       "      <td>10.21</td>\n",
       "      <td>38.73</td>\n",
       "      <td>50.72</td>\n",
       "      <td>11.92</td>\n",
       "      <td>0.73832</td>\n",
       "      <td>5.24</td>\n",
       "      <td>4.48</td>\n",
       "      <td>http://www.sec.gov/cgi-bin/browse-edgar?action...</td>\n",
       "    </tr>\n",
       "    <tr>\n",
       "      <th>XL</th>\n",
       "      <td>XL Capital</td>\n",
       "      <td>Financials</td>\n",
       "      <td>33.01</td>\n",
       "      <td>2.45</td>\n",
       "      <td>8.31</td>\n",
       "      <td>3.97</td>\n",
       "      <td>40.83</td>\n",
       "      <td>25.56</td>\n",
       "      <td>40.48</td>\n",
       "      <td>9.40</td>\n",
       "      <td>1.59000</td>\n",
       "      <td>0.88</td>\n",
       "      <td>0.80</td>\n",
       "      <td>http://www.sec.gov/cgi-bin/browse-edgar?action...</td>\n",
       "    </tr>\n",
       "    <tr>\n",
       "      <th>XYL</th>\n",
       "      <td>Xylem Inc.</td>\n",
       "      <td>Industrials</td>\n",
       "      <td>46.41</td>\n",
       "      <td>1.43</td>\n",
       "      <td>24.53</td>\n",
       "      <td>1.89</td>\n",
       "      <td>12.07</td>\n",
       "      <td>29.90</td>\n",
       "      <td>46.67</td>\n",
       "      <td>8.30</td>\n",
       "      <td>0.59800</td>\n",
       "      <td>2.23</td>\n",
       "      <td>3.78</td>\n",
       "      <td>http://www.sec.gov/cgi-bin/browse-edgar?action...</td>\n",
       "    </tr>\n",
       "    <tr>\n",
       "      <th>YHOO</th>\n",
       "      <td>Yahoo Inc.</td>\n",
       "      <td>Information Technology</td>\n",
       "      <td>37.74</td>\n",
       "      <td>NaN</td>\n",
       "      <td>NaN</td>\n",
       "      <td>-4.76</td>\n",
       "      <td>30.03</td>\n",
       "      <td>26.15</td>\n",
       "      <td>39.98</td>\n",
       "      <td>35.82</td>\n",
       "      <td>0.24544</td>\n",
       "      <td>7.37</td>\n",
       "      <td>1.25</td>\n",
       "      <td>http://www.sec.gov/cgi-bin/browse-edgar?action...</td>\n",
       "    </tr>\n",
       "    <tr>\n",
       "      <th>YUM</th>\n",
       "      <td>Yum! Brands Inc</td>\n",
       "      <td>Consumer Discretionary</td>\n",
       "      <td>85.76</td>\n",
       "      <td>2.18</td>\n",
       "      <td>28.29</td>\n",
       "      <td>3.03</td>\n",
       "      <td>0.38</td>\n",
       "      <td>64.58</td>\n",
       "      <td>92.33</td>\n",
       "      <td>34.94</td>\n",
       "      <td>2.97000</td>\n",
       "      <td>2.62</td>\n",
       "      <td>220.13</td>\n",
       "      <td>http://www.sec.gov/cgi-bin/browse-edgar?action...</td>\n",
       "    </tr>\n",
       "    <tr>\n",
       "      <th>ZBH</th>\n",
       "      <td>Zimmer Biomet Holdings</td>\n",
       "      <td>Health Care</td>\n",
       "      <td>124.89</td>\n",
       "      <td>0.79</td>\n",
       "      <td>307.61</td>\n",
       "      <td>0.41</td>\n",
       "      <td>48.52</td>\n",
       "      <td>88.27</td>\n",
       "      <td>124.98</td>\n",
       "      <td>24.88</td>\n",
       "      <td>2.63000</td>\n",
       "      <td>3.59</td>\n",
       "      <td>2.51</td>\n",
       "      <td>http://www.sec.gov/cgi-bin/browse-edgar?action...</td>\n",
       "    </tr>\n",
       "    <tr>\n",
       "      <th>ZION</th>\n",
       "      <td>Zions Bancorp</td>\n",
       "      <td>Financials</td>\n",
       "      <td>24.74</td>\n",
       "      <td>0.98</td>\n",
       "      <td>20.45</td>\n",
       "      <td>1.21</td>\n",
       "      <td>33.23</td>\n",
       "      <td>19.65</td>\n",
       "      <td>32.42</td>\n",
       "      <td>5.06</td>\n",
       "      <td>0.00000</td>\n",
       "      <td>2.44</td>\n",
       "      <td>0.73</td>\n",
       "      <td>http://www.sec.gov/cgi-bin/browse-edgar?action...</td>\n",
       "    </tr>\n",
       "    <tr>\n",
       "      <th>ZTS</th>\n",
       "      <td>Zoetis</td>\n",
       "      <td>Health Care</td>\n",
       "      <td>48.50</td>\n",
       "      <td>0.80</td>\n",
       "      <td>63.98</td>\n",
       "      <td>0.76</td>\n",
       "      <td>2.35</td>\n",
       "      <td>37.73</td>\n",
       "      <td>50.39</td>\n",
       "      <td>24.07</td>\n",
       "      <td>1.53000</td>\n",
       "      <td>4.90</td>\n",
       "      <td>20.32</td>\n",
       "      <td>http://www.sec.gov/cgi-bin/browse-edgar?action...</td>\n",
       "    </tr>\n",
       "  </tbody>\n",
       "</table>\n",
       "<p>504 rows × 14 columns</p>\n",
       "</div>"
      ],
      "text/plain": [
       "                                 Name                  Sector   Price  \\\n",
       "Symbol                                                                  \n",
       "MMM                        3M Company             Industrials  177.12   \n",
       "ABT               Abbott Laboratories             Health Care   41.89   \n",
       "ABBV                           AbbVie             Health Care   64.16   \n",
       "ACN                     Accenture plc  Information Technology  115.11   \n",
       "ATVI              Activision Blizzard  Information Technology   41.29   \n",
       "AYI                 Acuity Brands Inc             Industrials  264.62   \n",
       "ADBE                Adobe Systems Inc  Information Technology   96.79   \n",
       "AAP                Advance Auto Parts  Consumer Discretionary  164.85   \n",
       "AES                          AES Corp               Utilities   12.32   \n",
       "AET                         Aetna Inc             Health Care  117.00   \n",
       "AMG     Affiliated Managers Group Inc              Financials  138.85   \n",
       "AFL                         AFLAC Inc              Financials   72.49   \n",
       "A            Agilent Technologies Inc             Health Care   45.48   \n",
       "APD      Air Products & Chemicals Inc               Materials  144.35   \n",
       "AKAM          Akamai Technologies Inc  Information Technology   56.38   \n",
       "ALK              Alaska Air Group Inc             Industrials   59.86   \n",
       "ALB                    Albemarle Corp               Materials   83.58   \n",
       "AA                          Alcoa Inc               Materials    9.82   \n",
       "ALXN          Alexion Pharmaceuticals             Health Care  124.42   \n",
       "ALLE                         Allegion             Industrials   69.74   \n",
       "AGN                      Allergan plc             Health Care  240.59   \n",
       "ADS             Alliance Data Systems  Information Technology  200.96   \n",
       "LNT               Alliant Energy Corp               Utilities   40.55   \n",
       "ALL                     Allstate Corp              Financials   69.66   \n",
       "GOOGL            Alphabet Inc Class A  Information Technology  717.78   \n",
       "GOOG             Alphabet Inc Class C  Information Technology  705.63   \n",
       "MO                   Altria Group Inc        Consumer Staples   69.83   \n",
       "AMZN                   Amazon.com Inc  Consumer Discretionary  745.81   \n",
       "AEE                       Ameren Corp               Utilities   53.15   \n",
       "AAL           American Airlines Group             Industrials   30.04   \n",
       "...                               ...                     ...     ...   \n",
       "V                           Visa Inc.  Information Technology   76.42   \n",
       "VNO              Vornado Realty Trust              Financials  100.46   \n",
       "VMC                  Vulcan Materials               Materials  123.61   \n",
       "WMT                   Wal-Mart Stores        Consumer Staples   73.84   \n",
       "WBA          Walgreens Boots Alliance        Consumer Staples   81.80   \n",
       "WM              Waste Management Inc.             Industrials   67.61   \n",
       "WAT                Waters Corporation             Health Care  146.53   \n",
       "WFC                       Wells Fargo              Financials   47.79   \n",
       "HCN                    Welltower Inc.              Financials   75.62   \n",
       "WDC                   Western Digital  Information Technology   49.35   \n",
       "WU                   Western Union Co  Information Technology   19.57   \n",
       "WRK                       Westrock Co               Materials   38.55   \n",
       "WY                 Weyerhaeuser Corp.              Financials   30.67   \n",
       "WHR                   Whirlpool Corp.  Consumer Discretionary  171.38   \n",
       "WFM                Whole Foods Market        Consumer Staples   33.58   \n",
       "WMB                     Williams Cos.                  Energy   20.99   \n",
       "WLTW             Willis Towers Watson              Financials  125.06   \n",
       "WEC      Wisconsin Energy Corporation               Utilities   65.03   \n",
       "WYN                 Wyndham Worldwide  Consumer Discretionary   72.35   \n",
       "WYNN                 Wynn Resorts Ltd  Consumer Discretionary   89.75   \n",
       "XEL                   Xcel Energy Inc               Utilities   44.59   \n",
       "XRX                       Xerox Corp.  Information Technology    9.54   \n",
       "XLNX                       Xilinx Inc  Information Technology   46.97   \n",
       "XL                         XL Capital              Financials   33.01   \n",
       "XYL                        Xylem Inc.             Industrials   46.41   \n",
       "YHOO                       Yahoo Inc.  Information Technology   37.74   \n",
       "YUM                   Yum! Brands Inc  Consumer Discretionary   85.76   \n",
       "ZBH            Zimmer Biomet Holdings             Health Care  124.89   \n",
       "ZION                    Zions Bancorp              Financials   24.74   \n",
       "ZTS                            Zoetis             Health Care   48.50   \n",
       "\n",
       "        Dividend Yield  Price/Earnings  Earnings/Share  Book Value  \\\n",
       "Symbol                                                               \n",
       "MMM               2.53           22.77            7.78       19.34   \n",
       "ABT               2.55           25.79            1.62       14.10   \n",
       "ABBV              3.60           19.29            3.33        2.87   \n",
       "ACN               1.94           19.45            5.92       11.45   \n",
       "ATVI              0.64           37.06            1.11       11.31   \n",
       "AYI               0.21           43.23            6.12       36.50   \n",
       "ADBE              0.00           54.68            1.77       14.53   \n",
       "AAP               0.15           25.20            6.40       35.82   \n",
       "AES               3.60           28.99            0.43        4.86   \n",
       "AET               0.87           17.62            6.64       47.96   \n",
       "AMG                NaN           15.55            8.93       53.30   \n",
       "AFL               2.27           11.93            6.07       48.22   \n",
       "A                 1.04           32.35            1.38       12.79   \n",
       "APD               2.46           56.99            2.53       32.01   \n",
       "AKAM               NaN           31.85            1.77       17.69   \n",
       "ALK               1.88            8.65            6.92       19.81   \n",
       "ALB               1.57           18.13            4.61       31.53   \n",
       "AA                1.31             NaN           -0.44        9.25   \n",
       "ALXN               NaN          188.23            0.66       35.96   \n",
       "ALLE              0.70           40.59            1.72        0.77   \n",
       "AGN               0.10           21.53           11.18      183.41   \n",
       "ADS                NaN           22.65            8.87       29.51   \n",
       "LNT               3.18           24.30            3.34       16.58   \n",
       "ALL               1.95           17.00            4.10       49.58   \n",
       "GOOGL              NaN           29.21           24.58      179.92   \n",
       "GOOG               NaN           28.71           24.58      179.92   \n",
       "MO                3.26           25.20            2.77        1.40   \n",
       "AMZN               NaN          307.42            2.43       31.26   \n",
       "AEE               3.16           20.62            2.58       28.31   \n",
       "AAL               1.41            2.69           11.16        8.04   \n",
       "...                ...             ...             ...         ...   \n",
       "V                 0.75           26.64            2.87       12.22   \n",
       "VNO               2.57           39.61            2.54       27.80   \n",
       "VMC               0.66           60.09            2.06       33.15   \n",
       "WMT               2.72           16.32            4.52       24.06   \n",
       "WBA               1.77           28.27            2.89       28.55   \n",
       "WM                2.44           26.87            2.52       11.90   \n",
       "WAT               0.00           25.91            5.66       25.97   \n",
       "WFC               3.26           11.74            4.07       34.62   \n",
       "HCN               4.50           34.40            2.20       37.88   \n",
       "WDC               4.20           13.94            3.54       41.24   \n",
       "WU                3.34           12.22            1.60        2.52   \n",
       "WRK               4.04             NaN           -0.55       43.77   \n",
       "WY                4.12           37.86            0.81       13.53   \n",
       "WHR               2.38           18.27            9.38       62.60   \n",
       "WFM               1.63           22.91            1.47       10.11   \n",
       "WMB              12.43             NaN           -0.94        7.59   \n",
       "WLTW              1.54           26.71            4.68       80.57   \n",
       "WEC               3.02           24.35            2.67       27.94   \n",
       "WYN               2.84           14.46            5.00        7.48   \n",
       "WYNN              2.22           29.01            3.09       -0.83   \n",
       "XEL               3.00           21.13            2.11       21.01   \n",
       "XRX               3.30           38.31            0.25        9.01   \n",
       "XLNX              2.90           22.91            2.05       10.21   \n",
       "XL                2.45            8.31            3.97       40.83   \n",
       "XYL               1.43           24.53            1.89       12.07   \n",
       "YHOO               NaN             NaN           -4.76       30.03   \n",
       "YUM               2.18           28.29            3.03        0.38   \n",
       "ZBH               0.79          307.61            0.41       48.52   \n",
       "ZION              0.98           20.45            1.21       33.23   \n",
       "ZTS               0.80           63.98            0.76        2.35   \n",
       "\n",
       "        52 week low  52 week high  Market Cap    EBITDA  Price/Sales  \\\n",
       "Symbol                                                                 \n",
       "MMM          134.00        177.79      107.43   8.57000         3.52   \n",
       "ABT           36.00         51.74       61.54   4.40000         2.98   \n",
       "ABBV          45.45         71.60      103.77  10.30000         4.31   \n",
       "ACN           88.43        120.78       71.66   5.42000         2.17   \n",
       "ATVI          24.04         41.32       30.48   1.59000         6.16   \n",
       "AYI          168.33        265.10       11.51   0.53650         3.53   \n",
       "ADBE          71.27        100.56       48.23   1.53000         8.93   \n",
       "AAP          131.59        201.24       12.10   1.24000         1.22   \n",
       "AES            8.22         13.38        8.12   3.57000         0.55   \n",
       "AET           92.42        125.47       41.02   5.40000         0.67   \n",
       "AMG          115.97        220.72        7.47   0.91600         3.02   \n",
       "AFL           51.41         72.81       30.01   4.49000         1.40   \n",
       "A             33.12         46.68       14.80   0.84400         3.53   \n",
       "APD          114.64        152.16       31.19   2.98000         3.16   \n",
       "AKAM          39.43         76.98        9.90   0.69810         4.31   \n",
       "ALK           54.51         87.17        7.38   1.72000         1.29   \n",
       "ALB           41.37         84.99        9.39   0.95275         2.51   \n",
       "AA             6.14         11.50       12.91   2.67000         0.57   \n",
       "ALXN         110.56        208.88       27.87   0.97872        10.22   \n",
       "ALLE          52.95         69.95        6.68   0.45060         3.11   \n",
       "AGN          195.50        340.34       95.17   6.57000         5.77   \n",
       "ADS          176.63        307.78       11.84   1.52000         1.78   \n",
       "LNT           27.14         40.99        9.21   0.99400         2.83   \n",
       "ALL           54.12         69.95       26.08   3.26000         0.73   \n",
       "GOOGL        558.70        810.35      492.80  25.51000         6.23   \n",
       "GOOG         532.40        789.87      484.45  25.51000         6.12   \n",
       "MO            47.41         70.15      136.59   9.06000         7.09   \n",
       "AMZN         447.54        746.10      351.89   9.09000         3.06   \n",
       "AEE           37.92         54.08       12.90   2.18000         2.21   \n",
       "AAL           24.85         47.09       17.37   8.83000         0.42   \n",
       "...             ...           ...         ...       ...          ...   \n",
       "V             60.00         81.73      182.28   9.63000        12.45   \n",
       "VNO           78.91        103.41       18.96   1.22000         7.44   \n",
       "VMC           78.83        124.28       16.46   0.89797         4.58   \n",
       "WMT           56.30         74.14      230.13  33.22000         0.47   \n",
       "WBA           71.50         97.30       88.53   8.27000         0.74   \n",
       "WM            47.55         70.50       30.04   3.46000         2.28   \n",
       "WAT          112.00        146.96       11.86   0.66179         5.61   \n",
       "WFC           44.50         58.77      242.63   0.00000         2.82   \n",
       "HCN           52.80         77.18       27.00   2.01000         6.82   \n",
       "WDC           34.99         88.46       11.50   2.22000         0.88   \n",
       "WU            16.02         20.62        9.61   1.38000         1.71   \n",
       "WRK           29.73         64.74        9.63   2.26000         0.67   \n",
       "WY            22.06         32.72       22.91   1.51000         3.14   \n",
       "WHR          123.60        193.59       13.02   2.09000         0.62   \n",
       "WFM           28.07         41.97       10.78   1.39000         0.69   \n",
       "WMB           10.22         58.77       15.75   3.24000         2.09   \n",
       "WLTW         104.11        129.70       17.31   1.16000         3.48   \n",
       "WEC           46.00         66.10       20.53   2.14000         3.02   \n",
       "WYN           60.59         87.33        8.10   1.25000         1.43   \n",
       "WYNN          49.95        110.31        9.10   0.95720         2.27   \n",
       "XEL           32.43         45.42       22.65   3.43000         2.08   \n",
       "XRX            8.48         11.46        9.66   1.73000         0.53   \n",
       "XLNX          38.73         50.72       11.92   0.73832         5.24   \n",
       "XL            25.56         40.48        9.40   1.59000         0.88   \n",
       "XYL           29.90         46.67        8.30   0.59800         2.23   \n",
       "YHOO          26.15         39.98       35.82   0.24544         7.37   \n",
       "YUM           64.58         92.33       34.94   2.97000         2.62   \n",
       "ZBH           88.27        124.98       24.88   2.63000         3.59   \n",
       "ZION          19.65         32.42        5.06   0.00000         2.44   \n",
       "ZTS           37.73         50.39       24.07   1.53000         4.90   \n",
       "\n",
       "        Price/Book                                        SEC Filings  \n",
       "Symbol                                                                 \n",
       "MMM           9.04  http://www.sec.gov/cgi-bin/browse-edgar?action...  \n",
       "ABT           2.93  http://www.sec.gov/cgi-bin/browse-edgar?action...  \n",
       "ABBV         22.09  http://www.sec.gov/cgi-bin/browse-edgar?action...  \n",
       "ACN           9.84  http://www.sec.gov/cgi-bin/browse-edgar?action...  \n",
       "ATVI          3.57  http://www.sec.gov/cgi-bin/browse-edgar?action...  \n",
       "AYI           6.95  http://www.sec.gov/cgi-bin/browse-edgar?action...  \n",
       "ADBE          6.55  http://www.sec.gov/cgi-bin/browse-edgar?action...  \n",
       "AAP           4.50  http://www.sec.gov/cgi-bin/browse-edgar?action...  \n",
       "AES           2.49  http://www.sec.gov/cgi-bin/browse-edgar?action...  \n",
       "AET           2.41  http://www.sec.gov/cgi-bin/browse-edgar?action...  \n",
       "AMG           2.52  http://www.sec.gov/cgi-bin/browse-edgar?action...  \n",
       "AFL           1.48  http://www.sec.gov/cgi-bin/browse-edgar?action...  \n",
       "A             3.47  http://www.sec.gov/cgi-bin/browse-edgar?action...  \n",
       "APD           4.36  http://www.sec.gov/cgi-bin/browse-edgar?action...  \n",
       "AKAM          3.11  http://www.sec.gov/cgi-bin/browse-edgar?action...  \n",
       "ALK           3.00  http://www.sec.gov/cgi-bin/browse-edgar?action...  \n",
       "ALB           2.58  http://www.sec.gov/cgi-bin/browse-edgar?action...  \n",
       "AA            1.01  http://www.sec.gov/cgi-bin/browse-edgar?action...  \n",
       "ALXN          3.43  http://www.sec.gov/cgi-bin/browse-edgar?action...  \n",
       "ALLE         89.14  http://www.sec.gov/cgi-bin/browse-edgar?action...  \n",
       "AGN           1.30  http://www.sec.gov/cgi-bin/browse-edgar?action...  \n",
       "ADS           6.68  http://www.sec.gov/cgi-bin/browse-edgar?action...  \n",
       "LNT           2.40  http://www.sec.gov/cgi-bin/browse-edgar?action...  \n",
       "ALL           1.39  http://www.sec.gov/cgi-bin/browse-edgar?action...  \n",
       "GOOGL         3.93  http://www.sec.gov/cgi-bin/browse-edgar?action...  \n",
       "GOOG          3.86  http://www.sec.gov/cgi-bin/browse-edgar?action...  \n",
       "MO           49.39  http://www.sec.gov/cgi-bin/browse-edgar?action...  \n",
       "AMZN         23.56  http://www.sec.gov/cgi-bin/browse-edgar?action...  \n",
       "AEE           1.86  http://www.sec.gov/cgi-bin/browse-edgar?action...  \n",
       "AAL           3.66  http://www.sec.gov/cgi-bin/browse-edgar?action...  \n",
       "...            ...                                                ...  \n",
       "V             6.10  http://www.sec.gov/cgi-bin/browse-edgar?action...  \n",
       "VNO           3.52  http://www.sec.gov/cgi-bin/browse-edgar?action...  \n",
       "VMC           3.67  http://www.sec.gov/cgi-bin/browse-edgar?action...  \n",
       "WMT           3.06  http://www.sec.gov/cgi-bin/browse-edgar?action...  \n",
       "WBA           2.82  http://www.sec.gov/cgi-bin/browse-edgar?action...  \n",
       "WM            5.66  http://www.sec.gov/cgi-bin/browse-edgar?action...  \n",
       "WAT           5.49  http://www.sec.gov/cgi-bin/browse-edgar?action...  \n",
       "WFC           1.35  http://www.sec.gov/cgi-bin/browse-edgar?action...  \n",
       "HCN           1.98  http://www.sec.gov/cgi-bin/browse-edgar?action...  \n",
       "WDC           1.16  http://www.sec.gov/cgi-bin/browse-edgar?action...  \n",
       "WU            7.54  http://www.sec.gov/cgi-bin/browse-edgar?action...  \n",
       "WRK           0.85  http://www.sec.gov/cgi-bin/browse-edgar?action...  \n",
       "WY            2.23  http://www.sec.gov/cgi-bin/browse-edgar?action...  \n",
       "WHR           2.68  http://www.sec.gov/cgi-bin/browse-edgar?action...  \n",
       "WFM           3.29  http://www.sec.gov/cgi-bin/browse-edgar?action...  \n",
       "WMB           2.68  http://www.sec.gov/cgi-bin/browse-edgar?action...  \n",
       "WLTW          1.54  http://www.sec.gov/cgi-bin/browse-edgar?action...  \n",
       "WEC           2.30  http://www.sec.gov/cgi-bin/browse-edgar?action...  \n",
       "WYN           9.50  http://www.sec.gov/cgi-bin/browse-edgar?action...  \n",
       "WYNN           NaN  http://www.sec.gov/cgi-bin/browse-edgar?action...  \n",
       "XEL           2.11  http://www.sec.gov/cgi-bin/browse-edgar?action...  \n",
       "XRX           1.04  http://www.sec.gov/cgi-bin/browse-edgar?action...  \n",
       "XLNX          4.48  http://www.sec.gov/cgi-bin/browse-edgar?action...  \n",
       "XL            0.80  http://www.sec.gov/cgi-bin/browse-edgar?action...  \n",
       "XYL           3.78  http://www.sec.gov/cgi-bin/browse-edgar?action...  \n",
       "YHOO          1.25  http://www.sec.gov/cgi-bin/browse-edgar?action...  \n",
       "YUM         220.13  http://www.sec.gov/cgi-bin/browse-edgar?action...  \n",
       "ZBH           2.51  http://www.sec.gov/cgi-bin/browse-edgar?action...  \n",
       "ZION          0.73  http://www.sec.gov/cgi-bin/browse-edgar?action...  \n",
       "ZTS          20.32  http://www.sec.gov/cgi-bin/browse-edgar?action...  \n",
       "\n",
       "[504 rows x 14 columns]"
      ]
     },
     "execution_count": 373,
     "metadata": {},
     "output_type": "execute_result"
    }
   ],
   "source": [
    "sample_df"
   ]
  },
  {
   "cell_type": "code",
   "execution_count": 374,
   "metadata": {},
   "outputs": [
    {
     "data": {
      "text/html": [
       "<div>\n",
       "<style>\n",
       "    .dataframe thead tr:only-child th {\n",
       "        text-align: right;\n",
       "    }\n",
       "\n",
       "    .dataframe thead th {\n",
       "        text-align: left;\n",
       "    }\n",
       "\n",
       "    .dataframe tbody tr th {\n",
       "        vertical-align: top;\n",
       "    }\n",
       "</style>\n",
       "<table border=\"1\" class=\"dataframe\">\n",
       "  <thead>\n",
       "    <tr style=\"text-align: right;\">\n",
       "      <th></th>\n",
       "      <th>Name</th>\n",
       "      <th>Sector</th>\n",
       "      <th>Price</th>\n",
       "      <th>Dividend Yield</th>\n",
       "      <th>Price/Earnings</th>\n",
       "      <th>Earnings/Share</th>\n",
       "      <th>Book Value</th>\n",
       "      <th>52 week low</th>\n",
       "      <th>52 week high</th>\n",
       "      <th>Market Cap</th>\n",
       "      <th>EBITDA</th>\n",
       "      <th>Price/Sales</th>\n",
       "      <th>Price/Book</th>\n",
       "      <th>SEC Filings</th>\n",
       "    </tr>\n",
       "    <tr>\n",
       "      <th>Symbol</th>\n",
       "      <th></th>\n",
       "      <th></th>\n",
       "      <th></th>\n",
       "      <th></th>\n",
       "      <th></th>\n",
       "      <th></th>\n",
       "      <th></th>\n",
       "      <th></th>\n",
       "      <th></th>\n",
       "      <th></th>\n",
       "      <th></th>\n",
       "      <th></th>\n",
       "      <th></th>\n",
       "      <th></th>\n",
       "    </tr>\n",
       "  </thead>\n",
       "  <tbody>\n",
       "    <tr>\n",
       "      <th>YHOO</th>\n",
       "      <td>Yahoo Inc.</td>\n",
       "      <td>Information Technology</td>\n",
       "      <td>37.74</td>\n",
       "      <td>NaN</td>\n",
       "      <td>NaN</td>\n",
       "      <td>-4.76</td>\n",
       "      <td>30.03</td>\n",
       "      <td>26.15</td>\n",
       "      <td>39.98</td>\n",
       "      <td>35.82</td>\n",
       "      <td>0.24544</td>\n",
       "      <td>7.37</td>\n",
       "      <td>1.25</td>\n",
       "      <td>http://www.sec.gov/cgi-bin/browse-edgar?action...</td>\n",
       "    </tr>\n",
       "    <tr>\n",
       "      <th>YUM</th>\n",
       "      <td>Yum! Brands Inc</td>\n",
       "      <td>Consumer Discretionary</td>\n",
       "      <td>85.76</td>\n",
       "      <td>2.18</td>\n",
       "      <td>28.29</td>\n",
       "      <td>3.03</td>\n",
       "      <td>0.38</td>\n",
       "      <td>64.58</td>\n",
       "      <td>92.33</td>\n",
       "      <td>34.94</td>\n",
       "      <td>2.97000</td>\n",
       "      <td>2.62</td>\n",
       "      <td>220.13</td>\n",
       "      <td>http://www.sec.gov/cgi-bin/browse-edgar?action...</td>\n",
       "    </tr>\n",
       "    <tr>\n",
       "      <th>ZBH</th>\n",
       "      <td>Zimmer Biomet Holdings</td>\n",
       "      <td>Health Care</td>\n",
       "      <td>124.89</td>\n",
       "      <td>0.79</td>\n",
       "      <td>307.61</td>\n",
       "      <td>0.41</td>\n",
       "      <td>48.52</td>\n",
       "      <td>88.27</td>\n",
       "      <td>124.98</td>\n",
       "      <td>24.88</td>\n",
       "      <td>2.63000</td>\n",
       "      <td>3.59</td>\n",
       "      <td>2.51</td>\n",
       "      <td>http://www.sec.gov/cgi-bin/browse-edgar?action...</td>\n",
       "    </tr>\n",
       "    <tr>\n",
       "      <th>ZION</th>\n",
       "      <td>Zions Bancorp</td>\n",
       "      <td>Financials</td>\n",
       "      <td>24.74</td>\n",
       "      <td>0.98</td>\n",
       "      <td>20.45</td>\n",
       "      <td>1.21</td>\n",
       "      <td>33.23</td>\n",
       "      <td>19.65</td>\n",
       "      <td>32.42</td>\n",
       "      <td>5.06</td>\n",
       "      <td>0.00000</td>\n",
       "      <td>2.44</td>\n",
       "      <td>0.73</td>\n",
       "      <td>http://www.sec.gov/cgi-bin/browse-edgar?action...</td>\n",
       "    </tr>\n",
       "    <tr>\n",
       "      <th>ZTS</th>\n",
       "      <td>Zoetis</td>\n",
       "      <td>Health Care</td>\n",
       "      <td>48.50</td>\n",
       "      <td>0.80</td>\n",
       "      <td>63.98</td>\n",
       "      <td>0.76</td>\n",
       "      <td>2.35</td>\n",
       "      <td>37.73</td>\n",
       "      <td>50.39</td>\n",
       "      <td>24.07</td>\n",
       "      <td>1.53000</td>\n",
       "      <td>4.90</td>\n",
       "      <td>20.32</td>\n",
       "      <td>http://www.sec.gov/cgi-bin/browse-edgar?action...</td>\n",
       "    </tr>\n",
       "  </tbody>\n",
       "</table>\n",
       "</div>"
      ],
      "text/plain": [
       "                          Name                  Sector   Price  \\\n",
       "Symbol                                                           \n",
       "YHOO                Yahoo Inc.  Information Technology   37.74   \n",
       "YUM            Yum! Brands Inc  Consumer Discretionary   85.76   \n",
       "ZBH     Zimmer Biomet Holdings             Health Care  124.89   \n",
       "ZION             Zions Bancorp              Financials   24.74   \n",
       "ZTS                     Zoetis             Health Care   48.50   \n",
       "\n",
       "        Dividend Yield  Price/Earnings  Earnings/Share  Book Value  \\\n",
       "Symbol                                                               \n",
       "YHOO               NaN             NaN           -4.76       30.03   \n",
       "YUM               2.18           28.29            3.03        0.38   \n",
       "ZBH               0.79          307.61            0.41       48.52   \n",
       "ZION              0.98           20.45            1.21       33.23   \n",
       "ZTS               0.80           63.98            0.76        2.35   \n",
       "\n",
       "        52 week low  52 week high  Market Cap   EBITDA  Price/Sales  \\\n",
       "Symbol                                                                \n",
       "YHOO          26.15         39.98       35.82  0.24544         7.37   \n",
       "YUM           64.58         92.33       34.94  2.97000         2.62   \n",
       "ZBH           88.27        124.98       24.88  2.63000         3.59   \n",
       "ZION          19.65         32.42        5.06  0.00000         2.44   \n",
       "ZTS           37.73         50.39       24.07  1.53000         4.90   \n",
       "\n",
       "        Price/Book                                        SEC Filings  \n",
       "Symbol                                                                 \n",
       "YHOO          1.25  http://www.sec.gov/cgi-bin/browse-edgar?action...  \n",
       "YUM         220.13  http://www.sec.gov/cgi-bin/browse-edgar?action...  \n",
       "ZBH           2.51  http://www.sec.gov/cgi-bin/browse-edgar?action...  \n",
       "ZION          0.73  http://www.sec.gov/cgi-bin/browse-edgar?action...  \n",
       "ZTS          20.32  http://www.sec.gov/cgi-bin/browse-edgar?action...  "
      ]
     },
     "execution_count": 374,
     "metadata": {},
     "output_type": "execute_result"
    }
   ],
   "source": [
    "# drop 함수를 사용하여 해당 row 제거\n",
    "copy = copy.drop(['ABBV'])\n",
    "copy.tail()"
   ]
  }
 ],
 "metadata": {
  "kernelspec": {
   "display_name": "Python 3",
   "language": "python",
   "name": "python3"
  },
  "language_info": {
   "codemirror_mode": {
    "name": "ipython",
    "version": 3
   },
   "file_extension": ".py",
   "mimetype": "text/x-python",
   "name": "python",
   "nbconvert_exporter": "python",
   "pygments_lexer": "ipython3",
   "version": "3.6.1"
  }
 },
 "nbformat": 4,
 "nbformat_minor": 1
}
