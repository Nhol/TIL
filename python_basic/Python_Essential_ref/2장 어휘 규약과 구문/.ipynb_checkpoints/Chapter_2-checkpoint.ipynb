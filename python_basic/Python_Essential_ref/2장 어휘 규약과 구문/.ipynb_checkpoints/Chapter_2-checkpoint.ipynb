{
 "cells": [
  {
   "cell_type": "markdown",
   "metadata": {},
   "source": [
    "# 2장 어휘 규약과 구문"
   ]
  },
  {
   "cell_type": "markdown",
   "metadata": {},
   "source": [
    "## 줄 구조와 들여쓰기"
   ]
  },
  {
   "cell_type": "markdown",
   "metadata": {},
   "source": [
    "* 줄 이음 문자(\\) "
   ]
  },
  {
   "cell_type": "code",
   "execution_count": 3,
   "metadata": {},
   "outputs": [
    {
     "data": {
      "text/plain": [
       "-0.9999999999999992"
      ]
     },
     "execution_count": 3,
     "metadata": {},
     "output_type": "execute_result"
    }
   ],
   "source": [
    "import math\n",
    "\n",
    "x = math.pi\n",
    "y = 0\n",
    "n = math.pi * 2\n",
    "a = math.cos(3 * (x - n)) + \\\n",
    "    math.sin(3 * (y - n))\n",
    "a"
   ]
  },
  {
   "cell_type": "markdown",
   "metadata": {},
   "source": [
    "* 괄호(대중소)나 삼중따옴표로 둘러쌓인 부분은 시작과 끝이 명확하므로 줄이음 문자 없이도 여러 줄에 걸쳐 쓸 수 있음"
   ]
  },
  {
   "cell_type": "markdown",
   "metadata": {},
   "source": [
    "* 들여쓰기\n",
    "\n",
    "> 1) 들여쓰기는 함수 몸체, 조건문, 루프, 클래스 등의 코드 블록을 의미함\n",
    "\n",
    "> 2) 첫 문장에 적용되는 들여쓰기는 제한 없음. 단, 블록 전체로 봤을 때 일관성이 있어야 함. \n",
    "\n",
    "> 3) 들여쓰기로 스페이스키 사용을 권장(탭키 사용은 권장하지 않음)\n",
    "\n",
    "> 4) 함수, 조건문, 루프, 클래스의 몸체가 오직 한 문장만 담을 경우 같은 줄에 쓸 수 있음\n",
    "\n",
    ">> ```python\n",
    "if a: statement1\n",
    "else statement2\n",
    "```\n",
    "\n",
    "> 5) 한 줄에 둘 이상의 문장을 작성하려면 세미콜론(;)으로 구분\n",
    "\n",
    "> 6) #는 줄의 끝까지를 주석으로 처리함 단, 따옴표로 둘러싸인 문자열 안의 #는 주석으로 취급되지 않음\n",
    "\n",
    "> 7) 인터프리터는 빈 줄은 모두 무시(대화식 모드에서는 여러 줄에 걸친 문장을 입력할 때 빈 줄이 입력의 끝을 알림)"
   ]
  },
  {
   "cell_type": "markdown",
   "metadata": {},
   "source": [
    "## 식별자와 예약어\n",
    "\n",
    "1) 식별자(identifier)는 변수, 함수, 클래스, 모듈 및 기타 객체를 식별하는 데 사용되는 이름\n",
    "> A-Z, a-z, 숫자, 밑줄(_) 사용 가능. 단, 숫자는 가장 처음에 올 수 없으며 예약어도 사용할 수 없음\n",
    "\n",
    "> ** [예약어 목록] ** \n",
    "\n",
    "> and del from nonlocal try as elif global not while assert else if or with break except import pass yield class exec in print continue finally is raise def for lambda return\n",
    "\n",
    "2) _foo처럼 밑줄( &#95; )로 시작하거나 끝나는 식별자는 특수한 의미를 가짐 > from module import * 문에 의해 임포트 되지 않음\n",
    "> `__init__` : 이중 밑줄로 시작하고 끝나는 식별자는 특수 메서드용으로 예약되어 있음\n",
    "\n",
    "> `__bar` : 이중 밑줄로 시작하는 식별자는 private 클래스 멤버를 구현하는 데 사용 \n"
   ]
  },
  {
   "cell_type": "markdown",
   "metadata": {},
   "source": [
    "## 숫자 상수\n",
    "\n",
    "내장 숫자 상수(numerical literal)에는 4종류가 있음\n",
    "\n",
    "* 불리언 boolean: True(논리 연산에서 0이 아닌 숫자는 True로 취급됨), False (0은 False)\n",
    "\n",
    "* 정수 integer\n",
    "\n",
    "* 부동 소숫점 실수 floating number\n",
    "\n",
    "* 복소수 complex number: 실수부와 허수부로 나뉨. \n",
    "> ex) 1.2 + 12.34j 허수부는 숫자 뒤에 j나 J를 붙여서 나타낸다. \n"
   ]
  },
  {
   "cell_type": "markdown",
   "metadata": {},
   "source": [
    "`숫자, 문자열과 boolen 간의 관계`(True, False 판정)"
   ]
  },
  {
   "cell_type": "code",
   "execution_count": 11,
   "metadata": {},
   "outputs": [
    {
     "name": "stdout",
     "output_type": "stream",
     "text": [
      "non-zero numbers are True\n",
      "negative numbers are True\n"
     ]
    }
   ],
   "source": [
    "if 1234.34:\n",
    "    print(\"non-zero numbers are True\")\n",
    "    \n",
    "if -25:\n",
    "    print(\"negative numbers are True\")"
   ]
  },
  {
   "cell_type": "code",
   "execution_count": 8,
   "metadata": {},
   "outputs": [
    {
     "name": "stdout",
     "output_type": "stream",
     "text": [
      "strings are True\n"
     ]
    }
   ],
   "source": [
    "if \"What?\":\n",
    "    print(\"strings are True\")"
   ]
  },
  {
   "cell_type": "code",
   "execution_count": 15,
   "metadata": {},
   "outputs": [
    {
     "name": "stdout",
     "output_type": "stream",
     "text": [
      "Empty list is False\n"
     ]
    }
   ],
   "source": [
    "a = []\n",
    "if a: print(\"How about list?\")\n",
    "else: print(\"Empty list is False\")"
   ]
  },
  {
   "cell_type": "code",
   "execution_count": 17,
   "metadata": {},
   "outputs": [
    {
     "name": "stdout",
     "output_type": "stream",
     "text": [
      "Non-empty list is True!!\n"
     ]
    }
   ],
   "source": [
    "a = [1, 2, 3, 4]\n",
    "if a: print(\"Non-empty list is True!!\")\n",
    "else: print(\"Empty list is False\")"
   ]
  },
  {
   "cell_type": "markdown",
   "metadata": {},
   "source": [
    "`숫자의 2진법, 8진법, 16진법 표기`\n",
    "\n",
    "숫자 앞에 아래 표기를 붙여준다. \n",
    "\n",
    "> 2진법: 0b\n",
    "\n",
    "> 8진법: 0o\n",
    "\n",
    "> 16진법: 0x\n"
   ]
  },
  {
   "cell_type": "markdown",
   "metadata": {},
   "source": [
    "### 2, 8, 16진법의 10진법 표현\n",
    "\n",
    "* 각 진법으로 표현된 숫자는 해당숫자의 진법을 명시하기 위해 앞에 0b, 0o, 0x를 붙인다.(각각 binary, octal, hexadecimal을 의미) 이를 붙이지 않으면 십진법으로 인식된다.\n",
    "\n",
    "* 십진법 표기 숫자 x를 각 진법으로 변환할 때에는 다음과 같은 내장 함수들을 사용한다.\n",
    "\n",
    "> ```python\n",
    "bin(x)\n",
    "oct(x)\n",
    "hex(x)\n",
    "```"
   ]
  },
  {
   "cell_type": "code",
   "execution_count": 2,
   "metadata": {},
   "outputs": [
    {
     "name": "stdout",
     "output_type": "stream",
     "text": [
      "5\n",
      "9\n",
      "17\n"
     ]
    }
   ],
   "source": [
    "# 2진법: 2 + 3\n",
    "print(0b10 + 0b11)\n",
    "\n",
    "# 8진법: \n",
    "print(0o11)\n",
    "\n",
    "#16진법:\n",
    "print(0x11)"
   ]
  },
  {
   "cell_type": "markdown",
   "metadata": {},
   "source": [
    "### 10진법의 2, 8, 16진법 표현\n",
    "\n",
    "bin(정수), oct(정수), hex(정수)로 입력한다."
   ]
  },
  {
   "cell_type": "code",
   "execution_count": 20,
   "metadata": {},
   "outputs": [
    {
     "name": "stdout",
     "output_type": "stream",
     "text": [
      "0b111100\n",
      "0o74\n",
      "0x3c\n"
     ]
    }
   ],
   "source": [
    "print(bin(60), oct(60), hex(60), sep='\\n')"
   ]
  },
  {
   "cell_type": "markdown",
   "metadata": {},
   "source": [
    "## 문자열 상수\n",
    "\n",
    "* 문자들의 `순서열`을 나타내는데 사용\n",
    "\n",
    "* ', \", \"\"\"로 문자들을 둘러싸서 정의. 단, 문자를 둘러쌀 때 동일한 종류의 따옴표를 사용해야 한다. \n",
    "\n",
    "* 역슬래시(&#92;)문자는 특별한 기능을 담당하는 특수문자를 그 기능에서 탈출시키는데 사용된다. \n",
    "\n",
    "* 식별이 안되는 탈출 순서열은 문자열 안에서 수정되지 않은 채로 남겨지고 첫 역슬래시 문자도 같이 남겨짐"
   ]
  },
  {
   "cell_type": "markdown",
   "metadata": {},
   "source": [
    "### 표준 문자 탈출 코드\n",
    "\n",
    "| 문자 | 설명  | \n",
    "|-----|-----:| \n",
    "|\\|줄바꿈 이음|\n",
    "|\\\\\\|역슬래시|\n",
    "|\\'|작은따옴표|\n",
    "|\\\"|큰따옴표|\n",
    "|\\a|벨소리 문자|\n",
    "|\\b|백스페이스|\n",
    "|\\e|탈출(escape)문자|\n",
    "|\\0|null|\n",
    "|\\n|줄바꿈문자|\n",
    "|\\v|수직 탭|\n",
    "|\\t|수평 탭|\n",
    "|\\r|캐리지 리턴(carriage return)|\n",
    "|\\f|폼 피드(form feed)|\n",
    "|\\OOO|8진수(\\OOO에서 \\377까지)|\n",
    "|\\uxxxx|유니코드 문자(\\u0000에서 \\uffff까지)|\n",
    "|\\Uxxxxxxxx|유니코드 문자(\\u00000000에서 \\uffffffff)까지|\n",
    "|\\N{문자이름}|유니코드 문자이름|\n",
    "|\\xhh|16진수 (\\x00에서 \\xff까지)|"
   ]
  },
  {
   "cell_type": "code",
   "execution_count": 40,
   "metadata": {},
   "outputs": [
    {
     "data": {
      "text/plain": [
       "'helloworld'"
      ]
     },
     "execution_count": 40,
     "metadata": {},
     "output_type": "execute_result"
    }
   ],
   "source": [
    "# 스페이스, 줄바꿈, 줄이음 문자로 구분되는 인접한 문자열은 연결됨\n",
    "\"hello\" 'world' # 이 문자열들은 'helloworld'처럼 단일 문자열이 된다."
   ]
  },
  {
   "cell_type": "code",
   "execution_count": 41,
   "metadata": {},
   "outputs": [
    {
     "name": "stdout",
     "output_type": "stream",
     "text": [
      "'\n"
     ]
    }
   ],
   "source": [
    "# 표준 문자 탈출 코드\n",
    "print('\\'') # print(')는 에러 발생"
   ]
  },
  {
   "cell_type": "code",
   "execution_count": 44,
   "metadata": {},
   "outputs": [
    {
     "data": {
      "text/plain": [
       "'Jalapeño'"
      ]
     },
     "execution_count": 44,
     "metadata": {},
     "output_type": "execute_result"
    }
   ],
   "source": [
    "# 탈출코드 \\OOO, \\x의 예시\n",
    "\"Jalape\\xf1o\" # \\xf1이 n위에 물결표시가 있는 문자를 표현하기 위한 문자 코드"
   ]
  },
  {
   "cell_type": "markdown",
   "metadata": {},
   "source": [
    "파이썬2에서 문자열 상수는 8비트 문자나 바이트 지향적인 데이터에 대응되어 국제 문자 집합과 유니코드를 완벽하게 지원하지 못하는 제약이 있었다.\n",
    "\n",
    "파이썬2에서는 이 제약을 극복하기 위해 유니코드 데이터에 대해 별개의 문자열 타입을 사용한다.\n",
    "\n",
    "> 유니코드 문자열 상수 작성 시 문자열을 시작하는 따옴표 앞에 u를 붙여주면 된다. \n",
    "\n",
    "`단, 이런 접두어는 파이썬3에서는 불필요하다`"
   ]
  },
  {
   "cell_type": "code",
   "execution_count": 49,
   "metadata": {},
   "outputs": [
    {
     "data": {
      "text/plain": [
       "'Jalapeño'"
      ]
     },
     "execution_count": 49,
     "metadata": {},
     "output_type": "execute_result"
    }
   ],
   "source": [
    "s = u\"Jalape\\u00f1o\" # 유니코드 문자열 사용, \\u00f1이 라틴 소문자 n을 의미\n",
    "s"
   ]
  },
  {
   "cell_type": "markdown",
   "metadata": {},
   "source": [
    "파이썬 버전에 상관없이 \\u, \\U, \\N을 사용하면 임의의 문자를 유니코드 상수에 넣을 수 있다. \n",
    "\n",
    "모든 유니코드 문자에는 코드 포인트(code point)가 할당되며 코드 포인트는 유니코드 차트에서 보통 U+XXXX로 표기된다. (XXXX는 16진수 숫자들의 순서열을 의미)\n",
    "\n",
    "\\u 탈출코드는 U+0000에서 U+FFFF까지의 코드 포인트를 갖는 유니코드 문자 입력에 사용\n",
    "\n",
    "\\U 탈출코드는 U+10000과 그 위쪽에 속하는 범위의 문자 입력에 사용(U+10000를 이상의 코드 포인트를 갖는 유니ㅗ드 문자는 보통 대리자 쌍이라 불리는 문자쌍으로 이뤄짐)"
   ]
  },
  {
   "cell_type": "markdown",
   "metadata": {},
   "source": [
    "### 유니코드 문자의 서술적 이름\n",
    "\n",
    "http://www.unicode.org/charts"
   ]
  },
  {
   "cell_type": "code",
   "execution_count": 4,
   "metadata": {},
   "outputs": [
    {
     "data": {
      "text/plain": [
       "'Jalapeño'"
      ]
     },
     "execution_count": 4,
     "metadata": {},
     "output_type": "execute_result"
    }
   ],
   "source": [
    "s = u\"Jalape\\N{LATIN SMALL LETTER N WITH TILDE}o\"\n",
    "s"
   ]
  },
  {
   "cell_type": "markdown",
   "metadata": {},
   "source": [
    "### 미가공 문자열(Raw string)\n",
    "\n",
    "1) 정규표현식(Regular Expression)에 주로 사용. `r'\\d'`처럼 r, R을 문자열 상수 앞에 붙여서 사용하며 문자열이 따옴표 안의 문자 그대로의 텍스트를 담게 된다. \n",
    "\n",
    "2) 단, 미가공 문자열은 r\"\\\"처럼 단일 역슬래시 문자로 끝날 수는 없다. 미가공 문자열 안에서 \\uXXXX 탈출 순서열은 앞에 붙는 \\문자가 홀수 개인 경우에 한해서 유니코드 문자로 해석된다. \n",
    "\n",
    "자세한 내용은 3장에서 다룬다.\n"
   ]
  },
  {
   "cell_type": "code",
   "execution_count": 13,
   "metadata": {},
   "outputs": [
    {
     "name": "stdout",
     "output_type": "stream",
     "text": [
      "\\d\n"
     ]
    }
   ],
   "source": [
    "a = r\"\\d\"\n",
    "print(a)"
   ]
  },
  {
   "cell_type": "code",
   "execution_count": 16,
   "metadata": {},
   "outputs": [
    {
     "ename": "SyntaxError",
     "evalue": "EOL while scanning string literal (<ipython-input-16-fc9745bae425>, line 2)",
     "output_type": "error",
     "traceback": [
      "\u001b[0;36m  File \u001b[0;32m\"<ipython-input-16-fc9745bae425>\"\u001b[0;36m, line \u001b[0;32m2\u001b[0m\n\u001b[0;31m    a = r\"\\\"\u001b[0m\n\u001b[0m            ^\u001b[0m\n\u001b[0;31mSyntaxError\u001b[0m\u001b[0;31m:\u001b[0m EOL while scanning string literal\n"
     ]
    }
   ],
   "source": [
    "# 다음 처럼 단일 역슬래스 문자로 끝나는 경우는 에러\n",
    "a = r\"\\\""
   ]
  },
  {
   "cell_type": "code",
   "execution_count": 20,
   "metadata": {},
   "outputs": [
    {
     "name": "stdout",
     "output_type": "stream",
     "text": [
      "\\u1234\n",
      "\\\\u1234\n",
      "\\n\n",
      "\\\\n\n"
     ]
    }
   ],
   "source": [
    "print(r\"\\u1234\")\n",
    "print(r\"\\\\u1234\")\n",
    "print(r\"\\n\")\n",
    "print(r\"\\\\n\")"
   ]
  },
  {
   "cell_type": "markdown",
   "metadata": {},
   "source": [
    "## 컨테이너\n",
    "\n",
    "[], (), {}로 둘러싸인 값들은 각각 리스트, 튜플, 딕셔너리에 들어있는 객체들의 모임을 가리킴\n",
    "\n",
    "컨테이너 안의 내용은 줄이음 문자(\\) 없이도 여러 줄에 걸쳐 있을 수 있으며 마지막 항목에 콤마를 붙여도 됨\n"
   ]
  },
  {
   "cell_type": "code",
   "execution_count": 14,
   "metadata": {},
   "outputs": [
    {
     "data": {
      "text/plain": [
       "[1, 3.4, 'hello']"
      ]
     },
     "execution_count": 14,
     "metadata": {},
     "output_type": "execute_result"
    }
   ],
   "source": [
    "a = [1,\n",
    "     3.4,\n",
    "     'hello',\n",
    "]\n",
    "a"
   ]
  },
  {
   "cell_type": "code",
   "execution_count": 16,
   "metadata": {},
   "outputs": [
    {
     "ename": "SyntaxError",
     "evalue": "invalid token (<ipython-input-16-ceb93d682dfe>, line 1)",
     "output_type": "error",
     "traceback": [
      "\u001b[0;36m  File \u001b[0;32m\"<ipython-input-16-ceb93d682dfe>\"\u001b[0;36m, line \u001b[0;32m1\u001b[0m\n\u001b[0;31m    print(0b60)\u001b[0m\n\u001b[0m           ^\u001b[0m\n\u001b[0;31mSyntaxError\u001b[0m\u001b[0;31m:\u001b[0m invalid token\n"
     ]
    }
   ],
   "source": [
    "print()"
   ]
  },
  {
   "cell_type": "code",
   "execution_count": 22,
   "metadata": {},
   "outputs": [
    {
     "data": {
      "text/plain": [
       "'0b1101'"
      ]
     },
     "execution_count": 22,
     "metadata": {},
     "output_type": "execute_result"
    }
   ],
   "source": [
    "bin(13)"
   ]
  },
  {
   "cell_type": "markdown",
   "metadata": {},
   "source": [
    "## 연산자, 구분 문자, 특수 기호\n",
    "\n",
    "* 비교적 생소한 비트연산자만 따로 살펴보면\n",
    "\n",
    "a = 60, b = 13 인 경우\n",
    "\n",
    "bin(a) = 0b 0011 1100\n",
    "\n",
    "bin(b) = 0b 0000 1101\n",
    "\n",
    "| Operator | Description | Example | \n",
    "|:----------|:-------------|:---------| \n",
    "|&|AND|(a & b) = 12 → 0000 1100| \n",
    "|&#124;|OR|(a &#124; b) = 61 → 0011 1101|\n",
    "|^|XOR|(a ^ b) = 49 → 0011 0001|\n",
    "|~|보수연산(NOT) 각 코드 포지션의 0, 1을 바꿈|(~a) = -61 → 1100 0011|\n",
    "|<<|왼쪽 시프트 연산자. 변수의 값을 왼쪽으로 지정된 비트 수 만큼 이동|a << 2 = 240 → 1111 0000|\n",
    "|>>|오른쪽 시프트 연산자. 변수의 값을 오른쪽으로 지정된 비트 수 만큼 이동|\ta >> 2 = 15 → 0000 1111|\n"
   ]
  },
  {
   "cell_type": "markdown",
   "metadata": {},
   "source": [
    "* 구분자(delimiter)\n",
    "\n",
    "표현식, 리스트, 딕셔너리 및 기타 문장들에 대한 구분자 역할을 하는 토큰들 () [] {} , : . ' = ;\n",
    "\n",
    "> 등호(=): 대입문에서 이름과 값 구분\n",
    "\n",
    "> 콤마(,): 함수의 인수들을 구분, 리스트와 튜플의 요소 등을 구분\n",
    "\n",
    "$와 ?문자는 파이썬에서 문자열 상수로 쓰이는 경우를 제외하고는 사용하지 않음"
   ]
  },
  {
   "cell_type": "markdown",
   "metadata": {},
   "source": [
    "## 문서화 문자열\n",
    "\n",
    "모듈, 클래스, 함수 정의의 첫 번째 문장이 문자열이면, 이 문자열은 연관된 객체의 문서화 문서열이 된다. "
   ]
  },
  {
   "cell_type": "code",
   "execution_count": 31,
   "metadata": {},
   "outputs": [],
   "source": [
    "# 함수 정의에서 문서화 문자열 예시\n",
    "\n",
    "def fact(n):\n",
    "    \"This function computes a factorial\" # 이 부분이 문서화 문자열 \n",
    "    if n <= 1: return 1\n",
    "    else: return n * fact(n-1)"
   ]
  },
  {
   "cell_type": "code",
   "execution_count": 32,
   "metadata": {},
   "outputs": [
    {
     "name": "stdout",
     "output_type": "stream",
     "text": [
      "This function computes a factorial\n"
     ]
    }
   ],
   "source": [
    "print(fact.__doc__)"
   ]
  },
  {
   "cell_type": "code",
   "execution_count": 35,
   "metadata": {},
   "outputs": [
    {
     "name": "stdout",
     "output_type": "stream",
     "text": [
      "Return the number of items in a container. range(stop) -> range object\n",
      "range(start, stop[, step]) -> range object\n",
      "\n",
      "Return an object that produces a sequence of integers from start (inclusive)\n",
      "to stop (exclusive) by step.  range(i, j) produces i, i+1, i+2, ..., j-1.\n",
      "start defaults to 0, and stop is omitted!  range(4) produces 0, 1, 2, 3.\n",
      "These are exactly the valid indices for a list of 4 elements.\n",
      "When step is given, it specifies the increment (or decrement).\n"
     ]
    }
   ],
   "source": [
    "print(len.__doc__, range.__doc__)"
   ]
  },
  {
   "cell_type": "markdown",
   "metadata": {},
   "source": [
    "## 장식자(Decorator) 6, 7장에서 자세히 설명\n",
    "\n",
    "함수, 메서드, 클래스의 정의 앞에 특수한 문자가 올 수 있는데 이를 장식자(decorator)라고 하며 바로 따라 나오는 정의의 작동 방식을 변경하는데 쓰인다. \n",
    "\n",
    "장식자는 기호 @로 표시하며 장식자는 별개의 줄로서 관련 함수, 메서드, 클래스 바로 앞에 나와야 한다. "
   ]
  },
  {
   "cell_type": "code",
   "execution_count": 36,
   "metadata": {},
   "outputs": [],
   "source": [
    "class Foo(object):\n",
    "    @staticmethod\n",
    "    def bar():\n",
    "        pass"
   ]
  },
  {
   "cell_type": "markdown",
   "metadata": {},
   "source": [
    "##  소스 코드 인코딩\n",
    "\n",
    "파이썬 3에서는 기본 문자열의 자료형이 유니코드이며 자료형의 이름은 `str` 이다.\n",
    "\n",
    "콘솔 입력이나 파일은 유니코드 포인트로 동작하는 것이 아니라 인코딩된 바이트 열로 동작한다. 따라서 파이썬이 콘솔로 입력된 코드나 스크립트 코드를 읽을 때는 이 코드가 어떤 방식으로 인코딩되어 있는지 알고 있어야 한다. 콘솔 입력이면 환경 변수 `PYTHONIOENCODING`으로 지정하고, 스크립트(파일)이면 첫 줄에 다음처럼 인코딩 설정 정보를 넣어 주면 된다.\n",
    "\n",
    "```\n",
    "#-*- coding: utf-8 -*-\n",
    "```"
   ]
  }
 ],
 "metadata": {
  "kernelspec": {
   "display_name": "Python 3",
   "language": "python",
   "name": "python3"
  },
  "language_info": {
   "codemirror_mode": {
    "name": "ipython",
    "version": 3
   },
   "file_extension": ".py",
   "mimetype": "text/x-python",
   "name": "python",
   "nbconvert_exporter": "python",
   "pygments_lexer": "ipython3",
   "version": "3.6.4"
  }
 },
 "nbformat": 4,
 "nbformat_minor": 2
}
