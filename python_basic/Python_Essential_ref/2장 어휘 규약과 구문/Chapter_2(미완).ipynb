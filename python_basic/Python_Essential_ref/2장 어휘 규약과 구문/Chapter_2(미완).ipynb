{
 "cells": [
  {
   "cell_type": "markdown",
   "metadata": {},
   "source": [
    "# 2장 어휘 규약과 구문"
   ]
  },
  {
   "cell_type": "markdown",
   "metadata": {},
   "source": [
    "## 줄 구조와 들여쓰기"
   ]
  },
  {
   "cell_type": "markdown",
   "metadata": {},
   "source": [
    "* 줄 이음 문자(\\) "
   ]
  },
  {
   "cell_type": "code",
   "execution_count": 3,
   "metadata": {},
   "outputs": [
    {
     "data": {
      "text/plain": [
       "-0.9999999999999992"
      ]
     },
     "execution_count": 3,
     "metadata": {},
     "output_type": "execute_result"
    }
   ],
   "source": [
    "import math\n",
    "\n",
    "x = math.pi\n",
    "y = 0\n",
    "n = math.pi * 2\n",
    "a = math.cos(3 * (x - n)) + \\\n",
    "    math.sin(3 * (y - n))\n",
    "a"
   ]
  },
  {
   "cell_type": "markdown",
   "metadata": {},
   "source": [
    "* 괄호(대중소)나 삼중따옴표로 둘러쌓인 부분은 시작과 끝이 명확하므로 줄이음 문자 없이도 여러 줄에 걸쳐 쓸 수 있음"
   ]
  },
  {
   "cell_type": "markdown",
   "metadata": {},
   "source": [
    "* 들여쓰기\n",
    "\n",
    "> 1) 들여쓰기는 함수 몸체, 조건문, 루프, 클래스 등의 코드 블록을 의미함\n",
    "\n",
    "> 2) 첫 문장에 적용되는 들여쓰기는 제한 없음. 단, 블록 전체로 봤을 때 일관성이 있어야 함. \n",
    "\n",
    "> 3) 들여쓰기로 스페이스키 사용을 권장(탭키 사용은 권장하지 않음)\n",
    "\n",
    "> 4) 함수, 조건문, 루프, 클래스의 몸체가 오직 한 문장만 담을 경우 같은 줄에 쓸 수 있음\n",
    "\n",
    ">> ```python\n",
    "if a: statement1\n",
    "else statement2\n",
    "```\n",
    "\n",
    "> 5) 한 줄에 둘 이상의 문장을 작성하려면 세미콜론(;)으로 구분\n",
    "\n",
    "> 6) #는 줄의 끝까지를 주석으로 처리함 단, 따옴표로 둘러싸인 문자열 안의 #는 주석으로 취급되지 않음\n",
    "\n",
    "> 7) 인터프리터는 빈 줄은 모두 무시(대화식 모드에서는 여러 줄에 걸친 문장을 입력할 때 빈 줄이 입력의 끝을 알림)"
   ]
  },
  {
   "cell_type": "markdown",
   "metadata": {},
   "source": [
    "## 식별자와 예약어\n",
    "\n",
    "1) 식별자(identifier)는 변수, 함수, 클래스, 모듈 및 기타 객체를 식별하는 데 사용되는 이름\n",
    "> A-Z, a-z, 숫자, 밑줄(_) 사용 가능. 단, 숫자는 가장 처음에 올 수 없으며 예약어도 사용할 수 없음\n",
    "\n",
    "> ** [예약어 목록] ** \n",
    "\n",
    "> and del from nonlocal try as elif global not while assert else if or with break except import pass yield class exec in print continue finally is raise def for lambda return\n",
    "\n",
    "2) _foo처럼 밑줄( &#95; )로 시작하거나 끝나는 식별자는 특수한 의미를 가짐 > from module import * 문에 의해 임포트 되지 않음\n",
    "> `__init__` : 이중 밑줄로 시작하고 끝나는 식별자는 특수 메서드용으로 예약되어 있음\n",
    "\n",
    "> `__bar` : 이중 밑줄로 시작하는 식별자는 private 클래스 멤버를 구현하는 데 사용 \n"
   ]
  },
  {
   "cell_type": "markdown",
   "metadata": {},
   "source": [
    "## 숫자 상수\n",
    "\n",
    "내장 숫자 상수(numerical literal)에는 4종류가 있음\n",
    "\n",
    "* 불리언 boolean: True(논리 연산에서 0이 아닌 숫자는 True로 취급됨), False (0은 False)\n",
    "\n",
    "* 정수 integer\n",
    "\n",
    "* 부동 소숫점 실수 floating number\n",
    "\n",
    "* 복소수 complex number: 실수부와 허수부로 나뉨. \n",
    "> ex) 1.2 + 12.34j 허수부는 숫자 뒤에 j나 J를 붙여서 나타낸다. \n"
   ]
  },
  {
   "cell_type": "markdown",
   "metadata": {},
   "source": [
    "`숫자, 문자열과 boolen 간의 관계`(True, False 판정)"
   ]
  },
  {
   "cell_type": "code",
   "execution_count": 11,
   "metadata": {},
   "outputs": [
    {
     "name": "stdout",
     "output_type": "stream",
     "text": [
      "non-zero numbers are True\n",
      "negative numbers are True\n"
     ]
    }
   ],
   "source": [
    "if 1234.34:\n",
    "    print(\"non-zero numbers are True\")\n",
    "    \n",
    "if -25:\n",
    "    print(\"negative numbers are True\")"
   ]
  },
  {
   "cell_type": "code",
   "execution_count": 8,
   "metadata": {},
   "outputs": [
    {
     "name": "stdout",
     "output_type": "stream",
     "text": [
      "strings are True\n"
     ]
    }
   ],
   "source": [
    "if \"What?\":\n",
    "    print(\"strings are True\")"
   ]
  },
  {
   "cell_type": "code",
   "execution_count": 15,
   "metadata": {},
   "outputs": [
    {
     "name": "stdout",
     "output_type": "stream",
     "text": [
      "Empty list is False\n"
     ]
    }
   ],
   "source": [
    "a = []\n",
    "if a: print(\"How about list?\")\n",
    "else: print(\"Empty list is False\")"
   ]
  },
  {
   "cell_type": "code",
   "execution_count": 17,
   "metadata": {},
   "outputs": [
    {
     "name": "stdout",
     "output_type": "stream",
     "text": [
      "Non-empty list is True!!\n"
     ]
    }
   ],
   "source": [
    "a = [1, 2, 3, 4]\n",
    "if a: print(\"Non-empty list is True!!\")\n",
    "else: print(\"Empty list is False\")"
   ]
  },
  {
   "cell_type": "markdown",
   "metadata": {},
   "source": [
    "`숫자의 2진법, 8진법, 16진법 표기`\n",
    "\n",
    "숫자 앞에 아래 표기를 붙여준다. \n",
    "\n",
    "> 2진법: 0b\n",
    "\n",
    "> 8진법: 0o\n",
    "\n",
    "> 16진법: 0x\n"
   ]
  },
  {
   "cell_type": "code",
   "execution_count": 26,
   "metadata": {},
   "outputs": [
    {
     "name": "stdout",
     "output_type": "stream",
     "text": [
      "5\n",
      "9\n",
      "17\n"
     ]
    }
   ],
   "source": [
    "# 2진법: 2 + 3\n",
    "print(0b10 + 0b11)\n",
    "\n",
    "# 8진법: \n",
    "print(0o11)\n",
    "\n",
    "#16진법:\n",
    "print(0x11)"
   ]
  },
  {
   "cell_type": "markdown",
   "metadata": {},
   "source": [
    "## 문자열 상수\n",
    "\n",
    "* 문자들의 `순서열`을 나타내는데 사용\n",
    "\n",
    "* ', \", \"\"\"로 문자들을 둘러싸서 정의. 단, 문자를 둘러쌀 때 동일한 종류의 따옴표를 사용해야 한다. \n",
    "\n",
    "* 역슬래시(&#92;)문자는 특별한 기능을 담당하는 특수문자를 그 기능에서 탈출시키는데 사용된다. \n",
    "\n",
    "* 식별이 안되는 탈출 순서열은 문자열 안에서 수정되지 않은 채로 남겨지고 첫 역슬래시 문자도 같이 남겨짐"
   ]
  },
  {
   "cell_type": "markdown",
   "metadata": {},
   "source": [
    "### 표준 문자 탈출 코드\n",
    "\n",
    "| 문자 | 설명  | \n",
    "|-----|-----:| \n",
    "|\\|줄바꿈 이음|\n",
    "|\\\\\\|역슬래시|\n",
    "|\\'|작은따옴표|\n",
    "|\\\"|큰따옴표|\n",
    "|\\a|벨소리 문자|\n",
    "|\\b|백스페이스|\n",
    "|\\e|탈출(escape)문자|\n",
    "|\\0|null|\n",
    "|\\n|줄바꿈문자|\n",
    "|\\v|수직 탭|\n",
    "|\\t|수평 탭|\n",
    "|\\r|캐리지 리턴(carriage return)|\n",
    "|\\f|폼 피드(form feed)|\n",
    "|\\OOO|8진수(\\OOO에서 \\377까지)|\n",
    "|\\uxxxx|유니코드 문자(\\u0000에서 \\uffff까지)|\n",
    "|\\Uxxxxxxxx|유니코드 문자(\\u00000000에서 \\uffffffff)까지|\n",
    "|\\N{문자이름}|유니코드 문자이름|\n",
    "|\\xhh|16진수 (\\x00에서 \\xff까지)|"
   ]
  },
  {
   "cell_type": "code",
   "execution_count": 40,
   "metadata": {},
   "outputs": [
    {
     "data": {
      "text/plain": [
       "'helloworld'"
      ]
     },
     "execution_count": 40,
     "metadata": {},
     "output_type": "execute_result"
    }
   ],
   "source": [
    "# 스페이스, 줄바꿈, 줄이음 문자로 구분되는 인접한 문자열은 연결됨\n",
    "\"hello\" 'world' # 이 문자열들은 'helloworld'처럼 단일 문자열이 된다."
   ]
  },
  {
   "cell_type": "code",
   "execution_count": 41,
   "metadata": {},
   "outputs": [
    {
     "name": "stdout",
     "output_type": "stream",
     "text": [
      "'\n"
     ]
    }
   ],
   "source": [
    "# 표준 문자 탈출 코드\n",
    "print('\\'') # print(')는 에러 발생"
   ]
  },
  {
   "cell_type": "code",
   "execution_count": 44,
   "metadata": {},
   "outputs": [
    {
     "data": {
      "text/plain": [
       "'Jalapeño'"
      ]
     },
     "execution_count": 44,
     "metadata": {},
     "output_type": "execute_result"
    }
   ],
   "source": [
    "# 탈출코드 \\OOO, \\x의 예시\n",
    "\"Jalape\\xf1o\" # \\xf1이 n위에 물결표시가 있는 문자를 표현하기 위한 문자 코드"
   ]
  },
  {
   "cell_type": "markdown",
   "metadata": {},
   "source": [
    "파이썬2에서 문자열 상수는 8비트 문자나 바이트 지향적인 데이터에 대응되어 국제 문자 집합과 유니코드를 완벽하게 지원하지 못하는 제약이 있었다.\n",
    "\n",
    "파이썬2에서는 이 제약을 극복하기 위해 유니코드 데이터에 대해 별개의 문자열 타입을 사용한다.\n",
    "\n",
    "> 유니코드 문자열 상수 작성 시 문자열을 시작하는 따옴표 앞에 u를 붙여주면 된다. \n",
    "\n",
    "`단, 이런 접두어는 파이썬3에서는 불필요하다`"
   ]
  },
  {
   "cell_type": "code",
   "execution_count": 49,
   "metadata": {},
   "outputs": [
    {
     "data": {
      "text/plain": [
       "'Jalapeño'"
      ]
     },
     "execution_count": 49,
     "metadata": {},
     "output_type": "execute_result"
    }
   ],
   "source": [
    "s = u\"Jalape\\u00f1o\" # 유니코드 문자열 사용, \\u00f1이 라틴 소문자 n을 의미\n",
    "s"
   ]
  },
  {
   "cell_type": "markdown",
   "metadata": {},
   "source": [
    "파이썬 버전에 상관없이 \\u, \\U, \\N을 사용하면 임의의 문자를 유니코드 상수에 넣을 수 있다. "
   ]
  },
  {
   "cell_type": "code",
   "execution_count": null,
   "metadata": {},
   "outputs": [],
   "source": []
  },
  {
   "cell_type": "code",
   "execution_count": null,
   "metadata": {},
   "outputs": [],
   "source": []
  },
  {
   "cell_type": "code",
   "execution_count": null,
   "metadata": {},
   "outputs": [],
   "source": []
  },
  {
   "cell_type": "code",
   "execution_count": null,
   "metadata": {},
   "outputs": [],
   "source": []
  },
  {
   "cell_type": "code",
   "execution_count": null,
   "metadata": {},
   "outputs": [],
   "source": []
  },
  {
   "cell_type": "code",
   "execution_count": null,
   "metadata": {},
   "outputs": [],
   "source": []
  },
  {
   "cell_type": "code",
   "execution_count": null,
   "metadata": {},
   "outputs": [],
   "source": []
  },
  {
   "cell_type": "code",
   "execution_count": null,
   "metadata": {},
   "outputs": [],
   "source": []
  },
  {
   "cell_type": "code",
   "execution_count": null,
   "metadata": {},
   "outputs": [],
   "source": []
  },
  {
   "cell_type": "code",
   "execution_count": null,
   "metadata": {},
   "outputs": [],
   "source": []
  },
  {
   "cell_type": "code",
   "execution_count": null,
   "metadata": {},
   "outputs": [],
   "source": [
    "# 76페이지까지 43페이지 남았음(최소 하루 20페이지는 봐야...)"
   ]
  },
  {
   "cell_type": "code",
   "execution_count": null,
   "metadata": {},
   "outputs": [],
   "source": []
  },
  {
   "cell_type": "code",
   "execution_count": null,
   "metadata": {},
   "outputs": [],
   "source": []
  },
  {
   "cell_type": "code",
   "execution_count": null,
   "metadata": {},
   "outputs": [],
   "source": []
  },
  {
   "cell_type": "code",
   "execution_count": null,
   "metadata": {},
   "outputs": [],
   "source": []
  },
  {
   "cell_type": "code",
   "execution_count": null,
   "metadata": {},
   "outputs": [],
   "source": []
  },
  {
   "cell_type": "code",
   "execution_count": null,
   "metadata": {},
   "outputs": [],
   "source": []
  },
  {
   "cell_type": "code",
   "execution_count": null,
   "metadata": {},
   "outputs": [],
   "source": []
  },
  {
   "cell_type": "code",
   "execution_count": null,
   "metadata": {},
   "outputs": [],
   "source": []
  },
  {
   "cell_type": "code",
   "execution_count": null,
   "metadata": {},
   "outputs": [],
   "source": []
  },
  {
   "cell_type": "code",
   "execution_count": null,
   "metadata": {},
   "outputs": [],
   "source": []
  },
  {
   "cell_type": "code",
   "execution_count": null,
   "metadata": {},
   "outputs": [],
   "source": []
  }
 ],
 "metadata": {
  "kernelspec": {
   "display_name": "Python 3",
   "language": "python",
   "name": "python3"
  },
  "language_info": {
   "codemirror_mode": {
    "name": "ipython",
    "version": 3
   },
   "file_extension": ".py",
   "mimetype": "text/x-python",
   "name": "python",
   "nbconvert_exporter": "python",
   "pygments_lexer": "ipython3",
   "version": "3.6.4"
  }
 },
 "nbformat": 4,
 "nbformat_minor": 2
}
