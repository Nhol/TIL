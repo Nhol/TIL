{
 "cells": [
  {
   "cell_type": "markdown",
   "metadata": {},
   "source": [
    "# 1장 파이썬 맛보기"
   ]
  },
  {
   "cell_type": "markdown",
   "metadata": {},
   "source": [
    "## 변수와 산술 표현식\n",
    "\n",
    "아래는 간단한 복리계산 코드이다"
   ]
  },
  {
   "cell_type": "code",
   "execution_count": null,
   "metadata": {},
   "outputs": [],
   "source": [
    "principal = 1000\n",
    "rate = 0.05\n",
    "numyears = 5\n",
    "year = 1\n",
    "while year <= numyears:\n",
    "    principal *= (1 + rate)\n",
    "    print(\"{0:3d} {1:.2f}\".format(year, principal))  \n",
    "    # 콜론(:)앞에 오는 숫자는 format의 인수 index number, : 뒤에 오는 표현(.2f)은 소숫점 자릿수를 나타낸다  \n",
    "    year += 1\n",
    "    "
   ]
  },
  {
   "cell_type": "markdown",
   "metadata": {},
   "source": [
    "## 파일 입출력"
   ]
  },
  {
   "cell_type": "code",
   "execution_count": null,
   "metadata": {},
   "outputs": [],
   "source": [
    "f = open(\"foo.txt\") # 새로운 파일 객체를 만들어서 반환\n",
    "line = f.readline() # readline()은 입력으로부터 끝의 줄바꿈 문자를 포함한 한 줄씩 읽음\n",
    "while line:\n",
    "    print(type(line), line, end=\"\")\n",
    "    line = f.readline() # 파일의 끝에 도달하면 빈 문자열 반환됨. \n",
    "f.close()"
   ]
  },
  {
   "cell_type": "code",
   "execution_count": null,
   "metadata": {},
   "outputs": [],
   "source": [
    "for line in open(\"foo.txt\"):\n",
    "    print(line)"
   ]
  },
  {
   "cell_type": "code",
   "execution_count": null,
   "metadata": {},
   "outputs": [],
   "source": [
    "f = open(\"outputfile\", \"w\") # 화면이 아니라 file 형태로 출력하는 경우 \n",
    "principal = 1000\n",
    "rate = 0.05\n",
    "numyears = 5\n",
    "year = 1\n",
    "while year <= numyears:\n",
    "    principal = principal * (1+rate)\n",
    "    f.write(\"{0:3d} {1:.2f}\\n\".format(year, principal))\n",
    "    year += 1\n",
    "f.close()"
   ]
  },
  {
   "cell_type": "markdown",
   "metadata": {},
   "source": [
    "## 대화식으로 사용자 입력 읽기 & 화면 출력하기"
   ]
  },
  {
   "cell_type": "code",
   "execution_count": null,
   "metadata": {},
   "outputs": [],
   "source": [
    "import sys\n",
    "sys.stdout.write(\"Enter your name: \") #표준 출력 스트림\n",
    "name = sys.stdin.readline()"
   ]
  },
  {
   "cell_type": "code",
   "execution_count": null,
   "metadata": {},
   "outputs": [],
   "source": [
    "name = input(\"Enter your name: \")\n",
    "print(name)"
   ]
  },
  {
   "cell_type": "markdown",
   "metadata": {},
   "source": [
    "## 문자열"
   ]
  },
  {
   "cell_type": "code",
   "execution_count": null,
   "metadata": {},
   "outputs": [],
   "source": [
    "a = 'Hello World'\n",
    "b = \"Hello World\"\n",
    "c = \"\"\"Hello World '!'\"\"\"\n",
    "d = '''Content-type: text/html\n",
    "<h1> Hello World </h1>\n",
    "Click <a href='http://www.python.org\">here</a>.\n",
    "'''\n",
    "\n",
    "print(a, b, c, d, sep='\\n')"
   ]
  },
  {
   "cell_type": "code",
   "execution_count": null,
   "metadata": {},
   "outputs": [],
   "source": [
    "e = a + \"This is a test\" # 플러스 연산자는 문자열을 연결(띄어쓰기 없이)\n",
    "print(e)"
   ]
  },
  {
   "cell_type": "markdown",
   "metadata": {},
   "source": [
    "파이썬은 암묵적으로 문자열의 내용을 숫자 데이터로 해석하지 않는다"
   ]
  },
  {
   "cell_type": "code",
   "execution_count": null,
   "metadata": {},
   "outputs": [],
   "source": [
    "x = \"37\"; y = \"42\"; z = x + y\n",
    "print(z)"
   ]
  },
  {
   "cell_type": "code",
   "execution_count": null,
   "metadata": {},
   "outputs": [],
   "source": [
    "z = int(x) + float(y)\n",
    "print(z)"
   ]
  },
  {
   "cell_type": "markdown",
   "metadata": {},
   "source": [
    "* 문자열이 아닌 값을 문자열 표현으로 변환하기"
   ]
  },
  {
   "cell_type": "code",
   "execution_count": null,
   "metadata": {},
   "outputs": [],
   "source": [
    "x = 37\n",
    "\n",
    "s = \"The value of x is \" + str(x)\n",
    "print(s)\n",
    "\n",
    "t = \"The value of x is \" + repr(x)\n",
    "print(t)\n",
    "\n",
    "u = \"The value of x is \" + format(x, \"4d\") # s는 string, d는 integer, f는 floating number \n",
    "print(u)"
   ]
  },
  {
   "cell_type": "markdown",
   "metadata": {},
   "source": [
    "* repr()과 str()의 차이\n"
   ]
  },
  {
   "cell_type": "markdown",
   "metadata": {},
   "source": [
    "구분|str( )|repr( )|\n",
    "----|----|----|\n",
    "성격|비공식적인 문자열 출력|공식적인 문자열 출력|\n",
    "사용목적|사용자가 보기 쉽게 하기 위해|출력된 문자열로 다시 객체를 생성하기 위해|\n",
    "사용자|프로그램 사용자(End user)|프로그램 개발자(Developer)|"
   ]
  },
  {
   "cell_type": "markdown",
   "metadata": {},
   "source": [
    "> 숫자 >  문자열 출력 예시"
   ]
  },
  {
   "cell_type": "code",
   "execution_count": null,
   "metadata": {},
   "outputs": [],
   "source": [
    "x = 3.4"
   ]
  },
  {
   "cell_type": "code",
   "execution_count": null,
   "metadata": {},
   "outputs": [],
   "source": [
    "str(x) # print(x)와 동일한 결과(단, 자료형이 바뀜(숫자 > 문자열))"
   ]
  },
  {
   "cell_type": "code",
   "execution_count": null,
   "metadata": {},
   "outputs": [],
   "source": [
    "repr(x) # 객체의 값을 정확히 입력하기 위해 프로그램에 입력해야하는 문자열을 생성"
   ]
  },
  {
   "cell_type": "code",
   "execution_count": null,
   "metadata": {},
   "outputs": [],
   "source": [
    "eval(repr(x))"
   ]
  },
  {
   "cell_type": "code",
   "execution_count": null,
   "metadata": {},
   "outputs": [],
   "source": [
    "str(x) == repr(x) # 결과값 동일"
   ]
  },
  {
   "cell_type": "markdown",
   "metadata": {},
   "source": [
    "> 문자열 > 문자열 출력 예시"
   ]
  },
  {
   "cell_type": "code",
   "execution_count": null,
   "metadata": {},
   "outputs": [],
   "source": [
    "a = \"Life is too short\""
   ]
  },
  {
   "cell_type": "code",
   "execution_count": null,
   "metadata": {},
   "outputs": [],
   "source": [
    "str(a)"
   ]
  },
  {
   "cell_type": "code",
   "execution_count": null,
   "metadata": {},
   "outputs": [],
   "source": [
    "repr(a)"
   ]
  },
  {
   "cell_type": "markdown",
   "metadata": {},
   "source": [
    "> 내장함수(datetime) 객체 > 문자열 출력 예시"
   ]
  },
  {
   "cell_type": "code",
   "execution_count": null,
   "metadata": {},
   "outputs": [],
   "source": [
    "import datetime"
   ]
  },
  {
   "cell_type": "code",
   "execution_count": null,
   "metadata": {},
   "outputs": [],
   "source": [
    "a = datetime.datetime(2017, 9, 27)\n",
    "str(a)"
   ]
  },
  {
   "cell_type": "code",
   "execution_count": null,
   "metadata": {},
   "outputs": [],
   "source": [
    "repr(a)"
   ]
  },
  {
   "cell_type": "code",
   "execution_count": null,
   "metadata": {},
   "outputs": [],
   "source": [
    "b = repr(a)\n",
    "eval(b)"
   ]
  },
  {
   "cell_type": "markdown",
   "metadata": {},
   "source": [
    "> eval(expression)은 실행 가능한 문자열(1+2, 'hi' + 'a' 같은 것)을 입력으로 받아 문자열을 실행한 결과값을 리턴하는 함수이다.\n",
    "\n",
    ">> eval('1+2')\n",
    "\n",
    ">>3\n",
    "\n",
    ">> eval(\"'hi' + 'a'\")\n",
    "\n",
    ">>'hia'\n",
    "\n",
    ">> eval('divmod(4, 3)')\n",
    "\n",
    ">>(1, 1)\n",
    "\n",
    "> 보통 eval은 입력받은 문자열로 파이썬 함수나 클래스를 동적으로 실행하고 싶은 경우에 사용된다."
   ]
  },
  {
   "cell_type": "markdown",
   "metadata": {},
   "source": [
    "이진 부동소숫점 실수의 표현 오차"
   ]
  },
  {
   "cell_type": "code",
   "execution_count": null,
   "metadata": {},
   "outputs": [],
   "source": [
    "%precision 55\n",
    "# 소숫점 이하 자릿수 표현을 조정하기 위한 jupyter notebook의 magic 명령어\n",
    "0.1"
   ]
  },
  {
   "cell_type": "code",
   "execution_count": null,
   "metadata": {},
   "outputs": [],
   "source": [
    "%precision %r\n",
    "# 원상복귀\n",
    "0.1"
   ]
  },
  {
   "cell_type": "markdown",
   "metadata": {},
   "source": [
    "## 리스트 "
   ]
  },
  {
   "cell_type": "code",
   "execution_count": null,
   "metadata": {},
   "outputs": [],
   "source": [
    "names = [\"Dave\", \"Mark\", \"Ann\", \"Phil\"]\n",
    "names.insert(2, \"Thomas\") # list의 index 2(세번째)에 해당하는 Ann 앞에 Thomas 삽입\n",
    "names\n",
    "\n",
    "# 리스트의 끝에 항목 추가할 경우는 append 메서드 사용"
   ]
  },
  {
   "cell_type": "code",
   "execution_count": null,
   "metadata": {},
   "outputs": [],
   "source": [
    "a = [1, \"Dave\", 3.14, [\"Mark\", 7, 9, [100, 101]], 10]"
   ]
  },
  {
   "cell_type": "code",
   "execution_count": null,
   "metadata": {},
   "outputs": [],
   "source": [
    "print(a[1], a[3][2], a[3][3][1], sep='\\n')"
   ]
  },
  {
   "cell_type": "markdown",
   "metadata": {},
   "source": [
    "* 리스트의 고급 기능 예시: .py 파일 형태로 생성 후 커맨드 라인으로 실행?\n",
    "> command line에서 지정된 파일로부터 숫자 목록을 읽어와서 최솟값, 최댓값을 출력하는 코드"
   ]
  },
  {
   "cell_type": "code",
   "execution_count": null,
   "metadata": {},
   "outputs": [],
   "source": [
    "import sys\n",
    "if len(sys.argv) !=2: # command line에서 인수의 갯수를 검사한다\n",
    "    print(\"Plase supply a filename\")\n",
    "    raise SystemExit(1)\n",
    "f = open(sys.argv[1]) # command line에서 파일 이름을 얻어 온다. \n",
    "lines = f.readlines() # 모든 줄을 리스트로 읽어 들인다. \n",
    "f.close()\n",
    "\n",
    "fvalues = [float(line)  for line in lines] # list comprehension으로 리스트 만들기 \n",
    "\n",
    "print(\"The minimum value is \", min(fvalues))\n",
    "print(\"The maximum value is \", max(fvalues))"
   ]
  },
  {
   "cell_type": "markdown",
   "metadata": {},
   "source": [
    "## 튜플\n",
    "\n",
    "1) 리스트가 지원하는 대부분의 연산을 지원\n",
    "\n",
    "2) 리스트와 차이점은 한번 생성한 튜플의 내용은 변경 불가(한번 생성한 튜플의 요소는 대체, 삭제, 추가, 변경 불가)\n",
    "\n",
    "3) 객체들의 컬렉션이라기 보단 여러 부분으로 이뤄진 단일 객체로 보는 것이 더 적절\n",
    "\n",
    "4) 메모리 절약 측면에서 튜플이 리스트보다 우월(리스트는 항목 추가 시 연산 속도를 빠르게 하기 위해 메모리를 여유있게 할당)"
   ]
  },
  {
   "cell_type": "code",
   "execution_count": null,
   "metadata": {},
   "outputs": [],
   "source": [
    "stock = ('GOOG', 100, 490.10)\n",
    "address = ('www.python.org', 80)"
   ]
  },
  {
   "cell_type": "markdown",
   "metadata": {},
   "source": [
    "다음과 같이 입력해도 튜플로 인식 됨\n",
    "> a = ( ) 요소가 0개인 튜플\n",
    "\n",
    "> b = (item,) 요소가 1개인 튜플\n",
    "\n",
    "> c = item,"
   ]
  },
  {
   "cell_type": "code",
   "execution_count": null,
   "metadata": {},
   "outputs": [],
   "source": [
    "a = 'wild'\n",
    "\n",
    "A = ()\n",
    "B = (a,)\n",
    "C = 0,\n",
    "\n",
    "print(type(A), type(B), type(C))"
   ]
  },
  {
   "cell_type": "markdown",
   "metadata": {},
   "source": [
    "* tuple unpacking: 튜플값을 추출할 때 index를 이용하는 방식 보다는 이 방식을 더 많이 사용"
   ]
  },
  {
   "cell_type": "code",
   "execution_count": null,
   "metadata": {},
   "outputs": [],
   "source": [
    "name, shares, price = stock"
   ]
  },
  {
   "cell_type": "code",
   "execution_count": null,
   "metadata": {},
   "outputs": [],
   "source": [
    "print(name, shares, price, sep=' ')"
   ]
  },
  {
   "cell_type": "code",
   "execution_count": null,
   "metadata": {},
   "outputs": [],
   "source": [
    "filename = \"portfolio.csv\"\n",
    "portfolio = []\n",
    "for line in open(filename):\n",
    "    fields = line.split(\",\")\n",
    "    name = fields[0]\n",
    "    shares = int(fields[1])\n",
    "    price = float(fields[2])\n",
    "    stock = (name, shares, price)\n",
    "    portfolio.append(stock)"
   ]
  },
  {
   "cell_type": "code",
   "execution_count": null,
   "metadata": {},
   "outputs": [],
   "source": [
    "portfolio"
   ]
  },
  {
   "cell_type": "code",
   "execution_count": null,
   "metadata": {},
   "outputs": [],
   "source": [
    "portfolio[0]"
   ]
  },
  {
   "cell_type": "markdown",
   "metadata": {},
   "source": [
    "## 집합\n",
    "\n",
    "1) 객체들의 순서 없는 모음을 담는 자료형\n",
    "\n",
    "2) 순서가 없으므로 숫자로 색인될 수 없으며 중복도 없음\n",
    "\n",
    "3) 합집합, 교집합, 차집합, 대칭 차집합 등의 표준연산 지원"
   ]
  },
  {
   "cell_type": "code",
   "execution_count": null,
   "metadata": {},
   "outputs": [],
   "source": [
    "s = set([3, 5, 9, 10])\n",
    "t = set(\"Hello\")\n",
    "print(s, t)"
   ]
  },
  {
   "cell_type": "code",
   "execution_count": null,
   "metadata": {},
   "outputs": [],
   "source": [
    "# 합집합\n",
    "a = t | s \n",
    "print(a)"
   ]
  },
  {
   "cell_type": "code",
   "execution_count": null,
   "metadata": {},
   "outputs": [],
   "source": [
    "# 교집합\n",
    "b = t & s\n",
    "print(b)"
   ]
  },
  {
   "cell_type": "code",
   "execution_count": null,
   "metadata": {},
   "outputs": [],
   "source": [
    "# 차집합\n",
    "c = t - s\n",
    "c"
   ]
  },
  {
   "cell_type": "code",
   "execution_count": null,
   "metadata": {},
   "outputs": [],
   "source": [
    "# 대칭 차집합\n",
    "d = t ^ s\n",
    "d"
   ]
  },
  {
   "cell_type": "code",
   "execution_count": null,
   "metadata": {},
   "outputs": [],
   "source": [
    "# 집합에 아이템 추가\n",
    "t.add('x') # 하나 추가\n",
    "s.update([10, 37, 42]) # 여러 개 추가\n",
    "print(t, s, sep='\\n')"
   ]
  },
  {
   "cell_type": "code",
   "execution_count": null,
   "metadata": {},
   "outputs": [],
   "source": [
    "# 집합에 아이템 제거\n",
    "t.remove('H')\n",
    "t"
   ]
  },
  {
   "cell_type": "markdown",
   "metadata": {},
   "source": [
    "## 사전(dictionary)\n",
    "\n",
    "1) 딕셔너리 자료형은 key로 색인되는 객체들을 담는 연관 배열 혹은 해시 테이블이다. (순서는 없음)\n",
    "\n",
    "2) 문자열 뿐만 아니라 숫자, 튜플 등의 파이썬 객체들도 키로 사용 가능. 단, 리스트나 딕션너리처럼 내용이 변경될 수 있는 자료형은 사용할 수 없음"
   ]
  },
  {
   "cell_type": "code",
   "execution_count": null,
   "metadata": {},
   "outputs": [],
   "source": [
    "stock = {\n",
    "    \"name\": \"GOOG\",\n",
    "    \"shares\": 100,\n",
    "    \"price\": 490.10\n",
    "}"
   ]
  },
  {
   "cell_type": "code",
   "execution_count": null,
   "metadata": {},
   "outputs": [],
   "source": [
    "name = stock[\"name\"]\n",
    "value = stock[\"shares\"] * stock[\"price\"]\n",
    "print(name, value)"
   ]
  },
  {
   "cell_type": "code",
   "execution_count": null,
   "metadata": {},
   "outputs": [],
   "source": [
    "stock[\"shares\"] = 75\n",
    "stock[\"date\"] = \"June 7, 2007\""
   ]
  },
  {
   "cell_type": "code",
   "execution_count": null,
   "metadata": {},
   "outputs": [],
   "source": [
    "prices = {\n",
    "    \"GOOG\": 490.10,\n",
    "    \"AAPL\": 123.50,\n",
    "    \"IBM\": 91.50,\n",
    "    \"MSFT\": 52.13\n",
    "}"
   ]
  },
  {
   "cell_type": "code",
   "execution_count": null,
   "metadata": {},
   "outputs": [],
   "source": [
    "if \"SCOX\" in prices:\n",
    "    p = prices[\"SCOX\"]\n",
    "else:\n",
    "    p = 0.0\n",
    "p"
   ]
  },
  {
   "cell_type": "code",
   "execution_count": null,
   "metadata": {},
   "outputs": [],
   "source": [
    "prices[\"SCOX\"] = \"What?\"\n",
    "\n",
    "# 사전에 특정 키가 포함되었는지 검사하는 방법\n",
    "if \"SCOX\" in prices:\n",
    "    p = prices[\"SCOX\"]\n",
    "else:\n",
    "    p = 0.0\n",
    "p"
   ]
  },
  {
   "cell_type": "code",
   "execution_count": null,
   "metadata": {},
   "outputs": [],
   "source": [
    "# 위와 같은 딕셔너리의 key 검사 코드는 다음과 같이 한줄로 표현 가능\n",
    "p = prices.get(\"SCOX\", 0.0)\n",
    "p"
   ]
  },
  {
   "cell_type": "code",
   "execution_count": null,
   "metadata": {},
   "outputs": [],
   "source": [
    "syms =list(prices) \n",
    "syms"
   ]
  },
  {
   "cell_type": "code",
   "execution_count": null,
   "metadata": {},
   "outputs": [],
   "source": [
    "prices_keys = prices.keys(); prices_values = prices.values()\n",
    "print(prices_keys, type(prices_keys))\n",
    "print(prices_values, type(prices_values))"
   ]
  },
  {
   "cell_type": "code",
   "execution_count": null,
   "metadata": {},
   "outputs": [],
   "source": [
    "# 딕셔너리에서 한 요소를 삭제할 때는 del문을 사용한다.\n",
    "print(prices)\n",
    "del prices[\"MSFT\"]\n",
    "print(prices)"
   ]
  },
  {
   "cell_type": "markdown",
   "metadata": {},
   "source": [
    "## 반복과 루프\n",
    "\n",
    "1) for문\n",
    "\n",
    "2) while문"
   ]
  },
  {
   "cell_type": "markdown",
   "metadata": {},
   "source": [
    "* 정수 범위에서 루프를 도는 일이 많으므로 range를 이용해 정수 범위를 지정한다. \n",
    "\n",
    "* python3에서는 기존 버전의 xrange를 range로 사용하고 기존 버전의 range함수는 제거됨(메모리 제약이 적다는 것) "
   ]
  },
  {
   "cell_type": "code",
   "execution_count": null,
   "metadata": {},
   "outputs": [],
   "source": [
    "for i in range(1, 10):\n",
    "    print(\"2 to the {} power is {}\".format(i, i**2))"
   ]
  },
  {
   "cell_type": "code",
   "execution_count": null,
   "metadata": {},
   "outputs": [],
   "source": [
    "# 파일에 있는 모든 줄 출력하기\n",
    "f = open(\"foo.txt\")\n",
    "for line in f:\n",
    "    print(line)"
   ]
  },
  {
   "cell_type": "markdown",
   "metadata": {},
   "source": [
    "## 함수"
   ]
  },
  {
   "cell_type": "code",
   "execution_count": null,
   "metadata": {},
   "outputs": [],
   "source": [
    "# 숫자 a를 b로 나눈 나머지를 구하는 함수\n",
    "\n",
    "def remainder(a, b):\n",
    "    q = a // b\n",
    "    r = a - q*b\n",
    "    return r"
   ]
  },
  {
   "cell_type": "code",
   "execution_count": null,
   "metadata": {},
   "outputs": [],
   "source": [
    "result = remainder(5, 3)\n",
    "print(result)"
   ]
  },
  {
   "cell_type": "code",
   "execution_count": null,
   "metadata": {},
   "outputs": [],
   "source": [
    "# 몫, 나머지를 모두 반환하는 함수\n",
    "def divide(a,b):\n",
    "    q = a // b\n",
    "    r = a - q*b\n",
    "    return (q,r)\n",
    "\n",
    "quotient, remainder = divide(5, 3)\n",
    "print(quotient, remainder)"
   ]
  },
  {
   "cell_type": "code",
   "execution_count": null,
   "metadata": {},
   "outputs": [],
   "source": [
    "# 함수 파라미터에 기본값 적용하기 (아래에서 timeout이란 파라미터에 기본값 300 적용)\n",
    "\n",
    "def connect(hostname, port, timeout=300):\n",
    "    pass"
   ]
  },
  {
   "cell_type": "code",
   "execution_count": null,
   "metadata": {},
   "outputs": [],
   "source": [
    "connect('www.python.org', 80) # timeout 인수에 별도 값을 지정하지 않았으므로 기본값인 300 적용됨\n",
    "connect('www.python.org', 80, 240) # timeout 인수에 특정 값을 지정하려면 파라미터 이름을 알고 있어야 함"
   ]
  },
  {
   "cell_type": "code",
   "execution_count": null,
   "metadata": {},
   "outputs": [],
   "source": [
    "# 전역변수(global variable)와 지역변수\n",
    "\n",
    "count = 0 # 전역변수\n",
    "def foo():\n",
    "    global count # 함수 내에서 전역변수 count를 사용함을 선언\n",
    "    count += 1 \n",
    "    return count"
   ]
  },
  {
   "cell_type": "code",
   "execution_count": null,
   "metadata": {},
   "outputs": [],
   "source": [
    "print(count)\n",
    "foo()\n",
    "print(count)"
   ]
  },
  {
   "cell_type": "markdown",
   "metadata": {},
   "source": [
    "## 생성기(generator)\n",
    "\n",
    "함수는 단일 값을 반환하는 대신 yield문을 사용해 일련의 결과값을 생성할 수도 있음(generator 함수에서 return 대신 yield를 사용한다고 보면 이해가 쉽다.) \n",
    "\n",
    "1) generator 함수를 정의하고 \n",
    "\n",
    "2) 이 함수를 호출한 후 \n",
    "\n",
    "3) `__next__()` 메서드를 호출하면 generator 함수는 다음 yield문에 도달할 때까지 실행된다. 이 때 yield에 전달된 값이 next()에 의해 반환되고 생성기 함수는 실행이 잠시 중지된다. \n",
    "\n",
    "4) `__next__()` 메서드가 다시 호출되면 함수가 yield문 바로 다음 문장부터 다시 실행된다. 이 과정은 함수가 반환(return)될 때까지 계속된다. (return 전까지는 yield가 반복된다!)\n",
    "\n",
    "\n",
    "generator 함수는 처리 파이프라인, 스트림, 데이터 흐름에 기반한 프로그램을 작성할 때 효과적"
   ]
  },
  {
   "cell_type": "code",
   "execution_count": null,
   "metadata": {},
   "outputs": [],
   "source": [
    "def countdown(n):\n",
    "    print(\"Counting down!\")\n",
    "    while n > 0:\n",
    "        yield n\n",
    "        n -= 1"
   ]
  },
  {
   "cell_type": "code",
   "execution_count": null,
   "metadata": {},
   "outputs": [],
   "source": [
    "c = countdown(5)"
   ]
  },
  {
   "cell_type": "code",
   "execution_count": null,
   "metadata": {},
   "outputs": [],
   "source": [
    "c.__next__() # python2에서는 next(), python3에서는 __next__()"
   ]
  },
  {
   "cell_type": "code",
   "execution_count": null,
   "metadata": {},
   "outputs": [],
   "source": [
    "c.__next__()\n",
    "c.__next__()\n",
    "c.__next__()\n",
    "c.__next__()"
   ]
  },
  {
   "cell_type": "code",
   "execution_count": null,
   "metadata": {},
   "outputs": [],
   "source": [
    "c.__next__() # 반복적인 호출로 n = 0이 되면 함수 내의 while문 조건에 걸려 iteration 종료"
   ]
  },
  {
   "cell_type": "code",
   "execution_count": null,
   "metadata": {},
   "outputs": [],
   "source": [
    "# 일반적인 제너레이터 함수 사용법\n",
    "# __next__()를 직접 호출하는 경우는 거의 없고 for루프문에 연결시켜 사용한다. \n",
    "\n",
    "for i in countdown(5):\n",
    "    print(i)"
   ]
  },
  {
   "cell_type": "code",
   "execution_count": null,
   "metadata": {},
   "outputs": [],
   "source": [
    "# 로그 파일을 검토하는데 흔히 사용되는 유닉스의 tail -f 명령 동작을 흉내낸 함수\n",
    "\n",
    "import time\n",
    "def tail(f):\n",
    "    f.seek(0,2) # 파일 끝으로 이동(seek메서드에서 두 번째 파라미터인 whence의 경우 0은 처음, 1은 현재, 2는 마지막 stream을 의미)\n",
    "    while True:\n",
    "        line = f.readline() # 다음 줄 읽기 \n",
    "        if not line: # 아무 것도 없으면 잠시 쉬었다가(time.sleep) 다시 시도(continue)\n",
    "            time.sleep(0.1)\n",
    "            continue\n",
    "        yield line"
   ]
  },
  {
   "cell_type": "code",
   "execution_count": null,
   "metadata": {},
   "outputs": [],
   "source": [
    "def grep(lines, searchtext):\n",
    "    for line in lines:\n",
    "        if searchtext in line: yield line"
   ]
  },
  {
   "cell_type": "code",
   "execution_count": null,
   "metadata": {},
   "outputs": [],
   "source": [
    "f = \"foo.txt\"\n",
    "wwwlog = tail(open(f))"
   ]
  },
  {
   "cell_type": "code",
   "execution_count": null,
   "metadata": {},
   "outputs": [],
   "source": [
    "pylines = grep(wwwlog, \"python\")"
   ]
  },
  {
   "cell_type": "code",
   "execution_count": null,
   "metadata": {},
   "outputs": [],
   "source": [
    "pylines"
   ]
  },
  {
   "cell_type": "code",
   "execution_count": null,
   "metadata": {},
   "outputs": [],
   "source": [
    "for line in pylines:\n",
    "    print(line)"
   ]
  },
  {
   "cell_type": "code",
   "execution_count": null,
   "metadata": {},
   "outputs": [],
   "source": [
    "f = \"foo.txt\"\n",
    "wwwlog = tail(open(f)) # 로그파일을 열어 파일 끝으로 이동 후 다음 줄 읽기 \n",
    "pylines = grep(wwwlog, \"python\") # 추출해서 wwwlog에 대입한 라인에 키워드가 포함되었으면 그 라인을 호출 \n",
    "for line in pylines: \n",
    "    print(line)"
   ]
  },
  {
   "cell_type": "markdown",
   "metadata": {},
   "source": [
    "## 코루틴(coroutine)\n",
    "\n",
    "보통 함수는 입력으로 주어진 파라미터에 대해 한번만 실행된다. \n",
    "\n",
    "하지만 연속적인 입력을 처리하도록 함수를 작성할 수도 있다. 이련 종류의 함수를 coroutine이라고 한다.\n",
    "\n",
    "함수 정의 내에서 yield문을 (yield)형태로 사용해서 만들 수 있다."
   ]
  },
  {
   "cell_type": "markdown",
   "metadata": {},
   "source": [
    "> 아래 함수 정의 참조\n",
    "\n",
    "> 1) 코루틴은 send()로 값이 도착할 때까지 멈춰있는다.\n",
    "\n",
    "> 2) send()가 호출되면 코루틴 안에서 (yield)표현식에 의해 값이 반환되고 바로 다음 문장에 의해 처리된다. "
   ]
  },
  {
   "cell_type": "code",
   "execution_count": null,
   "metadata": {},
   "outputs": [],
   "source": [
    "def print_matches(matchtext):\n",
    "    print(\"Looking of\", matchtext)\n",
    "    while True:\n",
    "        line = (yield) # yield 문을 표현식 (yield)형태로 사용해서 coroutine을 만들 수 있다.\n",
    "        if matchtext in line:\n",
    "            print(line)           "
   ]
  },
  {
   "cell_type": "code",
   "execution_count": null,
   "metadata": {},
   "outputs": [],
   "source": [
    "matcher = print_matches(\"python\")"
   ]
  },
  {
   "cell_type": "code",
   "execution_count": null,
   "metadata": {},
   "outputs": [],
   "source": [
    "matcher.__next__() # 첫 번째 (yield)로 진행. (yield)를 만나기 전까지 코루틴의 안의 코드가 실행되면서 print문 실행된다. "
   ]
  },
  {
   "cell_type": "code",
   "execution_count": null,
   "metadata": {},
   "outputs": [],
   "source": [
    "matcher.send(\"Hello World\") \n",
    "# send가 호출되면 (yield)표현식에 의해 \"Hello World\"가 line으로 반환되고 그 다음 코드를 실행(다시 yield를 만날 때까지)\n",
    "# 이 경우 send로 호출된 문자열 Hello World에 \"python\"이 포함되지 않으므로 딱히 출력되는 내용 없음 "
   ]
  },
  {
   "cell_type": "code",
   "execution_count": null,
   "metadata": {},
   "outputs": [],
   "source": [
    "matcher.send(\"python is cool\")\n",
    "# 다시 send 호출, 이번에는 문장에 matchtext인 \"python\" 포함되어 있음 "
   ]
  },
  {
   "cell_type": "code",
   "execution_count": null,
   "metadata": {},
   "outputs": [],
   "source": [
    "matcher.send(\"yow!\")"
   ]
  },
  {
   "cell_type": "code",
   "execution_count": null,
   "metadata": {},
   "outputs": [],
   "source": [
    "matcher.close() # 함수 호출 종료"
   ]
  },
  {
   "cell_type": "markdown",
   "metadata": {},
   "source": [
    "코루틴은 프로그램의 한 곳에서 생성된 데이터를 다른 곳에서 소비하는 생성자-소비자 모델에 기반한 병행 프로그램을 작성할 때 유용하게 쓰임\n",
    "\n",
    "이 모델에서 코루틴은 데이터 소비자의 역할을 수행"
   ]
  },
  {
   "cell_type": "markdown",
   "metadata": {},
   "source": [
    "### 생성기(generator)와 coroutine(코루틴)의 결합 예시"
   ]
  },
  {
   "cell_type": "code",
   "execution_count": null,
   "metadata": {},
   "outputs": [],
   "source": [
    "# matcher 코루틴 집합 \n",
    "\n",
    "matchers = [\n",
    "    print_matches(\"python\"),\n",
    "    print_matches(\"guido\"),\n",
    "    print_matches(\"jython\")\n",
    "]"
   ]
  },
  {
   "cell_type": "code",
   "execution_count": null,
   "metadata": {},
   "outputs": [],
   "source": [
    "# __next__()를 호출해서 모든 matcher를 준비시킨다. \n",
    "\n",
    "for m in matchers: m.__next__()"
   ]
  },
  {
   "cell_type": "code",
   "execution_count": null,
   "metadata": {},
   "outputs": [],
   "source": [
    "# 활성로그파일을 모든 matcher에 공급(제대로 작동시켜보기 위해서는 웹 서버가 활발하게 데이터를 로그 파일에 기록 해야한다)\n",
    "\n",
    "wwwlog = tail(open(\"access-log\"))\n",
    "for line in wwwlog:\n",
    "    for m in matchers:\n",
    "        m.send(line) # 데이터를 각 matcher의 coroutine에 보낸다. "
   ]
  },
  {
   "cell_type": "markdown",
   "metadata": {},
   "source": [
    "## 객체와 클래스\n",
    "\n",
    "* 프로그램 안의 모든 값(문자열, 숫자, 리스트, 딕셔너리, 튜플, 함수 등)은 객체(object)이다\n",
    "\n",
    "* 객체는 내부 데이터, 그리고 이와 연관된 다양한 연산을 수행하는 method로 구성된다. "
   ]
  },
  {
   "cell_type": "code",
   "execution_count": null,
   "metadata": {},
   "outputs": [],
   "source": [
    "items = [37, 42] # 리스트 객체 생성"
   ]
  },
  {
   "cell_type": "code",
   "execution_count": null,
   "metadata": {},
   "outputs": [],
   "source": [
    "items.append(73)"
   ]
  },
  {
   "cell_type": "code",
   "execution_count": null,
   "metadata": {},
   "outputs": [],
   "source": [
    "dir(items) # items 객체가 제공하는 method 목록을 리스트 형태로 반환\n",
    "# 이중밑줄(__)로 시작하는 method들은 언어상에서 제공하는 다양한 연산자를 구현 ex) __add__()는 +연산자를 구현함"
   ]
  },
  {
   "cell_type": "code",
   "execution_count": null,
   "metadata": {},
   "outputs": [],
   "source": [
    "items.__add__([73, 101])"
   ]
  },
  {
   "cell_type": "markdown",
   "metadata": {},
   "source": [
    "### class\n",
    "\n",
    "class는 새로운 객체 타입을 정의하며 객체지향 프로그램(OOP: Object Oriented Programming)을 작성하는데 쓰임"
   ]
  },
  {
   "cell_type": "code",
   "execution_count": null,
   "metadata": {},
   "outputs": [],
   "source": [
    "# push(), pop(), length() 연산자를 갖는 Stack class 정의\n",
    "\n",
    "class Stack(object): # Stack을 object로 선언. 파이썬에서는 괄호로 상속 관계를 기술하므로 Stack은 모든 파이썬 타입의 루트인 object로부터 상속받음\n",
    "    def __init__(self): # 각 메서드의 첫 번째 인수(self)는 자기 자신을 가리키며 관습적으로 self라는 이름을 사용\n",
    "                        # 객체의 속성과 관련된 연산에서는 명시적으로 self변수를 참조해야 한다.         \n",
    "        self.stack =[]  # __init__메서드는 특수 메서드로 객체 생성 후 초기화를 위해 사용\n",
    "    def push(self, object):\n",
    "        self.stack.append(object)\n",
    "    def pop(self):\n",
    "        return self.stack.pop()\n",
    "    def length(self):\n",
    "        return len(self.stack)"
   ]
  },
  {
   "cell_type": "code",
   "execution_count": null,
   "metadata": {},
   "outputs": [],
   "source": [
    "# Stack class의 사용\n",
    "\n",
    "s = Stack()\n",
    "s.push(\"Dave\")\n",
    "s.push(42)\n",
    "s.push([3, 4, 5])\n",
    "print(type(s))\n",
    "s"
   ]
  },
  {
   "cell_type": "code",
   "execution_count": null,
   "metadata": {},
   "outputs": [],
   "source": [
    "x = s.pop() # 마지막에 집어넣은 객체를 반환하고 stack 객체에서는 삭제 \n",
    "x"
   ]
  },
  {
   "cell_type": "code",
   "execution_count": null,
   "metadata": {},
   "outputs": [],
   "source": [
    "y = s.pop()\n",
    "y"
   ]
  },
  {
   "cell_type": "code",
   "execution_count": null,
   "metadata": {},
   "outputs": [],
   "source": [
    "del s"
   ]
  },
  {
   "cell_type": "code",
   "execution_count": null,
   "metadata": {},
   "outputs": [],
   "source": [
    "# 위에서 구현한 Stack 클래스는 파이썬에 내장된 리스트 객체와 거의 동일\n",
    "# 따라서 list에서 상속을 받고 메서드를 하나 추가해서 stack을 구현할 수도 있음. "
   ]
  },
  {
   "cell_type": "code",
   "execution_count": null,
   "metadata": {},
   "outputs": [],
   "source": [
    "class Stack(list):\n",
    "    # list에는 이미 pop() 메서드가 있으므로 push() 메서드만 추가\n",
    "    def push(self, object):\n",
    "        self.append(object)"
   ]
  },
  {
   "cell_type": "code",
   "execution_count": null,
   "metadata": {},
   "outputs": [],
   "source": [
    "s = Stack()\n",
    "s.push(\"Dave\")\n",
    "s.push(42)\n",
    "s.push([3, 4, 5])\n",
    "print(type(s))\n",
    "s"
   ]
  },
  {
   "cell_type": "code",
   "execution_count": null,
   "metadata": {},
   "outputs": [],
   "source": [
    "# 보통 클래스 안에서 정의된 모든 메서드는 클래스의 인스턴스, 즉, 클래스로부터 생성된 객체에 적용된다. \n",
    "# 하지만 정적 메서드 같은 다른 종류의 메서드도 정의 가능(예시 생략, 6장에서 자세히 다룰 것)"
   ]
  },
  {
   "cell_type": "markdown",
   "metadata": {},
   "source": [
    "## 예외처리\n",
    "\n",
    "프로그램에서 에러 발생 시 나타나는 역추적 메시지에서는 발생된 에러의 종류와 위치를 표시한다. \n",
    "\n",
    "보통 에러는 프로그램을 종료시키지만 try, except문으로 예외처리를 해놓으면 비정상 종료되지 않고 에러 발생 이외의 구문을 실행시킬 수 있다. "
   ]
  },
  {
   "cell_type": "code",
   "execution_count": null,
   "metadata": {},
   "outputs": [],
   "source": [
    "try:\n",
    "    f = open(\"file.txt\", \"r\") # try 블록에서 에러 발생\n",
    "except IOError as e:          # IOError 발생한 경우 에러 원인에 대한 내용이 e에 담기고 except 블록으로 제어가 넘어감 \n",
    "    print(e)\n",
    "    \n",
    "# 예외가 처리되면 최종 except 블록 바로 뒤이어 나오는 문장부터 프로그램 실행\n",
    "# 에러가 없으면 except블록은 무시됨"
   ]
  },
  {
   "cell_type": "code",
   "execution_count": null,
   "metadata": {},
   "outputs": [],
   "source": [
    "# raise문은 예외 발생을 알리는 데 사용되며 내장 예외 중 하나를 사용할 수 있음\n",
    "\n",
    "raise RuntimeError(\"Computer says no\")"
   ]
  },
  {
   "cell_type": "markdown",
   "metadata": {},
   "source": [
    "## 모듈\n",
    "\n",
    "파이썬에서는 정의들을 파일에 넣어 다른 프로그램이나 스크립트에서 import 할 수 있는 모듈의 형태로 사용할 수 있음\n",
    "\n",
    "모듈을 생성하려면 관련 문장과 정의들을 모듈과 동일한 이름을 가지는 파일에 넣으면 된다.(파일 확장자는 .py이어야 함)"
   ]
  },
  {
   "cell_type": "markdown",
   "metadata": {},
   "source": [
    "아래 코드를 실행해보기 위해 div.py파일을 생성함. 내용은 다음과 같음. \n",
    "\n",
    "```python\n",
    "def divide(a, b):\n",
    "    q = a // b\n",
    "    r = a - q*b\n",
    "    return (q, r)\n",
    "```"
   ]
  },
  {
   "cell_type": "code",
   "execution_count": 1,
   "metadata": {},
   "outputs": [],
   "source": [
    "import div\n",
    "\n",
    "# import문은 새로운 namespace를 생성하고 .py파일 안에 있는 모든 문장을 이 namespace 안에서 실행한다.\n",
    "# 해당 네임스페이스 안에 있는 내용에 접근하려면 div.divide()처럼 모듈의 이름(div)을 앞에 붙여주면 된다. "
   ]
  },
  {
   "cell_type": "code",
   "execution_count": 2,
   "metadata": {},
   "outputs": [],
   "source": [
    "a, b = div.divide(2305, 29)"
   ]
  },
  {
   "cell_type": "code",
   "execution_count": 3,
   "metadata": {},
   "outputs": [
    {
     "name": "stdout",
     "output_type": "stream",
     "text": [
      "79 14\n"
     ]
    }
   ],
   "source": [
    "print(a, b)"
   ]
  },
  {
   "cell_type": "code",
   "execution_count": 6,
   "metadata": {},
   "outputs": [
    {
     "name": "stdout",
     "output_type": "stream",
     "text": [
      "160 1\n"
     ]
    }
   ],
   "source": [
    "from div import divide # div안의 특정 정의(divide)를 현재 네임스페이스에 임포트 하려면 from문을 사용\n",
    "a, b  = divide(1601, 10) # 더 이상 div 접두어가 필요없음\n",
    "print(a, b)"
   ]
  },
  {
   "cell_type": "code",
   "execution_count": 7,
   "metadata": {},
   "outputs": [],
   "source": [
    "from div import * # div 모듈의 모든 내용을 현재 네임스페이스로 가져오는 방법(*는 wildcard 문자) "
   ]
  },
  {
   "cell_type": "raw",
   "metadata": {},
   "source": [
    "모듈 임포트 후 dir(모듈) 함수를 쓰면 모듈의 내용을 볼 수 있음"
   ]
  },
  {
   "cell_type": "markdown",
   "metadata": {},
   "source": [
    "## 도움 얻기\n",
    "\n",
    "* help(): 파이썬의 일반적인 정보\n",
    "\n",
    "* help(모듈, 함수이름): 해당 모듈이나 함수의 정보\n",
    "\n",
    "* 파이썬 함수 사용법 설명: 대부분 함수 내부에 문서화 문자열을 갖고 있으므로 `__doc__`속성을 출력한다 "
   ]
  },
  {
   "cell_type": "code",
   "execution_count": 8,
   "metadata": {},
   "outputs": [
    {
     "name": "stdout",
     "output_type": "stream",
     "text": [
      "Return whether 'cls' is a derived from another class or is the same class.\n",
      "\n",
      "A tuple, as in ``issubclass(x, (A, B, ...))``, may be given as the target to\n",
      "check against. This is equivalent to ``issubclass(x, A) or issubclass(x, B)\n",
      "or ...`` etc.\n"
     ]
    }
   ],
   "source": [
    "print(issubclass.__doc__)"
   ]
  },
  {
   "cell_type": "code",
   "execution_count": 9,
   "metadata": {},
   "outputs": [
    {
     "data": {
      "text/plain": [
       "False"
      ]
     },
     "execution_count": 9,
     "metadata": {},
     "output_type": "execute_result"
    }
   ],
   "source": [
    "issubclass(list, int)"
   ]
  }
 ],
 "metadata": {
  "kernelspec": {
   "display_name": "Python 3",
   "language": "python",
   "name": "python3"
  },
  "language_info": {
   "codemirror_mode": {
    "name": "ipython",
    "version": 3
   },
   "file_extension": ".py",
   "mimetype": "text/x-python",
   "name": "python",
   "nbconvert_exporter": "python",
   "pygments_lexer": "ipython3",
   "version": "3.6.4"
  }
 },
 "nbformat": 4,
 "nbformat_minor": 2
}
