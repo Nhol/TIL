{
 "cells": [
  {
   "cell_type": "markdown",
   "metadata": {},
   "source": [
    "# 3장 타입과 객체"
   ]
  },
  {
   "cell_type": "markdown",
   "metadata": {},
   "source": [
    "## 1. 용어\n",
    "\n",
    "* 파이썬 프로그램에서 저장되는 모든 데이터는 `객체(object)`\n",
    "\n",
    "* 각 객체는 `신원(identity)`, `타입(class 혹은 type)`, `값`을 가짐\n",
    "\n",
    "다음과 같이 객체를 생성하면 \n",
    "\n",
    "```python \n",
    "a = 42 \n",
    "``` \n",
    "\n",
    "\n",
    "> 신원: 객체가 메모리에 저장된 위치를 가리키는 포인터. a는 그 위치를 가리키는 이름\n",
    "\n",
    "> 타입: 정수(int) 클래스\n",
    "\n",
    "> 값: 42\n",
    "\n",
    "* 객체의 타입(=클래스)은 객체의 내부적인 표현 형태와 객체가 지원하는 메서드, 연산들을 설명\n",
    "\n",
    "* 특정 타입의 객체가 생성되면 그 객체를 인스턴스라고 부르기도 한다. (빵틀, 빵)\n",
    "\n",
    "* 인스턴스가 생성되면\n",
    "\n",
    "> 그 인스턴스의 신원과 타입은 변경할 수 없다.\n",
    "\n",
    "> 값은 변경 가능하면 mutable, 변경 불가능하면 immutable하다고 한다. \n",
    "\n",
    "* 다른 객체에 대한 참조들을 담는 객체를 `컨테이너(container)` 혹은 `컬렉션(collection)`이라고 한다.\n",
    "\n",
    "* `속성(attribute)`: 객체에 연결된 값\n",
    "\n",
    "* `메서드(method)`: 호출될 때 객체에 대해 특정 연산을 수행하는 함수"
   ]
  },
  {
   "cell_type": "code",
   "execution_count": 2,
   "metadata": {},
   "outputs": [
    {
     "name": "stdout",
     "output_type": "stream",
     "text": [
      "<class 'int'>\n"
     ]
    }
   ],
   "source": [
    "# 정수 객체 생성, 클래스 확인\n",
    "a = 42\n",
    "print(type(a))"
   ]
  },
  {
   "cell_type": "code",
   "execution_count": 3,
   "metadata": {},
   "outputs": [
    {
     "data": {
      "text/plain": [
       "[1, 2, 3, 7]"
      ]
     },
     "execution_count": 3,
     "metadata": {},
     "output_type": "execute_result"
    }
   ],
   "source": [
    "# 복소수 객체 생성 및 속성, 메서드 접근\n",
    "\n",
    "a = 3 + 4j\n",
    "r = a.real # 복소수 객체에 연결된 실수부 속성(attribute)을 얻는다.\n",
    "\n",
    "b = [1, 2, 3] # 리스트 객체를 생성한다\n",
    "b.append(7) # 리스트 객체의 append 메소드를 호출해서 리스트에 새로운 원소 7을 추가한다.\n",
    "b"
   ]
  },
  {
   "cell_type": "markdown",
   "metadata": {},
   "source": [
    "## 2. 객체 신원과 타입\n",
    "\n",
    "* 내장함수인 id()는 객체의 신원을 나타내는 정수(메모리 상의 위치)를 반환함. 단, 이는 파이썬 구현에 따라 달라질 수 있음\n",
    "\n",
    "* is 연산자는 두 객체의 신원을 비교\n",
    "\n",
    "* 객체의 타입(=클래스)은 그 자체로도 객체이다. 이는 고유하게 정의되므로 주어진 타입의 모든 인스턴스에 대해서 항상 동일하다.\n",
    "> 모든 타입 객체는 타입 검사에 쓰일 수 있는 이름을 갖는다. (ex: list, dict, file...)\n",
    "\n",
    "* 타입 검사는 내장함수인 `isinstance(object, type)`을 이용해서 검사하는 것이 낫다. 이 함수는 `상속관계`를 인식하기 때문\n",
    "> 단, 상속 받지 않았지만 어떤 객체(ex: list)와 동일한 인터페이스를 지니는 타입에 대해서는 제대로 작동하지 않음. 이 때는 추상 기반 클래스를 정의해서 타입 검사를 하는 방법도 있음(7장에서 다룸)  "
   ]
  },
  {
   "cell_type": "code",
   "execution_count": 4,
   "metadata": {},
   "outputs": [
    {
     "name": "stdout",
     "output_type": "stream",
     "text": [
      "Return the identity of an object.\n",
      "\n",
      "This is guaranteed to be unique among simultaneously existing objects.\n",
      "(CPython uses the object's memory address.)\n"
     ]
    }
   ],
   "source": [
    "print(id.__doc__)"
   ]
  },
  {
   "cell_type": "code",
   "execution_count": 5,
   "metadata": {},
   "outputs": [
    {
     "data": {
      "text/plain": [
       "4481250640"
      ]
     },
     "execution_count": 5,
     "metadata": {},
     "output_type": "execute_result"
    }
   ],
   "source": [
    "a = 1\n",
    "id(a)"
   ]
  },
  {
   "cell_type": "code",
   "execution_count": 6,
   "metadata": {},
   "outputs": [],
   "source": [
    "# 두 객체의 비교 함수 정의\n",
    "\n",
    "def compare(a, b):\n",
    "    if a is b:\n",
    "        print(\"a와 b는 동일한 객체이다\")\n",
    "    if a == b:\n",
    "        print(\"a와 b는 동일한 값을 갖는다\")\n",
    "    if type(a) is type(b):\n",
    "        print(\"a와 b는 동일한 타입이다\")"
   ]
  },
  {
   "cell_type": "code",
   "execution_count": 7,
   "metadata": {},
   "outputs": [
    {
     "name": "stdout",
     "output_type": "stream",
     "text": [
      "a와 b는 동일한 값을 갖는다\n",
      "a와 b는 동일한 타입이다\n",
      "\n",
      "a와 b는 동일한 객체이다\n",
      "a와 b는 동일한 값을 갖는다\n",
      "a와 b는 동일한 타입이다\n"
     ]
    }
   ],
   "source": [
    "a = \"나\"; b = \"나\"\n",
    "compare(a,b)\n",
    "\n",
    "print()\n",
    "b=a[:] # shallow copy를 한 경우\n",
    "compare(a,b)"
   ]
  },
  {
   "cell_type": "code",
   "execution_count": 8,
   "metadata": {},
   "outputs": [
    {
     "data": {
      "text/plain": [
       "[1]"
      ]
     },
     "execution_count": 8,
     "metadata": {},
     "output_type": "execute_result"
    }
   ],
   "source": [
    "s =[]\n",
    "if type(s) is list:\n",
    "    s.append(1)\n",
    "s"
   ]
  },
  {
   "cell_type": "code",
   "execution_count": 9,
   "metadata": {},
   "outputs": [
    {
     "data": {
      "text/plain": [
       "True"
      ]
     },
     "execution_count": 9,
     "metadata": {},
     "output_type": "execute_result"
    }
   ],
   "source": [
    "isinstance(s, list)"
   ]
  },
  {
   "cell_type": "code",
   "execution_count": 10,
   "metadata": {},
   "outputs": [
    {
     "name": "stdout",
     "output_type": "stream",
     "text": [
      "True\n"
     ]
    },
    {
     "data": {
      "text/plain": [
       "{0: 'a', 1: 'b', 'a': 10, 'b': 20}"
      ]
     },
     "execution_count": 10,
     "metadata": {},
     "output_type": "execute_result"
    }
   ],
   "source": [
    "d = {\"a\":10, \"b\":20}\n",
    "t = {0:'a', 1:'b'}\n",
    "print(type(d) is dict)\n",
    "\n",
    "if type(d) is dict:\n",
    "    d.update(t)\n",
    "d"
   ]
  },
  {
   "cell_type": "code",
   "execution_count": 11,
   "metadata": {},
   "outputs": [
    {
     "name": "stdout",
     "output_type": "stream",
     "text": [
      "True\n",
      "True\n"
     ]
    }
   ],
   "source": [
    "print(isinstance(s, list))\n",
    "print(isinstance(t, dict))"
   ]
  },
  {
   "cell_type": "code",
   "execution_count": 12,
   "metadata": {},
   "outputs": [
    {
     "name": "stdout",
     "output_type": "stream",
     "text": [
      "False\n",
      "0b1010 <class 'str'>\n"
     ]
    }
   ],
   "source": [
    "print(isinstance(bin(10), int))\n",
    "print(bin(10), type(bin(10)))"
   ]
  },
  {
   "cell_type": "markdown",
   "metadata": {},
   "source": [
    "##  3. 참조 횟수와 쓰레기 수집\n",
    "\n",
    "### 참조 횟수\n",
    "모든 객체에는 참조 횟수(reference count)가 유지된다. \n",
    "\n",
    "> 1) 객체가 새로운 이름에 대입되거나 list, dict, tuple 같은 컨테이너에 추가될 때 참조 횟수가 하나 증가한다. \n",
    "\n",
    "> 2) 객체의 참조 횟수는 del문이 사용되거나 참조가 유효 범위를 벗어날 경우(혹은 재할당될 경우) 하나씩 감소한다.\n",
    "\n",
    "> 3) 객체의 현재 참조 횟수는 sys.getrefcount() 함수로 얻을 수 있다\n",
    "> ```python\n",
    "import sys\n",
    "sys.getrefcount(a)\n",
    "```\n",
    "\n",
    "> 인터프리터는 숫자나 문자열들을 프로그램의 여러 곳에서 최대한 공유(숫자나 문자열 같은 변경 불가능한 객체에 의해서 사용되는 메모리 절약 목적)하므로 예상보다 참조 횟수가 훨씬 큰 경우가 많다\n",
    "\n"
   ]
  },
  {
   "cell_type": "code",
   "execution_count": 15,
   "metadata": {},
   "outputs": [],
   "source": [
    "a = 37 # 값 37을 갖는 객체 생성\n",
    "b = a # b에 a가 대입되면서 b는 위에서 생성한 객체의 새로운 이름이 된다. 객체의 참조 횟수도 1 증가한다\n",
    "c = [] \n",
    "c.append(b) # b를 리스트에 넣으면 객체의 참조 횟수는 또 1 증가한다. "
   ]
  },
  {
   "cell_type": "code",
   "execution_count": 16,
   "metadata": {},
   "outputs": [
    {
     "data": {
      "text/plain": [
       "88"
      ]
     },
     "execution_count": 16,
     "metadata": {},
     "output_type": "execute_result"
    }
   ],
   "source": [
    "import sys\n",
    "sys.getrefcount(a)"
   ]
  },
  {
   "cell_type": "code",
   "execution_count": 18,
   "metadata": {},
   "outputs": [
    {
     "ename": "NameError",
     "evalue": "name 'a' is not defined",
     "output_type": "error",
     "traceback": [
      "\u001b[0;31m---------------------------------------------------------------------------\u001b[0m",
      "\u001b[0;31mNameError\u001b[0m                                 Traceback (most recent call last)",
      "\u001b[0;32m<ipython-input-18-821fcb3b2b14>\u001b[0m in \u001b[0;36m<module>\u001b[0;34m()\u001b[0m\n\u001b[0;32m----> 1\u001b[0;31m \u001b[0;32mdel\u001b[0m \u001b[0ma\u001b[0m \u001b[0;31m# 37에 대한 참조 횟수가 하나 감소\u001b[0m\u001b[0;34m\u001b[0m\u001b[0m\n\u001b[0m\u001b[1;32m      2\u001b[0m \u001b[0msys\u001b[0m\u001b[0;34m.\u001b[0m\u001b[0mgetrefcount\u001b[0m\u001b[0;34m(\u001b[0m\u001b[0ma\u001b[0m\u001b[0;34m)\u001b[0m\u001b[0;34m\u001b[0m\u001b[0m\n",
      "\u001b[0;31mNameError\u001b[0m: name 'a' is not defined"
     ]
    }
   ],
   "source": [
    "del a # 37에 대한 참조 횟수가 하나 감소\n",
    "sys.getrefcount(a)"
   ]
  },
  {
   "cell_type": "code",
   "execution_count": 19,
   "metadata": {},
   "outputs": [],
   "source": [
    "b = 42 # b에 37이 아닌 42를 재할당 함으로써 37에 대한 참조 횟수가 하나 감소"
   ]
  },
  {
   "cell_type": "code",
   "execution_count": 20,
   "metadata": {},
   "outputs": [],
   "source": [
    "c[0] = 2.0 # c 리스트의 0번째 인덱스를 재할당 함으로써 37에 대한 참조 횟수가 하나 감소"
   ]
  },
  {
   "cell_type": "code",
   "execution_count": 21,
   "metadata": {},
   "outputs": [
    {
     "data": {
      "text/plain": [
       "88"
      ]
     },
     "execution_count": 21,
     "metadata": {},
     "output_type": "execute_result"
    }
   ],
   "source": [
    "a = 37\n",
    "import sys\n",
    "sys.getrefcount(a)"
   ]
  },
  {
   "cell_type": "markdown",
   "metadata": {},
   "source": [
    "### 쓰레기 수집(garbage collection)\n",
    "\n",
    "객체의 참조 횟수가 0이 되면 garbage collection이 수행된다. \n",
    "\n",
    "객체들 간에 순환 의존성(circular dependency)이 존재하는 경우엔 del문을 사용하더라도 참조 횟수가 0이 되지 못하고 할당된 채 남겨진다. 이는 메모리 누수를 일으키므로 이를 방지하기 위해 인터프리터가 주기적으로 순환 참조 감지기(cycle detector)를 구동한다. garbage collection 작동 방식은 gc모듈에 있는 함수를 이용해서 조정/제어할 수 있다.(13장)\n",
    "\n"
   ]
  },
  {
   "cell_type": "code",
   "execution_count": 22,
   "metadata": {},
   "outputs": [
    {
     "name": "stdout",
     "output_type": "stream",
     "text": [
      "{'b': {'a': {...}}}\n",
      "{'a': {'b': {...}}}\n"
     ]
    }
   ],
   "source": [
    "a = {}\n",
    "b = {}\n",
    "a['b'] = b # a는 b에 대한 참조를 담고 있음\n",
    "b['a'] = a # b는 a에 대한 참조를 담고 있음\n",
    "print(a)\n",
    "print(b)\n",
    "del a \n",
    "del b"
   ]
  },
  {
   "cell_type": "markdown",
   "metadata": {},
   "source": [
    "위의 코드에서 del문은 a, b의 참조 횟수를 하나씩 줄이고 내부 객체들을 가리키는 이름들을 파괴한다. 그러나 여기서 a, b는 순환 의존성이 있어 참조 횟수가 0이 되지 못하고 할당된 채로 남겨지게 된다.(메모리 누수)  "
   ]
  },
  {
   "cell_type": "code",
   "execution_count": 23,
   "metadata": {},
   "outputs": [
    {
     "ename": "NameError",
     "evalue": "name 'b' is not defined",
     "output_type": "error",
     "traceback": [
      "\u001b[0;31m---------------------------------------------------------------------------\u001b[0m",
      "\u001b[0;31mNameError\u001b[0m                                 Traceback (most recent call last)",
      "\u001b[0;32m<ipython-input-23-8f738a493bfe>\u001b[0m in \u001b[0;36m<module>\u001b[0;34m()\u001b[0m\n\u001b[1;32m      1\u001b[0m \u001b[0;32mimport\u001b[0m \u001b[0msys\u001b[0m\u001b[0;34m\u001b[0m\u001b[0m\n\u001b[0;32m----> 2\u001b[0;31m \u001b[0msys\u001b[0m\u001b[0;34m.\u001b[0m\u001b[0mgetrefcount\u001b[0m\u001b[0;34m(\u001b[0m\u001b[0mb\u001b[0m\u001b[0;34m)\u001b[0m\u001b[0;34m\u001b[0m\u001b[0m\n\u001b[0m",
      "\u001b[0;31mNameError\u001b[0m: name 'b' is not defined"
     ]
    }
   ],
   "source": [
    "import sys\n",
    "sys.getrefcount(b)"
   ]
  },
  {
   "cell_type": "code",
   "execution_count": 24,
   "metadata": {},
   "outputs": [
    {
     "data": {
      "text/plain": [
       "3"
      ]
     },
     "execution_count": 24,
     "metadata": {},
     "output_type": "execute_result"
    }
   ],
   "source": [
    "lst = []\n",
    "lst.append(lst)\n",
    "sys.getrefcount(lst)"
   ]
  },
  {
   "cell_type": "code",
   "execution_count": 25,
   "metadata": {},
   "outputs": [
    {
     "ename": "NameError",
     "evalue": "name 'lst' is not defined",
     "output_type": "error",
     "traceback": [
      "\u001b[0;31m---------------------------------------------------------------------------\u001b[0m",
      "\u001b[0;31mNameError\u001b[0m                                 Traceback (most recent call last)",
      "\u001b[0;32m<ipython-input-25-cc33afe58319>\u001b[0m in \u001b[0;36m<module>\u001b[0;34m()\u001b[0m\n\u001b[1;32m      1\u001b[0m \u001b[0;32mdel\u001b[0m \u001b[0mlst\u001b[0m\u001b[0;34m\u001b[0m\u001b[0m\n\u001b[0;32m----> 2\u001b[0;31m \u001b[0msys\u001b[0m\u001b[0;34m.\u001b[0m\u001b[0mgetrefcount\u001b[0m\u001b[0;34m(\u001b[0m\u001b[0mlst\u001b[0m\u001b[0;34m)\u001b[0m\u001b[0;34m\u001b[0m\u001b[0m\n\u001b[0m",
      "\u001b[0;31mNameError\u001b[0m: name 'lst' is not defined"
     ]
    }
   ],
   "source": [
    "del lst\n",
    "sys.getrefcount(lst)"
   ]
  },
  {
   "cell_type": "markdown",
   "metadata": {},
   "source": [
    "## 4. 참조와 복사\n",
    "\n",
    "### 대입(assignment)의 두 가지 다른 양상\n",
    "\n",
    "```python \n",
    "a = b\n",
    "```\n",
    "1) 변경 불가능한(immutable) 객체에 대한 대입\n",
    "\n",
    "> 위의 코드에서는 b에 대한 새로운 참조가 생성된다. 이런 대입이 `숫자`나 `문자열` 같은 변경 불가능한 객체에 대해 수행되면 b에 대한 복사본 a가 생성되는 것처럼 작동한다.\n",
    "\n",
    "2) 변경 가능한(mutable) 객체에 대한 대입\n",
    "> (아래 라인 참고) a, b는 동일한 객체를 참조하므로 두 변수 중 하나(b)에 가해진 변화가 다른 변수(a)에서도 보인다. \n",
    "\n",
    "> 이를 방지하려면 객체에 대한 참조가 아닌 복사본을 생성해야 한다.\n",
    "\n",
    "> list, dict 같은 컨테이너 객체에 적용되는 복사 연산에는 얕은 복사(shallow copy)와 깊은 복사(deep copy) 두 가지가 있음. "
   ]
  },
  {
   "cell_type": "code",
   "execution_count": null,
   "metadata": {},
   "outputs": [],
   "source": [
    "a = [1, 2, 3, 4]\n",
    "b = a\n",
    "b is a # a, b는 동일한 객체 [1, 2, 3, 4]를 참조"
   ]
  },
  {
   "cell_type": "code",
   "execution_count": null,
   "metadata": {},
   "outputs": [],
   "source": [
    "b[2] = -100\n",
    "a # a, b가 동일한 객체를 참조하므로 둘 중 하나를 변경하면 다른 하나도 변경된다."
   ]
  },
  {
   "cell_type": "markdown",
   "metadata": {},
   "source": [
    "### 얕은 복사(shallow copy)\n",
    "\n",
    ">  새로운 객체를 생성하지만 그 안은 원래 객체에 들어 있던 참조로 채워짐"
   ]
  },
  {
   "cell_type": "code",
   "execution_count": null,
   "metadata": {},
   "outputs": [],
   "source": [
    "import copy\n",
    "\n",
    "a = [1, [1, 2, 3]]\n",
    "b = copy.copy(a)    # shallow copy 발생     \n",
    "print(b)    # [1, [1, 2, 3]] 출력\n",
    "b[0] = 100  \n",
    "print(b)    # [100, [1, 2, 3]] 출력, \n",
    "print(a)    # [1, [1, 2, 3]] 출력, shallow copy 가 발생해 복사된 리스트는 별도의 객체이므로 item을 수정하면 복사본만 수정된다. \n",
    "            # b[0]은 immutable 객체인 숫자이기 때문\n",
    "\n",
    "c = copy.copy(a) # 다시 shallow copy 발생\n",
    "c[1].append(4)   # 리스트의 두번째 item(내부리스트)에 4를 추가(이 내부 리스트는 mutable한 객체임)\n",
    "print(c)    # [1, [1, 2, 3, 4]] 출력\n",
    "print(a)    # [1, [1, 2, 3, 4]] 출력\n",
    "            # a가 c와 똑같이 수정된 이유는 리스트의 item 내부의 객체는 동일한 객체이므로 mutable한 리스트를 수정할때는 둘다 값이 변경됨"
   ]
  },
  {
   "cell_type": "code",
   "execution_count": null,
   "metadata": {},
   "outputs": [],
   "source": []
  },
  {
   "cell_type": "code",
   "execution_count": null,
   "metadata": {},
   "outputs": [],
   "source": [
    "a = [1, 2, [3, 4]]\n",
    "b = list(a) # a에 대한 shallow copy인 b를 생성\n",
    "\n",
    "# 다음과 같은 방법으로도 shallow copy 가능\n",
    "import copy\n",
    "b = copy.copy(a)"
   ]
  },
  {
   "cell_type": "code",
   "execution_count": null,
   "metadata": {},
   "outputs": [],
   "source": [
    "b is a #a, b는 동일한 객체를 참조하지 않음"
   ]
  },
  {
   "cell_type": "code",
   "execution_count": null,
   "metadata": {},
   "outputs": [],
   "source": [
    "b.append(100)\n",
    "b"
   ]
  },
  {
   "cell_type": "code",
   "execution_count": null,
   "metadata": {},
   "outputs": [],
   "source": [
    "a # b의 새로운 원소로 100을 추가했지만 a에는 추가되지 않음. 즉, a는 변화 없음"
   ]
  },
  {
   "cell_type": "code",
   "execution_count": null,
   "metadata": {},
   "outputs": [],
   "source": [
    "b[2][0] = -100\n",
    "b"
   ]
  },
  {
   "cell_type": "code",
   "execution_count": null,
   "metadata": {},
   "outputs": [],
   "source": [
    "a # b의 기존 원소를 변경하니 이번에는 a에 변경 내용이 적용됨"
   ]
  },
  {
   "cell_type": "markdown",
   "metadata": {},
   "source": [
    "### 깊은 복사(deep copy)\n",
    "\n",
    "> 새로운 객체를 생성하고 원래 객체가 담고 있던 모든 객체를 재귀적으로 복사\n",
    "\n",
    "> mutable한 내부객체(내부리스트)의 문제를 해결하기 위해서는 얉은 복사가 아닌 깊은 복사(deep copy)를 해야 한다. \n",
    "\n",
    "> 얕은 복사가 복합객체(리스트)만 복사되고 그 안의 내용은 동일한 객체를 참조한다면,\n",
    "깊은 복사의 경우에는 복합객체를 새롭게 생성하고 그 안의 내용까지 재귀적으로 새롭게 생성하게 된다.(ex: 리스트 객체 안의 원소로 리스트가 있는 경우 등)\n",
    "\n",
    "> 따라서 깊은 복사를 하게 되면, 처음에 만들었던 객체와 복사된 객체가 전혀 달라지기 때문에 어느 한쪽을 수정한다고 해서 다른 한쪽이 영향 받는 일은 없다. \n",
    "파이썬에서는 copy모듈의 `deepcopy()`라는 메서드를 통해 깊은 복사를 손쉽게 구현할 수 있다."
   ]
  },
  {
   "cell_type": "code",
   "execution_count": null,
   "metadata": {},
   "outputs": [],
   "source": [
    "import copy\n",
    "\n",
    "a = [1, [1, 2, 3]]\n",
    "b = copy.deepcopy(a)    # deep copy 실행     \n",
    "print(b)    # [1, [1, 2, 3]] 출력\n",
    "b[0] = 100\n",
    "b[1].append(4)  \n",
    "print(b)    # [100, [1, 2, 3, 4]] 출력\n",
    "print(a)    # [1, [1, 2, 3]] 출력\n"
   ]
  },
  {
   "cell_type": "markdown",
   "metadata": {},
   "source": [
    "## 5. 1급 객체 (First Class)\n",
    "\n",
    "파이썬에서 모든 객체는 1급이다. \n",
    "> 1) 이는 식별자(identifier = 이름)로 명명될 수 있는 모든 객체는 동일한 지위를 지닌다는 것을 의미한다. \n",
    "\n",
    "> 2) 또한 이름을 가질 수 있는 모든 객체는 데이터로 취급될 수 있다는 것을 의미한다."
   ]
  },
  {
   "cell_type": "code",
   "execution_count": 26,
   "metadata": {},
   "outputs": [],
   "source": [
    "items = {\n",
    "    'number' : 42, \n",
    "    'text' : 'Hello World'\n",
    "}"
   ]
  },
  {
   "cell_type": "markdown",
   "metadata": {},
   "source": [
    "위에서 생성한 딕셔너리에 일반적이지 않은 항목을 추가해보자. 함수, 모듈, 예외타입, 다른 객체의 메서드를 추가해보면"
   ]
  },
  {
   "cell_type": "code",
   "execution_count": 27,
   "metadata": {},
   "outputs": [],
   "source": [
    "items[\"func\"] = abs # 함수 추가\n",
    "import math\n",
    "items[\"mod\"] = math # 모듈 추가\n",
    "items[\"error\"] = ValueError # 예외 타입 추가\n",
    "nums = [1, 2, 3 ,4]\n",
    "items[\"append\"] = nums.append # 다른 객체의 메서드 추가"
   ]
  },
  {
   "cell_type": "code",
   "execution_count": 28,
   "metadata": {},
   "outputs": [
    {
     "data": {
      "text/plain": [
       "{'append': <function list.append>,\n",
       " 'error': ValueError,\n",
       " 'func': <function abs>,\n",
       " 'mod': <module 'math' from '/Users/beomyongnho/anaconda3/lib/python3.6/lib-dynload/math.cpython-36m-darwin.so'>,\n",
       " 'number': 42,\n",
       " 'text': 'Hello World'}"
      ]
     },
     "execution_count": 28,
     "metadata": {},
     "output_type": "execute_result"
    }
   ],
   "source": [
    "items"
   ]
  },
  {
   "cell_type": "markdown",
   "metadata": {},
   "source": [
    "### 이 사전의 객체들을 다음과 같이 사용할 수도 있음"
   ]
  },
  {
   "cell_type": "code",
   "execution_count": 29,
   "metadata": {},
   "outputs": [
    {
     "data": {
      "text/plain": [
       "45"
      ]
     },
     "execution_count": 29,
     "metadata": {},
     "output_type": "execute_result"
    }
   ],
   "source": [
    "items[\"func\"](-45) # abs(-45) 대신 사용"
   ]
  },
  {
   "cell_type": "code",
   "execution_count": 30,
   "metadata": {},
   "outputs": [
    {
     "data": {
      "text/plain": [
       "2.0"
      ]
     },
     "execution_count": 30,
     "metadata": {},
     "output_type": "execute_result"
    }
   ],
   "source": [
    "items[\"mod\"].sqrt(4) # math.sqrt(4) 대신 사용"
   ]
  },
  {
   "cell_type": "code",
   "execution_count": 31,
   "metadata": {},
   "outputs": [
    {
     "name": "stdout",
     "output_type": "stream",
     "text": [
      "Couldn't convert\n"
     ]
    }
   ],
   "source": [
    "try:\n",
    "    x = int(\"a lot\")\n",
    "except items[\"error\"] as e:\n",
    "    print(\"Couldn't convert\")"
   ]
  },
  {
   "cell_type": "code",
   "execution_count": 32,
   "metadata": {},
   "outputs": [
    {
     "data": {
      "text/plain": [
       "[1, 2, 3, 4, 100]"
      ]
     },
     "execution_count": 32,
     "metadata": {},
     "output_type": "execute_result"
    }
   ],
   "source": [
    "items[\"append\"](100)\n",
    "nums"
   ]
  },
  {
   "cell_type": "markdown",
   "metadata": {},
   "source": [
    "### First class 객체 사용 예시\n",
    "\n",
    "* 모든 객체가 first class임을 이용해서 간결하고 유연하게 사용\n",
    "\n",
    "* 텍스트(\"GOOG, 100, 490.10\")가 주어졌을 때 이것을 타입이 적절히 변환된 필드들의 리스트로 변환\n"
   ]
  },
  {
   "cell_type": "code",
   "execution_count": 33,
   "metadata": {},
   "outputs": [
    {
     "data": {
      "text/plain": [
       "['GOOG', 100, 490.1]"
      ]
     },
     "execution_count": 33,
     "metadata": {},
     "output_type": "execute_result"
    }
   ],
   "source": [
    "line = \"GOOG, 100, 490.10\"\n",
    "field_types = [str, int, float] # 타입 리스트를 만든다\n",
    "raw_fields = line.split(',')\n",
    "fields = [ty(val) for ty, val in zip(field_types, raw_fields)]\n",
    "fields"
   ]
  },
  {
   "cell_type": "markdown",
   "metadata": {},
   "source": [
    "## 6. 데이터 표현을 위한 내장 타입"
   ]
  },
  {
   "cell_type": "markdown",
   "metadata": {},
   "source": [
    "파이썬 2에서는 다음과 같은 14개의 내장 데이터 타입이 제공됨(파이썬 3에서는 일부 타입 사용을 권장하지 않거나 다른 타입과 합침)"
   ]
  },
  {
   "cell_type": "markdown",
   "metadata": {},
   "source": [
    "### 없음(none)\n",
    "\n",
    "> 1) type(None):\n",
    "\n",
    "> None 타입은 null 객체(아무 값이 없는 객체)를 나타냄. 값을 반환하지 않는 함수에 의해서 반환된다. 생략해도 되는 인수의 기본값으로 흔히 사용되어 호출자 쪽에서 실제로 해당 인수에 대한 값을 지정했는지 여부 검사할 수 있게 한다. 아무런 속성도 없으며 boolean 표현식에서 False로 평가된다.\n"
   ]
  },
  {
   "cell_type": "markdown",
   "metadata": {},
   "source": [
    "### 숫자(number): 부호 있음(불리언 타입 제외).  모든 숫자는 immutable이다. \n",
    "\n",
    "> 숫자 타입은 간단한 혼합 연산을 위해 몇 가지 속성과 메서드를 갖는다. \n",
    "\n",
    ">> 정수 타입은 유리수(fractions 모듈 참고)와 호환성 있는 연산을 위해 속성 x.numerator, x.denominator를 갖는다. \n",
    "\n",
    ">> 정수나 부동 소숫점 실수 y는 복소수와의 호환성을 위해 다음 속성 및 메서드를 지원한다. \n",
    "\n",
    ">> y.real: 실수부 \n",
    "\n",
    ">> y.imag: 허수부\n",
    "\n",
    ">> y.conjugate(): 켤레 복소수\n",
    "\n",
    ">> y.as_integer_ratio(): 분수 정수 쌍으로 변환\n",
    "\n",
    ">> y.is_integer(): y가 정수를 나타내는지 검사\n",
    "\n",
    ">> y.hex(), y.fromhex(): 부동 소숫점 실수의 저수준 이진 표현법을 통해 다룰 때 사용 \n",
    "\n",
    "> 2) int(정수)\n",
    "\n",
    ">> 정수는 -2147483648에서 2147483647까지에 있는 전체 숫자를 가리킴(컴퓨터에 따라 다를 수 있음)\n",
    "\n",
    ">> ex) 32비트 컴퓨터로 표현할 수 있는 가장 큰 양의 정수값은 \n",
    "\n",
    ">> 0111 1111 1111 1111 1111 1111 1111 1111(2) (0x7FFFFFFF) = 2147483647 가 된다. (맨 앞의 0은 +부호 표시) \n",
    "\n",
    "> ~~3) long - 임의 정밀도 정수(파이썬 2만 해당)~~\n",
    "\n",
    "> 4) float(부동 소숫점 실수)\n",
    "\n",
    ">> 부동 소숫점 실수는 해당 기계에 특화된(native) 배정밀도(64비트)로 표현된다. 보통은 17자리 정밀도와 -308에서 308사이 범위의 지수를 사용하는 IEEE 754가 사용된다. 숫자가 차자히는 메모리 공간이나 정밀도를 정확하게 제어할 필요가 있는 경우 numpy 모듈의 확장 기능을 고려해볼 것.\n",
    "\n",
    "> 5) complex(복소수)\n",
    "\n",
    ">> 복소수 z의 실수부와 허수부는 각각 z.real, z.imag로 접근한다. z.conjugate() 메서드는 z의 켤레복소수를 계산한다(a+bj의 켤레복소수는 a-bj) \n",
    "\n",
    "> 6) bool(불리언(boolean))\n",
    "\n",
    ">> True, False는 각각 숫자 1, 0에 대응\n",
    "\n",
    "14장에서 decimal, fractions 모듈 설명"
   ]
  },
  {
   "cell_type": "markdown",
   "metadata": {},
   "source": [
    "### 순서열(sequence)\n",
    "\n",
    "순서열은 음이 아닌 정수로 색인되는 순서 있는 객체들의 모음을 표현한다. 모든 순서열은 반복을 지원한다.(iterable) \n",
    "\n",
    "> 7) str(문자열): 문자들의 순서열 (immutable)\n",
    "\n",
    "> ~~8) unicode - 유니코드 문자열(파이썬 2만 해당)~~\n",
    "\n",
    "> 9) list(리스트): 임의의 파이썬 객체들의 순서열. (mutable 원소의 추가, 삭제, 치환 가능)\n",
    "\n",
    "> 10) tuple(튜플): 임의의 파이썬 객체들의 순서열 (immutable)\n",
    "\n",
    "> 11) xrange - xrange()로 생성되는 정수 범위(파이썬 3에서는 range)"
   ]
  },
  {
   "cell_type": "code",
   "execution_count": 34,
   "metadata": {},
   "outputs": [
    {
     "name": "stdout",
     "output_type": "stream",
     "text": [
      "m\n",
      "beomy\n",
      "boy\n",
      "12\n",
      ".\n",
      "y\n",
      "True\n",
      "True\n",
      "20.2\n"
     ]
    }
   ],
   "source": [
    "# 모든 순서열에 적용 가능한 연산\n",
    "\n",
    "s = \"beomyong.nho\"\n",
    "print(s[3])\n",
    "print(s[0:5])\n",
    "print(s[0:5:2])\n",
    "print(len(s))\n",
    "print(min(s))\n",
    "print(max(s))\n",
    "print(all(s)) # s에 있는 모든 항목이 True인지 검사\n",
    "print(any(s)) # s에 있는 아무 항목이나 True인지 검사 \n",
    "\n",
    "k = [2, 4, 6, 8]\n",
    "print(sum(k, 0.2)) # 문자열 sum은 불가?"
   ]
  },
  {
   "cell_type": "code",
   "execution_count": null,
   "metadata": {},
   "outputs": [],
   "source": [
    "# 문자열 메서드(1)\n",
    "\n",
    "s = 'beomyong'\n",
    "s_ = s.capitalize()\n",
    "print(s, '>', s_)\n",
    "\n",
    "s_ = s.center(14, 'X') # width 길이를 가지는 필드에 문자열을 가운데 정렬하고 남는 공간은 패딩 문자(글자 한 개만 가능)로 채운다\n",
    "print(s_)\n",
    "\n",
    "s = 'singing'\n",
    "s_ = s.count(s[1:4]) # s에서 문자열 슬라이싱(부분 문자열)이 나타나는 횟수를 count\n",
    "print(s_)\n",
    "\n",
    "k = bytearray('노범용', 'utf-8') # 문자열을 바이트 문자열로 변환하고\n",
    "print(k)\n",
    "s = k.decode('utf-8') # 바이트 문자열을 디코딩해서 유니코드 문자열을 반환한다.\n",
    "print(s)\n",
    "\n",
    "k = '마라토너'.encode('utf-8') # 문자열을 인코딩 한 후 \n",
    "print(k)\n",
    "s = k.decode('utf-8') # 인코딩된 문자열을 디코딩해서 유니코드 문자열로 반환\n",
    "print(s)\n",
    "\n",
    "s1 = \"this is string example....wow!!!\";\n",
    "suffix = 'wow!!!'\n",
    "print(s1.endswith(suffix)) # 문자열이 suffix로 끝나는지 검사하여 True, False를 반환한다"
   ]
  },
  {
   "cell_type": "code",
   "execution_count": null,
   "metadata": {},
   "outputs": [],
   "source": [
    "# 문자열(2)\n",
    "\n",
    "s2 = \"this is\\tstring example....wow!!!\"; # \\t 부분이 tab키를 의미\n",
    "print(\"Original string: \" + s2)\n",
    "print(\"Defualt exapanded tab: \" +  s2.expandtabs()) # tab키를 스페이스로 대체\n",
    "print(\"Double exapanded tab: \" +  s2.expandtabs(16)) # tab키를 스페이스 16개로 대체\n",
    "\n",
    "s = 'singing in the rain'\n",
    "k ='q'\n",
    "print(s.find(k)) # 부분 문자열이 처음으로 나타나는 index 위치를 반환. 못 찾으면 -1을 반환\n",
    "print(s.rfind(k)) # 부분 문자열이 마지막으로 나타나는 index 위치를 반환. 못 찾으면 -1을 반환\n",
    "\n",
    "print('Pujols: {p}, Bonds: {b}'.format(p=0.301, b=0.383)) # 문자열의 포맷 지정"
   ]
  },
  {
   "cell_type": "code",
   "execution_count": null,
   "metadata": {},
   "outputs": [],
   "source": [
    "s = 'singing in the rain'\n",
    "k ='i'\n",
    "print(s.index(k)) # 부분 문자열이 처음으로 나타나는 index 위치를 반환. 못 찾으면 예외 발생\n",
    "print(s.rindex(k)) # 부분 문자열이 최종적으로 나타나는 index 위치를 반환. 못 찾으면 예외 발생"
   ]
  },
  {
   "cell_type": "code",
   "execution_count": null,
   "metadata": {},
   "outputs": [],
   "source": [
    "s = \"abc123\"\n",
    "print(s.isalnum()) # 문자열의 모든 문자가 알파벳이나 숫자이면 True, 그렇지 않으면(기호, 스페이스, 탭...) False\n",
    "\n",
    "print(s.isalpha()) # 문자열의 모든 문자가 알파벳인지 검사\n",
    "\n",
    "print(s.isdigit()) # 문자열의 모든 문자가 숫자인지 검사\n",
    "\n",
    "s1 = 'beomyong is great!'\n",
    "print(s1.islower()) # 문자열의 모든 문자가 소문자인지 검사(숫자, 기호, 스페이스 등은 관계 없음)\n",
    "\n",
    "s2 = '  \\t'\n",
    "print(s2.isspace()) # 모든 문자가 공백문자인지 검사(문자, 숫자, 기호가 하나라도 있으면 False)\n",
    "\n",
    "s = \"Big Issue\"\n",
    "print(s.istitle()) # 문자열이 제목 형태(단어 첫 글씨 대문자)인지 검사\n",
    "\n",
    "s = \"BIG ISSUE\"\n",
    "print(s.isupper()) # 모든 문자가 대문자인지 검사(하나라도 소문자이면 False)\n",
    "\n",
    "s = ','\n",
    "t = \"KOREA\"\n",
    "print(s.join(t)) # s를 분리자로 사용해서 순서열 t에 들어있는 문자열들을 이어 붙인다.\n",
    "\n",
    "\n",
    "s = 'beomyong'\n",
    "print(s.ljust(10)) # s.ljust(width) 길이=width인 문자열에서 s를 왼쪽 정렬(프린트문으로 출력하면 보이진 않음)\n",
    "\n",
    "s = 'BoeMYonG'\n",
    "print(s.lower()) # 문자열에 있는 모든 대문자를 소문자로 변경\n",
    "print(s.upper()) # 문자열에 있는 모든 소문자를 대문자로 변경\n",
    "\n",
    "s = '    beomyong    '\n",
    "print(s.lstrip()) # 문자열 왼쪽에 있는 공백을 모두 지움\n",
    "print(s.rstrip()) # 문자열 오른쪽에 있는 공백을 모두 지움\n",
    "\n",
    "s = 'a b c d e'\n",
    "print(s.partition(' ')) # 문자열 sep(여기선 빈칸 ' '을 적용)에 기반하여 문자열 분할. 최초의 sep 1개만으로 분할. 튜플형태((머리, 'sep', 꼬리))로 반환\n",
    "print(s.rpartition(' ')) # 문자열 sep(여기선 빈칸 ' '을 적용)에 기반하여 문자열 분할하되 sep을 오른쪽 끝부터 검색 \n",
    "\n",
    "print(s.replace(' ', ',')) # replace(old, new)\n",
    "\n",
    "print(s.rsplit(' ', 3)) # rsplit(sep, 최대 분할 횟수) 오른쪽부터 분할\n",
    "print(s.split(' ', 3))"
   ]
  },
  {
   "cell_type": "code",
   "execution_count": null,
   "metadata": {},
   "outputs": [],
   "source": [
    "# splitlines([keep]): 여러라인으로 구분되어 있는 문자열을 한라인씩 분리하여 리스트로 반환\n",
    "                    # keep값은 디폴트로 False 이고 구분자를 제거한다\n",
    "                    # keep값이 True이면 구분자를 제거하지 않는다\n",
    "\n",
    "a = \"python\\nis\\ngood\"\n",
    "print(a)\n",
    "a"
   ]
  },
  {
   "cell_type": "code",
   "execution_count": null,
   "metadata": {},
   "outputs": [],
   "source": [
    "s = \"Hey! this is string example....wow!!!\"\n",
    "prefix = \"Hey!\"\n",
    "print(s.startswith(prefix)) # 문자열이 prefix로 시작하는지 검사"
   ]
  },
  {
   "cell_type": "code",
   "execution_count": null,
   "metadata": {},
   "outputs": [],
   "source": [
    "s = 'kkk  Beomyong  kkk'\n",
    "a = 'k'\n",
    "s_ = s.strip(a)\n",
    "print(s_) # 문자열에서 앞과 뒤에 있는 문자(a)를 제거\n",
    "s_.strip() # 문자열 앞, 뒤의 공백문자 제거"
   ]
  },
  {
   "cell_type": "code",
   "execution_count": null,
   "metadata": {},
   "outputs": [],
   "source": [
    "s = 'Beom Yong'\n",
    "print(s.swapcase()) # 대문자를 소문자로, 소문자를 대문자로 변경"
   ]
  },
  {
   "cell_type": "code",
   "execution_count": null,
   "metadata": {},
   "outputs": [],
   "source": [
    "s = 'singing in the rain'\n",
    "print(s.title()) # 제목 형태로 된 문자열 반환  "
   ]
  },
  {
   "cell_type": "code",
   "execution_count": null,
   "metadata": {},
   "outputs": [],
   "source": [
    "# s.translate(table, [,deletechars]) 문자 변환 표(table)를 사용해서 문자열을 치환한다. deletechars에 있는 문자들은 삭제된다\n",
    "s = 'apple copyright'\n",
    "n = s.translate({ ord('a'): '@', ord('c'): '©', ord('p'): '℗', ord('r'): '®' }) \n",
    "n"
   ]
  },
  {
   "cell_type": "code",
   "execution_count": null,
   "metadata": {},
   "outputs": [],
   "source": [
    "s = 'beomyong'\n",
    "print(s.zfill(10)) # s.zfill(width) width만큼의 field를 오른쪽부터 문자열로 채우고 남는 field는 0으로 채움 \n",
    "print(\"3\".zfill(2))"
   ]
  },
  {
   "cell_type": "code",
   "execution_count": null,
   "metadata": {},
   "outputs": [],
   "source": [
    "print(a.splitlines()) # 구분자 \n",
    "print(a.splitlines(True))"
   ]
  },
  {
   "cell_type": "code",
   "execution_count": null,
   "metadata": {},
   "outputs": [],
   "source": [
    "# mutable한 순서열(예를 들면 리스트)에 적용 가능한 연산\n",
    "\n",
    "s = [1, 2, 3, 'a', 'b', 'c']\n",
    "v = 'add'\n",
    "\n",
    "s[1] = v\n",
    "print(s)\n",
    "\n",
    "s[1:4] = 'kbs'\n",
    "print(s)\n",
    "\n",
    "s[1:4] = 'k'\n",
    "print(s)\n",
    "\n",
    "s[0:-1:2] = [0, 1] # 확장 분할에 의한 조각 대입\n",
    "print(s)\n",
    "\n",
    "del s[1]\n",
    "print(s)\n",
    "\n",
    "s = [1, 2, 3, 4, 5, 6]\n",
    "del s[0:-1:2]\n",
    "print(s)\n"
   ]
  },
  {
   "cell_type": "code",
   "execution_count": null,
   "metadata": {},
   "outputs": [],
   "source": [
    "# 리스트 메서드\n",
    "\n",
    "s = \"beomyong\"\n",
    "s = list(s)\n",
    "print(s)\n",
    "\n",
    "t = [1, 2, 3, 4, 5]\n",
    "s.extend(t)\n",
    "print(s)\n",
    "\n",
    "x = 'o'\n",
    "print(s.count(x))\n",
    "\n",
    "print(s.index(x, 3, -1)) # s.index(x, start, stop) start, stop은 각각 s에서 검색을 시작, 종료하는 인덱스 위치\n",
    "\n",
    "y = 'add'\n",
    "s.insert(0, y)\n",
    "print(s)\n",
    "\n",
    "a = s.pop(0) # pop([i]) 여기서 [i]는 리스트의 인덱스 번호를 의미  \n",
    "print(a)\n",
    "print(s)\n",
    "\n",
    "s.remove(x) # x를 찾아서 s에서 제거. 단, 리스트 안에서 인덱스 위치가 빠른 것 1개만\n",
    "print(s)\n",
    "\n",
    "s.reverse() # 리스트 항목들의 순서 뒤집기\n",
    "print(s)\n",
    "\n",
    "s = 'abcdef'\n",
    "s = list(s)\n",
    "print(s)\n",
    "s.sort(key=None, reverse=True) # sort 메서드를 사용하기 위해서는 리스트의 모든 원소가 동일 타입이어야 한다. \n",
    "# key함수는 정렬하기 전에 각 원소에 적용되는 함수이며 입력으로 단일 항목을 받아 정렬 시 비교를 위해 사용할 값을 반환해야 한다. \n",
    "print(s)\n",
    "\n",
    "# sort()와 reverse() 메서드 모두 리스트의 원소들을 그 자리에서(in-place) 수정하고 None을 반환한다."
   ]
  },
  {
   "cell_type": "markdown",
   "metadata": {},
   "source": [
    "### 매핑(mapping)\n",
    "\n",
    "매핑 객체는 (거의)임의적인 key로 색인되는 임의의 객체들을 의미함. 순서열과 달리 매핑객체는 순서를 지니지 않으며 숫자, 문자열 및 기타 다른 객체로 색인 가능. 매핑 객체는 원소 변경, 삭제, 추가 가능\n",
    "\n",
    "\n",
    "> 12) dict(사전)\n",
    "\n",
    ">> * dict는 파이썬의 유일한 내장 매핑 타입\n",
    "\n",
    ">> * 해시 테이블이나 연관 배열의 파이썬 버젼\n",
    "\n",
    ">> * 변경 불가능한 객체라면 어떤 객체든 사전의 키 값으로 사용할 수 있다. (문자열, 숫자, 튜플)"
   ]
  },
  {
   "cell_type": "code",
   "execution_count": 36,
   "metadata": {},
   "outputs": [
    {
     "name": "stdout",
     "output_type": "stream",
     "text": [
      "3\n",
      "a\n",
      "{0: 'beomyong', 1: 'b', 2: 'c'}\n",
      "{1: 'b', 2: 'c'}\n",
      "True\n",
      "{}\n"
     ]
    }
   ],
   "source": [
    "m = {\n",
    "    0: 'a',\n",
    "    1: 'b',\n",
    "    2: 'c'\n",
    "}\n",
    "\n",
    "print(len(m))\n",
    "print(m[0])\n",
    "\n",
    "m[0] = 'beomyong'\n",
    "print(m)\n",
    "\n",
    "del m[0]\n",
    "print(m)\n",
    "\n",
    "print(2 in m)\n",
    "\n",
    "m.clear()\n",
    "print(m)"
   ]
  },
  {
   "cell_type": "code",
   "execution_count": 37,
   "metadata": {},
   "outputs": [
    {
     "name": "stdout",
     "output_type": "stream",
     "text": [
      "{'a': 1, 'b': 2, 'c': 3}\n",
      "{'key1': 'value', 'key2': 'value', 'key3': 'value'}\n",
      "New Dictionary : {'name': None, 'age': None, 'sex': None}\n",
      "New Dictionary : {'name': 10, 'age': 10, 'sex': 10}\n"
     ]
    }
   ],
   "source": [
    "m = {\n",
    "    'a': 1,\n",
    "    'b': 2,\n",
    "    'c': 3\n",
    "}\n",
    "\n",
    "n = m.copy()\n",
    "print(n)\n",
    "\n",
    "s = ['key1', 'key2', 'key3']\n",
    "print(m.fromkeys(s, 'value')) # 순서열 s에서 key를 가져오고 모든 값을 value로 설정한 새로운 사전을 생성한다\n",
    "\n",
    "seq = ('name', 'age', 'sex')\n",
    "dict = dict.fromkeys(seq) # value를 별도로 설정하지 않으면\n",
    "print(\"New Dictionary : {}\".format(dict)) # 모든 value는 None이 된다\n",
    "\n",
    "dict = dict.fromkeys(seq, 10)\n",
    "print(\"New Dictionary : {}\".format(dict))"
   ]
  },
  {
   "cell_type": "code",
   "execution_count": 38,
   "metadata": {},
   "outputs": [
    {
     "name": "stdout",
     "output_type": "stream",
     "text": [
      "1\n",
      "None\n"
     ]
    }
   ],
   "source": [
    "k = 'a'\n",
    "v = 'None'\n",
    "print(m.get(k, v)) # m의 key 중 k가 있으면 그 value인 m[k]를 반환하고 아니면 v를 반환한다.\n",
    "print(m.get('hhh', v))"
   ]
  },
  {
   "cell_type": "code",
   "execution_count": 39,
   "metadata": {},
   "outputs": [
    {
     "data": {
      "text/plain": [
       "dict_items([('a', 1), ('b', 2), ('c', 3)])"
      ]
     },
     "execution_count": 39,
     "metadata": {},
     "output_type": "execute_result"
    }
   ],
   "source": [
    "m.items() # m의 모든 (키, 값) 쌍들로 구성되는 순서열을 반환한다."
   ]
  },
  {
   "cell_type": "code",
   "execution_count": 40,
   "metadata": {},
   "outputs": [
    {
     "data": {
      "text/plain": [
       "dict_keys(['a', 'b', 'c'])"
      ]
     },
     "execution_count": 40,
     "metadata": {},
     "output_type": "execute_result"
    }
   ],
   "source": [
    "m.keys()"
   ]
  },
  {
   "cell_type": "code",
   "execution_count": 43,
   "metadata": {},
   "outputs": [
    {
     "data": {
      "text/plain": [
       "'there is no k'"
      ]
     },
     "execution_count": 43,
     "metadata": {},
     "output_type": "execute_result"
    }
   ],
   "source": [
    "m = {\n",
    "    'a': 1,\n",
    "    'b': 2,\n",
    "    'c': 3\n",
    "}\n",
    "\n",
    "k = 'a'\n",
    "default = 'there is no k'\n",
    "m.pop(k, default) # m[k]가 있으면 이를 반환하고 m에서 제거 \n",
    "                  # m[k]가 없을 경우 default가 제공되면 이를 반환. default가 없으면 KeyError 예외를 발생시킨다.\n",
    "    \n",
    "k = 'a'\n",
    "m.pop(k, default)"
   ]
  },
  {
   "cell_type": "code",
   "execution_count": 44,
   "metadata": {},
   "outputs": [
    {
     "data": {
      "text/plain": [
       "{'b': 2, 'c': 3}"
      ]
     },
     "execution_count": 44,
     "metadata": {},
     "output_type": "execute_result"
    }
   ],
   "source": [
    "m"
   ]
  },
  {
   "cell_type": "code",
   "execution_count": 45,
   "metadata": {},
   "outputs": [
    {
     "data": {
      "text/plain": [
       "('c', 3)"
      ]
     },
     "execution_count": 45,
     "metadata": {},
     "output_type": "execute_result"
    }
   ],
   "source": [
    "m.popitem() # m에서 임의의 (키, 값)쌍을 제거하고 튜플로 이를 반환한다."
   ]
  },
  {
   "cell_type": "code",
   "execution_count": 46,
   "metadata": {},
   "outputs": [
    {
     "data": {
      "text/plain": [
       "{'b': 2}"
      ]
     },
     "execution_count": 46,
     "metadata": {},
     "output_type": "execute_result"
    }
   ],
   "source": [
    "m"
   ]
  },
  {
   "cell_type": "code",
   "execution_count": 47,
   "metadata": {},
   "outputs": [
    {
     "data": {
      "text/plain": [
       "{'b': 2, 'q': 'new'}"
      ]
     },
     "execution_count": 47,
     "metadata": {},
     "output_type": "execute_result"
    }
   ],
   "source": [
    "k = 'q'\n",
    "v = 'new'\n",
    "m.setdefault(k, v) # m[k]가 있으면 m[k]를 반환한다. 없으면 v를 반환하고 m[k] = v 가 된다. \n",
    "m"
   ]
  },
  {
   "cell_type": "code",
   "execution_count": 48,
   "metadata": {},
   "outputs": [
    {
     "name": "stdout",
     "output_type": "stream",
     "text": [
      "{'b': 2, 'q': 'new', 'new1': 0, 'new2': 1}\n"
     ]
    }
   ],
   "source": [
    "b = {'new1':0, 'new2':1}\n",
    "m.update(b) # b에 있는 모든 객체를 m에 추가\n",
    "print(m)"
   ]
  },
  {
   "cell_type": "markdown",
   "metadata": {},
   "source": [
    "### 집합(set)\n",
    "\n",
    "* 고유한 항목들의 순서 없는 모음. \n",
    "\n",
    "* 색인, 분할 연산 지원하지 않음\n",
    "\n",
    "* 집합에 들어 있는 항목들은 변경이 불가능해야 한다.(immutable)\n",
    "\n",
    "\n",
    "> 13) set(변경 가능한 집합): 항목 추가, 삭제가 가능한 집합 \n",
    "\n",
    "> 14) frozenset(변경 불가능한 집합)\n"
   ]
  },
  {
   "cell_type": "code",
   "execution_count": null,
   "metadata": {},
   "outputs": [],
   "source": [
    "s = set([1, 5, 10, 15])\n",
    "f = frozenset(['a', 37, 'hello'])\n",
    "print(s)\n",
    "print(f)"
   ]
  },
  {
   "cell_type": "code",
   "execution_count": null,
   "metadata": {},
   "outputs": [],
   "source": [
    "# 집합(공통 set, frozenset) 타입 메서드\n",
    "\n",
    "len(s)\n",
    "\n",
    "k = s.copy()\n",
    "print(k)\n",
    "\n",
    "t = set([2, 4, 6, 8, 10])\n",
    "print(s.difference(t)) # 차집합\n",
    "\n",
    "print(s.intersection(t)) # 교집합\n",
    "\n",
    "print(s.isdisjoint(t)) # s, t에 공통 항목이 없으면 True, 있으면 False 반환"
   ]
  },
  {
   "cell_type": "code",
   "execution_count": null,
   "metadata": {},
   "outputs": [],
   "source": [
    "s = {1, 2, 3, 4, 5, 6}\n",
    "t = {2, 4, 6}\n",
    "\n",
    "print(s.issubset(t)) # s가 t의 부분집합인 경우 True 반환\n",
    "print(s.issuperset(t)) # s가 t의 포함집합인 경우 True를 반환\n",
    "\n",
    "s = {1, 3, 5, 7}\n",
    "t = {1, 2, 3, 4}\n",
    "print(s.symmetric_difference(t)) # 대칭 차집합"
   ]
  },
  {
   "cell_type": "code",
   "execution_count": null,
   "metadata": {},
   "outputs": [],
   "source": [
    "s.union(t) #합집합"
   ]
  },
  {
   "cell_type": "code",
   "execution_count": null,
   "metadata": {},
   "outputs": [],
   "source": [
    "# 변경 가능한 집합(set) 타입 메서드\n",
    "\n",
    "s = set([1, 2, 3, 4, 5])\n",
    "\n",
    "item = 6\n",
    "print(s.add(item)) # s에 item을 추가. s를 직접 변경하며 반환값은 None\n",
    "print(s)"
   ]
  },
  {
   "cell_type": "code",
   "execution_count": null,
   "metadata": {},
   "outputs": [],
   "source": [
    "s.clear() # s에서 모든 항목 제거\n",
    "s"
   ]
  },
  {
   "cell_type": "code",
   "execution_count": null,
   "metadata": {},
   "outputs": [],
   "source": [
    "s = {1, 2, 3, 4, 5, 6}\n",
    "t = {2, 4, 6, 8, 10, 12}\n",
    "print(s.difference_update(t)) # s에서 t에 있는 모든 항목을 제거\n",
    "print(s)"
   ]
  },
  {
   "cell_type": "code",
   "execution_count": 49,
   "metadata": {},
   "outputs": [
    {
     "name": "stdout",
     "output_type": "stream",
     "text": [
      "{1, 2, 3, 4, 5}\n"
     ]
    }
   ],
   "source": [
    "s = {1, 2, 3, 4, 5, 6}\n",
    "item = 6\n",
    "s.discard(item) # 당연하지만 set의 원소는 immutable이므로 item은 문자열, 숫자가 된다\n",
    "print(s)"
   ]
  },
  {
   "cell_type": "code",
   "execution_count": 50,
   "metadata": {},
   "outputs": [
    {
     "name": "stdout",
     "output_type": "stream",
     "text": [
      "None\n",
      "{2, 4, 6}\n"
     ]
    }
   ],
   "source": [
    "s = {1, 2, 3, 4, 5, 6}\n",
    "t = {2, 4, 6, 8, 10, 12}\n",
    "print(s.intersection_update(t)) # s와 t의 교집합을 구하고 결과를 s에 남겨둔다\n",
    "print(s)"
   ]
  },
  {
   "cell_type": "code",
   "execution_count": 51,
   "metadata": {},
   "outputs": [
    {
     "name": "stdout",
     "output_type": "stream",
     "text": [
      "{4, 6}\n"
     ]
    }
   ],
   "source": [
    "s.pop() # s의 원소 중 1개를 랜덤하게 반환하고 이를 s에서 제거 \n",
    "print(s)"
   ]
  },
  {
   "cell_type": "code",
   "execution_count": 52,
   "metadata": {},
   "outputs": [
    {
     "data": {
      "text/plain": [
       "{2, 3}"
      ]
     },
     "execution_count": 52,
     "metadata": {},
     "output_type": "execute_result"
    }
   ],
   "source": [
    "s = set([1, 2, 3])\n",
    "item = 1\n",
    "s.remove(item) # s에서 item을 제거한다. item이 없으면 KeyError 예외가 발생한다\n",
    "s"
   ]
  },
  {
   "cell_type": "code",
   "execution_count": 53,
   "metadata": {},
   "outputs": [
    {
     "data": {
      "text/plain": [
       "{1, 3, 5, 8, 10, 12}"
      ]
     },
     "execution_count": 53,
     "metadata": {},
     "output_type": "execute_result"
    }
   ],
   "source": [
    "s = {1, 2, 3, 4, 5, 6}\n",
    "t = {2, 4, 6, 8, 10, 12}\n",
    "s.symmetric_difference_update(t) # s와 t의 대칭 차집합을 구하고 결과를 s에 남겨둔다\n",
    "s"
   ]
  },
  {
   "cell_type": "code",
   "execution_count": 54,
   "metadata": {},
   "outputs": [
    {
     "data": {
      "text/plain": [
       "{1, 2, 3, 'a', 'b', 'c'}"
      ]
     },
     "execution_count": 54,
     "metadata": {},
     "output_type": "execute_result"
    }
   ],
   "source": [
    "s = {1, 2, 3}\n",
    "t = \"abc\" # t가 집합이 아닐 수 있음에 주목! 집합, 순서열(튜플, 리스트, 문자열) 등 반복을 지원하는 어떤 객체든 가능하다\n",
    "s.update(t) # t의 모든 항목을 s에 추가한다. \n",
    "s"
   ]
  },
  {
   "cell_type": "markdown",
   "metadata": {},
   "source": [
    "## 7. 프로그램 구조를 나타내는 내장 타입\n",
    "\n",
    "파이썬에서 함수, 클래스, 모듈은 모두 데이터로서 다루어질 수 있는 객체이다. 프로그램 자체의 다양한 요소들을 나타내는 데 사용되는 타입들은 다음과 같다.\n",
    "\n",
    "|타입 분류|타입 이름|설명|\n",
    "|:-------:|:------:|:---:|\n",
    "|호출가능|types.BuiltinFuntionType|내장 함수나 메서드|\n",
    "||type|내장 타입과 클래스의 타입|\n",
    "||object|모든 타입과 클래스의 조상|\n",
    "||types.FunctionType|사용자 정의 함수|\n",
    "||types.MethodType|클래스 메서드|\n",
    "|모듈|types.ModuleType|모듈|\n",
    "|클래스|object|모든 타입과 클래스의 조상|\n",
    "|타입|type|내장 타입과 클래스의 타입|\n",
    "\n",
    "위 표에서 object와 type은 두 번씩 나와 있는데 그 이유는 클래스와 타입 모두 함수로서 호출될 수 있기 때문"
   ]
  },
  {
   "cell_type": "markdown",
   "metadata": {},
   "source": [
    "### 1) 호출가능 타입\n",
    "\n",
    "> 함수 호출 연산을 지원하는 객체. \n",
    "\n",
    "> 사용자 정의 함수, 내장 함수, 인스턴스 메서드, 클래스가 여기 포함된다."
   ]
  },
  {
   "cell_type": "markdown",
   "metadata": {},
   "source": [
    "* ** 사용자 정의 함수(user-defined function) **: 모듈 수준에서 def문이나 lambda연산자로 생성되는 호출가능 객체"
   ]
  },
  {
   "cell_type": "code",
   "execution_count": 55,
   "metadata": {},
   "outputs": [],
   "source": [
    "def foo(x, y):\n",
    "    \"This is the documentation of the foo function\"\n",
    "    return x + y\n",
    "\n",
    "bar = lambda x, y: x + y "
   ]
  },
  {
   "cell_type": "code",
   "execution_count": 56,
   "metadata": {},
   "outputs": [
    {
     "name": "stdout",
     "output_type": "stream",
     "text": [
      "['__annotations__', '__call__', '__class__', '__closure__', '__code__', '__defaults__', '__delattr__', '__dict__', '__dir__', '__doc__', '__eq__', '__format__', '__ge__', '__get__', '__getattribute__', '__globals__', '__gt__', '__hash__', '__init__', '__init_subclass__', '__kwdefaults__', '__le__', '__lt__', '__module__', '__name__', '__ne__', '__new__', '__qualname__', '__reduce__', '__reduce_ex__', '__repr__', '__setattr__', '__sizeof__', '__str__', '__subclasshook__']\n"
     ]
    }
   ],
   "source": [
    "print(dir(foo))"
   ]
  },
  {
   "cell_type": "code",
   "execution_count": 57,
   "metadata": {},
   "outputs": [
    {
     "data": {
      "text/plain": [
       "'This is the documentation of the foo function'"
      ]
     },
     "execution_count": 57,
     "metadata": {},
     "output_type": "execute_result"
    }
   ],
   "source": [
    "foo.__doc__"
   ]
  },
  {
   "cell_type": "markdown",
   "metadata": {},
   "source": [
    "* **  메서드(method) **: 클래스 안에서 정의되는 함수 instance, class, static method의 세 가지 종류가 있다   "
   ]
  },
  {
   "cell_type": "code",
   "execution_count": 62,
   "metadata": {},
   "outputs": [],
   "source": [
    "class Foo(object):\n",
    "    def instance_method(self, arg): # 첫 번째 인수로 인스턴스 자신이 전달되며 관계에 따라 이를 self라고 명명\n",
    "        pass\n",
    "    \n",
    "    @classmethod\n",
    "    def class_method(cls, arg): # 클래스 자체를 객체로 보고 여기에 대해 수행되는 메서드. 첫 번째 인수 cls로 클래스 객체가 전달됨\n",
    "        pass\n",
    "    \n",
    "    @staticmethod\n",
    "    def static_method(arg): # 클래스 안에 함께 묶이게 된 함수. 첫 번째 인수로 인스턴스나 클래스 객체를 받지 않음\n",
    "        pass"
   ]
  },
  {
   "cell_type": "markdown",
   "metadata": {},
   "source": [
    "인스턴스 메서드: 주어진 클래스(빵틀)에 속하는 인스턴스(빵)에 대해 수행되는 메서드\n",
    "\n",
    "> 인스턴스 메서드와 클래스 메서드는 모두 타입이 `types.Methodtype`인 특수한 객체로 표현된다. \n",
    "\n",
    "> 이 특수한 타입을 이해하기 위해서는 객체 속성 검색의 작동방식 이해가 필수적이다. 메서드를 호출하면 (1)객체에서 무언가(메서드)를 찾는 연산, (2)함수(method)를 호출하는 연산이 모두 발생하지만 별개의 단계로서 수행된다."
   ]
  },
  {
   "cell_type": "code",
   "execution_count": 63,
   "metadata": {},
   "outputs": [],
   "source": [
    "# Foo의 인스턴스에 대해 f.instance_method(arg)를 호출하는 과정\n",
    "\n",
    "f = Foo() # 인스턴스 생성\n",
    "meth = f.instance_method # 메서드를 검색한다. 뒤에 괄호()가 붙지 않는 것에 주목\n",
    "                         # meth는 bound method(묶인 메서드)라고 부른다. 인스턴스와 메서드가 같이 묶임 \n",
    "                         # 함수(method = 여기선 instance_method)와 함수랑 연관된 인스턴스(여기선 f) 둘 다를 감싸는 호출가능 객체\n",
    "                        \n",
    "meth(37) # 이렇게 묶인 메서드를 호출하면 인스턴스가 메서드의 첫 번째 인수(self)로 전달된다. \n",
    "\n",
    "# 클래스 자체에 대해 메서드 검색을 수행하는 방법\n",
    "umeth = Foo.instance_method # Foo에 대고 instance_method를 검색한다\n",
    "                            # umeth는 안묶인 메서드(unbound method)라고 부른다\n",
    "                            # 안묶인 메서드는 적절한 타입의 인스턴스가 첫 번째 인수로 넘어올 것을 기대하는 호출가능 객체이다\n",
    "umeth(f, 37) # (1)self를 직접 전달하면서 (2)메서드를 호출한다   "
   ]
  },
  {
   "cell_type": "code",
   "execution_count": 64,
   "metadata": {},
   "outputs": [
    {
     "name": "stdout",
     "output_type": "stream",
     "text": [
      "<class 'builtin_function_or_method'>\n",
      "['__call__', '__class__', '__delattr__', '__dir__', '__doc__', '__eq__', '__format__', '__ge__', '__getattribute__', '__gt__', '__hash__', '__init__', '__init_subclass__', '__le__', '__lt__', '__module__', '__name__', '__ne__', '__new__', '__qualname__', '__reduce__', '__reduce_ex__', '__repr__', '__self__', '__setattr__', '__sizeof__', '__str__', '__subclasshook__', '__text_signature__']\n"
     ]
    }
   ],
   "source": [
    "a = [1, 2, 3, 4]\n",
    "right_add = a.append\n",
    "right_add(100)\n",
    "print(type(right_add))\n",
    "print(dir(right_add)) "
   ]
  },
  {
   "cell_type": "code",
   "execution_count": null,
   "metadata": {},
   "outputs": [],
   "source": [
    "print(right_add.__name__, right_add.__class__, right_add.__self__, sep=' - ')"
   ]
  },
  {
   "cell_type": "markdown",
   "metadata": {},
   "source": [
    "`파이썬 3`에서는 안 묶인 메서드가 더이상 types.MethodType 객체에 의해 감싸지지 않는다. \n",
    "\n",
    "앞의 예처럼 Foo.instance_method에 접근하면 메서드를 구현하는 보통의 함수 객체를 얻게 되며 매개변수 self에 대한 타입 검사도 수행되지 않는다.(그냥 None 반환)\n"
   ]
  },
  {
   "cell_type": "markdown",
   "metadata": {},
   "source": [
    "내장 함수와 메서드 \n",
    "\n",
    "> types.BuiltinFunctionType 객체에서 Builtin이라 함은 C나 C++로 구현되어 파이썬에 내장된 함수나 메서드임을 나타낸다."
   ]
  },
  {
   "cell_type": "code",
   "execution_count": null,
   "metadata": {},
   "outputs": [],
   "source": [
    "a = [1, 2, 3, 4]\n",
    "b = a.append\n",
    "print(b.__doc__)\n",
    "print(b.__name__)\n",
    "print(b.__self__)"
   ]
  },
  {
   "cell_type": "markdown",
   "metadata": {},
   "source": [
    "len( )과 같은 내장 함수에 대해 &#95;&#95;self&#95;&#95;는 None으로 설정되며 어떤 객체에도 묶이지 않게 된다. \n",
    "\n",
    "x가 리스트일 때 x.append 같은 내장 메서드에 대해서 &#95;&#95;self&#95;&#95;는 x로 설정된다.\n"
   ]
  },
  {
   "cell_type": "code",
   "execution_count": 69,
   "metadata": {},
   "outputs": [
    {
     "data": {
      "text/plain": [
       "<module 'builtins' (built-in)>"
      ]
     },
     "execution_count": 69,
     "metadata": {},
     "output_type": "execute_result"
    }
   ],
   "source": [
    "a = len\n",
    "a.__self__"
   ]
  },
  {
   "cell_type": "code",
   "execution_count": 73,
   "metadata": {},
   "outputs": [
    {
     "data": {
      "text/plain": [
       "[1, 2, 3]"
      ]
     },
     "execution_count": 73,
     "metadata": {},
     "output_type": "execute_result"
    }
   ],
   "source": [
    "x = [1, 2, 3]\n",
    "y = x.append\n",
    "y.__self__"
   ]
  },
  {
   "cell_type": "markdown",
   "metadata": {},
   "source": [
    "호출 가능한 클래스와 인스턴스\n",
    "\n",
    "> 클래스 객체와 인스턴스는 호출가능 객체로도 작동한다.\n",
    "\n",
    "> 클래스 객체: class 문에 의해 생성. 새로운 인스턴스를 생성하기 위해서 호출된다.\n",
    "\n",
    ">> 클래스 객체 호출 => 클래스의 &#95;&#95;init&#95;&#95;()메서드에 인수 전달 => 새 인스턴스 초기화\n",
    "\n",
    "\n",
    "\n"
   ]
  },
  {
   "cell_type": "markdown",
   "metadata": {},
   "source": [
    "### 클래스, 타입, 인스턴스 (객체와 파이썬의 객체 시스템의 구성에 관해서는 7장에서 더 자세히)\n",
    "\n",
    "클래스를 정의하면 일반적으로 타입(=class)이 type인 객체가 생성된다."
   ]
  },
  {
   "cell_type": "code",
   "execution_count": 75,
   "metadata": {},
   "outputs": [
    {
     "name": "stdout",
     "output_type": "stream",
     "text": [
      "<class 'type'>\n"
     ]
    }
   ],
   "source": [
    "class Foo(object):\n",
    "    \"documentation\"\n",
    "    pass\n",
    "\n",
    "print(type(Foo))"
   ]
  },
  {
   "cell_type": "code",
   "execution_count": 80,
   "metadata": {},
   "outputs": [],
   "source": [
    "t = Foo"
   ]
  },
  {
   "cell_type": "code",
   "execution_count": 81,
   "metadata": {},
   "outputs": [
    {
     "name": "stdout",
     "output_type": "stream",
     "text": [
      "documentation\n",
      "Foo\n",
      "(<class 'object'>,)\n",
      "{'__module__': '__main__', '__doc__': 'documentation', '__dict__': <attribute '__dict__' of 'Foo' objects>, '__weakref__': <attribute '__weakref__' of 'Foo' objects>}\n"
     ]
    }
   ],
   "source": [
    "# 타입 객체 t에 대해 주로 사용되는 속성들\n",
    "\n",
    "print(t.__doc__)\n",
    "print(t.__name__)\n",
    "print(t.__bases__) # 기반 클래스들로 구성되는 튜플\n",
    "print(t.__dict__) # 클래스 메서드와 변수들을 담은 사전"
   ]
  },
  {
   "cell_type": "code",
   "execution_count": 82,
   "metadata": {},
   "outputs": [
    {
     "name": "stdout",
     "output_type": "stream",
     "text": [
      "__main__\n",
      "builtins\n"
     ]
    }
   ],
   "source": [
    "print(t.__module__) # 클래스가 정의되어 있는 모듈의 이름\n",
    "print(int.__module__) "
   ]
  },
  {
   "cell_type": "code",
   "execution_count": 83,
   "metadata": {},
   "outputs": [
    {
     "name": "stdout",
     "output_type": "stream",
     "text": [
      "<class '__main__.Foo'>\n"
     ]
    }
   ],
   "source": [
    "f = Foo() # 어떤 객체의 인스턴스가 생성되면 이 인스턴스 타입은 인스턴스를 정의하는 클래스가 된다.\n",
    "print(type(f)) # Foo라는 클래스 객체의 인스턴스가 생성되면 이 인스턴스의 타입은 Foo class라는 의미"
   ]
  },
  {
   "cell_type": "code",
   "execution_count": 84,
   "metadata": {},
   "outputs": [
    {
     "name": "stdout",
     "output_type": "stream",
     "text": [
      "<class 'str'>\n",
      "<class 'str'>\n"
     ]
    }
   ],
   "source": [
    "a = str()\n",
    "print(type(a))\n",
    "print(a.__class__)"
   ]
  },
  {
   "cell_type": "markdown",
   "metadata": {},
   "source": [
    "### 모듈\n",
    "\n",
    "> 모듈 타입은 import문으로 로드되는 객체들을 담는 컨테이너이다.\n",
    "\n",
    "> import Foo문이 프로그램에 들어있으면 대응되는 모듈 객체에 이름 Foo가 할당된다.\n",
    "\n",
    "> 모듈은 속성 &#95;&#95;dic&#95;&#95;로 접근할 수 있는 사전을 통해서 네임스페이스를 구현한다"
   ]
  },
  {
   "cell_type": "code",
   "execution_count": null,
   "metadata": {},
   "outputs": [],
   "source": [
    "import math\n",
    "\n",
    "print(math.__dict__)"
   ]
  },
  {
   "cell_type": "code",
   "execution_count": null,
   "metadata": {},
   "outputs": [],
   "source": [
    "# 모듈의 속성이 참조되면(점 연산자 사용으로) 사전 검색으로 해석된다.\n",
    "\n",
    "print(math.pi)\n",
    "print(math.__dict__[\"pi\"])\n",
    "\n",
    "# module.x = y 처럼 속성에 값을 할당하는 것은 module.__dict__[\"x\"] = y와 같다."
   ]
  },
  {
   "cell_type": "markdown",
   "metadata": {},
   "source": [
    "## 8. 인터프리터 내부를 나타내는 내장 타입\n",
    "\n",
    "프로그램에서 직접 다루는 일은 드물지만 도구 제작, 프레임워크 설계 시 유용한 객체들이다.\n",
    "\n",
    "|타입 이름|설명|\n",
    "|:-----:|:-:|\n",
    "|types.CodeType|바이트 컴파일 된 코드|\n",
    "|types.FrameType|실행 프레임|\n",
    "|types.GeneratorType|생성기 객체|\n",
    "|types.TracebackType|예외의 스택 역추적|\n",
    "|slice|확장 분할 연산에 의해서 생성됨|\n",
    "|Ellipsis|확장 분할 연산에서 사용됨|"
   ]
  },
  {
   "cell_type": "markdown",
   "metadata": {},
   "source": [
    "### 코드 객체\n",
    "\n",
    "코드 객체는 바이트 컴파일된 미가공 실행 코드, 즉 바이트코드(bytecode)를 나타내며, 주로 내장 함수인 compile()함수에 의해 반환된다. \n",
    "\n",
    "코드 객체는 함수와 비슷하지만, 코드가 정의된 네임스페이스와 관련된 어떤 컨텍스트도 포함하지 않으며 기본 인수 값에 대한 정보도 저장하지 않는다. \n",
    "\n",
    "코드 객체는 여러 가지 읽기 전용 속성들을 갖는다.(p.63 참조)"
   ]
  },
  {
   "cell_type": "code",
   "execution_count": 86,
   "metadata": {},
   "outputs": [
    {
     "name": "stdout",
     "output_type": "stream",
     "text": [
      "<module>\n",
      "0\n"
     ]
    }
   ],
   "source": [
    "code1 = compile('a+1', '<string>', 'eval')\n",
    "\n",
    "print(code1.co_name)\n",
    "print(code1.co_argcount)"
   ]
  },
  {
   "cell_type": "code",
   "execution_count": 87,
   "metadata": {},
   "outputs": [
    {
     "name": "stdout",
     "output_type": "stream",
     "text": [
      "<module>\n",
      "0\n",
      "0\n"
     ]
    }
   ],
   "source": [
    "codeobj = compile('x = 2\\nprint(\"X is\", x)', 'fakemodule', 'exec')\n",
    "print(codeobj.co_name)\n",
    "print(codeobj.co_argcount)\n",
    "print(codeobj.co_nlocals)"
   ]
  },
  {
   "cell_type": "markdown",
   "metadata": {},
   "source": [
    "### 프레임 객체\n",
    "\n",
    "프레임 객체는 실행 프레임을 나타내며 역추적 객체에서 주로 사용된다. 프레임 객체 f는 여러 가지 읽기 전용 속성을 갖는다. (p.63 참조) "
   ]
  },
  {
   "cell_type": "markdown",
   "metadata": {},
   "source": [
    "### 역추적 객체\n",
    "\n",
    "역추적 객체는 예외가 발생할 때 생성되며 스택 추적 정보를 담는다. \n",
    "\n",
    "예외 처리기에서 sys.exc_info()함수를 사용해서 스택 추적 정보를 얻을 수 있다. 역추적 객체의 읽기 전용 속성은 p.64 참조"
   ]
  },
  {
   "cell_type": "markdown",
   "metadata": {},
   "source": [
    "### 생성기(generator) 객체\n",
    "\n",
    "생성기 객체는 생성기 함수가 호출되면 생성된다.(6장 참고)\n",
    "\n",
    "함수에서 특수한 키워드인 yield가 사용되면 생성기 함수가 정의된다. 생성기 객체는 반복자의 역할과 생성기 함수 자체에 대한 정보를 담는 역할 둘 다를 수행한다. \n",
    "\n",
    "생성기 객체의 속성과 메서드는 다음 예시를 참고한다. (p.64와 동일)\n",
    "\n"
   ]
  },
  {
   "cell_type": "code",
   "execution_count": 88,
   "metadata": {},
   "outputs": [],
   "source": [
    "def countdown(n):\n",
    "    print(\"Counting down!\")\n",
    "    while n > 0:\n",
    "        yield n\n",
    "        n -= 1"
   ]
  },
  {
   "cell_type": "code",
   "execution_count": 89,
   "metadata": {},
   "outputs": [],
   "source": [
    "gen = countdown(10)"
   ]
  },
  {
   "cell_type": "code",
   "execution_count": 90,
   "metadata": {},
   "outputs": [
    {
     "name": "stdout",
     "output_type": "stream",
     "text": [
      "Counting down!\n"
     ]
    },
    {
     "data": {
      "text/plain": [
       "10"
      ]
     },
     "execution_count": 90,
     "metadata": {},
     "output_type": "execute_result"
    }
   ],
   "source": [
    "gen.__next__()"
   ]
  },
  {
   "cell_type": "code",
   "execution_count": 91,
   "metadata": {},
   "outputs": [
    {
     "data": {
      "text/plain": [
       "9"
      ]
     },
     "execution_count": 91,
     "metadata": {},
     "output_type": "execute_result"
    }
   ],
   "source": [
    "gen.send(3) # 괄호안의 값이 어떤 의미를 갖는지 잘 모르겠음"
   ]
  },
  {
   "cell_type": "code",
   "execution_count": 92,
   "metadata": {},
   "outputs": [
    {
     "data": {
      "text/plain": [
       "8"
      ]
     },
     "execution_count": 92,
     "metadata": {},
     "output_type": "execute_result"
    }
   ],
   "source": [
    "gen.__next__()"
   ]
  },
  {
   "cell_type": "code",
   "execution_count": 93,
   "metadata": {},
   "outputs": [
    {
     "data": {
      "text/plain": [
       "generator"
      ]
     },
     "execution_count": 93,
     "metadata": {},
     "output_type": "execute_result"
    }
   ],
   "source": [
    "type(gen)\n",
    "gen.__class__"
   ]
  },
  {
   "cell_type": "code",
   "execution_count": null,
   "metadata": {},
   "outputs": [],
   "source": [
    "print(gen.gi_code, # 생성기 함수의 코드 객체\n",
    "      gen.gi_frame, # 생성기 함수의 실행 프레임\n",
    "      gen.gi_running, # 현재 실행 중인지 여부\n",
    "      gen.__next__(), # 다음 yield문까지 실행하고 값 반환\n",
    "      gen.send(4), # 생성기에 값 전달. 값을 전달하면 yield 표현식에 의해 반환되고 다음 yield까지 실행. send()는 다음 값을 반환.\n",
    "      gen.close(), sep='\\n') # 생성기 닫기. garbage collection 될 때 자동으로 호출됨\n",
    "\n",
    "# gen.throw(exc[,exc_value[,exc_tb]]) # 아직 사용법을 잘 모르겠음. 현재 yield문 위치에서 예외 발생"
   ]
  },
  {
   "cell_type": "markdown",
   "metadata": {},
   "source": [
    "### 분할 객체\n",
    "\n",
    "확장 분할 문법을 통해 주어지는 분할을 나타내는 객체 (분할된 리스트 객체가 아니라 '분할'을 나타내는 객체이다.) "
   ]
  },
  {
   "cell_type": "code",
   "execution_count": null,
   "metadata": {},
   "outputs": [],
   "source": [
    "s = slice(10, 20)\n",
    "print(s, type(s), sep='\\n')"
   ]
  },
  {
   "cell_type": "code",
   "execution_count": null,
   "metadata": {},
   "outputs": [],
   "source": [
    "print(s.start, s.stop, s.step, sep='\\n')"
   ]
  },
  {
   "cell_type": "code",
   "execution_count": null,
   "metadata": {},
   "outputs": [],
   "source": [
    "print(s.indices)\n",
    "print(s.indices(100))\n",
    "print(s.indices(15))"
   ]
  },
  {
   "cell_type": "markdown",
   "metadata": {},
   "source": [
    "### 생략(Ellipsis) 객체\n",
    "\n",
    "색인 검색 []에서 생략부호(...)가 있다는 것을 나타내는 데 사용된다.\n",
    "\n",
    "사용자 정의 객체에서 색인 연산자 [ ]에 대한 고급 기능을 제공할 때 유용하게 쓰인다."
   ]
  },
  {
   "cell_type": "code",
   "execution_count": 95,
   "metadata": {},
   "outputs": [
    {
     "name": "stdout",
     "output_type": "stream",
     "text": [
      "(3, Ellipsis, 4)\n"
     ]
    }
   ],
   "source": [
    "class Example(object):\n",
    "    def __getitem__(self, index):\n",
    "        print(index)\n",
    "e = Example()\n",
    "e[3, ..., 4]"
   ]
  },
  {
   "cell_type": "markdown",
   "metadata": {},
   "source": [
    "## 9. 객체의 작동 방식과 특수 메서드\n",
    "\n",
    "* 객체는 구현 기능에 따라 구분됨(ex: 순서열 타입(문자열, 리스트, 튜플 등)은 s[n], len(s) 같은 순서열 연산의 공통된 잡합을 구현한다는 이유로 함께 묶임)\n",
    "\n",
    "* 모든 기본적인 인터프리터 연산은 특수한 객체 메서드(이중밑줄로 시작해서 끝나는 메서드들)에 의해 구현되며 이 메서드들은 프로그램이 실행됨에 따라 인터프리터에 의해 자동으로 호출된다. \n",
    "\n",
    "> 예를 들면, \n",
    "\n",
    "> 연산 x + y 는 x.&#95;&#95;add&#95;&#95;(y)에 대응되고 \n",
    "\n",
    "> 색인 연산 x[k]는 x.&#95;&#95;getitem&#95;&#95;(k)에 대응된다.\n",
    "\n",
    "* 각 데이터 타입의 작동 방식은 온전히 그 타입이 구현하고 있는 특수한 메서드들의 집합에 따라 결정된다.(사용자 정의 클래스도 특수 메서드를 적절히 제공하면 내장 타입처럼 작동) 반대로 리스트, 딕트 같은 내장 타입도 상속 후 특수 메서드 일부를 재정의하면 특수화가 가능하다.\n",
    "\n"
   ]
  },
  {
   "cell_type": "markdown",
   "metadata": {},
   "source": [
    "### 1) 객체 생성 및 파괴\n",
    "\n",
    "인스턴스를 생성, 초기화, 파괴하는데 사용되는 메서드들\n",
    "\n",
    "\n",
    "```python\n",
    "__new__(cls, *args, **kwargs) # 인스턴스를 생성하기 위해 호출되는 클래스 메서드\n",
    "__init__(self, *args, **kwargs) # 객체 속성 초기화(객체 생성 직후 초기화 된다.)\n",
    "__del__(self) # 객체 파괴(객체 파괴 직전에 호출된다. del x 문은 참조 횟수를 감소시킬 뿐 반드시 이 메서드를 호출하지는 않음)\n",
    "```\n",
    "\n",
    "사용자 정의 객체 수준에서는 새로 정의할 일은 드문 메서드들"
   ]
  },
  {
   "cell_type": "markdown",
   "metadata": {},
   "source": [
    "### 2) 객체의 문자열 표현\n",
    "\n",
    "다음 메서드들은 객체의 다양한 문자열 표현 생성에 사용된다.\n",
    "\n",
    "```python \n",
    "__repr__(self) # 객체를 재생성하는 표현식 문자열을 반환함. 내장 함수인 repr()에 의해 호출된다.\n",
    "__str__(self) # 객체의 간단한 문자열 표현을 생성\n",
    "__format__(self, format_spec) # 포맷이 적용된 표현 생성. 표준 문법은 4장에서 설명\n",
    "```"
   ]
  },
  {
   "cell_type": "code",
   "execution_count": 101,
   "metadata": {},
   "outputs": [],
   "source": [
    "a = [2, 3, 4, 5] # 리스트 생성\n",
    "s = repr(a) # 리스트 a를 생성하는 표현식 문자열\n",
    "b = eval(s) # 실행 가능한 문자열(여기선 s)을 입력으로 받아 문자열을 실행한 결과값을 리턴하는 함수이다"
   ]
  },
  {
   "cell_type": "code",
   "execution_count": 102,
   "metadata": {},
   "outputs": [
    {
     "data": {
      "text/plain": [
       "'[2, 3, 4, 5]'"
      ]
     },
     "execution_count": 102,
     "metadata": {},
     "output_type": "execute_result"
    }
   ],
   "source": [
    "s"
   ]
  },
  {
   "cell_type": "code",
   "execution_count": 103,
   "metadata": {},
   "outputs": [
    {
     "data": {
      "text/plain": [
       "[2, 3, 4, 5]"
      ]
     },
     "execution_count": 103,
     "metadata": {},
     "output_type": "execute_result"
    }
   ],
   "source": [
    "b"
   ]
  },
  {
   "cell_type": "code",
   "execution_count": 104,
   "metadata": {},
   "outputs": [
    {
     "data": {
      "text/plain": [
       "\"<_io.TextIOWrapper name='foo.txt' mode='r' encoding='UTF-8'>\""
      ]
     },
     "execution_count": 104,
     "metadata": {},
     "output_type": "execute_result"
    }
   ],
   "source": [
    "f = open(\"foo.txt\") # foo.txt 파일을 오픈한 객체를 f에 할당\n",
    "a = repr(f) # a에 객체 f의 표현식을 할당\n",
    "a # 파일 객체의 문자열 표현식을 생성할 수 없는 경우이므로 메시지 형태의 문자열 반환"
   ]
  },
  {
   "cell_type": "markdown",
   "metadata": {},
   "source": [
    "### 3) 객체 비교와 순서 매기기\n",
    "\n",
    "```python\n",
    "__bool__(self) # 진리값을 검사하여 False나 True를 반환. 정의되지 않은 경우 __len()__메서드가 대신 사용된다.\n",
    "__hash__(self) # 정수 해시 색인을 계산. dict에서 key로 쓰일 수 있는 객체(immutable)에서 정의되어야 함. \n",
    "               # 동일한 두 객체에 이 메서드를 사용하면 해시 색인은 동일한 정수값이어야 한다.\n",
    "```\n",
    "\n",
    "* 객체는 하나 이상의 관계 연산자를 구현할 수 있다. <, >, <=, >=, ==, != \n",
    "\n",
    "* 객체에 이 모든 연산을 다 구현할 필욘 없지만 객체를 정렬, min(), max() 함수를 사용하려면 적어도 &#95;&#95;lt&#95;&#95;( )는 정의되어야 한다.\n",
    "\n",
    "```python\n",
    "__lt__(self, other) # self < other\n",
    "__le__(self, other) # self <= other\n",
    "__gt__(self, other) # self > other\n",
    "__ge__(self, other) # self >= other\n",
    "__eq__(self, other) # self == other\n",
    "__ne__(self, other) # self != other\n",
    "```\n"
   ]
  },
  {
   "cell_type": "markdown",
   "metadata": {},
   "source": [
    "### 4) 타입 검사\n",
    "\n",
    "```python\n",
    "__instancecheck__(cls, object) # 결과: isinstance(object, cls)\n",
    "__subclasscheck__(cls, sub) # 결과: issubclass(sub, cls)\n",
    "```\n",
    "\n",
    "isinstance()와 issubclass() 함수의 타입 검사 작동 방식을 재정의하는 데 사용된다"
   ]
  },
  {
   "cell_type": "markdown",
   "metadata": {},
   "source": [
    "### 5) 속성 접근\n",
    "\n",
    "객체의 속성을 읽거나 쓰는데 사용하는 메서드들\n",
    "\n",
    "```python\n",
    "__getattribute__(self, name) # self.name 속성을 반환한다\n",
    "__getattr__(self, name) # 보통의 속성 검색으로 찾을 수 없는 경우에 self.name 속성을 반환하거나 AttributeError 예외를 발생시킨다\n",
    "__setattr__(self, name, value) # self.name = value 속성을 설정한다. 보통의 방식대로 속성을 설정하는 대신 이 메서드가 호출된다.\n",
    "__delattr__(self, name) # self.name 속성을 삭제한다.\n",
    "```"
   ]
  },
  {
   "cell_type": "markdown",
   "metadata": {},
   "source": [
    "### 6) 속성 감싸기 및 기술자\n",
    "\n",
    "기술자(descriptor) 객체를 위한 특수 메서드: p.70 참조\n",
    "\n",
    "속성 조작과 관련해서 기술자를 사용할지의 여부는 선택적이며 직접 정의하는 경우는 드뭄\n",
    "\n",
    "pass"
   ]
  },
  {
   "cell_type": "markdown",
   "metadata": {},
   "source": [
    "### 7) 순서열 및 매핑 메서드"
   ]
  },
  {
   "cell_type": "markdown",
   "metadata": {},
   "source": [
    "p.70 표 3.18에 있는 메서드들은 순서열이나 매핑 객체를 흉내 내기 원하는 개체에 의해서 사용된다. "
   ]
  },
  {
   "cell_type": "code",
   "execution_count": null,
   "metadata": {},
   "outputs": [],
   "source": [
    "a = [1, 2, 3, 4, 5, 6] # a는 리스트이므로 순서열. a라는 객체에 대해 메서드들이 사용되는 예시는 아래와 같다\n",
    "\n",
    "len(a) # a.__len__()\n",
    "x = a[2] # x = a.__getitem__(2)\n",
    "a[1] = 7 # a.__setitem__(1,7)\n",
    "del a[2] # a.__delitem__(2)\n",
    "5 in a # a.__contains__(5)"
   ]
  },
  {
   "cell_type": "markdown",
   "metadata": {},
   "source": [
    "분할 연산도 \n",
    "```python\n",
    "__getitem__(), __setite__(), __delitem__()\n",
    "```\n",
    "으로 구현된다.\n",
    "\n",
    "단, 분할 연산에 대해서는 특수한 slice 객체가 키로서 전달된다. 이 객체는 요청된 분할의 범위를 설명하는 속성을 갖는다."
   ]
  },
  {
   "cell_type": "code",
   "execution_count": null,
   "metadata": {},
   "outputs": [],
   "source": [
    "a = [1, 2, 3, 4, 5, 6]\n",
    "\n",
    "x = a[1:5] # x = a.__getitem__(slice(1, 5, None))\n",
    "a[1:3] = [10, 11, 12] # a.__setitem__(slice(1, 3, None), [10, 11, 12])\n",
    "del a[1:4] # a.__delitem__(slice(1, 4, None))"
   ]
  },
  {
   "cell_type": "code",
   "execution_count": null,
   "metadata": {},
   "outputs": [],
   "source": [
    "m = [i for i in range(200)]"
   ]
  },
  {
   "cell_type": "code",
   "execution_count": null,
   "metadata": {},
   "outputs": [],
   "source": [
    "a = m[0:100:10]\n",
    "a"
   ]
  },
  {
   "cell_type": "markdown",
   "metadata": {},
   "source": [
    "![python image](python_numpy_indexing_slicing_ndarray.jpg)"
   ]
  },
  {
   "cell_type": "code",
   "execution_count": null,
   "metadata": {},
   "outputs": [],
   "source": [
    "import numpy as np\n",
    "\n",
    "a = np.array([[0, 1, 2, 3, 4], [5, 6, 7, 8, 9], [10, 11, 12, 13, 14], [15, 16, 17, 18, 19]])"
   ]
  },
  {
   "cell_type": "code",
   "execution_count": null,
   "metadata": {},
   "outputs": [],
   "source": [
    "b = a[0:3, 1:3]\n",
    "c = a[0:4:2, 1:4:2]"
   ]
  },
  {
   "cell_type": "code",
   "execution_count": null,
   "metadata": {},
   "outputs": [],
   "source": [
    "a"
   ]
  },
  {
   "cell_type": "code",
   "execution_count": null,
   "metadata": {},
   "outputs": [],
   "source": [
    "b"
   ]
  },
  {
   "cell_type": "code",
   "execution_count": null,
   "metadata": {},
   "outputs": [],
   "source": [
    "c"
   ]
  },
  {
   "cell_type": "code",
   "execution_count": null,
   "metadata": {},
   "outputs": [],
   "source": [
    "a = np.array([[0, 1, 2, 3, 4], [5, 6, 7, 8, 9], [10, 11, 12, 13, 14], [15, 16, 17, 18, 19]])\n",
    "a[0:4, 2:4] = 100\n",
    "a"
   ]
  },
  {
   "cell_type": "code",
   "execution_count": null,
   "metadata": {},
   "outputs": [],
   "source": [
    "del a[:2, :] # 2차원 배열 확장 분할 삭제 가능?"
   ]
  },
  {
   "cell_type": "code",
   "execution_count": null,
   "metadata": {},
   "outputs": [],
   "source": [
    "m = [i for i in range(100)]\n",
    "print(m, '\\n')\n",
    "del m[0:20]\n",
    "print(m)"
   ]
  },
  {
   "cell_type": "code",
   "execution_count": null,
   "metadata": {},
   "outputs": [],
   "source": [
    "a = np.array([[0, 1, 2, 3, 4], [5, 6, 7, 8, 9], [10, 11, 12, 13, 14], [15, 16, 17, 18, 19]])\n",
    "a"
   ]
  },
  {
   "cell_type": "code",
   "execution_count": null,
   "metadata": {},
   "outputs": [],
   "source": [
    "a[0:3]"
   ]
  },
  {
   "cell_type": "code",
   "execution_count": null,
   "metadata": {},
   "outputs": [],
   "source": [
    "k = a[..., 0:3] # Ellipsis를 사용한 확장 분할\n",
    "k"
   ]
  },
  {
   "cell_type": "markdown",
   "metadata": {},
   "source": [
    "확장 분할을 사용할 때 메서드에 전달되는 값은 정수가 아니라 slice나 Ellipsis 객체의 조합을 담은 튜플이다."
   ]
  },
  {
   "cell_type": "markdown",
   "metadata": {},
   "source": [
    "### 8) 반복\n",
    "\n",
    "객체 obj가 반복을 지원하면 obj는 반복자 객체를 반환하는 obj.&#95;&#95;iter&#95;&#95;()메서드를 제공해야 한다.\n",
    "\n",
    "반복자 객체 iter는 2 가지 역할 수행: (1)다음 번 객체 반환, (2)반복의 끝을 알리는 StopIteration예외 발생시킴\n",
    "\n",
    "파이썬 3에선 iter.&#95;&#95;next&#95;&#95;()가 그 역할을 한다"
   ]
  },
  {
   "cell_type": "code",
   "execution_count": null,
   "metadata": {},
   "outputs": [],
   "source": [
    "s = [0, 1, 2, 3, 4, 5]\n",
    "for i in s:\n",
    "    print(i)"
   ]
  },
  {
   "cell_type": "code",
   "execution_count": null,
   "metadata": {},
   "outputs": [],
   "source": [
    "# 위의 코드에서 for문은 다음과 동일한 단계들을 수행하고 있는 것\n",
    "\n",
    "_iter = s.__iter__()\n",
    "while 1:\n",
    "    try:\n",
    "        x = _iter.__next__()\n",
    "    except StopIteration:\n",
    "        break"
   ]
  },
  {
   "cell_type": "markdown",
   "metadata": {},
   "source": [
    "### 9) 수학 연산\n",
    "\n",
    "* 어떤 객체가 숫자 역할을 하기 위해서는 반드시 구현해야 하는 특수 메서드들이 있음. p. 73 참조\n",
    "\n",
    "* 수학 연산은 우선순위 규칙에 따라 항상 왼쪽에서 오른쪽으로 평가됨\n",
    "\n",
    "> x + y는 x.&#95;&#95;add&#95;&#95;(y)로 연산됨\n",
    "\n",
    "* &#95;&#95;radd&#95;&#95; 처럼 r로 시작하는 특수 메서드는 순서가 반대. \n",
    "\n",
    "> x + y에서 x가 &#95;&#95;add&#95;&#95;()를 지원하지 않을 때 인터프리터는 y.&#95;&#95;radd&#95;&#95;(x) 메서드를 호출하려고 시도함"
   ]
  },
  {
   "cell_type": "markdown",
   "metadata": {},
   "source": [
    "### 10) 호출 가능 인터페이스\n",
    "\n",
    "객체는 &#95;&#95;call&#95;&#95;(self, \\*args, \\**kwargs) 메서드를 제공함으로써 함수를 흉내 낼 수 있음\n",
    "\n",
    "객체 x가 이를 제공할 경우 x(arg1, arg2, ...)는 x.&#95;&#95;call&#95;&#95;(self, arg1, arg2, ...)를 호출한다.\n",
    "\n",
    "이런 객체는 functor나 proxy를 생성하는데 유용"
   ]
  },
  {
   "cell_type": "code",
   "execution_count": null,
   "metadata": {},
   "outputs": [],
   "source": [
    "class DistanceFrom(object):\n",
    "    def __init__(self, origin):\n",
    "        self.origin = origin\n",
    "    def __call__(self, x):\n",
    "        return abs(x - self.origin)"
   ]
  },
  {
   "cell_type": "code",
   "execution_count": null,
   "metadata": {},
   "outputs": [],
   "source": [
    "nums = [1, 37, 42, 101, 13, 9, -20]\n",
    "nums.sort(key=DistanceFrom(10)) # 10에서의 거리로 정렬"
   ]
  },
  {
   "cell_type": "code",
   "execution_count": null,
   "metadata": {},
   "outputs": [],
   "source": [
    "nums"
   ]
  },
  {
   "cell_type": "markdown",
   "metadata": {},
   "source": [
    "위 예시에서 DistanceFrom 클래스는 `'하나의 인수를 받는 함수를 흉내내는 인스턴스'`를 생성"
   ]
  },
  {
   "cell_type": "markdown",
   "metadata": {},
   "source": [
    "### 11) 컨텍스트 관리 프로토콜"
   ]
  },
  {
   "cell_type": "markdown",
   "metadata": {},
   "source": [
    "with문은 context manager라고 불리는 객체의 제어 하에서 일련의 문장들을 실행하는 데 사용된다.\n",
    "\n",
    "일단 패스\n"
   ]
  },
  {
   "cell_type": "markdown",
   "metadata": {},
   "source": [
    "### 12) 객체 검사와 dir( )"
   ]
  },
  {
   "cell_type": "markdown",
   "metadata": {},
   "source": [
    "dir()함수는 객체를 검사하는 데 주로 사용됨\n",
    "\n",
    "객체는 &#95;&#95;dir&#95;&#95;(self)를 구현함으로써 dir()에 의해 반환되는 이름 목록을 제공할 수 있다.\n",
    "\n",
    "인스턴스나 객체의 &#95;&#95;dict&#95;&#95;속성을 검사하면 정의된 모든 것을 볼 수 있다."
   ]
  }
 ],
 "metadata": {
  "kernelspec": {
   "display_name": "Python 3",
   "language": "python",
   "name": "python3"
  },
  "language_info": {
   "codemirror_mode": {
    "name": "ipython",
    "version": 3
   },
   "file_extension": ".py",
   "mimetype": "text/x-python",
   "name": "python",
   "nbconvert_exporter": "python",
   "pygments_lexer": "ipython3",
   "version": "3.6.4"
  }
 },
 "nbformat": 4,
 "nbformat_minor": 2
}
