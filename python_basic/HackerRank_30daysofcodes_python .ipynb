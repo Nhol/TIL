{
 "cells": [
  {
   "cell_type": "markdown",
   "metadata": {},
   "source": [
    "# HackerRank: 30 days of code"
   ]
  },
  {
   "cell_type": "code",
   "execution_count": 2,
   "metadata": {},
   "outputs": [
    {
     "name": "stdout",
     "output_type": "stream",
     "text": [
      "sf\n",
      "Hello, World.\n",
      "sf\n"
     ]
    }
   ],
   "source": [
    "# Day 0\n",
    "input_string = input()\n",
    "\n",
    "# Print a string literal saying \"Hello, World.\" to stdout.\n",
    "print('Hello, World.')\n",
    "\n",
    "# TODO: Write a line of code here that prints the contents of input_string to stdout.\n",
    "print(input_string)"
   ]
  },
  {
   "cell_type": "code",
   "execution_count": 3,
   "metadata": {},
   "outputs": [
    {
     "name": "stdout",
     "output_type": "stream",
     "text": [
      "16\n",
      "8.0\n",
      "HackerRank is the best place to learn and practice coding!\n"
     ]
    }
   ],
   "source": [
    "# Day 1\n",
    "i = 4\n",
    "d = 4.0\n",
    "s = 'HackerRank'\n",
    "\n",
    "# Declare second integer, double, and String variables.\n",
    "i_2 = int()\n",
    "d_2 = float()\n",
    "s_2 = str()\n",
    "\n",
    "# Read and save an integer, double, and String to your variables.\n",
    "i_2 = 12\n",
    "d_2 = 4.0\n",
    "s_2 = '''is the best place to learn and practice coding!'''\n",
    "\n",
    "# Print the sum of both integer variables on a new line.\n",
    "print(i + i_2)\n",
    "\n",
    "# Print the sum of the double variables on a new line.\n",
    "print(d + d_2)\n",
    "\n",
    "# Concatenate and print the String variables on a new line\n",
    "print(s, s_2)\n",
    "\n",
    "# The 's' variable above should be printed first.\n"
   ]
  },
  {
   "cell_type": "code",
   "execution_count": 4,
   "metadata": {},
   "outputs": [
    {
     "name": "stdout",
     "output_type": "stream",
     "text": [
      "23\n",
      "5\n",
      "5\n",
      "The total meal cost is 25 dollars.\n"
     ]
    }
   ],
   "source": [
    "# Day 2\n",
    "\n",
    "def get_total_cost_of_meal():\n",
    "    # original meal price\n",
    "    meal_cost = float(input())\n",
    "    # tip percentage\n",
    "    tip_percent = int(input())\n",
    "    # tax percentage\n",
    "    tax_percent = int(input())\n",
    "\n",
    "    # Write your calculation code here\n",
    "    tip = meal_cost * tip_percent/100 # calculate tip\n",
    "    tax = meal_cost * tax_percent/100 # caclulate tax\n",
    "\n",
    "    # cast the result of the rounding operation to an int and save it as total_cost \n",
    "    total_cost = int(round(meal_cost + tip + tax))\n",
    "    \n",
    "    return str(total_cost)\n",
    "\n",
    "# Print your result\n",
    "print(\"The total meal cost is \" + get_total_cost_of_meal() + \" dollars.\")"
   ]
  },
  {
   "cell_type": "code",
   "execution_count": 5,
   "metadata": {},
   "outputs": [
    {
     "name": "stdout",
     "output_type": "stream",
     "text": [
      "67\n",
      "Weird\n"
     ]
    }
   ],
   "source": [
    "# Day 3\n",
    "\n",
    "N = int(input().strip())\n",
    "\n",
    "if N%2 != 0:\n",
    "    print('Weird')\n",
    "    \n",
    "else: \n",
    "    if (N>=2)&(N <=5):\n",
    "        print('Not Weird')\n",
    "\n",
    "    elif (N>=6)&(N <=20):\n",
    "        print('Weird')\n",
    "\n",
    "    elif N > 20:\n",
    "        print('Not Weird')\n",
    "\n",
    "\n"
   ]
  },
  {
   "cell_type": "code",
   "execution_count": 62,
   "metadata": {},
   "outputs": [],
   "source": [
    "# Day 4\n",
    "\n",
    "class Person:\n",
    "    def __init__(self,initialAge):\n",
    "        self.initialAge = initialAge\n",
    "        if self.initialAge < 0:\n",
    "            self.initialAge = 0\n",
    "            print('Age is not valid, setting age to {}.'.format(self.initialAge))\n",
    "        else:\n",
    "            self.initialAge\n",
    "        \n",
    "        # Add some more code to run some checks on initialAge\n",
    "    def amIOld(self):\n",
    "        if self.initialAge < 13:\n",
    "            print('{} You are young.'.format(self.initialAge))\n",
    "            \n",
    "        elif (self.initialAge>=13)&(self.initialAge<18):\n",
    "            print('{} You are a teenager.'.format(self.initialAge))\n",
    "        \n",
    "        else:\n",
    "            print('{} You are old.'.format(self.initialAge))\n",
    "        \n",
    "        # Do some computations in here and print out the correct statement to the console\n",
    "    def yearPasses(self):        \n",
    "        self.initialAge += 1\n",
    "        return self.initialAge\n",
    "        # Increment the age of the person in here   "
   ]
  },
  {
   "cell_type": "code",
   "execution_count": 63,
   "metadata": {},
   "outputs": [
    {
     "name": "stdout",
     "output_type": "stream",
     "text": [
      "20 You are old.\n"
     ]
    }
   ],
   "source": [
    "p = Person(20)\n",
    "p.amIOld()"
   ]
  },
  {
   "cell_type": "code",
   "execution_count": 66,
   "metadata": {},
   "outputs": [
    {
     "name": "stdout",
     "output_type": "stream",
     "text": [
      "10 You are young.\n",
      "13 You are a teenager.\n",
      "\n",
      "10 You are young.\n",
      "13 You are a teenager.\n",
      "\n",
      "10 You are young.\n",
      "13 You are a teenager.\n",
      "\n",
      "10 You are young.\n",
      "13 You are a teenager.\n",
      "\n"
     ]
    }
   ],
   "source": [
    "t = int(input())\n",
    "for i in range(0, t):\n",
    "    age = int(input())\n",
    "    p = Person(age)\n",
    "    p.amIOld()\n",
    "    for j in range(0, 3):\n",
    "        p.yearPasses()\n",
    "    p.amIOld()\n",
    "    print(\"\")"
   ]
  },
  {
   "cell_type": "code",
   "execution_count": null,
   "metadata": {
    "collapsed": true
   },
   "outputs": [],
   "source": []
  },
  {
   "cell_type": "code",
   "execution_count": null,
   "metadata": {
    "collapsed": true
   },
   "outputs": [],
   "source": []
  },
  {
   "cell_type": "code",
   "execution_count": null,
   "metadata": {
    "collapsed": true
   },
   "outputs": [],
   "source": []
  },
  {
   "cell_type": "code",
   "execution_count": null,
   "metadata": {
    "collapsed": true
   },
   "outputs": [],
   "source": []
  },
  {
   "cell_type": "code",
   "execution_count": null,
   "metadata": {
    "collapsed": true
   },
   "outputs": [],
   "source": []
  },
  {
   "cell_type": "code",
   "execution_count": null,
   "metadata": {
    "collapsed": true
   },
   "outputs": [],
   "source": []
  },
  {
   "cell_type": "code",
   "execution_count": null,
   "metadata": {
    "collapsed": true
   },
   "outputs": [],
   "source": []
  }
 ],
 "metadata": {
  "kernelspec": {
   "display_name": "Python 3",
   "language": "python",
   "name": "python3"
  },
  "language_info": {
   "codemirror_mode": {
    "name": "ipython",
    "version": 3
   },
   "file_extension": ".py",
   "mimetype": "text/x-python",
   "name": "python",
   "nbconvert_exporter": "python",
   "pygments_lexer": "ipython3",
   "version": "3.6.1"
  }
 },
 "nbformat": 4,
 "nbformat_minor": 2
}
