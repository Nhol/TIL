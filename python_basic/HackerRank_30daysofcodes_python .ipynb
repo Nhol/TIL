{
 "cells": [
  {
   "cell_type": "markdown",
   "metadata": {},
   "source": [
    "# HackerRank: 30 days of code"
   ]
  },
  {
   "cell_type": "code",
   "execution_count": 2,
   "metadata": {},
   "outputs": [
    {
     "name": "stdout",
     "output_type": "stream",
     "text": [
      "sf\n",
      "Hello, World.\n",
      "sf\n"
     ]
    }
   ],
   "source": [
    "# Day 0\n",
    "input_string = input()\n",
    "\n",
    "# Print a string literal saying \"Hello, World.\" to stdout.\n",
    "print('Hello, World.')\n",
    "\n",
    "# TODO: Write a line of code here that prints the contents of input_string to stdout.\n",
    "print(input_string)"
   ]
  },
  {
   "cell_type": "code",
   "execution_count": 3,
   "metadata": {},
   "outputs": [
    {
     "name": "stdout",
     "output_type": "stream",
     "text": [
      "16\n",
      "8.0\n",
      "HackerRank is the best place to learn and practice coding!\n"
     ]
    }
   ],
   "source": [
    "# Day 1\n",
    "i = 4\n",
    "d = 4.0\n",
    "s = 'HackerRank'\n",
    "\n",
    "# Declare second integer, double, and String variables.\n",
    "i_2 = int()\n",
    "d_2 = float()\n",
    "s_2 = str()\n",
    "\n",
    "# Read and save an integer, double, and String to your variables.\n",
    "i_2 = 12\n",
    "d_2 = 4.0\n",
    "s_2 = '''is the best place to learn and practice coding!'''\n",
    "\n",
    "# Print the sum of both integer variables on a new line.\n",
    "print(i + i_2)\n",
    "\n",
    "# Print the sum of the double variables on a new line.\n",
    "print(d + d_2)\n",
    "\n",
    "# Concatenate and print the String variables on a new line\n",
    "print(s, s_2)\n",
    "\n",
    "# The 's' variable above should be printed first.\n"
   ]
  },
  {
   "cell_type": "code",
   "execution_count": 4,
   "metadata": {},
   "outputs": [
    {
     "name": "stdout",
     "output_type": "stream",
     "text": [
      "23\n",
      "5\n",
      "5\n",
      "The total meal cost is 25 dollars.\n"
     ]
    }
   ],
   "source": [
    "# Day 2\n",
    "\n",
    "def get_total_cost_of_meal():\n",
    "    # original meal price\n",
    "    meal_cost = float(input())\n",
    "    # tip percentage\n",
    "    tip_percent = int(input())\n",
    "    # tax percentage\n",
    "    tax_percent = int(input())\n",
    "\n",
    "    # Write your calculation code here\n",
    "    tip = meal_cost * tip_percent/100 # calculate tip\n",
    "    tax = meal_cost * tax_percent/100 # caclulate tax\n",
    "\n",
    "    # cast the result of the rounding operation to an int and save it as total_cost \n",
    "    total_cost = int(round(meal_cost + tip + tax))\n",
    "    \n",
    "    return str(total_cost)\n",
    "\n",
    "# Print your result\n",
    "print(\"The total meal cost is \" + get_total_cost_of_meal() + \" dollars.\")"
   ]
  },
  {
   "cell_type": "code",
   "execution_count": 5,
   "metadata": {},
   "outputs": [
    {
     "name": "stdout",
     "output_type": "stream",
     "text": [
      "67\n",
      "Weird\n"
     ]
    }
   ],
   "source": [
    "# Day 3\n",
    "\n",
    "N = int(input().strip())\n",
    "\n",
    "if N%2 != 0:\n",
    "    print('Weird')\n",
    "    \n",
    "else: \n",
    "    if (N>=2)&(N <=5):\n",
    "        print('Not Weird')\n",
    "\n",
    "    elif (N>=6)&(N <=20):\n",
    "        print('Weird')\n",
    "\n",
    "    elif N > 20:\n",
    "        print('Not Weird')\n",
    "\n",
    "\n"
   ]
  },
  {
   "cell_type": "code",
   "execution_count": 62,
   "metadata": {
    "collapsed": true
   },
   "outputs": [],
   "source": [
    "# Day 4\n",
    "\n",
    "class Person:\n",
    "    def __init__(self,initialAge):\n",
    "        self.initialAge = initialAge\n",
    "        if self.initialAge < 0:\n",
    "            self.initialAge = 0\n",
    "            print('Age is not valid, setting age to {}.'.format(self.initialAge))\n",
    "        else:\n",
    "            self.initialAge\n",
    "        \n",
    "        # Add some more code to run some checks on initialAge\n",
    "    def amIOld(self):\n",
    "        if self.initialAge < 13:\n",
    "            print('{} You are young.'.format(self.initialAge))\n",
    "            \n",
    "        elif (self.initialAge>=13)&(self.initialAge<18):\n",
    "            print('{} You are a teenager.'.format(self.initialAge))\n",
    "        \n",
    "        else:\n",
    "            print('{} You are old.'.format(self.initialAge))\n",
    "        \n",
    "        # Do some computations in here and print out the correct statement to the console\n",
    "    def yearPasses(self):        \n",
    "        self.initialAge += 1\n",
    "        return self.initialAge\n",
    "        # Increment the age of the person in here   "
   ]
  },
  {
   "cell_type": "code",
   "execution_count": 63,
   "metadata": {},
   "outputs": [
    {
     "name": "stdout",
     "output_type": "stream",
     "text": [
      "20 You are old.\n"
     ]
    }
   ],
   "source": [
    "p = Person(20)\n",
    "p.amIOld()"
   ]
  },
  {
   "cell_type": "code",
   "execution_count": 66,
   "metadata": {},
   "outputs": [
    {
     "name": "stdout",
     "output_type": "stream",
     "text": [
      "10 You are young.\n",
      "13 You are a teenager.\n",
      "\n",
      "10 You are young.\n",
      "13 You are a teenager.\n",
      "\n",
      "10 You are young.\n",
      "13 You are a teenager.\n",
      "\n",
      "10 You are young.\n",
      "13 You are a teenager.\n",
      "\n"
     ]
    }
   ],
   "source": [
    "t = int(input())\n",
    "for i in range(0, t):\n",
    "    age = int(input())\n",
    "    p = Person(age)\n",
    "    p.amIOld()\n",
    "    for j in range(0, 3):\n",
    "        p.yearPasses()\n",
    "    p.amIOld()\n",
    "    print(\"\")"
   ]
  },
  {
   "cell_type": "code",
   "execution_count": 1,
   "metadata": {},
   "outputs": [
    {
     "name": "stdout",
     "output_type": "stream",
     "text": [
      "2\n",
      "2 x 1 = 2\n",
      "2 x 2 = 4\n",
      "2 x 3 = 6\n",
      "2 x 4 = 8\n",
      "2 x 5 = 10\n",
      "2 x 6 = 12\n",
      "2 x 7 = 14\n",
      "2 x 8 = 16\n",
      "2 x 9 = 18\n",
      "2 x 10 = 20\n"
     ]
    }
   ],
   "source": [
    "# Day 5\n",
    "\n",
    "n = int(input().strip())\n",
    "for i in range(1, 10+1):\n",
    "    print('{} x {} = {}'.format(n, i, n*i))"
   ]
  },
  {
   "cell_type": "code",
   "execution_count": 30,
   "metadata": {},
   "outputs": [
    {
     "name": "stdout",
     "output_type": "stream",
     "text": [
      "2\n",
      "you\n",
      "yu o\n",
      "plunger&barrel\n",
      "pugrbre lne&arl\n"
     ]
    }
   ],
   "source": [
    "# Day 6\n",
    "\n",
    "T = int(input())\n",
    "for i in range(T):\n",
    "    oddth_char = \"\"\n",
    "    eventh_char = \"\"\n",
    "    S = str(input())\n",
    "    for i in range(len(S)):\n",
    "        if i % 2 == 1:\n",
    "            oddth_char += S[i]\n",
    "        else:\n",
    "            eventh_char += S[i]\n",
    "    print(eventh_char + \" \" + oddth_char)"
   ]
  },
  {
   "cell_type": "code",
   "execution_count": 52,
   "metadata": {},
   "outputs": [
    {
     "name": "stdout",
     "output_type": "stream",
     "text": [
      "4\n",
      "2 4 6 8\n",
      "8 6 4 2 \n"
     ]
    }
   ],
   "source": [
    "# Day 7\n",
    "\n",
    "n = int(input().strip())\n",
    "arr = [int(arr_temp) for arr_temp in input().strip().split(' ')]\n",
    "reverse_arr = \"\"\n",
    "for i in range(n):\n",
    "    reverse_arr += str(arr[-(i+1)]) + ' '\n",
    "print(reverse_arr)"
   ]
  },
  {
   "cell_type": "code",
   "execution_count": 66,
   "metadata": {},
   "outputs": [
    {
     "name": "stdout",
     "output_type": "stream",
     "text": [
      "3\n",
      "sam 99912222\n",
      "tom 11122222\n",
      "harry 12299933\n",
      "sam\n",
      "sam=99912222\n",
      "edward\n",
      "Not found\n",
      "harry\n",
      "harry=12299933\n"
     ]
    }
   ],
   "source": [
    "# Day 8\n",
    "\n",
    "n = int(input())\n",
    "phonebook = {}\n",
    "for i in range(n):\n",
    "    input_data = str(input())\n",
    "    data = input_data.split(' ')\n",
    "    phonebook[data[0]] = data[1]\n",
    "\n",
    "for i in range(n):\n",
    "    input_name = str(input())\n",
    "    if input_name in phonebook.keys():\n",
    "        print('{}={}'.format(input_name, phonebook[input_name]))\n",
    "    else:\n",
    "        print('Not found')\n",
    "    \n",
    "\n",
    "    "
   ]
  },
  {
   "cell_type": "code",
   "execution_count": 71,
   "metadata": {},
   "outputs": [
    {
     "name": "stdout",
     "output_type": "stream",
     "text": [
      "10\n",
      "3628800\n"
     ]
    }
   ],
   "source": [
    "# Day 9\n",
    "\n",
    "def factorial(n):\n",
    "    result = 1\n",
    "    while True:\n",
    "        result *= n\n",
    "        n += -1\n",
    "        if n == 1:\n",
    "            break\n",
    "    return result\n",
    "            \n",
    "\n",
    "if __name__ == \"__main__\":\n",
    "    n = int(input().strip())\n",
    "    result = factorial(n)\n",
    "    print(result)\n"
   ]
  },
  {
   "cell_type": "code",
   "execution_count": 70,
   "metadata": {},
   "outputs": [
    {
     "data": {
      "text/plain": [
       "120"
      ]
     },
     "execution_count": 70,
     "metadata": {},
     "output_type": "execute_result"
    }
   ],
   "source": []
  },
  {
   "cell_type": "code",
   "execution_count": null,
   "metadata": {
    "collapsed": true
   },
   "outputs": [],
   "source": []
  }
 ],
 "metadata": {
  "kernelspec": {
   "display_name": "Python 3",
   "language": "python",
   "name": "python3"
  },
  "language_info": {
   "codemirror_mode": {
    "name": "ipython",
    "version": 3
   },
   "file_extension": ".py",
   "mimetype": "text/x-python",
   "name": "python",
   "nbconvert_exporter": "python",
   "pygments_lexer": "ipython3",
   "version": "3.6.1"
  }
 },
 "nbformat": 4,
 "nbformat_minor": 2
}
