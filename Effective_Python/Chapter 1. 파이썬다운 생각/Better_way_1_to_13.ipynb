{
 "cells": [
  {
   "cell_type": "markdown",
   "metadata": {},
   "source": [
    "# Chapter 1. 파이썬다운(pythonic) 생각"
   ]
  },
  {
   "cell_type": "code",
   "execution_count": 11,
   "metadata": {},
   "outputs": [
    {
     "name": "stdout",
     "output_type": "stream",
     "text": [
      "The Zen of Python, by Tim Peters\n",
      "\n",
      "Beautiful is better than ugly.\n",
      "Explicit is better than implicit.\n",
      "Simple is better than complex.\n",
      "Complex is better than complicated.\n",
      "Flat is better than nested.\n",
      "Sparse is better than dense.\n",
      "Readability counts.\n",
      "Special cases aren't special enough to break the rules.\n",
      "Although practicality beats purity.\n",
      "Errors should never pass silently.\n",
      "Unless explicitly silenced.\n",
      "In the face of ambiguity, refuse the temptation to guess.\n",
      "There should be one-- and preferably only one --obvious way to do it.\n",
      "Although that way may not be obvious at first unless you're Dutch.\n",
      "Now is better than never.\n",
      "Although never is often better than *right* now.\n",
      "If the implementation is hard to explain, it's a bad idea.\n",
      "If the implementation is easy to explain, it may be a good idea.\n",
      "Namespaces are one honking great idea -- let's do more of those!\n"
     ]
    }
   ],
   "source": [
    "import this"
   ]
  },
  {
   "cell_type": "markdown",
   "metadata": {},
   "source": [
    "## 1. 사용 중인 파이썬의 버전을 알자\n",
    "\n",
    "* shell에서는 다음과 같이 확인 가능\n",
    "\n",
    "```shell\n",
    "$ python --version\n",
    "```\n",
    "\n",
    "* 파이썬 내장모듈 sys 안의 값을 조사하여 런타임에 사용 중인 파이썬의 버전을 알아낼 수도 있음"
   ]
  },
  {
   "cell_type": "code",
   "execution_count": 14,
   "metadata": {},
   "outputs": [
    {
     "name": "stdout",
     "output_type": "stream",
     "text": [
      "sys.version_info(major=3, minor=6, micro=4, releaselevel='final', serial=0)\n"
     ]
    }
   ],
   "source": [
    "import sys\n",
    "print(sys.version_info)"
   ]
  },
  {
   "cell_type": "code",
   "execution_count": 16,
   "metadata": {},
   "outputs": [
    {
     "name": "stdout",
     "output_type": "stream",
     "text": [
      "3.6.4 |Anaconda, Inc.| (default, Jan 16 2018, 12:04:33) \n",
      "[GCC 4.2.1 Compatible Clang 4.0.1 (tags/RELEASE_401/final)]\n"
     ]
    }
   ],
   "source": [
    "print(sys.version)"
   ]
  },
  {
   "cell_type": "markdown",
   "metadata": {},
   "source": [
    "## 2. PEP 8 스타일 가이드를 따르자\n",
    "\n",
    "* 파이썬 개선 제안서(Python Enhancement Proposal) #8을 의미\n",
    "\n",
    "**1) 화이트스페이스(whitespace)**\n",
    "    \n",
    "* 들여쓰기는 탭이 아닌 스페이스로\n",
    "* 문법적으로 의미 있는 들여쓰기는 각 수준마다 스페이스 4개\n",
    "* 한 줄의 문자 길이는 79자 이하(논란은 있으나)\n",
    "* 표현씩이 길어서 다음 줄로 이어지면 일반적인 들여쓰기 수준에 추가로 스페이스 4개\n",
    "* 파일에서 함수와 클래스는 빈 줄 두 개로 구분\n",
    "* 클래스에서 메서드는 빈 줄 하나로 구분\n",
    "* 리스트 인덱스, 함수 호출, 키워드 인수 할당에는 스페이스 사용하지 않음: df[1:4], foo(), bar(a=1) \n",
    "* 변수 할당 앞뒤에 스페이스 하나만 사용: a = 1\n",
    "\n",
    "**2) 명명(naming)**\n",
    "    \n",
    "* 함수, 변수, 속성은 lowercse_underscore\n",
    "* 보호 인스턴스 속성은 _leading_underscore 형식\n",
    "* 비공개 인스턴스 속성은 __double_leading_underscore 형식\n",
    "* 클래스와 예외는 CapitalizedWord(camel case)\n",
    "* 모듈 수준 상수는 ALL_CAPS\n",
    "* 클래스의 인스턴스 메서드에서는 첫 번째 파라미터(해당 객체를 참조)의 이름을 self로 지정\n",
    "* 클래스 메서드에서는 첫 번째 파라미터(해당 클래스를 참조)의 이름을 cls로 지정\n",
    "    \n",
    "**3) 표현식과 문장(expression and statement)**\n",
    "    \n",
    "* 긍정 표현식의 부정 대신 인라인 부정을 사용\n",
    "    * if not a is b 보다는 if a is not b를 사용\n",
    "    \n",
    "    \n",
    "* 길이를 확인하여 빈 값을 확인하지 않음. \n",
    "    * if len(somelist) == 0 보다는 if not somelist 를 사용\n",
    "    * 즉, 빈 값은 암시적으로 False가 된다고 가정한다.\n",
    "    * 비어 있지 않은 값([1, 2], 'hi' 등...)에도 이 방식이 적용됨. 즉, 값이 비어 있지 않은 값은 if somelist가 True가 된다.\n",
    "\n",
    "\n",
    "* 한 줄로 된 if문, for와 while 루프문, except 복합문을 쓰지 않는다. 이런 문장은 여러 줄로 나눠서 명료하게 작성한다.\n",
    "\n",
    "\n",
    "* 항상 파일의 맨 위에 import문\n",
    "\n",
    "\n",
    "* 모듈 임포트 시에는 항상 모듈의 절대 경로를 사용할 것\n",
    "    * 현재 모듈의 경로를 기준으로 상대 경로로 된 이름을 사용하지 않는다. \n",
    "    * 즉, bar 패키지의 foo 모듈을 임포트 할 때 import foo가 아닌 from bar import foo라고 해야 한다.\n",
    "\n",
    "\n",
    "* 상대적인 임포트를 해야 한다면 명시적인 구문을 사용할 것. \n",
    "    * from . import foo\n",
    "\n",
    "\n",
    "* 임포트 순서\n",
    "    * 표준 라이브러리 모듈: 파이썬 내장모듈\n",
    "    * 서드파티 모듈: pip install 등으로 설치해야 하는 모듈\n",
    "    * 자신이 만든 모듈\n",
    "    * 각각의 하위 섹션에서는 알파벳 순으로"
   ]
  },
  {
   "cell_type": "markdown",
   "metadata": {},
   "source": [
    "## 3. bytes, str, unicode의 차이점을 알자\n",
    "\n",
    "* 파이썬3에서는 bytes와 str 두 가지 타입으로 문자 시퀀스를 나타냄\n",
    "    * bytes 인스턴스는 raw 8비트 값을 저장, str 인스턴스는 유니코드 문자를 저장\n",
    "\n",
    "\n",
    "* 파이썬2에서는 str과 unicode 두 가지 타입으로 문자 시퀀스를 나타냄\n",
    "    * str 인스턴스가 raw 8비트 값을 저장, unicode 인스턴스는 유니코드 문자를 저장\n",
    "\n",
    "\n",
    "* 유니코드 문자를 바이너리 데이터(raw 8bit 값)로 표현하는 방법은 많음. 가장 일반적인 방법이 UTF-8\n",
    "\n",
    "\n",
    "* 파이썬3의 str 인스턴스와 파이썬2의 unicode 인스턴스는 연관된 바이너리 인코딩이 없음\\\n",
    "    * 유니코드 문자를 바이너리 데이터로 변환하려면 encode 메서드 사용해야 함\n",
    "    * 바이너리 데이터를 유니코드 문자로 변환하려면 decode 메서드 사용해야 함\n",
    "    \n",
    "    \n",
    "* 외부에 제공할 인터페이스에서는 유니코드를 인코드 및 디코드 해줘야 함. \n",
    "    * 프로그램 핵심 부분에서는 유니코드 문자 타입을 사용하되 문자 인코딩에 대해선 어떤 가정도 하지 말 것.\n",
    "    * 이렇게 해야 출력 텍스트의 인코딩으로 이상적으론 UTF-8을 유지하면서 다른 텍스트 인코딩을 쉽게 수용 가능"
   ]
  },
  {
   "cell_type": "markdown",
   "metadata": {},
   "source": [
    "* 파이썬에서는 문자 타입이 분리되어 있기 때문에 파이썬 코드에서는 일반적으로 다음 두 가지 상황을 경험하게 됨\n",
    "    * UTF-8(혹은 다른 인코딩)으로 인코드 된 문자인 raw 8 bit 값을 처리하려는 상황\n",
    "    * 인코딩이 없는 유니코드 문자를 처리하려는 상황\n",
    "    \n",
    "    => 이 두 경우 사이에서 변환하고 코드에서 원하는 타입과 입력값의 타입이 정확히 일치하려면 헬퍼 함수 두 개가 필요"
   ]
  },
  {
   "cell_type": "code",
   "execution_count": 18,
   "metadata": {},
   "outputs": [],
   "source": [
    "# str이나 bytes를 입력으로 받고 str을 반환하는 메서드\n",
    "\n",
    "def to_str(bytes_or_str):\n",
    "    if isinstance(bytes_or_str, bytes):\n",
    "        value = bytes_or_str.decode('utf-8')\n",
    "    else:\n",
    "        value = bytes_or_str\n",
    "    return value # str 인스턴스"
   ]
  },
  {
   "cell_type": "code",
   "execution_count": 19,
   "metadata": {},
   "outputs": [],
   "source": [
    "# str이나 bytes를 입력으로 받고 bytes를 반환하는 메서드\n",
    "\n",
    "def to_bytes(bytes_or_str):\n",
    "    if isinstance(bytes_or_str, str):\n",
    "        value = bytes_or_str.encode('utf-8')\n",
    "    else:\n",
    "        value = bytes_or_str\n",
    "    return value # bytes 인스턴스"
   ]
  },
  {
   "cell_type": "markdown",
   "metadata": {},
   "source": [
    "파이썬 2의 관련 내용은 생략"
   ]
  },
  {
   "cell_type": "markdown",
   "metadata": {},
   "source": [
    "## 4. 복잡한 표현식 대신 헬퍼 함수를 작성하자"
   ]
  },
  {
   "cell_type": "code",
   "execution_count": 21,
   "metadata": {},
   "outputs": [
    {
     "name": "stdout",
     "output_type": "stream",
     "text": [
      "{'red': ['5'], 'blue': ['0'], 'green': ['']}\n"
     ]
    }
   ],
   "source": [
    "# 예시: URL에서 쿼리 문자열을 디코드하는 경우. 아래 예시에서 쿼리의 문자열 파라미터는 정수 값을 표현한다. \n",
    "\n",
    "from urllib.parse import parse_qs\n",
    "my_values = parse_qs('red=5&blue=0&green=', keep_blank_values=True)\n",
    "print(repr(my_values))"
   ]
  },
  {
   "cell_type": "markdown",
   "metadata": {},
   "source": [
    "* 참고: str과 repr 내장함수의 차이\n",
    "\n",
    "\n",
    "| 구분        | str                          | repr                                     |\n",
    "|-------------|------------------------------|------------------------------------------|\n",
    "| 성격        | 비공식적인 문자열 출력       | 공식적인 문자열 출력                     |\n",
    "| 사용목적    | 사용자가 보기 쉽게 하기 위해 | 문자열로 객체를 다시 생성할 수 있기 위해 |\n",
    "| 누구를 위해 | 프로그램 사용자(end user)    | 프로그램 개발자(developer)               |"
   ]
  },
  {
   "cell_type": "code",
   "execution_count": 37,
   "metadata": {},
   "outputs": [
    {
     "data": {
      "text/plain": [
       "datetime.datetime(2017, 9, 27, 0, 0)"
      ]
     },
     "execution_count": 37,
     "metadata": {},
     "output_type": "execute_result"
    }
   ],
   "source": [
    "import datetime\n",
    "\n",
    "a = datetime.datetime(2017, 9, 27)\n",
    "b = repr(a)\n",
    "eval(b)\n",
    "datetime.datetime(2017, 9, 27, 0, 0)"
   ]
  },
  {
   "cell_type": "code",
   "execution_count": 25,
   "metadata": {},
   "outputs": [
    {
     "name": "stdout",
     "output_type": "stream",
     "text": [
      "Red:  ['5']\n",
      "Green:  ['']\n",
      "Opacity:  None\n"
     ]
    }
   ],
   "source": [
    "# URL의 쿼리 문자열을 파싱했을 때 문자열 파라미터에 따라 다음과 같은 값들이 나타남\n",
    "\n",
    "print('Red: ', my_values.get('red'))\n",
    "print('Green: ', my_values.get('green'))\n",
    "print('Opacity: ', my_values.get('opacity'))"
   ]
  },
  {
   "cell_type": "code",
   "execution_count": 38,
   "metadata": {},
   "outputs": [
    {
     "name": "stdout",
     "output_type": "stream",
     "text": [
      "Red: 5\n",
      "Green: 0\n",
      "Opacity: 0\n"
     ]
    },
    {
     "data": {
      "text/plain": [
       "['']"
      ]
     },
     "execution_count": 38,
     "metadata": {},
     "output_type": "execute_result"
    }
   ],
   "source": [
    "# 파라미터가 없거나 비어있으면 기본값으로 0을 할당하는게 좋음\n",
    "# 이 로직에 if문이나 헬퍼 함수까지 쓸 필요는 없다고 판단했다면 boolean 표현식으로 처리하는 방법을 택할 수 있음\n",
    "# 아래 표현식에서는 빈 문자열, 빈 리스트, 0이 모두 암시적으로 False로 평가됨을 사용(or 앞단의 서브 표현식)\n",
    "\n",
    "red = my_values.get('red', [''])[0] or 0\n",
    "green = my_values.get('green', [''])[0] or 0\n",
    "opacity = my_values.get('opacity', [''])[0] or 0\n",
    "print('Red: {}'.format(red))\n",
    "print('Green: {}'.format(green))\n",
    "print('Opacity: {}'.format(opacity))\n",
    "\n",
    "# 아래 서브표현식은 my_values dict에 opacity 키가 없을 경우 빈 리스트 ['']을 반환함을 의미\n",
    "my_values.get('opacity', [''])"
   ]
  },
  {
   "cell_type": "code",
   "execution_count": 43,
   "metadata": {},
   "outputs": [],
   "source": [
    "# 하지만 위 표현식은 가독성이 떨어짐\n",
    "# 게다가 결과값을 정수로 받고 싶은 경우 int 함수로 감싸줘야함\n",
    "# 문장이 짧아서 좋을 수는 있으나 한줄에 모든 코드(즉, 기능)을 집어넣어 가독성이 좋지 않고 기능 추가에 따라 더 복잡해짐\n",
    "\n",
    "# 이 때 if/else 조건식(삼항 표현식)을 이용하면 코드를 짧게 유지하면서 명확한 표현 가능\n",
    "# 덜 복잡한 상황에서는 if/else 조건식을 쓰면 가독성이 향상됨. 하지만 여러 줄에 걸친 if/else 문이 더 명확함\n",
    "\n",
    "red = my_values.get('red', [''])\n",
    "red = int(red[0]) if red[0] else 0\n",
    "\n",
    "green = my_values.get('green', [''])\n",
    "if green[0]:\n",
    "    green = int(green[0])\n",
    "else:\n",
    "    green = 0"
   ]
  },
  {
   "cell_type": "code",
   "execution_count": 44,
   "metadata": {},
   "outputs": [],
   "source": [
    "# 위 로직을 반복해야할 경우 헬퍼 함수를 만들어 쓰는 편이 낫다.\n",
    "\n",
    "def get_first_int(values, key, default=0):\n",
    "    found = values.get(key, [''])\n",
    "    if found[0]:\n",
    "        found = int(found[0])\n",
    "    else:\n",
    "        found = default\n",
    "    \n",
    "    return found"
   ]
  },
  {
   "cell_type": "code",
   "execution_count": 45,
   "metadata": {},
   "outputs": [],
   "source": [
    "green = get_first_int(my_values, 'green')"
   ]
  },
  {
   "cell_type": "markdown",
   "metadata": {},
   "source": [
    "### 표현식이 복잡해지기 시작하면 최대한 빨리 해당 표현식을 작은 조각으로 분할하고 로직을 헬퍼 함수로 옮기는 방안을 고려할 것!\n",
    "\n",
    "* 무조건 짧은 표현보다는 길어도 가독성이 좋은 코드가 낫다.\n",
    "* 이해하기 어려운 복잡한 표현식에는 파이썬의 함축적인 문법을 사용하면 안 된다.\n"
   ]
  },
  {
   "cell_type": "markdown",
   "metadata": {},
   "source": [
    "## 5. 시퀀스를 슬라이스하는 방법을 알자"
   ]
  },
  {
   "cell_type": "markdown",
   "metadata": {},
   "source": [
    "## 6. 한 슬라이스에 start, end, stride를 함께 쓰지 말자"
   ]
  },
  {
   "cell_type": "markdown",
   "metadata": {},
   "source": [
    "## 7. map과 filter 대신 리스트 컴프리헨션을 사용하자"
   ]
  },
  {
   "cell_type": "markdown",
   "metadata": {},
   "source": [
    "## 8. 리스트 컴프리헨션에서 표현식을 두 개 넘게 쓰지 말자"
   ]
  },
  {
   "cell_type": "markdown",
   "metadata": {},
   "source": [
    "## 9. 컴프리헨션이 클 때는 제너레이터 표현식을 고려하자"
   ]
  },
  {
   "cell_type": "markdown",
   "metadata": {},
   "source": [
    "## 10. range보다는 enumerate를 사용하자"
   ]
  },
  {
   "cell_type": "markdown",
   "metadata": {},
   "source": [
    "## 11. 이터레이터를 병렬로 처리하려면 zip을 사용하자"
   ]
  },
  {
   "cell_type": "markdown",
   "metadata": {},
   "source": [
    "## 12. for와 while 루프 뒤에는 else 블록을 쓰지 말자"
   ]
  },
  {
   "cell_type": "markdown",
   "metadata": {},
   "source": [
    "## 13. try/except/finally에서 각 블록의 장점을 이용하자"
   ]
  },
  {
   "cell_type": "code",
   "execution_count": null,
   "metadata": {},
   "outputs": [],
   "source": []
  }
 ],
 "metadata": {
  "kernelspec": {
   "display_name": "Python 3",
   "language": "python",
   "name": "python3"
  },
  "language_info": {
   "codemirror_mode": {
    "name": "ipython",
    "version": 3
   },
   "file_extension": ".py",
   "mimetype": "text/x-python",
   "name": "python",
   "nbconvert_exporter": "python",
   "pygments_lexer": "ipython3",
   "version": "3.6.4"
  }
 },
 "nbformat": 4,
 "nbformat_minor": 2
}
